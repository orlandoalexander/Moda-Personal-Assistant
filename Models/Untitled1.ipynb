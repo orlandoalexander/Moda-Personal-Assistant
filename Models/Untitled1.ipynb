{
 "cells": [
  {
   "cell_type": "code",
   "execution_count": 1,
   "id": "4ba17fed",
   "metadata": {},
   "outputs": [
    {
     "name": "stdout",
     "output_type": "stream",
     "text": [
      "Requirement already satisfied: pip in /home/nigel/.pyenv/versions/3.10.6/envs/taxifare-env/lib/python3.10/site-packages (22.3.1)\n",
      "Note: you may need to restart the kernel to use updated packages.\n"
     ]
    }
   ],
   "source": [
    "pip install --upgrade pip"
   ]
  },
  {
   "cell_type": "code",
   "execution_count": 2,
   "id": "44d7e00d",
   "metadata": {},
   "outputs": [
    {
     "name": "stdout",
     "output_type": "stream",
     "text": [
      "Collecting git+https://github.com/orlandoalexander/Moda-Personal-Assistant.git@preproc_package\n",
      "  Cloning https://github.com/orlandoalexander/Moda-Personal-Assistant.git (to revision preproc_package) to /tmp/pip-req-build-yni_ad15\n",
      "  Running command git clone --filter=blob:none --quiet https://github.com/orlandoalexander/Moda-Personal-Assistant.git /tmp/pip-req-build-yni_ad15\n",
      "  Running command git checkout -b preproc_package --track origin/preproc_package\n",
      "  Switched to a new branch 'preproc_package'\n",
      "  Branch 'preproc_package' set up to track remote branch 'preproc_package' from 'origin'.\n",
      "  Resolved https://github.com/orlandoalexander/Moda-Personal-Assistant.git to commit d1345bf7f54ff84c6a3297856b65cf476837a801\n",
      "  Preparing metadata (setup.py) ... \u001b[?25ldone\n",
      "\u001b[?25hRequirement already satisfied: pandas==1.4.4 in /home/nigel/.pyenv/versions/3.10.6/envs/taxifare-env/lib/python3.10/site-packages (from preproc==0.0.0) (1.4.4)\n",
      "Requirement already satisfied: numpy==1.23.5 in /home/nigel/.pyenv/versions/3.10.6/envs/taxifare-env/lib/python3.10/site-packages (from preproc==0.0.0) (1.23.5)\n",
      "Collecting Pillow==9.3.0\n",
      "  Using cached Pillow-9.3.0-cp310-cp310-manylinux_2_28_x86_64.whl (3.3 MB)\n",
      "Requirement already satisfied: sklearn-pandas==1.8.0 in /home/nigel/.pyenv/versions/3.10.6/envs/taxifare-env/lib/python3.10/site-packages (from preproc==0.0.0) (1.8.0)\n",
      "Requirement already satisfied: absl-py==1.3.0 in /home/nigel/.pyenv/versions/3.10.6/envs/taxifare-env/lib/python3.10/site-packages (from preproc==0.0.0) (1.3.0)\n",
      "Requirement already satisfied: astor==0.8.1 in /home/nigel/.pyenv/versions/3.10.6/envs/taxifare-env/lib/python3.10/site-packages (from preproc==0.0.0) (0.8.1)\n",
      "Requirement already satisfied: astunparse==1.6.3 in /home/nigel/.pyenv/versions/3.10.6/envs/taxifare-env/lib/python3.10/site-packages (from preproc==0.0.0) (1.6.3)\n",
      "Requirement already satisfied: cachetools==5.2.0 in /home/nigel/.pyenv/versions/3.10.6/envs/taxifare-env/lib/python3.10/site-packages (from preproc==0.0.0) (5.2.0)\n",
      "Requirement already satisfied: certifi==2022.9.24 in /home/nigel/.pyenv/versions/3.10.6/envs/taxifare-env/lib/python3.10/site-packages (from preproc==0.0.0) (2022.9.24)\n",
      "Requirement already satisfied: charset-normalizer==2.1.1 in /home/nigel/.pyenv/versions/3.10.6/envs/taxifare-env/lib/python3.10/site-packages (from preproc==0.0.0) (2.1.1)\n",
      "Requirement already satisfied: flatbuffers==22.12.6 in /home/nigel/.pyenv/versions/3.10.6/envs/taxifare-env/lib/python3.10/site-packages (from preproc==0.0.0) (22.12.6)\n",
      "Requirement already satisfied: gast==0.4.0 in /home/nigel/.pyenv/versions/3.10.6/envs/taxifare-env/lib/python3.10/site-packages (from preproc==0.0.0) (0.4.0)\n",
      "Requirement already satisfied: google-auth==2.15.0 in /home/nigel/.pyenv/versions/3.10.6/envs/taxifare-env/lib/python3.10/site-packages (from preproc==0.0.0) (2.15.0)\n",
      "Requirement already satisfied: google-auth-oauthlib==0.4.6 in /home/nigel/.pyenv/versions/3.10.6/envs/taxifare-env/lib/python3.10/site-packages (from preproc==0.0.0) (0.4.6)\n",
      "Requirement already satisfied: google-pasta==0.2.0 in /home/nigel/.pyenv/versions/3.10.6/envs/taxifare-env/lib/python3.10/site-packages (from preproc==0.0.0) (0.2.0)\n",
      "Requirement already satisfied: grpcio==1.51.1 in /home/nigel/.pyenv/versions/3.10.6/envs/taxifare-env/lib/python3.10/site-packages (from preproc==0.0.0) (1.51.1)\n",
      "Requirement already satisfied: h5py==3.7.0 in /home/nigel/.pyenv/versions/3.10.6/envs/taxifare-env/lib/python3.10/site-packages (from preproc==0.0.0) (3.7.0)\n",
      "Requirement already satisfied: idna==3.4 in /home/nigel/.pyenv/versions/3.10.6/envs/taxifare-env/lib/python3.10/site-packages (from preproc==0.0.0) (3.4)\n",
      "Requirement already satisfied: importlib-metadata==5.1.0 in /home/nigel/.pyenv/versions/3.10.6/envs/taxifare-env/lib/python3.10/site-packages (from preproc==0.0.0) (5.1.0)\n",
      "Requirement already satisfied: joblib==1.2.0 in /home/nigel/.pyenv/versions/3.10.6/envs/taxifare-env/lib/python3.10/site-packages (from preproc==0.0.0) (1.2.0)\n",
      "Requirement already satisfied: Keras-Preprocessing==1.1.2 in /home/nigel/.pyenv/versions/3.10.6/envs/taxifare-env/lib/python3.10/site-packages (from preproc==0.0.0) (1.1.2)\n",
      "Requirement already satisfied: libclang==14.0.6 in /home/nigel/.pyenv/versions/3.10.6/envs/taxifare-env/lib/python3.10/site-packages (from preproc==0.0.0) (14.0.6)\n",
      "Requirement already satisfied: Markdown==3.4.1 in /home/nigel/.pyenv/versions/3.10.6/envs/taxifare-env/lib/python3.10/site-packages (from preproc==0.0.0) (3.4.1)\n",
      "Requirement already satisfied: MarkupSafe==2.1.1 in /home/nigel/.pyenv/versions/3.10.6/envs/taxifare-env/lib/python3.10/site-packages (from preproc==0.0.0) (2.1.1)\n",
      "Requirement already satisfied: oauthlib==3.2.2 in /home/nigel/.pyenv/versions/3.10.6/envs/taxifare-env/lib/python3.10/site-packages (from preproc==0.0.0) (3.2.2)\n",
      "Requirement already satisfied: opt-einsum==3.3.0 in /home/nigel/.pyenv/versions/3.10.6/envs/taxifare-env/lib/python3.10/site-packages (from preproc==0.0.0) (3.3.0)\n",
      "Requirement already satisfied: packaging==21.3 in /home/nigel/.pyenv/versions/3.10.6/envs/taxifare-env/lib/python3.10/site-packages (from preproc==0.0.0) (21.3)\n",
      "Requirement already satisfied: protobuf==3.19.6 in /home/nigel/.pyenv/versions/3.10.6/envs/taxifare-env/lib/python3.10/site-packages (from preproc==0.0.0) (3.19.6)\n",
      "Requirement already satisfied: pyasn1==0.4.8 in /home/nigel/.pyenv/versions/3.10.6/envs/taxifare-env/lib/python3.10/site-packages (from preproc==0.0.0) (0.4.8)\n",
      "Requirement already satisfied: pyasn1-modules==0.2.8 in /home/nigel/.pyenv/versions/3.10.6/envs/taxifare-env/lib/python3.10/site-packages (from preproc==0.0.0) (0.2.8)\n",
      "Requirement already satisfied: pyparsing==3.0.9 in /home/nigel/.pyenv/versions/3.10.6/envs/taxifare-env/lib/python3.10/site-packages (from preproc==0.0.0) (3.0.9)\n",
      "Requirement already satisfied: python-dateutil==2.8.2 in /home/nigel/.pyenv/versions/3.10.6/envs/taxifare-env/lib/python3.10/site-packages (from preproc==0.0.0) (2.8.2)\n",
      "Requirement already satisfied: pytz==2022.6 in /home/nigel/.pyenv/versions/3.10.6/envs/taxifare-env/lib/python3.10/site-packages (from preproc==0.0.0) (2022.6)\n",
      "Requirement already satisfied: requests==2.28.1 in /home/nigel/.pyenv/versions/3.10.6/envs/taxifare-env/lib/python3.10/site-packages (from preproc==0.0.0) (2.28.1)\n",
      "Requirement already satisfied: requests-oauthlib==1.3.1 in /home/nigel/.pyenv/versions/3.10.6/envs/taxifare-env/lib/python3.10/site-packages (from preproc==0.0.0) (1.3.1)\n",
      "Requirement already satisfied: rsa==4.9 in /home/nigel/.pyenv/versions/3.10.6/envs/taxifare-env/lib/python3.10/site-packages (from preproc==0.0.0) (4.9)\n",
      "Requirement already satisfied: scikit-learn==1.1.3 in /home/nigel/.pyenv/versions/3.10.6/envs/taxifare-env/lib/python3.10/site-packages (from preproc==0.0.0) (1.1.3)\n",
      "Requirement already satisfied: scipy==1.9.3 in /home/nigel/.pyenv/versions/3.10.6/envs/taxifare-env/lib/python3.10/site-packages (from preproc==0.0.0) (1.9.3)\n",
      "Requirement already satisfied: six==1.16.0 in /home/nigel/.pyenv/versions/3.10.6/envs/taxifare-env/lib/python3.10/site-packages (from preproc==0.0.0) (1.16.0)\n",
      "Requirement already satisfied: tensorboard-data-server==0.6.1 in /home/nigel/.pyenv/versions/3.10.6/envs/taxifare-env/lib/python3.10/site-packages (from preproc==0.0.0) (0.6.1)\n",
      "Requirement already satisfied: tensorboard-plugin-wit==1.8.1 in /home/nigel/.pyenv/versions/3.10.6/envs/taxifare-env/lib/python3.10/site-packages (from preproc==0.0.0) (1.8.1)\n",
      "Requirement already satisfied: termcolor==2.1.1 in /home/nigel/.pyenv/versions/3.10.6/envs/taxifare-env/lib/python3.10/site-packages (from preproc==0.0.0) (2.1.1)\n",
      "Requirement already satisfied: threadpoolctl==3.1.0 in /home/nigel/.pyenv/versions/3.10.6/envs/taxifare-env/lib/python3.10/site-packages (from preproc==0.0.0) (3.1.0)\n",
      "Requirement already satisfied: typing_extensions==4.4.0 in /home/nigel/.pyenv/versions/3.10.6/envs/taxifare-env/lib/python3.10/site-packages (from preproc==0.0.0) (4.4.0)\n",
      "Requirement already satisfied: urllib3==1.26.13 in /home/nigel/.pyenv/versions/3.10.6/envs/taxifare-env/lib/python3.10/site-packages (from preproc==0.0.0) (1.26.13)\n",
      "Requirement already satisfied: Werkzeug==2.2.2 in /home/nigel/.pyenv/versions/3.10.6/envs/taxifare-env/lib/python3.10/site-packages (from preproc==0.0.0) (2.2.2)\n",
      "Requirement already satisfied: wrapt==1.14.1 in /home/nigel/.pyenv/versions/3.10.6/envs/taxifare-env/lib/python3.10/site-packages (from preproc==0.0.0) (1.14.1)\n",
      "Requirement already satisfied: zipp==3.11.0 in /home/nigel/.pyenv/versions/3.10.6/envs/taxifare-env/lib/python3.10/site-packages (from preproc==0.0.0) (3.11.0)\n",
      "Requirement already satisfied: keras==2.11.0 in /home/nigel/.pyenv/versions/3.10.6/envs/taxifare-env/lib/python3.10/site-packages (from preproc==0.0.0) (2.11.0)\n",
      "Requirement already satisfied: tensorboard==2.11 in /home/nigel/.pyenv/versions/3.10.6/envs/taxifare-env/lib/python3.10/site-packages (from preproc==0.0.0) (2.11.0)\n",
      "Requirement already satisfied: tensorflow-estimator==2.11.0 in /home/nigel/.pyenv/versions/3.10.6/envs/taxifare-env/lib/python3.10/site-packages (from preproc==0.0.0) (2.11.0)\n",
      "Requirement already satisfied: tensorflow==2.11.0 in /home/nigel/.pyenv/versions/3.10.6/envs/taxifare-env/lib/python3.10/site-packages (from preproc==0.0.0) (2.11.0)\n",
      "Requirement already satisfied: wheel<1.0,>=0.23.0 in /home/nigel/.pyenv/versions/3.10.6/envs/taxifare-env/lib/python3.10/site-packages (from astunparse==1.6.3->preproc==0.0.0) (0.38.4)\n"
     ]
    },
    {
     "name": "stdout",
     "output_type": "stream",
     "text": [
      "Requirement already satisfied: setuptools>=41.0.0 in /home/nigel/.pyenv/versions/3.10.6/envs/taxifare-env/lib/python3.10/site-packages (from tensorboard==2.11->preproc==0.0.0) (63.2.0)\n",
      "Requirement already satisfied: tensorflow-io-gcs-filesystem>=0.23.1 in /home/nigel/.pyenv/versions/3.10.6/envs/taxifare-env/lib/python3.10/site-packages (from tensorflow==2.11.0->preproc==0.0.0) (0.28.0)\n",
      "Installing collected packages: Pillow\n",
      "  Attempting uninstall: Pillow\n",
      "    Found existing installation: Pillow 9.0.0\n",
      "    Uninstalling Pillow-9.0.0:\n",
      "      Successfully uninstalled Pillow-9.0.0\n",
      "\u001b[31mERROR: pip's dependency resolver does not currently take into account all the packages that are installed. This behaviour is the source of the following dependency conflicts.\n",
      "preproc 0.0.0 requires Pillow==9.0.0, but you have pillow 9.3.0 which is incompatible.\n",
      "taxifare 0.0.9 requires tensorflow==2.10.0, but you have tensorflow 2.11.0 which is incompatible.\u001b[0m\u001b[31m\n",
      "\u001b[0mSuccessfully installed Pillow-9.3.0\n",
      "Note: you may need to restart the kernel to use updated packages.\n"
     ]
    }
   ],
   "source": [
    "pip install git+https://github.com/orlandoalexander/Moda-Personal-Assistant.git@preproc_package\n"
   ]
  },
  {
   "cell_type": "code",
   "execution_count": 3,
   "id": "f748c653",
   "metadata": {},
   "outputs": [
    {
     "name": "stderr",
     "output_type": "stream",
     "text": [
      "2022-12-08 14:32:56.044172: I tensorflow/core/platform/cpu_feature_guard.cc:193] This TensorFlow binary is optimized with oneAPI Deep Neural Network Library (oneDNN) to use the following CPU instructions in performance-critical operations:  AVX2 FMA\n",
      "To enable them in other operations, rebuild TensorFlow with the appropriate compiler flags.\n",
      "2022-12-08 14:32:56.458764: W tensorflow/compiler/xla/stream_executor/platform/default/dso_loader.cc:64] Could not load dynamic library 'libcudart.so.11.0'; dlerror: libcudart.so.11.0: cannot open shared object file: No such file or directory\n",
      "2022-12-08 14:32:56.458785: I tensorflow/compiler/xla/stream_executor/cuda/cudart_stub.cc:29] Ignore above cudart dlerror if you do not have a GPU set up on your machine.\n",
      "2022-12-08 14:32:57.902148: W tensorflow/compiler/xla/stream_executor/platform/default/dso_loader.cc:64] Could not load dynamic library 'libnvinfer.so.7'; dlerror: libnvinfer.so.7: cannot open shared object file: No such file or directory\n",
      "2022-12-08 14:32:57.902258: W tensorflow/compiler/xla/stream_executor/platform/default/dso_loader.cc:64] Could not load dynamic library 'libnvinfer_plugin.so.7'; dlerror: libnvinfer_plugin.so.7: cannot open shared object file: No such file or directory\n",
      "2022-12-08 14:32:57.902266: W tensorflow/compiler/tf2tensorrt/utils/py_utils.cc:38] TF-TRT Warning: Cannot dlopen some TensorRT libraries. If you would like to use Nvidia GPU with TensorRT, please make sure the missing libraries mentioned above are installed properly.\n"
     ]
    }
   ],
   "source": [
    "from preproc.attributes import AttributePreproc\n"
   ]
  },
  {
   "cell_type": "code",
   "execution_count": 8,
   "id": "39be0db8",
   "metadata": {},
   "outputs": [
    {
     "name": "stdout",
     "output_type": "stream",
     "text": [
      "Requirement already satisfied: pillow in /home/nigel/.pyenv/versions/3.10.6/envs/taxifare-env/lib/python3.10/site-packages (9.3.0)\r\n"
     ]
    }
   ],
   "source": [
    "!pip install -U pillow"
   ]
  },
  {
   "cell_type": "code",
   "execution_count": 9,
   "id": "8ca564af",
   "metadata": {},
   "outputs": [],
   "source": [
    "prep = AttributePreproc('../Data/attribute-data/img', (299,299), 'neckline', 0.5) # e.g. AttributePreproc(folder/img, (256,256), 'fabric', 0.2)\n"
   ]
  },
  {
   "cell_type": "code",
   "execution_count": null,
   "id": "91456f0c",
   "metadata": {},
   "outputs": [
    {
     "name": "stdout",
     "output_type": "stream",
     "text": [
      "Augmenting attribute 'crew_neckline'...\n",
      "Augmenting attribute 'v_neckline'...\n",
      "Augmenting attribute 'square_neckline'...\n",
      "Augmenting attribute 'no_neckline'...\n"
     ]
    }
   ],
   "source": [
    "y_train, y_test, X_train, X_test = prep.run()\n"
   ]
  },
  {
   "cell_type": "code",
   "execution_count": 1,
   "id": "0c32d2b8",
   "metadata": {},
   "outputs": [
    {
     "name": "stderr",
     "output_type": "stream",
     "text": [
      "2022-12-08 17:28:59.822598: I tensorflow/core/platform/cpu_feature_guard.cc:193] This TensorFlow binary is optimized with oneAPI Deep Neural Network Library (oneDNN) to use the following CPU instructions in performance-critical operations:  AVX2 FMA\n",
      "To enable them in other operations, rebuild TensorFlow with the appropriate compiler flags.\n",
      "2022-12-08 17:28:59.988907: W tensorflow/compiler/xla/stream_executor/platform/default/dso_loader.cc:64] Could not load dynamic library 'libcudart.so.11.0'; dlerror: libcudart.so.11.0: cannot open shared object file: No such file or directory\n",
      "2022-12-08 17:28:59.988986: I tensorflow/compiler/xla/stream_executor/cuda/cudart_stub.cc:29] Ignore above cudart dlerror if you do not have a GPU set up on your machine.\n",
      "2022-12-08 17:29:01.123758: W tensorflow/compiler/xla/stream_executor/platform/default/dso_loader.cc:64] Could not load dynamic library 'libnvinfer.so.7'; dlerror: libnvinfer.so.7: cannot open shared object file: No such file or directory\n",
      "2022-12-08 17:29:01.123890: W tensorflow/compiler/xla/stream_executor/platform/default/dso_loader.cc:64] Could not load dynamic library 'libnvinfer_plugin.so.7'; dlerror: libnvinfer_plugin.so.7: cannot open shared object file: No such file or directory\n",
      "2022-12-08 17:29:01.123900: W tensorflow/compiler/tf2tensorrt/utils/py_utils.cc:38] TF-TRT Warning: Cannot dlopen some TensorRT libraries. If you would like to use Nvidia GPU with TensorRT, please make sure the missing libraries mentioned above are installed properly.\n"
     ]
    },
    {
     "ename": "NameError",
     "evalue": "name 'X_train' is not defined",
     "output_type": "error",
     "traceback": [
      "\u001b[0;31m---------------------------------------------------------------------------\u001b[0m",
      "\u001b[0;31mNameError\u001b[0m                                 Traceback (most recent call last)",
      "Cell \u001b[0;32mIn[1], line 2\u001b[0m\n\u001b[1;32m      1\u001b[0m \u001b[38;5;28;01mfrom\u001b[39;00m \u001b[38;5;21;01mkeras\u001b[39;00m\u001b[38;5;21;01m.\u001b[39;00m\u001b[38;5;21;01mapplications\u001b[39;00m \u001b[38;5;28;01mimport\u001b[39;00m inception_v3\n\u001b[0;32m----> 2\u001b[0m X_train \u001b[38;5;241m=\u001b[39m inception_v3\u001b[38;5;241m.\u001b[39mpreprocess_input(\u001b[43mX_train\u001b[49m)\n\u001b[1;32m      3\u001b[0m X_test \u001b[38;5;241m=\u001b[39m inception_v3\u001b[38;5;241m.\u001b[39mpreprocess_input(X_test)\n",
      "\u001b[0;31mNameError\u001b[0m: name 'X_train' is not defined"
     ]
    }
   ],
   "source": [
    "from keras.applications import inception_v3\n",
    "X_train = inception_v3.preprocess_input(X_train)\n",
    "X_test = inception_v3.preprocess_input(X_test)"
   ]
  },
  {
   "cell_type": "code",
   "execution_count": null,
   "id": "d747dd8f",
   "metadata": {},
   "outputs": [],
   "source": []
  }
 ],
 "metadata": {
  "kernelspec": {
   "display_name": "Python 3 (ipykernel)",
   "language": "python",
   "name": "python3"
  },
  "language_info": {
   "codemirror_mode": {
    "name": "ipython",
    "version": 3
   },
   "file_extension": ".py",
   "mimetype": "text/x-python",
   "name": "python",
   "nbconvert_exporter": "python",
   "pygments_lexer": "ipython3",
   "version": "3.10.6"
  }
 },
 "nbformat": 4,
 "nbformat_minor": 5
}
