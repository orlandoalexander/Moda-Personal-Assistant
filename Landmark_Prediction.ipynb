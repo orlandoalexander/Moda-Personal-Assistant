{
  "nbformat": 4,
  "nbformat_minor": 0,
  "metadata": {
    "colab": {
      "provenance": [],
      "machine_shape": "hm",
      "authorship_tag": "ABX9TyO7o7ngMcbHIyFvTc9wiNTR",
      "include_colab_link": true
    },
    "kernelspec": {
      "name": "python3",
      "display_name": "Python 3"
    },
    "language_info": {
      "name": "python"
    },
    "accelerator": "GPU",
    "gpuClass": "standard"
  },
  "cells": [
    {
      "cell_type": "markdown",
      "metadata": {
        "id": "view-in-github",
        "colab_type": "text"
      },
      "source": [
        "<a href=\"https://colab.research.google.com/github/orlandoalexander/Moda-Personal-Assistant/blob/models/Landmark_Prediction.ipynb\" target=\"_parent\"><img src=\"https://colab.research.google.com/assets/colab-badge.svg\" alt=\"Open In Colab\"/></a>"
      ]
    },
    {
      "cell_type": "code",
      "source": [
        "from preproc.preprocess import LandmarksPreproc\n",
        "from keras.models import Sequential\n",
        "from keras.preprocessing.image import ImageDataGenerator\n",
        "from keras.layers import Dense, Input, Conv2D,MaxPooling2D, Flatten, Dropout, GlobalAveragePooling2D\n",
        "from keras.callbacks import EarlyStopping\n",
        "from keras.applications import MobileNetV2,mobilenet\n",
        "from sklearn.model_selection import train_test_split"
      ],
      "metadata": {
        "id": "xKMRmQySr0Ro"
      },
      "execution_count": 1,
      "outputs": []
    },
    {
      "cell_type": "code",
      "execution_count": 1,
      "metadata": {
        "colab": {
          "base_uri": "https://localhost:8080/"
        },
        "id": "QGFSh2dfiQNF",
        "outputId": "ed707d8c-09f8-431f-f568-589f9bf82a2e"
      },
      "outputs": [
        {
          "output_type": "stream",
          "name": "stdout",
          "text": [
            "Looking in indexes: https://pypi.org/simple, https://us-python.pkg.dev/colab-wheels/public/simple/\n",
            "Requirement already satisfied: pip in /usr/local/lib/python3.8/dist-packages (21.1.3)\n",
            "Collecting pip\n",
            "  Downloading pip-22.3.1-py3-none-any.whl (2.1 MB)\n",
            "\u001b[K     |████████████████████████████████| 2.1 MB 4.8 MB/s \n",
            "\u001b[?25hInstalling collected packages: pip\n",
            "  Attempting uninstall: pip\n",
            "    Found existing installation: pip 21.1.3\n",
            "    Uninstalling pip-21.1.3:\n",
            "      Successfully uninstalled pip-21.1.3\n",
            "Successfully installed pip-22.3.1\n",
            "Cloning into 'Moda-Personal-Assistant'...\n",
            "remote: Enumerating objects: 806, done.\u001b[K\n",
            "remote: Counting objects: 100% (81/81), done.\u001b[K\n",
            "remote: Compressing objects: 100% (56/56), done.\u001b[K\n",
            "remote: Total 806 (delta 30), reused 56 (delta 19), pack-reused 725\u001b[K\n",
            "Receiving objects: 100% (806/806), 248.12 MiB | 26.36 MiB/s, done.\n",
            "Resolving deltas: 100% (421/421), done.\n"
          ]
        }
      ],
      "source": [
        "!pip install --upgrade pip"
      ]
    },
    {
      "cell_type": "code",
      "source": [
        "from google.colab import drive\n",
        "drive.mount('/content/drive')"
      ],
      "metadata": {
        "colab": {
          "base_uri": "https://localhost:8080/"
        },
        "id": "5pd8pcj3iWRB",
        "outputId": "97a0c8a9-e5b3-4fb4-fc50-1c1f3cc36b10"
      },
      "execution_count": 1,
      "outputs": [
        {
          "output_type": "stream",
          "name": "stdout",
          "text": [
            "Mounted at /content/drive\n"
          ]
        }
      ]
    },
    {
      "cell_type": "code",
      "source": [
        "!pip install git+https://github.com/orlandoalexander/Moda-Personal-Assistant.git@preproc_package\n"
      ],
      "metadata": {
        "id": "_mnnQknlizIG"
      },
      "execution_count": null,
      "outputs": []
    },
    {
      "cell_type": "code",
      "source": [
        "!unzip '/content/drive/MyDrive/Le Wagon/Moda-Personal-Assistant/Data/img_sections:cats:landmarks.zip'"
      ],
      "metadata": {
        "id": "HgnL0gRXi1TW"
      },
      "execution_count": null,
      "outputs": []
    },
    {
      "cell_type": "code",
      "source": [
        "path = 'images'"
      ],
      "metadata": {
        "id": "9KQXXoiYkN9H"
      },
      "execution_count": 2,
      "outputs": []
    },
    {
      "cell_type": "code",
      "source": [
        "prep = LandmarksPreproc(path, (256,256),0.2)"
      ],
      "metadata": {
        "colab": {
          "base_uri": "https://localhost:8080/"
        },
        "id": "zm-V37ApsIam",
        "outputId": "b890e089-55b0-44bb-f978-bfb19f92a46a"
      },
      "execution_count": 3,
      "outputs": [
        {
          "output_type": "stream",
          "name": "stdout",
          "text": [
            "                                                    img     x1     y1     x2  \\\n",
            "0             MEN-Denim-id_00000080-01_7_additional.jpg  267.0  234.0  509.0   \n",
            "1             MEN-Denim-id_00000089-01_7_additional.jpg  347.0  201.0  598.0   \n",
            "2             MEN-Denim-id_00000089-02_7_additional.jpg  236.0  234.0  491.0   \n",
            "3             MEN-Denim-id_00000089-03_7_additional.jpg  225.0  237.0  467.0   \n",
            "4             MEN-Denim-id_00000089-04_7_additional.jpg  244.0  235.0  480.0   \n",
            "...                                                 ...    ...    ...    ...   \n",
            "28832  WOMEN-Tees_Tanks-id_00007969-04_7_additional.jpg  221.0  218.0  392.0   \n",
            "28835  WOMEN-Tees_Tanks-id_00007970-01_7_additional.jpg  242.0  229.0  446.0   \n",
            "28838        WOMEN-Tees_Tanks-id_00007976-01_4_full.jpg  288.0  225.0  473.0   \n",
            "28841        WOMEN-Tees_Tanks-id_00007979-03_4_full.jpg  287.0  210.0  466.0   \n",
            "28845        WOMEN-Tees_Tanks-id_00007979-04_4_full.jpg  275.0  187.0  468.0   \n",
            "\n",
            "          y2     x3     y3     x4     y4     x5      y5     x6      y6  \n",
            "0      229.0  291.0  521.0  478.0  530.0  324.0  1028.0  358.0  1029.0  \n",
            "1      194.0  388.0  519.0  588.0  520.0  492.0  1036.0  511.0  1024.0  \n",
            "2      241.0  266.0  543.0  462.0  534.0  330.0  1037.0  400.0  1034.0  \n",
            "3      211.0  268.0  540.0  470.0  531.0  377.0  1040.0  394.0  1024.0  \n",
            "4      228.0  269.0  545.0  465.0  541.0  341.0  1041.0  399.0  1041.0  \n",
            "...      ...    ...    ...    ...    ...    ...     ...    ...     ...  \n",
            "28832  180.0  225.0  503.0  416.0  491.0  329.0   999.0  327.0   910.0  \n",
            "28835  200.0  245.0  444.0  433.0  460.0  292.0  1010.0  345.0   921.0  \n",
            "28838  193.0  297.0  474.0  475.0  486.0  410.0  1022.0  502.0  1026.0  \n",
            "28841  172.0  274.0  467.0  462.0  474.0  359.0  1023.0  361.0  1038.0  \n",
            "28845  207.0  282.0  485.0  468.0  475.0  335.0  1009.0  346.0  1035.0  \n",
            "\n",
            "[9146 rows x 13 columns]\n"
          ]
        }
      ]
    },
    {
      "cell_type": "code",
      "source": [
        "X_train, X_test, y_train, y_test = prep.run()"
      ],
      "metadata": {
        "colab": {
          "base_uri": "https://localhost:8080/"
        },
        "id": "3YTR9s_xsEfc",
        "outputId": "8eb33634-879e-475a-b739-56f32749395e"
      },
      "execution_count": 4,
      "outputs": [
        {
          "output_type": "stream",
          "name": "stdout",
          "text": [
            "Done!\n"
          ]
        }
      ]
    },
    {
      "cell_type": "code",
      "source": [
        "es= EarlyStopping(patience=5, restore_best_weights=True)\n",
        "\n",
        "input = Input(X_train.shape[1:])\n",
        "\n",
        "# base_model = MobileNetV2(include_top=False, weights='imagenet',\n",
        "#                                      classes=12, input_tensor=input)\n",
        "# base_model.trainable = False\n",
        "# pool = GlobalAveragePooling2D()\n",
        "# dense = Dense(50, activation='relu')\n",
        "# prediction = Dense(12, activation=\"linear\")\n",
        "# model = Sequential([base_model, pool, dense, prediction])\n",
        "# preprocess_input = mobilenet.preprocess_input\n",
        "\n",
        "model = Sequential()\n",
        "model.add(Conv2D(64, (2, 2), input_shape=X_train.shape[1:], padding=\"same\", activation = 'relu'))\n",
        "model.add(MaxPooling2D(pool_size=(2, 2)))\n",
        "model.add(Conv2D(32, (3, 3), padding=\"same\", activation = 'relu'))\n",
        "model.add(MaxPooling2D(pool_size=(2, 2)))\n",
        "model.add(Conv2D(16, (4, 4), padding=\"same\", activation = 'relu'))\n",
        "model.add(MaxPooling2D(pool_size=(3, 3)))\n",
        "model.add(Flatten())\n",
        "model.add(Dense(12, activation=\"linear\"))\n",
        "model.compile(loss='mae', metrics=['mae'], optimizer='adam')"
      ],
      "metadata": {
        "id": "c-29owLFsOT7"
      },
      "execution_count": 5,
      "outputs": []
    },
    {
      "cell_type": "code",
      "source": [
        "history = model.fit(X_train, y_train, validation_split = 0.2, epochs=100, callbacks = [es])"
      ],
      "metadata": {
        "colab": {
          "base_uri": "https://localhost:8080/"
        },
        "id": "Ikqi8B3Ytij2",
        "outputId": "8264f2b0-3a82-4715-d13a-245d1198a1d9"
      },
      "execution_count": 6,
      "outputs": [
        {
          "output_type": "stream",
          "name": "stdout",
          "text": [
            "Epoch 1/100\n",
            "183/183 [==============================] - 18s 71ms/step - loss: 50.4443 - mae: 50.4443 - val_loss: 33.9101 - val_mae: 33.9101\n",
            "Epoch 2/100\n",
            "183/183 [==============================] - 12s 63ms/step - loss: 35.1002 - mae: 35.1002 - val_loss: 30.6014 - val_mae: 30.6014\n",
            "Epoch 3/100\n",
            "183/183 [==============================] - 12s 64ms/step - loss: 31.4994 - mae: 31.4994 - val_loss: 30.2106 - val_mae: 30.2106\n",
            "Epoch 4/100\n",
            "183/183 [==============================] - 12s 64ms/step - loss: 29.9994 - mae: 29.9994 - val_loss: 27.9568 - val_mae: 27.9568\n",
            "Epoch 5/100\n",
            "183/183 [==============================] - 12s 64ms/step - loss: 27.1542 - mae: 27.1542 - val_loss: 32.2998 - val_mae: 32.2998\n",
            "Epoch 6/100\n",
            "183/183 [==============================] - 12s 64ms/step - loss: 26.5754 - mae: 26.5754 - val_loss: 34.3314 - val_mae: 34.3314\n",
            "Epoch 7/100\n",
            "183/183 [==============================] - 12s 64ms/step - loss: 26.4469 - mae: 26.4469 - val_loss: 26.2515 - val_mae: 26.2515\n",
            "Epoch 8/100\n",
            "183/183 [==============================] - 12s 64ms/step - loss: 25.7804 - mae: 25.7804 - val_loss: 30.8064 - val_mae: 30.8064\n",
            "Epoch 9/100\n",
            "183/183 [==============================] - 12s 64ms/step - loss: 24.1001 - mae: 24.1001 - val_loss: 27.1250 - val_mae: 27.1250\n",
            "Epoch 10/100\n",
            "183/183 [==============================] - 12s 65ms/step - loss: 24.0638 - mae: 24.0638 - val_loss: 25.7693 - val_mae: 25.7693\n",
            "Epoch 11/100\n",
            "183/183 [==============================] - 12s 65ms/step - loss: 23.1559 - mae: 23.1559 - val_loss: 29.4005 - val_mae: 29.4005\n",
            "Epoch 12/100\n",
            "183/183 [==============================] - 12s 65ms/step - loss: 22.1709 - mae: 22.1709 - val_loss: 25.1757 - val_mae: 25.1757\n",
            "Epoch 13/100\n",
            "183/183 [==============================] - 12s 64ms/step - loss: 21.4159 - mae: 21.4159 - val_loss: 24.6818 - val_mae: 24.6818\n",
            "Epoch 14/100\n",
            "183/183 [==============================] - 12s 65ms/step - loss: 21.7788 - mae: 21.7788 - val_loss: 25.1917 - val_mae: 25.1917\n",
            "Epoch 15/100\n",
            "183/183 [==============================] - 12s 64ms/step - loss: 21.2500 - mae: 21.2500 - val_loss: 24.7420 - val_mae: 24.7420\n",
            "Epoch 16/100\n",
            "183/183 [==============================] - 12s 64ms/step - loss: 20.5229 - mae: 20.5229 - val_loss: 24.8679 - val_mae: 24.8679\n",
            "Epoch 17/100\n",
            "183/183 [==============================] - 12s 64ms/step - loss: 20.0098 - mae: 20.0098 - val_loss: 25.3876 - val_mae: 25.3876\n",
            "Epoch 18/100\n",
            "183/183 [==============================] - 12s 64ms/step - loss: 20.3688 - mae: 20.3688 - val_loss: 24.0816 - val_mae: 24.0816\n",
            "Epoch 19/100\n",
            "183/183 [==============================] - 12s 64ms/step - loss: 19.9702 - mae: 19.9702 - val_loss: 29.0491 - val_mae: 29.0491\n",
            "Epoch 20/100\n",
            "183/183 [==============================] - 12s 64ms/step - loss: 19.6988 - mae: 19.6988 - val_loss: 24.3726 - val_mae: 24.3726\n",
            "Epoch 21/100\n",
            "183/183 [==============================] - 12s 65ms/step - loss: 19.0951 - mae: 19.0951 - val_loss: 25.1938 - val_mae: 25.1938\n",
            "Epoch 22/100\n",
            "183/183 [==============================] - 12s 64ms/step - loss: 18.3567 - mae: 18.3567 - val_loss: 23.8147 - val_mae: 23.8147\n",
            "Epoch 23/100\n",
            "183/183 [==============================] - 12s 64ms/step - loss: 18.0134 - mae: 18.0134 - val_loss: 23.9457 - val_mae: 23.9457\n",
            "Epoch 24/100\n",
            "183/183 [==============================] - 12s 64ms/step - loss: 18.9690 - mae: 18.9690 - val_loss: 24.4061 - val_mae: 24.4061\n",
            "Epoch 25/100\n",
            "183/183 [==============================] - 12s 64ms/step - loss: 17.5466 - mae: 17.5466 - val_loss: 24.1177 - val_mae: 24.1177\n",
            "Epoch 26/100\n",
            "183/183 [==============================] - 12s 64ms/step - loss: 18.0449 - mae: 18.0449 - val_loss: 24.1600 - val_mae: 24.1600\n",
            "Epoch 27/100\n",
            "183/183 [==============================] - 12s 65ms/step - loss: 17.4428 - mae: 17.4428 - val_loss: 24.1768 - val_mae: 24.1768\n"
          ]
        }
      ]
    },
    {
      "cell_type": "code",
      "source": [
        "model.evaluate(X_test, y_test)"
      ],
      "metadata": {
        "colab": {
          "base_uri": "https://localhost:8080/"
        },
        "id": "CSrpidcVtj_Q",
        "outputId": "0ce5be67-497b-48f9-ffc4-cc3ee1dfdce7"
      },
      "execution_count": 7,
      "outputs": [
        {
          "output_type": "stream",
          "name": "stdout",
          "text": [
            "58/58 [==============================] - 1s 18ms/step - loss: 23.5646 - mae: 23.5646\n"
          ]
        },
        {
          "output_type": "execute_result",
          "data": {
            "text/plain": [
              "[23.56456184387207, 23.56456184387207]"
            ]
          },
          "metadata": {},
          "execution_count": 7
        }
      ]
    },
    {
      "cell_type": "code",
      "source": [],
      "metadata": {
        "id": "KPlk9kHn9W9p"
      },
      "execution_count": null,
      "outputs": []
    }
  ]
}