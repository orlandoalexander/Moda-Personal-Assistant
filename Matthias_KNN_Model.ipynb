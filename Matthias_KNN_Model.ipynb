{
  "nbformat": 4,
  "nbformat_minor": 0,
  "metadata": {
    "colab": {
      "provenance": [],
      "authorship_tag": "ABX9TyPIDo4EdNZ0haiRd7M7BNT6",
      "include_colab_link": true
    },
    "kernelspec": {
      "name": "python3",
      "display_name": "Python 3"
    },
    "language_info": {
      "name": "python"
    }
  },
  "cells": [
    {
      "cell_type": "markdown",
      "metadata": {
        "id": "view-in-github",
        "colab_type": "text"
      },
      "source": [
        "<a href=\"https://colab.research.google.com/github/orlandoalexander/Moda-Personal-Assistant/blob/models/Matthias_KNN_Model.ipynb\" target=\"_parent\"><img src=\"https://colab.research.google.com/assets/colab-badge.svg\" alt=\"Open In Colab\"/></a>"
      ]
    },
    {
      "cell_type": "code",
      "source": [
        "import tensorflow \n",
        "from sklearn.model_selection import train_test_split\n",
        "from tensorflow.keras.layers import Dense, Flatten, LeakyReLU\n",
        "from tensorflow.keras.models import Sequential\n",
        "from tensorflow.keras.callbacks import EarlyStopping\n",
        "from tensorflow.keras.layers import Input\n",
        "from sklearn.neighbors import KNeighborsClassifier\n",
        "import pandas as pd\n",
        "import numpy as np"
      ],
      "metadata": {
        "id": "hB9fe_UxW6vk"
      },
      "execution_count": 1,
      "outputs": []
    },
    {
      "cell_type": "code",
      "source": [
        "# Run this cell to mount your Google Drive.\n",
        "from google.colab import drive\n",
        "drive.mount('/content/drive')"
      ],
      "metadata": {
        "colab": {
          "base_uri": "https://localhost:8080/"
        },
        "id": "JX4H0nAsXMtI",
        "outputId": "f6ba8824-7f8c-4ea2-f75a-8ebf480c8bcc"
      },
      "execution_count": 2,
      "outputs": [
        {
          "output_type": "stream",
          "name": "stdout",
          "text": [
            "Mounted at /content/drive\n"
          ]
        }
      ]
    },
    {
      "cell_type": "markdown",
      "source": [
        "###API call to get input (array with all the possibilities), need to preprocess the entire dataset?\n"
      ],
      "metadata": {
        "id": "dtm_7B95XfGa"
      }
    },
    {
      "cell_type": "code",
      "source": [],
      "metadata": {
        "id": "2Sf_nUMtXn5S"
      },
      "execution_count": null,
      "outputs": []
    },
    {
      "cell_type": "markdown",
      "source": [
        "# KNN Model"
      ],
      "metadata": {
        "id": "f_G80-h9Xoql"
      }
    },
    {
      "cell_type": "code",
      "execution_count": null,
      "metadata": {
        "id": "8fQusv2zWu93"
      },
      "outputs": [],
      "source": [
        "# data \n",
        "#X , y = preprocessed asos data, y is an array of all possibilites with the 8 inputs that it got classified as\n",
        "\n",
        "# Define the training data\n",
        "X_train, y_train, X_test, y_test = train_test_split(X, y, test_size=0.2)\n",
        "\n",
        "# Create a KNeighborsClassifier model with 3 neighbors\n",
        "model = KNeighborsClassifier(n_neighbors=3)\n",
        "\n",
        "# Fit the model to the training data\n",
        "model.fit(x_train, y_train)\n",
        "\n",
        "# Use the model to make predictions on the test data\n",
        "predictions = model.predict(x_test)\n",
        "\n",
        "# Print the 3 most similar outfits\n",
        "for i in range(3):\n",
        "  print(predictions[i])\n"
      ]
    }
  ]
}