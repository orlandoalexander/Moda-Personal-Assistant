{
 "cells": [
  {
   "cell_type": "code",
   "execution_count": 1,
   "id": "77c31e6a",
   "metadata": {
    "id": "77c31e6a"
   },
   "outputs": [],
   "source": [
    "import pandas as pd\n",
    "import numpy as np\n",
    "from matplotlib import pyplot as plt\n",
    "import requests\n",
    "from PIL import Image, ImageOps\n",
    "import cv2\n",
    "from scipy import cluster\n",
    "from sklearn.preprocessing import MinMaxScaler\n",
    "import imagesize\n",
    "import random\n",
    "from sklearn.preprocessing import LabelEncoder\n",
    "from ipywidgets import interact\n",
    "import time\n",
    "from io import BytesIO\n",
    "from keras.applications.vgg16 import VGG16\n",
    "from keras.applications.vgg16 import preprocess_input\n",
    "from keras.callbacks import EarlyStopping\n",
    "from keras import Sequential\n",
    "from keras import layers, models\n",
    "from keras.preprocessing.image import ImageDataGenerator\n",
    "from tqdm.notebook import tqdm\n",
    "from keras.metrics import Precision, Recall, Accuracy\n",
    "from sklearn.model_selection import train_test_split\n",
    "from sklearn.pipeline import make_pipeline\n",
    "from sklearn.preprocessing import FunctionTransformer\n",
    "from math import ceil\n",
    "import os\n",
    "from preproc.attributes import AttributePreproc\n"
   ]
  },
  {
   "cell_type": "code",
   "execution_count": 2,
   "id": "d07ce8cf",
   "metadata": {},
   "outputs": [],
   "source": [
    "%load_ext autoreload\n",
    "%autoreload 2"
   ]
  },
  {
   "cell_type": "code",
   "execution_count": null,
   "id": "tn69h8XONGXf",
   "metadata": {
    "colab": {
     "base_uri": "https://localhost:8080/"
    },
    "id": "tn69h8XONGXf",
    "outputId": "e22bb404-239d-41b6-bd6f-8630778aa6eb"
   },
   "outputs": [],
   "source": [
    "#!pip install --upgrade pip"
   ]
  },
  {
   "cell_type": "code",
   "execution_count": null,
   "id": "Z9iZdmf_NaQ7",
   "metadata": {
    "id": "Z9iZdmf_NaQ7"
   },
   "outputs": [],
   "source": [
    "#!git clone -b preproc_package https://github.com/orlandoalexander/Moda-Personal-Assistant.git"
   ]
  },
  {
   "cell_type": "code",
   "execution_count": null,
   "id": "bKmDfLhnNeTs",
   "metadata": {
    "id": "bKmDfLhnNeTs"
   },
   "outputs": [],
   "source": [
    "#%cd Moda-Personal-Assistant\n",
    "#! pip install ."
   ]
  },
  {
   "cell_type": "code",
   "execution_count": null,
   "id": "n0ZHHWLhO9lO",
   "metadata": {
    "id": "n0ZHHWLhO9lO"
   },
   "outputs": [],
   "source": [
    "#path = '/content/Moda-Personal-Assistant/img'"
   ]
  },
  {
   "cell_type": "code",
   "execution_count": null,
   "id": "A1O0jnfYPSa0",
   "metadata": {
    "id": "A1O0jnfYPSa0"
   },
   "outputs": [],
   "source": [
    "#prep = Preproc(path, (299,299), 'fabric', 0.2)"
   ]
  },
  {
   "cell_type": "code",
   "execution_count": null,
   "id": "VJZJOlW2PWgK",
   "metadata": {
    "colab": {
     "base_uri": "https://localhost:8080/"
    },
    "id": "VJZJOlW2PWgK",
    "outputId": "547533ca-03e3-49ae-d73c-30c81465013f"
   },
   "outputs": [],
   "source": [
    "#X_train, X_test, y_train, y_test = prep.run()"
   ]
  },
  {
   "cell_type": "code",
   "execution_count": null,
   "id": "Nj78lIYKRz7X",
   "metadata": {
    "id": "Nj78lIYKRz7X"
   },
   "outputs": [],
   "source": [
    "from psutil import virtual_memory\n",
    "ram_gb = virtual_memory().total / 1e9\n",
    "print('Your runtime has {:.1f} gigabytes of available RAM\\n'.format(ram_gb))\n",
    "\n",
    "if ram_gb < 20:\n",
    "  print('Not using a high-RAM runtime')\n",
    "else:\n",
    "  print('You are using a high-RAM runtime!')"
   ]
  },
  {
   "cell_type": "code",
   "execution_count": null,
   "id": "x125kCtiR1dr",
   "metadata": {
    "id": "x125kCtiR1dr"
   },
   "outputs": [],
   "source": [
    "pd.set_option('display.max_columns', None)"
   ]
  },
  {
   "cell_type": "code",
   "execution_count": null,
   "id": "6375906c",
   "metadata": {
    "colab": {
     "base_uri": "https://localhost:8080/"
    },
    "id": "TeWyl54THv16",
    "outputId": "ee052400-56cc-4812-93a1-712788f5e984"
   },
   "outputs": [],
   "source": [
    "# from google.colab import drive\n",
    "# drive.mount('/content/drive')"
   ]
  },
  {
   "cell_type": "code",
   "execution_count": null,
   "id": "9b490719",
   "metadata": {
    "id": "lw9Azl17u8Qv"
   },
   "outputs": [],
   "source": [
    "#!unzip '/content/drive/MyDrive/Le Wagon/Moda-Personal-Assistant/Data/DeepFashion_categorical_images_low/img.zip'"
   ]
  },
  {
   "cell_type": "code",
   "execution_count": null,
   "id": "a8e9e309",
   "metadata": {
    "id": "82067545"
   },
   "outputs": [],
   "source": [
    "#PATH_IMG = '/content/img/'\n",
    "#PATH_DATA = '/content/drive/MyDrive/Le Wagon/Moda-Personal-Assistant/Data/DeepFashion_attributes - train'\n"
   ]
  },
  {
   "cell_type": "code",
   "execution_count": 5,
   "id": "c2a64d59",
   "metadata": {},
   "outputs": [],
   "source": [
    "PATH_IMG = 'Data/DeepFashion_attributes_image/'\n",
    "PATH_DATA = 'Data/DeepFashion_attributes_data'\n"
   ]
  },
  {
   "cell_type": "code",
   "execution_count": 10,
   "id": "c3a723ec",
   "metadata": {},
   "outputs": [
    {
     "name": "stdout",
     "output_type": "stream",
     "text": [
      "Unexpected exception formatting exception. Falling back to standard exception\n"
     ]
    },
    {
     "name": "stderr",
     "output_type": "stream",
     "text": [
      "Traceback (most recent call last):\n",
      "  File \"/Users/orlandoalexander/opt/miniconda3/lib/python3.9/site-packages/IPython/core/interactiveshell.py\", line 3433, in run_code\n",
      "    exec(code_obj, self.user_global_ns, self.user_ns)\n",
      "  File \"<ipython-input-10-d4b480fdc90c>\", line 1, in <module>\n",
      "    prep = AttributePreproc('Data/Other/DeepFashion_multimodal_images/', (256, 256), 'upper', 0.2)\n",
      "  File \"/Users/orlandoalexander/Documents/Le Wagon/Project/Moda/Moda-Personal-Assistant/preproc/attributes.py\", line 28, in __init__\n",
      "  File \"/Users/orlandoalexander/Documents/Le Wagon/Project/Moda/Moda-Personal-Assistant/preproc/attributes.py\", line 87, in _preproc_dataframe\n",
      "    start_index_attr = np.where(self._df.columns==first_attr)[0] # index of first attribute in selected attribute group within passed dataframe\n",
      "  File \"/Users/orlandoalexander/opt/miniconda3/lib/python3.9/site-packages/pandas/core/indexing.py\", line 960, in __getitem__\n",
      "    return self.obj._get_value(*key, takeable=self._takeable)\n",
      "  File \"/Users/orlandoalexander/opt/miniconda3/lib/python3.9/site-packages/pandas/core/frame.py\", line 3613, in _get_value\n",
      "    return series._values[index]\n",
      "IndexError: index 0 is out of bounds for axis 0 with size 0\n",
      "\n",
      "During handling of the above exception, another exception occurred:\n",
      "\n",
      "Traceback (most recent call last):\n",
      "  File \"/Users/orlandoalexander/opt/miniconda3/lib/python3.9/site-packages/IPython/core/interactiveshell.py\", line 2052, in showtraceback\n",
      "    stb = self.InteractiveTB.structured_traceback(\n",
      "  File \"/Users/orlandoalexander/opt/miniconda3/lib/python3.9/site-packages/IPython/core/ultratb.py\", line 1112, in structured_traceback\n",
      "    return FormattedTB.structured_traceback(\n",
      "  File \"/Users/orlandoalexander/opt/miniconda3/lib/python3.9/site-packages/IPython/core/ultratb.py\", line 1006, in structured_traceback\n",
      "    return VerboseTB.structured_traceback(\n",
      "  File \"/Users/orlandoalexander/opt/miniconda3/lib/python3.9/site-packages/IPython/core/ultratb.py\", line 859, in structured_traceback\n",
      "    formatted_exception = self.format_exception_as_a_whole(etype, evalue, etb, number_of_lines_of_context,\n",
      "  File \"/Users/orlandoalexander/opt/miniconda3/lib/python3.9/site-packages/IPython/core/ultratb.py\", line 812, in format_exception_as_a_whole\n",
      "    frames.append(self.format_record(r))\n",
      "  File \"/Users/orlandoalexander/opt/miniconda3/lib/python3.9/site-packages/IPython/core/ultratb.py\", line 730, in format_record\n",
      "    result += ''.join(_format_traceback_lines(frame_info.lines, Colors, self.has_colors, lvals))\n",
      "  File \"/Users/orlandoalexander/opt/miniconda3/lib/python3.9/site-packages/stack_data/utils.py\", line 144, in cached_property_wrapper\n",
      "    value = obj.__dict__[self.func.__name__] = self.func(obj)\n",
      "  File \"/Users/orlandoalexander/opt/miniconda3/lib/python3.9/site-packages/stack_data/core.py\", line 720, in lines\n",
      "    pieces = self.included_pieces\n",
      "  File \"/Users/orlandoalexander/opt/miniconda3/lib/python3.9/site-packages/stack_data/utils.py\", line 144, in cached_property_wrapper\n",
      "    value = obj.__dict__[self.func.__name__] = self.func(obj)\n",
      "  File \"/Users/orlandoalexander/opt/miniconda3/lib/python3.9/site-packages/stack_data/core.py\", line 667, in included_pieces\n",
      "    pos = scope_pieces.index(self.executing_piece)\n",
      "  File \"/Users/orlandoalexander/opt/miniconda3/lib/python3.9/site-packages/stack_data/utils.py\", line 144, in cached_property_wrapper\n",
      "    value = obj.__dict__[self.func.__name__] = self.func(obj)\n",
      "  File \"/Users/orlandoalexander/opt/miniconda3/lib/python3.9/site-packages/stack_data/core.py\", line 646, in executing_piece\n",
      "    return only(\n",
      "  File \"/Users/orlandoalexander/opt/miniconda3/lib/python3.9/site-packages/executing/executing.py\", line 190, in only\n",
      "    raise NotOneValueFound('Expected one value, found 0')\n",
      "executing.executing.NotOneValueFound: Expected one value, found 0\n"
     ]
    }
   ],
   "source": [
    "prep = AttributePreproc('Data/Other/DeepFashion_multimodal_images/', (256, 256), 'upper', 0.2)\n",
    "\n",
    "\n"
   ]
  },
  {
   "cell_type": "code",
   "execution_count": 8,
   "id": "40299615",
   "metadata": {},
   "outputs": [
    {
     "name": "stdout",
     "output_type": "stream",
     "text": [
      "Augmenting attribute 'denim'...\n",
      "Augmenting attribute 'chiffon'...\n",
      "Augmenting attribute 'cotton'...\n",
      "Augmenting attribute 'leather'...\n",
      "Augmenting attribute 'faux'...\n",
      "Augmenting attribute 'knit'...\n",
      "Done!\n"
     ]
    }
   ],
   "source": [
    "x1,y1,x2,y2 = prep.run()"
   ]
  },
  {
   "cell_type": "code",
   "execution_count": 9,
   "id": "373f635a",
   "metadata": {},
   "outputs": [],
   "source": [
    "for i in dir(prep):\n",
    "    del i\n",
    "del prep"
   ]
  },
  {
   "cell_type": "markdown",
   "id": "5e20ee75",
   "metadata": {
    "id": "5e20ee75"
   },
   "source": [
    "# Attributes"
   ]
  },
  {
   "cell_type": "markdown",
   "id": "f71ca9e7",
   "metadata": {
    "heading_collapsed": true
   },
   "source": [
    "## Load raw data"
   ]
  },
  {
   "cell_type": "code",
   "execution_count": null,
   "id": "667a8fdc",
   "metadata": {
    "hidden": true,
    "id": "49ab34f9"
   },
   "outputs": [],
   "source": [
    "cat_names = pd.read_csv(PATH_DATA+'/list_category.txt',sep ='\\s+',header=None).reset_index().rename(columns={0:'category',1:'section','index':'cat_num'})\n"
   ]
  },
  {
   "cell_type": "code",
   "execution_count": null,
   "id": "dc9dc2c8",
   "metadata": {
    "hidden": true,
    "id": "689814cf"
   },
   "outputs": [],
   "source": [
    "cat_names['cat_num'] = cat_names['cat_num'].apply(lambda x : x+1)"
   ]
  },
  {
   "cell_type": "code",
   "execution_count": null,
   "id": "a1e5e5b8",
   "metadata": {
    "colab": {
     "base_uri": "https://localhost:8080/",
     "height": 206
    },
    "hidden": true,
    "id": "e552cf72",
    "outputId": "5b350f1f-d976-4954-ac6e-e5f9be68bc37"
   },
   "outputs": [],
   "source": [
    "cat_names.head()"
   ]
  },
  {
   "cell_type": "code",
   "execution_count": null,
   "id": "9f7e0b86",
   "metadata": {
    "hidden": true,
    "id": "10212d3f"
   },
   "outputs": [],
   "source": [
    "cat_tag = pd.read_csv(PATH_DATA+'/tag_cat_simple.txt',sep='\\s+',header=None,names=['category']).rename(columns={'category':'cat_num'})\n",
    "\n"
   ]
  },
  {
   "cell_type": "code",
   "execution_count": null,
   "id": "5b9ff8f0",
   "metadata": {
    "hidden": true,
    "id": "c366f8fd"
   },
   "outputs": [],
   "source": [
    "cat_img = pd.read_csv(PATH_DATA+'/img_simple.txt',sep='\\s+',header=None,names=['category']).rename(columns={'category':'img'})"
   ]
  },
  {
   "cell_type": "code",
   "execution_count": null,
   "id": "fa23c847",
   "metadata": {
    "hidden": true,
    "id": "3653dbd8"
   },
   "outputs": [],
   "source": [
    "cat_num = cat_img.join(cat_tag).drop(columns='img')\n"
   ]
  },
  {
   "cell_type": "code",
   "execution_count": null,
   "id": "118c2d09",
   "metadata": {
    "colab": {
     "base_uri": "https://localhost:8080/",
     "height": 206
    },
    "hidden": true,
    "id": "8bc09c07",
    "outputId": "f780d42a-c4bb-465f-b581-b4f891e58532"
   },
   "outputs": [],
   "source": [
    "cat_num.head()"
   ]
  },
  {
   "cell_type": "code",
   "execution_count": null,
   "id": "678f1a17",
   "metadata": {
    "hidden": true,
    "id": "4b09cf1a"
   },
   "outputs": [],
   "source": [
    "cat = cat_num.merge(cat_names, on='cat_num', how='left').drop(columns='cat_num')\n",
    "\n"
   ]
  },
  {
   "cell_type": "code",
   "execution_count": null,
   "id": "fa13ac2f",
   "metadata": {
    "colab": {
     "base_uri": "https://localhost:8080/",
     "height": 424
    },
    "hidden": true,
    "id": "89994635",
    "outputId": "65c1758a-9f49-4fd9-fef1-3fbce75fd6d2"
   },
   "outputs": [],
   "source": [
    "cat"
   ]
  },
  {
   "cell_type": "code",
   "execution_count": null,
   "id": "91717bc0",
   "metadata": {
    "hidden": true,
    "id": "058181c8"
   },
   "outputs": [],
   "source": [
    "cat['section'] = cat['section'].map({1:'upper',2:'lower',3:'full body'})"
   ]
  },
  {
   "cell_type": "code",
   "execution_count": null,
   "id": "19e7a1cd",
   "metadata": {
    "hidden": true,
    "id": "7b056d00"
   },
   "outputs": [],
   "source": [
    "cat_names = pd.read_csv(PATH_DATA+'/list_category.txt',sep ='\\s+',header=None).reset_index().rename(columns={0:'category',1:'section','index':'cat_num'})\n",
    "\n"
   ]
  },
  {
   "cell_type": "code",
   "execution_count": null,
   "id": "da2afdc5",
   "metadata": {
    "hidden": true,
    "id": "da04bd87"
   },
   "outputs": [],
   "source": [
    "cat_names['cat_num'] = cat_names['cat_num'].apply(lambda x : x+1)"
   ]
  },
  {
   "cell_type": "code",
   "execution_count": null,
   "id": "5c6cc577",
   "metadata": {
    "colab": {
     "base_uri": "https://localhost:8080/",
     "height": 206
    },
    "hidden": true,
    "id": "61c92263",
    "outputId": "35e36950-95be-4132-f551-dbce1abdf6a5"
   },
   "outputs": [],
   "source": [
    "cat_names.head()"
   ]
  },
  {
   "cell_type": "code",
   "execution_count": null,
   "id": "2c4aa616",
   "metadata": {
    "hidden": true,
    "id": "b0997c6f"
   },
   "outputs": [],
   "source": [
    "cat_tag = pd.read_csv(PATH_DATA+'/tag_cat_simple.txt',sep='\\s+',header=None,names=['category']).rename(columns={'category':'cat_num'})\n",
    "\n"
   ]
  },
  {
   "cell_type": "code",
   "execution_count": null,
   "id": "a236e434",
   "metadata": {
    "hidden": true,
    "id": "fd451595"
   },
   "outputs": [],
   "source": [
    "cat_img = pd.read_csv(PATH_DATA+'/img_simple.txt',sep='\\s+',header=None,names=['category']).rename(columns={'category':'img'})"
   ]
  },
  {
   "cell_type": "code",
   "execution_count": null,
   "id": "34619a50",
   "metadata": {
    "hidden": true,
    "id": "69ce85ff"
   },
   "outputs": [],
   "source": [
    "cat_num = cat_img.join(cat_tag)\n"
   ]
  },
  {
   "cell_type": "code",
   "execution_count": null,
   "id": "6b51afb4",
   "metadata": {
    "colab": {
     "base_uri": "https://localhost:8080/",
     "height": 206
    },
    "hidden": true,
    "id": "7c26ef9c",
    "outputId": "83e77a06-6cde-48d6-90cc-6895a2ce7b4e"
   },
   "outputs": [],
   "source": [
    "cat_num.head()"
   ]
  },
  {
   "cell_type": "code",
   "execution_count": null,
   "id": "356b6c2e",
   "metadata": {
    "hidden": true,
    "id": "c4751a2b"
   },
   "outputs": [],
   "source": [
    "cat = cat_num.merge(cat_names, on='cat_num', how='left').drop(columns='cat_num')\n"
   ]
  },
  {
   "cell_type": "code",
   "execution_count": null,
   "id": "1e2a4fdf",
   "metadata": {
    "hidden": true,
    "id": "b20a928e"
   },
   "outputs": [],
   "source": [
    "cat['img'] = cat['img'].apply(lambda x: x[4:])"
   ]
  },
  {
   "cell_type": "code",
   "execution_count": null,
   "id": "98a91758",
   "metadata": {
    "colab": {
     "base_uri": "https://localhost:8080/",
     "height": 424
    },
    "hidden": true,
    "id": "09e9a0f5",
    "outputId": "759c42d8-be9b-4a31-a479-1271bc14dec1"
   },
   "outputs": [],
   "source": [
    "cat"
   ]
  },
  {
   "cell_type": "code",
   "execution_count": null,
   "id": "a64a9115",
   "metadata": {
    "hidden": true,
    "id": "b229ccfe"
   },
   "outputs": [],
   "source": [
    "cat['section'] = cat['section'].map({1:'upper',2:'lower',3:'full body'})"
   ]
  },
  {
   "cell_type": "code",
   "execution_count": null,
   "id": "1e073ea4",
   "metadata": {
    "hidden": true,
    "id": "f9d33cba"
   },
   "outputs": [],
   "source": [
    "attr_names = pd.read_csv(PATH_DATA+'/list_attr_simple.txt',sep='\\s+', header=None).rename(columns={0:'attribute',1:'attribute_type'})\n"
   ]
  },
  {
   "cell_type": "code",
   "execution_count": null,
   "id": "80ae1c4f",
   "metadata": {
    "colab": {
     "base_uri": "https://localhost:8080/",
     "height": 865
    },
    "hidden": true,
    "id": "d820bc81",
    "outputId": "041e8d61-48fb-4525-8cd5-eb4048a65438"
   },
   "outputs": [],
   "source": [
    "attr_names"
   ]
  },
  {
   "cell_type": "code",
   "execution_count": null,
   "id": "226d2c3f",
   "metadata": {
    "hidden": true,
    "id": "7dcdb3fb"
   },
   "outputs": [],
   "source": [
    "attr_names['attribute_type'] = attr_names['attribute_type'].map({1:'design',2:'sleeves',3:'length',4:'part',5:'fabric',6:'fit'})\n"
   ]
  },
  {
   "cell_type": "code",
   "execution_count": null,
   "id": "4b2c0634",
   "metadata": {
    "colab": {
     "base_uri": "https://localhost:8080/",
     "height": 35
    },
    "hidden": true,
    "id": "pgJ8RINE5vQn",
    "outputId": "32c2b7bc-f138-4113-a768-50d32242a1d8"
   },
   "outputs": [],
   "source": [
    "attr_names[attr_names['attribute_type']=='sleeves'].iloc[0,0]"
   ]
  },
  {
   "cell_type": "code",
   "execution_count": null,
   "id": "d920bb20",
   "metadata": {
    "colab": {
     "base_uri": "https://localhost:8080/"
    },
    "hidden": true,
    "id": "wd2x3DPO4HkI",
    "outputId": "c0448b43-cde4-4d20-f077-f6531a90f42e"
   },
   "outputs": [],
   "source": [
    "np.where(attr_names['attribute_type'].values=='sleeves')[0]"
   ]
  },
  {
   "cell_type": "code",
   "execution_count": null,
   "id": "bbef5759",
   "metadata": {
    "colab": {
     "base_uri": "https://localhost:8080/"
    },
    "hidden": true,
    "id": "99eca10e",
    "outputId": "c58c0a57-9174-4f38-8565-cea747ccac70"
   },
   "outputs": [],
   "source": [
    "attr_names_headers = attr_names.iloc[:,0]\n",
    "attr_names_headers"
   ]
  },
  {
   "cell_type": "code",
   "execution_count": null,
   "id": "5f97850a",
   "metadata": {
    "hidden": true,
    "id": "b263aae7"
   },
   "outputs": [],
   "source": [
    "attr_tags = pd.read_csv(PATH_DATA+'/tags_attr_simple.txt',sep='\\s+',header=None,names=attr_names_headers)\n"
   ]
  },
  {
   "cell_type": "code",
   "execution_count": null,
   "id": "2d37e5b9",
   "metadata": {
    "colab": {
     "base_uri": "https://localhost:8080/",
     "height": 488
    },
    "hidden": true,
    "id": "1198dcac",
    "outputId": "a64e2121-ae58-4971-f130-b6906fdf9566"
   },
   "outputs": [],
   "source": [
    "attr_tags"
   ]
  },
  {
   "cell_type": "code",
   "execution_count": null,
   "id": "137ec44b",
   "metadata": {
    "hidden": true,
    "id": "0e60de41"
   },
   "outputs": [],
   "source": [
    "attr_img = pd.read_csv(PATH_DATA+'/img_simple.txt',sep='\\s+',header=None).rename(columns={0:'img'})\n",
    "\n"
   ]
  },
  {
   "cell_type": "code",
   "execution_count": null,
   "id": "50ddfe78",
   "metadata": {
    "colab": {
     "base_uri": "https://localhost:8080/",
     "height": 424
    },
    "hidden": true,
    "id": "dcd86e47",
    "outputId": "5f1b0daf-ad1b-4be9-d61f-5c78905d3596"
   },
   "outputs": [],
   "source": [
    "attr_img"
   ]
  },
  {
   "cell_type": "code",
   "execution_count": null,
   "id": "f995287a",
   "metadata": {
    "hidden": true,
    "id": "ac28bfdd"
   },
   "outputs": [],
   "source": [
    "attr = attr_img.join(attr_tags,how='inner').drop(columns='img')"
   ]
  },
  {
   "cell_type": "code",
   "execution_count": null,
   "id": "4653ebf3",
   "metadata": {
    "colab": {
     "base_uri": "https://localhost:8080/",
     "height": 488
    },
    "hidden": true,
    "id": "7c34d4c1",
    "outputId": "be8b671f-f4cf-4237-8265-6ca2971e0965",
    "scrolled": true
   },
   "outputs": [],
   "source": [
    "attr"
   ]
  },
  {
   "cell_type": "code",
   "execution_count": null,
   "id": "b67ce010",
   "metadata": {
    "hidden": true,
    "id": "6ddc0906"
   },
   "outputs": [],
   "source": [
    "bb = pd.read_csv(PATH_DATA+'/bbox.txt',sep='\\s+',header=None,index_col=False, names=['img','x_1', 'y_1', 'x_2', 'y_2'])\n"
   ]
  },
  {
   "cell_type": "code",
   "execution_count": null,
   "id": "046e6796",
   "metadata": {
    "hidden": true,
    "id": "72ba208a"
   },
   "outputs": [],
   "source": [
    "bb['img'] = bb['img'].apply(lambda x: x[4:])"
   ]
  },
  {
   "cell_type": "code",
   "execution_count": null,
   "id": "c44fa293",
   "metadata": {
    "hidden": true,
    "id": "99f74052"
   },
   "outputs": [],
   "source": [
    "landmarks = pd.read_csv(PATH_DATA+'/landmarks.txt',sep='\\s+',names=['img','clothes_type','v1','x1','y1','v2','x2','y2','v3','x3','y3','v4','x4','y4','v5','x5','y5','v6','x6','y6','v7','x7','y7','v8','x8','y8']).fillna(0).drop(columns=['clothes_type'])\n",
    "\n"
   ]
  },
  {
   "cell_type": "code",
   "execution_count": null,
   "id": "91046a76",
   "metadata": {
    "hidden": true,
    "id": "c96af7ed"
   },
   "outputs": [],
   "source": [
    "landmarks['img'] = landmarks['img'].apply(lambda x: x[4:])"
   ]
  },
  {
   "cell_type": "code",
   "execution_count": null,
   "id": "7f070f5a",
   "metadata": {
    "hidden": true,
    "id": "d2d9d0e3"
   },
   "outputs": [],
   "source": [
    "data_full = cat.join(attr,how='left').merge(bb,how='left',on='img').merge(landmarks, how='left',on='img')\n",
    "\n"
   ]
  },
  {
   "cell_type": "code",
   "execution_count": null,
   "id": "30184eb8",
   "metadata": {
    "hidden": true
   },
   "outputs": [],
   "source": [
    "data_full = cat"
   ]
  },
  {
   "cell_type": "code",
   "execution_count": null,
   "id": "4702566f",
   "metadata": {
    "hidden": true,
    "scrolled": true
   },
   "outputs": [],
   "source": [
    "data_full"
   ]
  },
  {
   "cell_type": "code",
   "execution_count": null,
   "id": "98c3d195",
   "metadata": {
    "hidden": true
   },
   "outputs": [],
   "source": [
    "cat_counts = data_full.category.value_counts() # number of images in each section class (list of tuples) in training data set\n"
   ]
  },
  {
   "cell_type": "code",
   "execution_count": null,
   "id": "2227b2ca",
   "metadata": {
    "hidden": true
   },
   "outputs": [],
   "source": [
    "cat_counts.mean()"
   ]
  },
  {
   "cell_type": "code",
   "execution_count": null,
   "id": "db4bcee4",
   "metadata": {
    "hidden": true,
    "scrolled": true
   },
   "outputs": [],
   "source": [
    "cat_counts"
   ]
  },
  {
   "cell_type": "code",
   "execution_count": null,
   "id": "fc2c65d5",
   "metadata": {
    "hidden": true
   },
   "outputs": [],
   "source": []
  },
  {
   "cell_type": "markdown",
   "id": "c1465e27",
   "metadata": {
    "id": "d1c4d652"
   },
   "source": [
    "## Filter attributes"
   ]
  },
  {
   "cell_type": "code",
   "execution_count": null,
   "id": "9a1fba61",
   "metadata": {
    "colab": {
     "base_uri": "https://localhost:8080/",
     "height": 505
    },
    "id": "4a2cb10e",
    "outputId": "574481bf-f451-4ed1-afb8-0d010eebe6f7"
   },
   "outputs": [],
   "source": [
    "data_full"
   ]
  },
  {
   "cell_type": "code",
   "execution_count": null,
   "id": "362cc609",
   "metadata": {
    "id": "c03cd3c3"
   },
   "outputs": [],
   "source": [
    "# If item is sleevless and of lower type, set attribute value to 0:\n",
    "data_full['sleeveless'] = data_full.apply(lambda x: 0 if ((x['sleeveless'])==1) & (x['section']=='lower') else x['sleeveless'], axis =1)\n"
   ]
  },
  {
   "cell_type": "code",
   "execution_count": null,
   "id": "8ddac2a8",
   "metadata": {
    "colab": {
     "base_uri": "https://localhost:8080/",
     "height": 505
    },
    "id": "5a4e7907",
    "outputId": "af08c2cc-345c-4b7c-ed71-fa2d448f58f1"
   },
   "outputs": [],
   "source": [
    "data_full"
   ]
  },
  {
   "cell_type": "code",
   "execution_count": null,
   "id": "ab577e0d",
   "metadata": {
    "id": "fbfa4661"
   },
   "outputs": [],
   "source": [
    "data_full.drop(columns=['no_dress','no_neckline'],inplace=True)"
   ]
  },
  {
   "cell_type": "markdown",
   "id": "585ad2d5",
   "metadata": {
    "id": "0b5be07c"
   },
   "source": [
    "## Crop and augment images"
   ]
  },
  {
   "cell_type": "code",
   "execution_count": null,
   "id": "36d56130",
   "metadata": {
    "colab": {
     "base_uri": "https://localhost:8080/",
     "height": 505
    },
    "id": "64f73553",
    "outputId": "f6c1a5b2-68b8-4aa8-bad1-35cdbc753f0d"
   },
   "outputs": [],
   "source": [
    "data_full"
   ]
  },
  {
   "cell_type": "code",
   "execution_count": null,
   "id": "37811844",
   "metadata": {
    "id": "ca179d7d"
   },
   "outputs": [],
   "source": [
    "data_full_attr = data_full.iloc[:,3:-28]"
   ]
  },
  {
   "cell_type": "code",
   "execution_count": null,
   "id": "070cf1c0",
   "metadata": {
    "colab": {
     "base_uri": "https://localhost:8080/",
     "height": 488
    },
    "id": "85efaa29",
    "outputId": "6917eecd-8a27-4ddf-b688-21259e042740"
   },
   "outputs": [],
   "source": [
    "data_full_attr"
   ]
  },
  {
   "cell_type": "code",
   "execution_count": null,
   "id": "5374d81a",
   "metadata": {
    "id": "dee0d7ab"
   },
   "outputs": [],
   "source": [
    "attribute_count = data_full_attr.apply(pd.value_counts)"
   ]
  },
  {
   "cell_type": "code",
   "execution_count": null,
   "id": "ed76fe34",
   "metadata": {
    "id": "31eb31de"
   },
   "outputs": [],
   "source": [
    "attribute_count_T = attribute_count.T.reset_index().rename(columns={'index':'attribute'})"
   ]
  },
  {
   "cell_type": "code",
   "execution_count": null,
   "id": "555124a1",
   "metadata": {
    "colab": {
     "base_uri": "https://localhost:8080/",
     "height": 802
    },
    "id": "65e5475a",
    "outputId": "043bdfbf-650b-4b94-a135-ab3d0fde9fe4"
   },
   "outputs": [],
   "source": [
    "attribute_count_T"
   ]
  },
  {
   "cell_type": "code",
   "execution_count": null,
   "id": "24d914af",
   "metadata": {
    "id": "3347f075"
   },
   "outputs": [],
   "source": [
    "attribute_count_type = attribute_count_T.merge(attr_names, on='attribute')"
   ]
  },
  {
   "cell_type": "code",
   "execution_count": null,
   "id": "5452a312",
   "metadata": {
    "colab": {
     "base_uri": "https://localhost:8080/",
     "height": 802
    },
    "id": "05123444",
    "outputId": "d96f09c5-51e6-459a-8f6b-d23021556cd7"
   },
   "outputs": [],
   "source": [
    "attribute_count_type"
   ]
  },
  {
   "cell_type": "code",
   "execution_count": null,
   "id": "807333f3",
   "metadata": {
    "id": "baa9fc45"
   },
   "outputs": [],
   "source": [
    "attribute_count_type_mean = attribute_count_type.groupby('attribute_type').median().drop(columns=0)"
   ]
  },
  {
   "cell_type": "code",
   "execution_count": null,
   "id": "819c903b",
   "metadata": {
    "colab": {
     "base_uri": "https://localhost:8080/",
     "height": 269
    },
    "id": "41aa0c71",
    "outputId": "dd028eda-c50e-4af8-aa4a-8a40ba4e587a"
   },
   "outputs": [],
   "source": [
    "attribute_count_type_mean"
   ]
  },
  {
   "cell_type": "code",
   "execution_count": null,
   "id": "192095f8",
   "metadata": {
    "colab": {
     "base_uri": "https://localhost:8080/"
    },
    "id": "01913b82",
    "outputId": "a525f730-4338-47d5-fd24-333ca78fba23"
   },
   "outputs": [],
   "source": [
    "attribute_count_mean = attribute_count_type[1].median()\n",
    "attribute_count_mean"
   ]
  },
  {
   "cell_type": "code",
   "execution_count": null,
   "id": "8d12a1b3",
   "metadata": {
    "colab": {
     "base_uri": "https://localhost:8080/"
    },
    "id": "dd6674c3",
    "outputId": "9701b8d3-1aac-4706-da6c-4d2b8053bc6e"
   },
   "outputs": [],
   "source": [
    "attr_names_list = attribute_count_type['attribute'].values\n",
    "attr_names_list"
   ]
  },
  {
   "cell_type": "code",
   "execution_count": null,
   "id": "91c66a81",
   "metadata": {
    "id": "8fa8c076"
   },
   "outputs": [],
   "source": [
    "def landmark_crop(index): # NOT USED AT THE MOMENT !\n",
    "    observation = data_full.iloc[index,:] # get observation from database according to index\n",
    "    v1,x1,y1,v2,x2,y2,v3,x3,y3,v4,x4,y4=observation[-24:-12] # landmarks belonging to ALL images\n",
    "    lm_x = [x1,x2,x3,x4]\n",
    "    lm_y = [y1,y2,y3,y4]\n",
    "    lm_v = [v1,v2,v3,v4]\n",
    "    \n",
    "    section = data_full.iloc[index,2] # get section type for image\n",
    "    if section == 'upper' or section == 'full body': # if image is an upper or full body, has 6 landmarks\n",
    "        v5,x5,y5,v6,x6,y6=observation[-12:-6]\n",
    "        lm_x.extend([x5,x6])\n",
    "        lm_y.extend([y5,y6])\n",
    "        lm_v.extend([v5,v6])\n",
    "    if section == 'full body': # if image is full body has 8 landmarks\n",
    "        v7,x7,y7,v8,x8,y8=observation[-6:]\n",
    "        lm_x.extend([x7,x8])\n",
    "        lm_y.extend([y7,y8])\n",
    "        lm_v.extend([v7,v8])\n",
    "    \n",
    "    lm_x = np.array(lm_x)\n",
    "    lm_y = np.array(lm_y)\n",
    "    lm_x = lm_x[lm_x !=0] # keep only non-zero landmarks \n",
    "    lm_y = lm_y[lm_y !=0]\n",
    "    \n",
    "    pts = (np.array(list(zip(lm_x,lm_y)))).astype('int') # store coordinates defined by landmarks\n",
    "    \n",
    "    img_name = observation[0]\n",
    "    full_path = PATH_IMG+img_name\n",
    "    \n",
    "    img = cv2.imread(full_path) # open image using OpenCV\n",
    "    img = cv2.cvtColor(img, cv2.COLOR_BGR2RGB) # convert image to correct format\n",
    "    \n",
    "    x,y,w,h = cv2.boundingRect(pts) # create approximate rectangle using landmark points\n",
    "    cropped = Image.fromarray(img[y:y+h, x:x+w].copy()) # crop image by bounding rectangle\n",
    "\n",
    "    return cropped\n",
    "    "
   ]
  },
  {
   "cell_type": "code",
   "execution_count": null,
   "id": "42f1c818",
   "metadata": {
    "id": "79661234"
   },
   "outputs": [],
   "source": [
    "def format_image(index): # format image\n",
    "    observation = data_full.iloc[index,:] # get observation from database according to index    \n",
    "    img_name = observation[0]\n",
    "    full_path = PATH_IMG+img_name\n",
    "\n",
    "    # LOAD IMAGES:\n",
    "    img = Image.open(full_path)\n",
    "  \n",
    "    # CROP IMAGES:\n",
    "    box_x1,box_y1,box_x2,box_y2 = (np.array(observation[-28:-24].values)) # box coords\n",
    "    cropped = img.crop((box_x1, box_y1, box_x2, box_y2))\n",
    "\n",
    "    # PAD IMAGES:\n",
    "    cropped_pad = ImageOps.pad(cropped,(256,256),color=(255, 255, 255)) # pad image to (256,256) with white background\n",
    "    return cropped_pad\n"
   ]
  },
  {
   "cell_type": "code",
   "execution_count": null,
   "id": "43a95259",
   "metadata": {
    "colab": {
     "base_uri": "https://localhost:8080/",
     "height": 287
    },
    "id": "f848c7e9",
    "outputId": "2e5e376b-ae8d-45ac-a6d3-21bb8de744a4"
   },
   "outputs": [],
   "source": [
    "sample_index = np.random.randint(20000)\n",
    "image = format_image(sample_index)\n",
    "\n",
    "\n",
    "plt.imshow(image)"
   ]
  },
  {
   "cell_type": "code",
   "execution_count": null,
   "id": "24331db7",
   "metadata": {
    "id": "07520642",
    "scrolled": false
   },
   "outputs": [],
   "source": [
    "# fig, axs = plt.subplots(24,10,figsize=(30,100))\n",
    "# for i in range(24):\n",
    "#     for j in range(10):\n",
    "#         index = data_full[data_full[attr_names_list[i]]==1].sample(1).index._data[0]\n",
    "#         img = format_image(index)\n",
    "#         img = axs[i][j].imshow(img)\n",
    "#         axs[i][j].title.set_text(attr_names_list[i])"
   ]
  },
  {
   "cell_type": "markdown",
   "id": "e3afc964",
   "metadata": {
    "id": "7089ae1e"
   },
   "source": [
    "## Model testing "
   ]
  },
  {
   "cell_type": "code",
   "execution_count": null,
   "id": "38130242",
   "metadata": {},
   "outputs": [],
   "source": [
    "cat_counts = data_full.category.value_counts() # number of images in each section class (list of tuples) in training data set\n"
   ]
  },
  {
   "cell_type": "code",
   "execution_count": null,
   "id": "f79bf9c6",
   "metadata": {},
   "outputs": [],
   "source": [
    "cat_counts.mean()"
   ]
  },
  {
   "cell_type": "code",
   "execution_count": null,
   "id": "95346b9f",
   "metadata": {
    "scrolled": true
   },
   "outputs": [],
   "source": [
    "cat_counts"
   ]
  },
  {
   "cell_type": "markdown",
   "id": "508f9269",
   "metadata": {
    "id": "5e20ee75"
   },
   "source": [
    "# Categories"
   ]
  },
  {
   "cell_type": "markdown",
   "id": "1d8b8300",
   "metadata": {},
   "source": [
    "## Load raw data"
   ]
  },
  {
   "cell_type": "code",
   "execution_count": null,
   "id": "49ab34f9",
   "metadata": {
    "id": "49ab34f9"
   },
   "outputs": [],
   "source": [
    "cat_names = pd.read_csv(PATH_DATA+'/list_category.txt',sep ='\\s+',header=None).reset_index().rename(columns={0:'category',1:'section','index':'cat_num'})\n"
   ]
  },
  {
   "cell_type": "code",
   "execution_count": null,
   "id": "689814cf",
   "metadata": {
    "id": "689814cf"
   },
   "outputs": [],
   "source": [
    "cat_names['cat_num'] = cat_names['cat_num'].apply(lambda x : x+1)"
   ]
  },
  {
   "cell_type": "code",
   "execution_count": null,
   "id": "e552cf72",
   "metadata": {
    "colab": {
     "base_uri": "https://localhost:8080/",
     "height": 206
    },
    "id": "e552cf72",
    "outputId": "5b350f1f-d976-4954-ac6e-e5f9be68bc37"
   },
   "outputs": [],
   "source": [
    "cat_names.head()"
   ]
  },
  {
   "cell_type": "code",
   "execution_count": null,
   "id": "10212d3f",
   "metadata": {
    "id": "10212d3f"
   },
   "outputs": [],
   "source": [
    "cat_tag = pd.read_csv(PATH_DATA+'/tag_cat_simple.txt',sep='\\s+',header=None,names=['category']).rename(columns={'category':'cat_num'})\n",
    "\n"
   ]
  },
  {
   "cell_type": "code",
   "execution_count": null,
   "id": "c366f8fd",
   "metadata": {
    "id": "c366f8fd"
   },
   "outputs": [],
   "source": [
    "cat_img = pd.read_csv(PATH_DATA+'/img_simple.txt',sep='\\s+',header=None,names=['category']).rename(columns={'category':'img'})"
   ]
  },
  {
   "cell_type": "code",
   "execution_count": null,
   "id": "3653dbd8",
   "metadata": {
    "id": "3653dbd8"
   },
   "outputs": [],
   "source": [
    "cat_num = cat_img.join(cat_tag).drop(columns='img')\n"
   ]
  },
  {
   "cell_type": "code",
   "execution_count": null,
   "id": "8bc09c07",
   "metadata": {
    "colab": {
     "base_uri": "https://localhost:8080/",
     "height": 206
    },
    "id": "8bc09c07",
    "outputId": "f780d42a-c4bb-465f-b581-b4f891e58532"
   },
   "outputs": [],
   "source": [
    "cat_num.head()"
   ]
  },
  {
   "cell_type": "code",
   "execution_count": null,
   "id": "4b09cf1a",
   "metadata": {
    "id": "4b09cf1a"
   },
   "outputs": [],
   "source": [
    "cat = cat_num.merge(cat_names, on='cat_num', how='left').drop(columns='cat_num')\n",
    "\n"
   ]
  },
  {
   "cell_type": "code",
   "execution_count": null,
   "id": "89994635",
   "metadata": {
    "colab": {
     "base_uri": "https://localhost:8080/",
     "height": 424
    },
    "id": "89994635",
    "outputId": "65c1758a-9f49-4fd9-fef1-3fbce75fd6d2"
   },
   "outputs": [],
   "source": [
    "cat"
   ]
  },
  {
   "cell_type": "code",
   "execution_count": null,
   "id": "058181c8",
   "metadata": {
    "id": "058181c8"
   },
   "outputs": [],
   "source": [
    "cat['section'] = cat['section'].map({1:'upper',2:'lower',3:'full body'})"
   ]
  },
  {
   "cell_type": "code",
   "execution_count": null,
   "id": "7b056d00",
   "metadata": {
    "id": "7b056d00"
   },
   "outputs": [],
   "source": [
    "cat_names = pd.read_csv(PATH_DATA+'/list_category.txt',sep ='\\s+',header=None).reset_index().rename(columns={0:'category',1:'section','index':'cat_num'})\n",
    "\n"
   ]
  },
  {
   "cell_type": "code",
   "execution_count": null,
   "id": "da04bd87",
   "metadata": {
    "id": "da04bd87"
   },
   "outputs": [],
   "source": [
    "cat_names['cat_num'] = cat_names['cat_num'].apply(lambda x : x+1)"
   ]
  },
  {
   "cell_type": "code",
   "execution_count": null,
   "id": "61c92263",
   "metadata": {
    "colab": {
     "base_uri": "https://localhost:8080/",
     "height": 206
    },
    "id": "61c92263",
    "outputId": "35e36950-95be-4132-f551-dbce1abdf6a5"
   },
   "outputs": [],
   "source": [
    "cat_names.head()"
   ]
  },
  {
   "cell_type": "code",
   "execution_count": null,
   "id": "b0997c6f",
   "metadata": {
    "id": "b0997c6f"
   },
   "outputs": [],
   "source": [
    "cat_tag = pd.read_csv(PATH_DATA+'/tag_cat_simple.txt',sep='\\s+',header=None,names=['category']).rename(columns={'category':'cat_num'})\n",
    "\n"
   ]
  },
  {
   "cell_type": "code",
   "execution_count": null,
   "id": "fd451595",
   "metadata": {
    "id": "fd451595"
   },
   "outputs": [],
   "source": [
    "cat_img = pd.read_csv(PATH_DATA+'/img_simple.txt',sep='\\s+',header=None,names=['category']).rename(columns={'category':'img'})"
   ]
  },
  {
   "cell_type": "code",
   "execution_count": null,
   "id": "69ce85ff",
   "metadata": {
    "id": "69ce85ff"
   },
   "outputs": [],
   "source": [
    "cat_num = cat_img.join(cat_tag)\n"
   ]
  },
  {
   "cell_type": "code",
   "execution_count": null,
   "id": "7c26ef9c",
   "metadata": {
    "colab": {
     "base_uri": "https://localhost:8080/",
     "height": 206
    },
    "id": "7c26ef9c",
    "outputId": "83e77a06-6cde-48d6-90cc-6895a2ce7b4e"
   },
   "outputs": [],
   "source": [
    "cat_num.head()"
   ]
  },
  {
   "cell_type": "code",
   "execution_count": null,
   "id": "c4751a2b",
   "metadata": {
    "id": "c4751a2b"
   },
   "outputs": [],
   "source": [
    "cat = cat_num.merge(cat_names, on='cat_num', how='left').drop(columns='cat_num')\n"
   ]
  },
  {
   "cell_type": "code",
   "execution_count": null,
   "id": "b20a928e",
   "metadata": {
    "id": "b20a928e"
   },
   "outputs": [],
   "source": [
    "cat['img'] = cat['img'].apply(lambda x: x[4:])"
   ]
  },
  {
   "cell_type": "code",
   "execution_count": null,
   "id": "09e9a0f5",
   "metadata": {
    "colab": {
     "base_uri": "https://localhost:8080/",
     "height": 424
    },
    "id": "09e9a0f5",
    "outputId": "759c42d8-be9b-4a31-a479-1271bc14dec1"
   },
   "outputs": [],
   "source": [
    "cat"
   ]
  },
  {
   "cell_type": "code",
   "execution_count": null,
   "id": "b229ccfe",
   "metadata": {
    "id": "b229ccfe"
   },
   "outputs": [],
   "source": [
    "cat['section'] = cat['section'].map({1:'upper',2:'lower',3:'full body'})"
   ]
  },
  {
   "cell_type": "code",
   "execution_count": null,
   "id": "d2d9d0e3",
   "metadata": {
    "id": "d2d9d0e3"
   },
   "outputs": [],
   "source": [
    "cat"
   ]
  },
  {
   "cell_type": "code",
   "execution_count": null,
   "id": "409d9535",
   "metadata": {},
   "outputs": [],
   "source": [
    "cat_counts = cat.category.value_counts() # number of images in each section class (list of tuples) in training data set\n"
   ]
  },
  {
   "cell_type": "code",
   "execution_count": null,
   "id": "3fb5d02e",
   "metadata": {},
   "outputs": [],
   "source": [
    "cat.category.nunique()"
   ]
  },
  {
   "cell_type": "code",
   "execution_count": null,
   "id": "4b5c1add",
   "metadata": {},
   "outputs": [],
   "source": [
    "cat_counts.mean()"
   ]
  },
  {
   "cell_type": "code",
   "execution_count": null,
   "id": "f6485f43",
   "metadata": {},
   "outputs": [],
   "source": [
    "cat"
   ]
  },
  {
   "cell_type": "code",
   "execution_count": null,
   "id": "e4b8c2e1",
   "metadata": {
    "scrolled": true
   },
   "outputs": [],
   "source": [
    "cat_counts"
   ]
  },
  {
   "cell_type": "code",
   "execution_count": null,
   "id": "8c54ef39",
   "metadata": {},
   "outputs": [],
   "source": [
    "cat_names_list = cat_counts.index"
   ]
  },
  {
   "cell_type": "code",
   "execution_count": null,
   "id": "bbf633aa",
   "metadata": {},
   "outputs": [],
   "source": [
    "cat_names_list"
   ]
  },
  {
   "cell_type": "code",
   "execution_count": null,
   "id": "c2ec2d98",
   "metadata": {
    "scrolled": false
   },
   "outputs": [],
   "source": [
    "fig, axs = plt.subplots(45,10,figsize=(30,100))\n",
    "for i in range(45):\n",
    "    for j in range(10):\n",
    "        img_name = cat[cat.category==cat_names_list[i]].sample(1, replace=True).img.values[0]\n",
    "        img = Image.open(PATH_IMG+img_name)\n",
    "        img = axs[i][j].imshow(img)\n",
    "        axs[i][j].title.set_text(cat_names_list[i])"
   ]
  },
  {
   "cell_type": "code",
   "execution_count": null,
   "id": "242ba9df",
   "metadata": {},
   "outputs": [],
   "source": [
    "section = pd.read_csv('Data/DeepFashion_sections_data'+'/img.txt',sep=' ',names = ['img'],header=None,index_col=False).fillna(0)\n",
    "section = section[~section['img'].str.contains('_back')]\n",
    "\n",
    "# Fabric:\n",
    "fabric = pd.read_csv('Data/DeepFashion_sections_data'+'/fabric.txt',sep=' ',names = ['img','upper_fabric','lower_fabric'],header=None,index_col=False).fillna(0)\n",
    "section = section.merge(fabric,on='img').drop(columns='upper_fabric')\n",
    "\n",
    "# Landmarks:\n",
    "landmarks = pd.read_csv('Data/DeepFashion_sections_data'+'/keypoints_loc.txt',sep=' ',usecols=[0,15,16,17,18,29,30,31,32,39,40,41,42],names=['img','x1','y1','x2','y2','x3','y3','x4','y4','x5','y5','x6','y6'], header=None,index_col=False)\n",
    "\n",
    "# Create full data set:\n",
    "data_full = section.merge(landmarks, on='img',how='left').fillna(0)\n",
    "\n",
    "# Drop invalid rows:\n",
    "data_full = data_full[~data_full.isin([-1]).any(1)] # drop rows with inavlid values\n",
    "\n"
   ]
  },
  {
   "cell_type": "code",
   "execution_count": null,
   "id": "d1f3ad45",
   "metadata": {},
   "outputs": [],
   "source": [
    "data_full"
   ]
  },
  {
   "cell_type": "code",
   "execution_count": null,
   "id": "a28bf897",
   "metadata": {},
   "outputs": [],
   "source": [
    "replace_cats = dict()"
   ]
  },
  {
   "cell_type": "code",
   "execution_count": null,
   "id": "12c0a888",
   "metadata": {},
   "outputs": [],
   "source": [
    "with open ('Data/DeepFashion_sections_data/joggers.txt','r') as f:\n",
    "    replace_cats['Joggers'] = f.readlines()[0].split(',')"
   ]
  },
  {
   "cell_type": "code",
   "execution_count": null,
   "id": "db928c3e",
   "metadata": {},
   "outputs": [],
   "source": [
    "with open ('Data/DeepFashion_sections_data/baggy.txt','r') as f:\n",
    "    replace_cats['Baggy'] = f.readlines()[0].split(',')"
   ]
  },
  {
   "cell_type": "code",
   "execution_count": null,
   "id": "bc2563aa",
   "metadata": {},
   "outputs": [],
   "source": [
    "with open ('Data/DeepFashion_sections_data/suiting.txt','r') as f:\n",
    "    replace_cats['Suiting'] = f.readlines()[0].split(',')"
   ]
  },
  {
   "cell_type": "code",
   "execution_count": null,
   "id": "7ffcadf7",
   "metadata": {},
   "outputs": [],
   "source": [
    "rename_cats = {'Blouses_Shirts':'Blouses', 'Cardigans':'Blouses',\n",
    "       'Rompers_Jumpsuits':'Rompers', 'Shirts_Polos':'Shirts', 'Sweatshirts_Hoodies':'Sweaters', 'Tees_Tanks':'Tees',\n",
    "              'Jackets_Coats':'Jackets', 'Jackets_Vests':'Jackets'}\n",
    "\n"
   ]
  },
  {
   "cell_type": "code",
   "execution_count": null,
   "id": "c56cf8ce",
   "metadata": {},
   "outputs": [],
   "source": [
    "dir_path = 'Data/Other/DeepFashion_multimodal_images'\n",
    "num_files = len(os.listdir(dir_path))\n",
    "img_cats = np.zeros((num_files,2),dtype=object)\n",
    "for index,path in enumerate(os.listdir(dir_path)):\n",
    "    # check if current path is a file\n",
    "    if path != '.DS_Store' and os.path.isfile(os.path.join(dir_path, path)):\n",
    "        img_cat = path.split('-')[1]\n",
    "        if img_cat=='Sweaters' and path.split('-')[0]=='MEN':\n",
    "            img_cat = 'Shirts'\n",
    "        replace_cat = [key for key, value in replace_cats.items() if path in value] \n",
    "        if replace_cat:\n",
    "            img_cat = replace_cat[0]\n",
    "        rename_cat = [value for key, value in rename_cats.items() if img_cat in key]\n",
    "        if rename_cat:\n",
    "            img_cat = rename_cat[0]\n",
    "        img_cats[index,:]=np.array([path,img_cat])    "
   ]
  },
  {
   "cell_type": "code",
   "execution_count": null,
   "id": "200d897c",
   "metadata": {},
   "outputs": [],
   "source": []
  },
  {
   "cell_type": "code",
   "execution_count": null,
   "id": "fabb74f9",
   "metadata": {},
   "outputs": [],
   "source": [
    "img_cats.shape"
   ]
  },
  {
   "cell_type": "code",
   "execution_count": null,
   "id": "38a5ba0d",
   "metadata": {},
   "outputs": [],
   "source": [
    "img_cats_df = pd.DataFrame(img_cats,columns=['img','category'])"
   ]
  },
  {
   "cell_type": "code",
   "execution_count": null,
   "id": "a6fbd280",
   "metadata": {},
   "outputs": [],
   "source": [
    "img_cats_df"
   ]
  },
  {
   "cell_type": "code",
   "execution_count": null,
   "id": "ac3c8a80",
   "metadata": {},
   "outputs": [],
   "source": [
    "data_full = data_full.merge(img_cats_df, on='img', how='left')"
   ]
  },
  {
   "cell_type": "code",
   "execution_count": null,
   "id": "4cd04584",
   "metadata": {},
   "outputs": [],
   "source": [
    "data_full"
   ]
  },
  {
   "cell_type": "code",
   "execution_count": null,
   "id": "53ed67f9",
   "metadata": {},
   "outputs": [],
   "source": [
    "data_full['category'] = np.where(((data_full['category']=='Denim') | (data_full['category']=='Pants')) & (data_full['lower_fabric']==0),'Jeans',  data_full['category'])\n",
    "\n"
   ]
  },
  {
   "cell_type": "code",
   "execution_count": null,
   "id": "738f08bd",
   "metadata": {},
   "outputs": [],
   "source": [
    "data_full.category = np.where((data_full['category']=='Denim'),'Pants',data_full['category'])"
   ]
  },
  {
   "cell_type": "code",
   "execution_count": null,
   "id": "351e038e",
   "metadata": {},
   "outputs": [],
   "source": [
    "data_full"
   ]
  },
  {
   "cell_type": "code",
   "execution_count": null,
   "id": "7658701c",
   "metadata": {},
   "outputs": [],
   "source": [
    "cat_counts = data_full.category.value_counts()"
   ]
  },
  {
   "cell_type": "code",
   "execution_count": null,
   "id": "849426a6",
   "metadata": {
    "scrolled": true
   },
   "outputs": [],
   "source": [
    "cat_names_list = cat_counts.index\n",
    "cat_names_list"
   ]
  },
  {
   "cell_type": "code",
   "execution_count": null,
   "id": "da894297",
   "metadata": {},
   "outputs": [],
   "source": [
    "PATH_IMG = 'Data/Other/DeepFashion_multimodal_images/'"
   ]
  },
  {
   "cell_type": "code",
   "execution_count": null,
   "id": "cf82aaa8",
   "metadata": {
    "scrolled": false
   },
   "outputs": [],
   "source": [
    "fig, axs = plt.subplots(15,10,figsize=(30,100))\n",
    "for i in range(15):\n",
    "    for j in range(10):\n",
    "        img_name = data_full[data_full.category==cat_names_list[i]].sample(1, replace=True).img.values[0]\n",
    "        img = Image.open(PATH_IMG+img_name)\n",
    "        img = axs[i][j].imshow(img)\n",
    "        axs[i][j].title.set_text(cat_names_list[i])"
   ]
  },
  {
   "cell_type": "markdown",
   "id": "d1c4d652",
   "metadata": {
    "id": "d1c4d652"
   },
   "source": [
    "## Filter categories"
   ]
  },
  {
   "cell_type": "code",
   "execution_count": null,
   "id": "4a2cb10e",
   "metadata": {
    "colab": {
     "base_uri": "https://localhost:8080/",
     "height": 505
    },
    "id": "4a2cb10e",
    "outputId": "574481bf-f451-4ed1-afb8-0d010eebe6f7"
   },
   "outputs": [],
   "source": [
    "data_full"
   ]
  },
  {
   "cell_type": "code",
   "execution_count": null,
   "id": "c03cd3c3",
   "metadata": {
    "id": "c03cd3c3"
   },
   "outputs": [],
   "source": [
    "# If item is sleevless and of lower type, set attribute value to 0:\n",
    "data_full['sleeveless'] = data_full.apply(lambda x: 0 if ((x['sleeveless'])==1) & (x['section']=='lower') else x['sleeveless'], axis =1)\n"
   ]
  },
  {
   "cell_type": "code",
   "execution_count": null,
   "id": "5a4e7907",
   "metadata": {
    "colab": {
     "base_uri": "https://localhost:8080/",
     "height": 505
    },
    "id": "5a4e7907",
    "outputId": "af08c2cc-345c-4b7c-ed71-fa2d448f58f1"
   },
   "outputs": [],
   "source": [
    "data_full"
   ]
  },
  {
   "cell_type": "code",
   "execution_count": null,
   "id": "fbfa4661",
   "metadata": {
    "id": "fbfa4661"
   },
   "outputs": [],
   "source": [
    "data_full.drop(columns=['no_dress','no_neckline'],inplace=True)"
   ]
  },
  {
   "cell_type": "markdown",
   "id": "cfdb660c",
   "metadata": {},
   "source": [
    "# Sections"
   ]
  },
  {
   "cell_type": "code",
   "execution_count": null,
   "id": "36fa160f",
   "metadata": {},
   "outputs": [],
   "source": [
    "section = pd.read_csv('Data/DeepFashion_sections_data'+'/fabric.txt',sep=' ',names = ['img','upper_original','lower_original','outer','upper','lower'],header=None,index_col=False).fillna(0)\n",
    "section['back'] = np.where(section['img'].str.contains('_back'),1,0)\n",
    "section['full body'] = np.where((section['img'].str.contains('WOMEN-Dresses|WOMEN-Rompers')) & ~section['img'].str.contains('_back'),1,0)\n",
    "section['outfit'] = np.where((((section['upper_original']!=7) |(section['lower_original']!=7)) & ((section['upper_original']!=7) |(section['outer']!=7))) & (section['full body']==0) & (section['back']==0),1,0)\n",
    "section = section.drop(columns=['outer','upper_original','lower_original'])\n",
    "\n",
    "# Landmarks:\n",
    "landmarks = pd.read_csv('Data/DeepFashion_sections_data'+'/keypoints_loc.txt',sep=' ',usecols=[0,15,16,17,18,29,30,31,32,39,40,41,42],names=['img','x1','y1','x2','y2','x3','y3','x4','y4','x5','y5','x6','y6'], header=None,index_col=False)\n",
    "\n",
    "# Create full data set:\n",
    "data_full = section.merge(landmarks, on='img',how='left').dropna()\n",
    "\n",
    "# Create upper and lower oberservations (to be cropped later):\n",
    "upper = data_full[data_full['outfit']==1]\n",
    "lower = data_full[data_full['outfit']==1]\n",
    "upper['upper'] = upper['upper'].apply(lambda x: 1)\n",
    "upper['outfit'] = upper['outfit'].apply(lambda x: 0)\n",
    "lower['lower'] = lower['lower'].apply(lambda x: 1)\n",
    "lower['outfit'] = lower['outfit'].apply(lambda x: 0)\n",
    "data_full = pd.concat([data_full,upper,lower],axis=0)\n",
    "data_full = data_full[(data_full['outfit']==1) | (data_full['full body']==1) | (data_full['back']==1) | (data_full['upper']==1) | (data_full['lower']==1)]\n",
    "\n",
    "# Drop invalid rows:\n",
    "data_full = data_full[~data_full.isin([-1]).any(1)] # drop rows with inavlid values\n",
    "\n"
   ]
  },
  {
   "cell_type": "code",
   "execution_count": null,
   "id": "1f84d04f",
   "metadata": {},
   "outputs": [],
   "source": [
    "data_full"
   ]
  }
 ],
 "metadata": {
  "colab": {
   "collapsed_sections": [
    "cc70031c"
   ],
   "machine_shape": "hm",
   "provenance": []
  },
  "gpuClass": "standard",
  "kernelspec": {
   "display_name": "Python 3",
   "language": "python",
   "name": "python3"
  },
  "language_info": {
   "codemirror_mode": {
    "name": "ipython",
    "version": 3
   },
   "file_extension": ".py",
   "mimetype": "text/x-python",
   "name": "python",
   "nbconvert_exporter": "python",
   "pygments_lexer": "ipython3",
   "version": "3.9.12"
  },
  "toc": {
   "base_numbering": 1,
   "nav_menu": {},
   "number_sections": true,
   "sideBar": true,
   "skip_h1_title": false,
   "title_cell": "Table of Contents",
   "title_sidebar": "Contents",
   "toc_cell": false,
   "toc_position": {},
   "toc_section_display": true,
   "toc_window_display": false
  },
  "varInspector": {
   "cols": {
    "lenName": 16,
    "lenType": 16,
    "lenVar": 40
   },
   "kernels_config": {
    "python": {
     "delete_cmd_postfix": "",
     "delete_cmd_prefix": "del ",
     "library": "var_list.py",
     "varRefreshCmd": "print(var_dic_list())"
    },
    "r": {
     "delete_cmd_postfix": ") ",
     "delete_cmd_prefix": "rm(",
     "library": "var_list.r",
     "varRefreshCmd": "cat(var_dic_list()) "
    }
   },
   "types_to_exclude": [
    "module",
    "function",
    "builtin_function_or_method",
    "instance",
    "_Feature"
   ],
   "window_display": false
  },
  "widgets": {
   "application/vnd.jupyter.widget-state+json": {
    "02a3b70d1dda49a7852e5a658d2b7c8e": {
     "model_module": "@jupyter-widgets/controls",
     "model_module_version": "1.5.0",
     "model_name": "DescriptionStyleModel",
     "state": {
      "_model_module": "@jupyter-widgets/controls",
      "_model_module_version": "1.5.0",
      "_model_name": "DescriptionStyleModel",
      "_view_count": null,
      "_view_module": "@jupyter-widgets/base",
      "_view_module_version": "1.2.0",
      "_view_name": "StyleView",
      "description_width": ""
     }
    },
    "08072c44dda14785bba3024d80810217": {
     "model_module": "@jupyter-widgets/controls",
     "model_module_version": "1.5.0",
     "model_name": "FloatProgressModel",
     "state": {
      "_dom_classes": [],
      "_model_module": "@jupyter-widgets/controls",
      "_model_module_version": "1.5.0",
      "_model_name": "FloatProgressModel",
      "_view_count": null,
      "_view_module": "@jupyter-widgets/controls",
      "_view_module_version": "1.5.0",
      "_view_name": "ProgressView",
      "bar_style": "",
      "description": "",
      "description_tooltip": null,
      "layout": "IPY_MODEL_c24d0d695ed04ec48634187381a25381",
      "max": 20000,
      "min": 0,
      "orientation": "horizontal",
      "style": "IPY_MODEL_0afda0bb980f4bfda4f62e7622f5c18c",
      "value": 2709
     }
    },
    "0afda0bb980f4bfda4f62e7622f5c18c": {
     "model_module": "@jupyter-widgets/controls",
     "model_module_version": "1.5.0",
     "model_name": "ProgressStyleModel",
     "state": {
      "_model_module": "@jupyter-widgets/controls",
      "_model_module_version": "1.5.0",
      "_model_name": "ProgressStyleModel",
      "_view_count": null,
      "_view_module": "@jupyter-widgets/base",
      "_view_module_version": "1.2.0",
      "_view_name": "StyleView",
      "bar_color": null,
      "description_width": ""
     }
    },
    "0bafae020df14505b5c9af02145692f9": {
     "model_module": "@jupyter-widgets/base",
     "model_module_version": "1.2.0",
     "model_name": "LayoutModel",
     "state": {
      "_model_module": "@jupyter-widgets/base",
      "_model_module_version": "1.2.0",
      "_model_name": "LayoutModel",
      "_view_count": null,
      "_view_module": "@jupyter-widgets/base",
      "_view_module_version": "1.2.0",
      "_view_name": "LayoutView",
      "align_content": null,
      "align_items": null,
      "align_self": null,
      "border": null,
      "bottom": null,
      "display": null,
      "flex": null,
      "flex_flow": null,
      "grid_area": null,
      "grid_auto_columns": null,
      "grid_auto_flow": null,
      "grid_auto_rows": null,
      "grid_column": null,
      "grid_gap": null,
      "grid_row": null,
      "grid_template_areas": null,
      "grid_template_columns": null,
      "grid_template_rows": null,
      "height": null,
      "justify_content": null,
      "justify_items": null,
      "left": null,
      "margin": null,
      "max_height": null,
      "max_width": null,
      "min_height": null,
      "min_width": null,
      "object_fit": null,
      "object_position": null,
      "order": null,
      "overflow": null,
      "overflow_x": null,
      "overflow_y": null,
      "padding": null,
      "right": null,
      "top": null,
      "visibility": null,
      "width": null
     }
    },
    "0da463e38e89467c884ccef2fff44686": {
     "model_module": "@jupyter-widgets/controls",
     "model_module_version": "1.5.0",
     "model_name": "DescriptionStyleModel",
     "state": {
      "_model_module": "@jupyter-widgets/controls",
      "_model_module_version": "1.5.0",
      "_model_name": "DescriptionStyleModel",
      "_view_count": null,
      "_view_module": "@jupyter-widgets/base",
      "_view_module_version": "1.2.0",
      "_view_name": "StyleView",
      "description_width": ""
     }
    },
    "104b60d4dc2b48c2ae694ff644add694": {
     "model_module": "@jupyter-widgets/controls",
     "model_module_version": "1.5.0",
     "model_name": "HTMLModel",
     "state": {
      "_dom_classes": [],
      "_model_module": "@jupyter-widgets/controls",
      "_model_module_version": "1.5.0",
      "_model_name": "HTMLModel",
      "_view_count": null,
      "_view_module": "@jupyter-widgets/controls",
      "_view_module_version": "1.5.0",
      "_view_name": "HTMLView",
      "description": "",
      "description_tooltip": null,
      "layout": "IPY_MODEL_eab8053e9a1b4385acf2f6e049e3a1e3",
      "placeholder": "​",
      "style": "IPY_MODEL_02a3b70d1dda49a7852e5a658d2b7c8e",
      "value": " 2709/20000 [00:30&lt;01:45, 163.99it/s]"
     }
    },
    "1b7473f5299e428b815de8a2bd735a98": {
     "model_module": "@jupyter-widgets/controls",
     "model_module_version": "1.5.0",
     "model_name": "HTMLModel",
     "state": {
      "_dom_classes": [],
      "_model_module": "@jupyter-widgets/controls",
      "_model_module_version": "1.5.0",
      "_model_name": "HTMLModel",
      "_view_count": null,
      "_view_module": "@jupyter-widgets/controls",
      "_view_module_version": "1.5.0",
      "_view_name": "HTMLView",
      "description": "",
      "description_tooltip": null,
      "layout": "IPY_MODEL_faf9a65b17a74fe08e77a07f274de2a6",
      "placeholder": "​",
      "style": "IPY_MODEL_2021b109f0bb4c468f5eb97aa88ca220",
      "value": " 20000/20000 [01:08&lt;00:00, 305.48it/s]"
     }
    },
    "1e1a38d6caca4045ba59ca33d65f3c8b": {
     "model_module": "@jupyter-widgets/base",
     "model_module_version": "1.2.0",
     "model_name": "LayoutModel",
     "state": {
      "_model_module": "@jupyter-widgets/base",
      "_model_module_version": "1.2.0",
      "_model_name": "LayoutModel",
      "_view_count": null,
      "_view_module": "@jupyter-widgets/base",
      "_view_module_version": "1.2.0",
      "_view_name": "LayoutView",
      "align_content": null,
      "align_items": null,
      "align_self": null,
      "border": null,
      "bottom": null,
      "display": null,
      "flex": null,
      "flex_flow": null,
      "grid_area": null,
      "grid_auto_columns": null,
      "grid_auto_flow": null,
      "grid_auto_rows": null,
      "grid_column": null,
      "grid_gap": null,
      "grid_row": null,
      "grid_template_areas": null,
      "grid_template_columns": null,
      "grid_template_rows": null,
      "height": null,
      "justify_content": null,
      "justify_items": null,
      "left": null,
      "margin": null,
      "max_height": null,
      "max_width": null,
      "min_height": null,
      "min_width": null,
      "object_fit": null,
      "object_position": null,
      "order": null,
      "overflow": null,
      "overflow_x": null,
      "overflow_y": null,
      "padding": null,
      "right": null,
      "top": null,
      "visibility": null,
      "width": null
     }
    },
    "2021b109f0bb4c468f5eb97aa88ca220": {
     "model_module": "@jupyter-widgets/controls",
     "model_module_version": "1.5.0",
     "model_name": "DescriptionStyleModel",
     "state": {
      "_model_module": "@jupyter-widgets/controls",
      "_model_module_version": "1.5.0",
      "_model_name": "DescriptionStyleModel",
      "_view_count": null,
      "_view_module": "@jupyter-widgets/base",
      "_view_module_version": "1.2.0",
      "_view_name": "StyleView",
      "description_width": ""
     }
    },
    "323985ba87a84fb0a13d6ab3fb486e96": {
     "model_module": "@jupyter-widgets/controls",
     "model_module_version": "1.5.0",
     "model_name": "HTMLModel",
     "state": {
      "_dom_classes": [],
      "_model_module": "@jupyter-widgets/controls",
      "_model_module_version": "1.5.0",
      "_model_name": "HTMLModel",
      "_view_count": null,
      "_view_module": "@jupyter-widgets/controls",
      "_view_module_version": "1.5.0",
      "_view_name": "HTMLView",
      "description": "",
      "description_tooltip": null,
      "layout": "IPY_MODEL_70e97c7c05a94e17a523fb30f043e496",
      "placeholder": "​",
      "style": "IPY_MODEL_3dbeeff89d3945d3bf5f4a99d276f097",
      "value": " 14%"
     }
    },
    "3dbeeff89d3945d3bf5f4a99d276f097": {
     "model_module": "@jupyter-widgets/controls",
     "model_module_version": "1.5.0",
     "model_name": "DescriptionStyleModel",
     "state": {
      "_model_module": "@jupyter-widgets/controls",
      "_model_module_version": "1.5.0",
      "_model_name": "DescriptionStyleModel",
      "_view_count": null,
      "_view_module": "@jupyter-widgets/base",
      "_view_module_version": "1.2.0",
      "_view_name": "StyleView",
      "description_width": ""
     }
    },
    "4bb3eee3cf3845cb87924db54eddd40d": {
     "model_module": "@jupyter-widgets/controls",
     "model_module_version": "1.5.0",
     "model_name": "FloatProgressModel",
     "state": {
      "_dom_classes": [],
      "_model_module": "@jupyter-widgets/controls",
      "_model_module_version": "1.5.0",
      "_model_name": "FloatProgressModel",
      "_view_count": null,
      "_view_module": "@jupyter-widgets/controls",
      "_view_module_version": "1.5.0",
      "_view_name": "ProgressView",
      "bar_style": "success",
      "description": "",
      "description_tooltip": null,
      "layout": "IPY_MODEL_0bafae020df14505b5c9af02145692f9",
      "max": 20000,
      "min": 0,
      "orientation": "horizontal",
      "style": "IPY_MODEL_65b9844c274742ab9142a43e0a56671b",
      "value": 20000
     }
    },
    "65b9844c274742ab9142a43e0a56671b": {
     "model_module": "@jupyter-widgets/controls",
     "model_module_version": "1.5.0",
     "model_name": "ProgressStyleModel",
     "state": {
      "_model_module": "@jupyter-widgets/controls",
      "_model_module_version": "1.5.0",
      "_model_name": "ProgressStyleModel",
      "_view_count": null,
      "_view_module": "@jupyter-widgets/base",
      "_view_module_version": "1.2.0",
      "_view_name": "StyleView",
      "bar_color": null,
      "description_width": ""
     }
    },
    "70e97c7c05a94e17a523fb30f043e496": {
     "model_module": "@jupyter-widgets/base",
     "model_module_version": "1.2.0",
     "model_name": "LayoutModel",
     "state": {
      "_model_module": "@jupyter-widgets/base",
      "_model_module_version": "1.2.0",
      "_model_name": "LayoutModel",
      "_view_count": null,
      "_view_module": "@jupyter-widgets/base",
      "_view_module_version": "1.2.0",
      "_view_name": "LayoutView",
      "align_content": null,
      "align_items": null,
      "align_self": null,
      "border": null,
      "bottom": null,
      "display": null,
      "flex": null,
      "flex_flow": null,
      "grid_area": null,
      "grid_auto_columns": null,
      "grid_auto_flow": null,
      "grid_auto_rows": null,
      "grid_column": null,
      "grid_gap": null,
      "grid_row": null,
      "grid_template_areas": null,
      "grid_template_columns": null,
      "grid_template_rows": null,
      "height": null,
      "justify_content": null,
      "justify_items": null,
      "left": null,
      "margin": null,
      "max_height": null,
      "max_width": null,
      "min_height": null,
      "min_width": null,
      "object_fit": null,
      "object_position": null,
      "order": null,
      "overflow": null,
      "overflow_x": null,
      "overflow_y": null,
      "padding": null,
      "right": null,
      "top": null,
      "visibility": null,
      "width": null
     }
    },
    "82290b15013d4bfdb5130d4fff0a3bee": {
     "model_module": "@jupyter-widgets/base",
     "model_module_version": "1.2.0",
     "model_name": "LayoutModel",
     "state": {
      "_model_module": "@jupyter-widgets/base",
      "_model_module_version": "1.2.0",
      "_model_name": "LayoutModel",
      "_view_count": null,
      "_view_module": "@jupyter-widgets/base",
      "_view_module_version": "1.2.0",
      "_view_name": "LayoutView",
      "align_content": null,
      "align_items": null,
      "align_self": null,
      "border": null,
      "bottom": null,
      "display": null,
      "flex": null,
      "flex_flow": null,
      "grid_area": null,
      "grid_auto_columns": null,
      "grid_auto_flow": null,
      "grid_auto_rows": null,
      "grid_column": null,
      "grid_gap": null,
      "grid_row": null,
      "grid_template_areas": null,
      "grid_template_columns": null,
      "grid_template_rows": null,
      "height": null,
      "justify_content": null,
      "justify_items": null,
      "left": null,
      "margin": null,
      "max_height": null,
      "max_width": null,
      "min_height": null,
      "min_width": null,
      "object_fit": null,
      "object_position": null,
      "order": null,
      "overflow": null,
      "overflow_x": null,
      "overflow_y": null,
      "padding": null,
      "right": null,
      "top": null,
      "visibility": null,
      "width": null
     }
    },
    "a7982feaaf084164a7351c845e8bcd17": {
     "model_module": "@jupyter-widgets/controls",
     "model_module_version": "1.5.0",
     "model_name": "HBoxModel",
     "state": {
      "_dom_classes": [],
      "_model_module": "@jupyter-widgets/controls",
      "_model_module_version": "1.5.0",
      "_model_name": "HBoxModel",
      "_view_count": null,
      "_view_module": "@jupyter-widgets/controls",
      "_view_module_version": "1.5.0",
      "_view_name": "HBoxView",
      "box_style": "",
      "children": [
       "IPY_MODEL_323985ba87a84fb0a13d6ab3fb486e96",
       "IPY_MODEL_08072c44dda14785bba3024d80810217",
       "IPY_MODEL_104b60d4dc2b48c2ae694ff644add694"
      ],
      "layout": "IPY_MODEL_b4143cf4ac904364ba513073f62737a2"
     }
    },
    "b4143cf4ac904364ba513073f62737a2": {
     "model_module": "@jupyter-widgets/base",
     "model_module_version": "1.2.0",
     "model_name": "LayoutModel",
     "state": {
      "_model_module": "@jupyter-widgets/base",
      "_model_module_version": "1.2.0",
      "_model_name": "LayoutModel",
      "_view_count": null,
      "_view_module": "@jupyter-widgets/base",
      "_view_module_version": "1.2.0",
      "_view_name": "LayoutView",
      "align_content": null,
      "align_items": null,
      "align_self": null,
      "border": null,
      "bottom": null,
      "display": null,
      "flex": null,
      "flex_flow": null,
      "grid_area": null,
      "grid_auto_columns": null,
      "grid_auto_flow": null,
      "grid_auto_rows": null,
      "grid_column": null,
      "grid_gap": null,
      "grid_row": null,
      "grid_template_areas": null,
      "grid_template_columns": null,
      "grid_template_rows": null,
      "height": null,
      "justify_content": null,
      "justify_items": null,
      "left": null,
      "margin": null,
      "max_height": null,
      "max_width": null,
      "min_height": null,
      "min_width": null,
      "object_fit": null,
      "object_position": null,
      "order": null,
      "overflow": null,
      "overflow_x": null,
      "overflow_y": null,
      "padding": null,
      "right": null,
      "top": null,
      "visibility": null,
      "width": null
     }
    },
    "bc06a50fcc3d4d35857416ca215772dc": {
     "model_module": "@jupyter-widgets/controls",
     "model_module_version": "1.5.0",
     "model_name": "HTMLModel",
     "state": {
      "_dom_classes": [],
      "_model_module": "@jupyter-widgets/controls",
      "_model_module_version": "1.5.0",
      "_model_name": "HTMLModel",
      "_view_count": null,
      "_view_module": "@jupyter-widgets/controls",
      "_view_module_version": "1.5.0",
      "_view_name": "HTMLView",
      "description": "",
      "description_tooltip": null,
      "layout": "IPY_MODEL_1e1a38d6caca4045ba59ca33d65f3c8b",
      "placeholder": "​",
      "style": "IPY_MODEL_0da463e38e89467c884ccef2fff44686",
      "value": "100%"
     }
    },
    "c24d0d695ed04ec48634187381a25381": {
     "model_module": "@jupyter-widgets/base",
     "model_module_version": "1.2.0",
     "model_name": "LayoutModel",
     "state": {
      "_model_module": "@jupyter-widgets/base",
      "_model_module_version": "1.2.0",
      "_model_name": "LayoutModel",
      "_view_count": null,
      "_view_module": "@jupyter-widgets/base",
      "_view_module_version": "1.2.0",
      "_view_name": "LayoutView",
      "align_content": null,
      "align_items": null,
      "align_self": null,
      "border": null,
      "bottom": null,
      "display": null,
      "flex": null,
      "flex_flow": null,
      "grid_area": null,
      "grid_auto_columns": null,
      "grid_auto_flow": null,
      "grid_auto_rows": null,
      "grid_column": null,
      "grid_gap": null,
      "grid_row": null,
      "grid_template_areas": null,
      "grid_template_columns": null,
      "grid_template_rows": null,
      "height": null,
      "justify_content": null,
      "justify_items": null,
      "left": null,
      "margin": null,
      "max_height": null,
      "max_width": null,
      "min_height": null,
      "min_width": null,
      "object_fit": null,
      "object_position": null,
      "order": null,
      "overflow": null,
      "overflow_x": null,
      "overflow_y": null,
      "padding": null,
      "right": null,
      "top": null,
      "visibility": null,
      "width": null
     }
    },
    "eab8053e9a1b4385acf2f6e049e3a1e3": {
     "model_module": "@jupyter-widgets/base",
     "model_module_version": "1.2.0",
     "model_name": "LayoutModel",
     "state": {
      "_model_module": "@jupyter-widgets/base",
      "_model_module_version": "1.2.0",
      "_model_name": "LayoutModel",
      "_view_count": null,
      "_view_module": "@jupyter-widgets/base",
      "_view_module_version": "1.2.0",
      "_view_name": "LayoutView",
      "align_content": null,
      "align_items": null,
      "align_self": null,
      "border": null,
      "bottom": null,
      "display": null,
      "flex": null,
      "flex_flow": null,
      "grid_area": null,
      "grid_auto_columns": null,
      "grid_auto_flow": null,
      "grid_auto_rows": null,
      "grid_column": null,
      "grid_gap": null,
      "grid_row": null,
      "grid_template_areas": null,
      "grid_template_columns": null,
      "grid_template_rows": null,
      "height": null,
      "justify_content": null,
      "justify_items": null,
      "left": null,
      "margin": null,
      "max_height": null,
      "max_width": null,
      "min_height": null,
      "min_width": null,
      "object_fit": null,
      "object_position": null,
      "order": null,
      "overflow": null,
      "overflow_x": null,
      "overflow_y": null,
      "padding": null,
      "right": null,
      "top": null,
      "visibility": null,
      "width": null
     }
    },
    "ef27a9019b6e43e19e08b91bb88c3b9f": {
     "model_module": "@jupyter-widgets/controls",
     "model_module_version": "1.5.0",
     "model_name": "HBoxModel",
     "state": {
      "_dom_classes": [],
      "_model_module": "@jupyter-widgets/controls",
      "_model_module_version": "1.5.0",
      "_model_name": "HBoxModel",
      "_view_count": null,
      "_view_module": "@jupyter-widgets/controls",
      "_view_module_version": "1.5.0",
      "_view_name": "HBoxView",
      "box_style": "",
      "children": [
       "IPY_MODEL_bc06a50fcc3d4d35857416ca215772dc",
       "IPY_MODEL_4bb3eee3cf3845cb87924db54eddd40d",
       "IPY_MODEL_1b7473f5299e428b815de8a2bd735a98"
      ],
      "layout": "IPY_MODEL_82290b15013d4bfdb5130d4fff0a3bee"
     }
    },
    "faf9a65b17a74fe08e77a07f274de2a6": {
     "model_module": "@jupyter-widgets/base",
     "model_module_version": "1.2.0",
     "model_name": "LayoutModel",
     "state": {
      "_model_module": "@jupyter-widgets/base",
      "_model_module_version": "1.2.0",
      "_model_name": "LayoutModel",
      "_view_count": null,
      "_view_module": "@jupyter-widgets/base",
      "_view_module_version": "1.2.0",
      "_view_name": "LayoutView",
      "align_content": null,
      "align_items": null,
      "align_self": null,
      "border": null,
      "bottom": null,
      "display": null,
      "flex": null,
      "flex_flow": null,
      "grid_area": null,
      "grid_auto_columns": null,
      "grid_auto_flow": null,
      "grid_auto_rows": null,
      "grid_column": null,
      "grid_gap": null,
      "grid_row": null,
      "grid_template_areas": null,
      "grid_template_columns": null,
      "grid_template_rows": null,
      "height": null,
      "justify_content": null,
      "justify_items": null,
      "left": null,
      "margin": null,
      "max_height": null,
      "max_width": null,
      "min_height": null,
      "min_width": null,
      "object_fit": null,
      "object_position": null,
      "order": null,
      "overflow": null,
      "overflow_x": null,
      "overflow_y": null,
      "padding": null,
      "right": null,
      "top": null,
      "visibility": null,
      "width": null
     }
    }
   }
  }
 },
 "nbformat": 4,
 "nbformat_minor": 5
}
