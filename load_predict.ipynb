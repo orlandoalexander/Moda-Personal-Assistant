{
  "nbformat": 4,
  "nbformat_minor": 0,
  "metadata": {
    "colab": {
      "provenance": [],
      "authorship_tag": "ABX9TyM3lNXhJfA1QfqPnsxZndwG",
      "include_colab_link": true
    },
    "kernelspec": {
      "name": "python3",
      "display_name": "Python 3"
    },
    "language_info": {
      "name": "python"
    }
  },
  "cells": [
    {
      "cell_type": "markdown",
      "metadata": {
        "id": "view-in-github",
        "colab_type": "text"
      },
      "source": [
        "<a href=\"https://colab.research.google.com/github/orlandoalexander/Moda-Personal-Assistant/blob/playground/load_predict.ipynb\" target=\"_parent\"><img src=\"https://colab.research.google.com/assets/colab-badge.svg\" alt=\"Open In Colab\"/></a>"
      ]
    },
    {
      "cell_type": "code",
      "execution_count": 17,
      "metadata": {
        "id": "ashC5TP7urvu"
      },
      "outputs": [],
      "source": [
        "from keras.applications.mobilenet import preprocess_input\n",
        "import tensorflow as tf\n",
        "from keras.preprocessing.image import ImageDataGenerator"
      ]
    },
    {
      "cell_type": "code",
      "source": [
        "import numpy as np"
      ],
      "metadata": {
        "id": "Faw3eZDl7iIk"
      },
      "execution_count": 2,
      "outputs": []
    },
    {
      "cell_type": "code",
      "source": [
        "import tensorflow as tf\n",
        "import numpy as np\n",
        "from PIL import Image\n",
        "from keras.applications.resnet import preprocess_input\n",
        "from sys import getsizeof\n",
        "import matplotlib.pyplot as plt\n",
        "import requests\n",
        "from io import BytesIO"
      ],
      "metadata": {
        "id": "AcBa-iq89c5t"
      },
      "execution_count": 3,
      "outputs": []
    },
    {
      "cell_type": "code",
      "source": [
        "from keras.preprocessing import image\n"
      ],
      "metadata": {
        "id": "zuaag6p1O2Zj"
      },
      "execution_count": 4,
      "outputs": []
    },
    {
      "cell_type": "code",
      "source": [
        "from google.colab import drive\n",
        "drive.mount('/content/drive')"
      ],
      "metadata": {
        "colab": {
          "base_uri": "https://localhost:8080/"
        },
        "id": "w-QgU0KM6QfK",
        "outputId": "c80bae84-74cb-4e6b-c3fc-c4cf4dcc51bf"
      },
      "execution_count": 5,
      "outputs": [
        {
          "output_type": "stream",
          "name": "stdout",
          "text": [
            "Mounted at /content/drive\n"
          ]
        }
      ]
    },
    {
      "cell_type": "code",
      "source": [
        "classes = {\n",
        "  \"section\": [\n",
        "    \"upper\",\n",
        "    \"lower\",\n",
        "    \"full body\",\n",
        "    \"outfit\"\n",
        "  ],\n",
        "  \"category\": [\n",
        "    \"Baggy_Pants\",\n",
        "    \"Blouses\",\n",
        "    \"Cardigans\",\n",
        "    \"Dresses\",\n",
        "    \"Graphic_Tees\",\n",
        "    \"Jackets\",\n",
        "    \"Joggers\",\n",
        "    \"Pants\",\n",
        "    \"Rompers\",\n",
        "    \"Shirts\",\n",
        "    \"Shorts\",\n",
        "    \"Skirts\",\n",
        "    \"Suiting\",\n",
        "    \"Sweaters\",\n",
        "    \"Tees\"\n",
        "  ],\n",
        "  \"design\": [\n",
        "    \"floral\",\n",
        "    \"graphic\",\n",
        "    \"striped\",\n",
        "    \"embroidered\",\n",
        "    \"pleated\",\n",
        "    \"solid\",\n",
        "    \"lattice\"\n",
        "  ],\n",
        "  \"sleeves\": [\n",
        "    \"long_sleeve\",\n",
        "    \"short_sleeve\",\n",
        "    \"sleeveless\"\n",
        "  ],\n",
        "  \"length\": [\n",
        "    \"maxi_length\",\n",
        "    \"mini_length\"\n",
        "  ],\n",
        "  \"neckline\": [\n",
        "    \"crew_neckline\",\n",
        "    \"v_neckline\",\n",
        "    \"square_neckline\",\n",
        "    \"no_neckline\"\n",
        "  ],\n",
        "  \"fabric\": [\n",
        "    \"denim\",\n",
        "    \"chiffon\",\n",
        "    \"cotton\",\n",
        "    \"leather\",\n",
        "    \"faux\",\n",
        "    \"knit\"\n",
        "  ],\n",
        "  \"fit\": [\n",
        "    \"tight\",\n",
        "    \"loose\",\n",
        "    \"conventional\"\n",
        "  ]\n",
        "}\n"
      ],
      "metadata": {
        "id": "R0xLQGrius1i"
      },
      "execution_count": 6,
      "outputs": []
    },
    {
      "cell_type": "code",
      "source": [
        "design_model = tf.keras.models.load_model('/content/drive/MyDrive/Moda/saved_models/resnet_design_v1')"
      ],
      "metadata": {
        "id": "YGfmoIky5UBt"
      },
      "execution_count": 7,
      "outputs": []
    },
    {
      "cell_type": "code",
      "source": [
        "design_model.compile(loss='categorical_crossentropy',\n",
        "                     optimizer='rmsprop',\n",
        "                     metrics=['accuracy'])"
      ],
      "metadata": {
        "id": "PrJJZ4NXOnUp"
      },
      "execution_count": 8,
      "outputs": []
    },
    {
      "cell_type": "code",
      "source": [
        "def get_pad_color(image):\n",
        "  left = image[:,0]\n",
        "  right = image[:,-1]\n",
        "  edge_color = int(np.concatenate((left, right)).mean())\n",
        "  mean_color = (edge_color,edge_color)\n",
        "  return mean_color"
      ],
      "metadata": {
        "id": "BqQl_y-n7WU4"
      },
      "execution_count": 9,
      "outputs": []
    },
    {
      "cell_type": "code",
      "source": [
        "url = 'https://'+'images.asos-media.com/products/aape-by-a-bathing-ape-luxe-t-shirt-in-black/203648646-1-black'\n",
        "response = requests.get(url)\n",
        "im = np.asarray(Image.open(BytesIO(response.content)))\n",
        "IMAGE_SIZE = (224, 224)\n"
      ],
      "metadata": {
        "id": "HjCSDDBl_Ggo"
      },
      "execution_count": 15,
      "outputs": []
    },
    {
      "cell_type": "code",
      "source": [],
      "metadata": {
        "id": "9yiB92GQhqj4"
      },
      "execution_count": null,
      "outputs": []
    },
    {
      "cell_type": "code",
      "source": [
        "# img = image.load_img('test1.jpg', target_size=(img_width, img_height))\n",
        "# x = image.img_to_array(im)\n",
        "# x = np.expand_dims(x, axis=0)"
      ],
      "metadata": {
        "id": "dwkitCf7O7hL"
      },
      "execution_count": 11,
      "outputs": []
    },
    {
      "cell_type": "code",
      "source": [
        "# images = np.vstack([x])\n",
        "# classes = model.predict_classes(images, batch_size=10)\n",
        "# print classes"
      ],
      "metadata": {
        "id": "Uk3Ep-GdPMH3"
      },
      "execution_count": null,
      "outputs": []
    },
    {
      "cell_type": "code",
      "source": [
        "from keras.utils import image_dataset\n",
        "if im.shape[0] > im.shape[1]:\n",
        "    scale = (IMAGE_SIZE[1]-1)/im.shape[0]\n",
        "else:\n",
        "    scale = (IMAGE_SIZE[0]-1)/im.shape[1]\n",
        "scale_x, scale_y = (scale * dim for dim in im.shape[:-1])\n",
        "x, y = np.ogrid[0:scale_x, 0:scale_y]\n",
        "im = im[(x//scale).astype(int), (y//scale).astype(int)]\n",
        "if im.shape[0] % 2 == 0:\n",
        "    ax0_pad_left = ax0_pad_right = int((IMAGE_SIZE[1] - im.shape[0])/2)\n",
        "else:\n",
        "    dif = (IMAGE_SIZE[1] - im.shape[0])\n",
        "    ax0_pad_left = int(dif/2)\n",
        "    ax0_pad_right=0\n",
        "    if dif > 0:\n",
        "        ax0_pad_right = ax0_pad_left + 1\n",
        "if im.shape[1] % 2 == 0:\n",
        "    ax1_pad_left = ax1_pad_right = int((IMAGE_SIZE[0] - im.shape[1])/2)\n",
        "else:\n",
        "    dif = (IMAGE_SIZE[0] - im.shape[1])\n",
        "    ax1_pad_left = int(dif/2)\n",
        "    ax1_pad_right=0\n",
        "    if dif > 0:\n",
        "        ax1_pad_right = ax1_pad_left + 1\n",
        "pad_color = get_pad_color(im)\n",
        "cropped_pad_array = np.pad(im,pad_width=((ax0_pad_left, ax0_pad_right),(ax1_pad_left, ax1_pad_right),(0, 0)),constant_values=pad_color) # pad image with white background\n",
        "datagen = ImageDataGenerator(preprocessing_function=preprocess_input)\n",
        "test_generator = datagen.flow(cropped_pad_array,batch_size=1)\n",
        "\n",
        "design_model.predict_generator(test_generator)\n",
        "\n",
        "# plt.imshow(cropped_pad_array)\n",
        "# result = design_model(im)\n",
        "# # post process result\n",
        "# predicted_class = tf.math.argmax(result[0], axis=-1)\n",
        "# print(predicted_class)\n",
        "# print(classes[design_model][predicted_class])\n",
        "# res = [(classes[design_model][index],val) for index, val in enumerate(result[0])]\n",
        "# res.sort(key=lambda x: x[1],reverse=True)\n",
        "# print(res)"
      ],
      "metadata": {
        "colab": {
          "base_uri": "https://localhost:8080/",
          "height": 398
        },
        "id": "a_vqj4I-3Zny",
        "outputId": "901eb26b-ea80-4c50-fda8-d725e49825f1"
      },
      "execution_count": 22,
      "outputs": [
        {
          "output_type": "error",
          "ename": "ValueError",
          "evalue": "ignored",
          "traceback": [
            "\u001b[0;31m---------------------------------------------------------------------------\u001b[0m",
            "\u001b[0;31mValueError\u001b[0m                                Traceback (most recent call last)",
            "\u001b[0;32m<ipython-input-22-da33289f983b>\u001b[0m in \u001b[0;36m<module>\u001b[0;34m\u001b[0m\n\u001b[1;32m     26\u001b[0m \u001b[0mcropped_pad_array\u001b[0m \u001b[0;34m=\u001b[0m \u001b[0mnp\u001b[0m\u001b[0;34m.\u001b[0m\u001b[0mpad\u001b[0m\u001b[0;34m(\u001b[0m\u001b[0mim\u001b[0m\u001b[0;34m,\u001b[0m\u001b[0mpad_width\u001b[0m\u001b[0;34m=\u001b[0m\u001b[0;34m(\u001b[0m\u001b[0;34m(\u001b[0m\u001b[0max0_pad_left\u001b[0m\u001b[0;34m,\u001b[0m \u001b[0max0_pad_right\u001b[0m\u001b[0;34m)\u001b[0m\u001b[0;34m,\u001b[0m\u001b[0;34m(\u001b[0m\u001b[0max1_pad_left\u001b[0m\u001b[0;34m,\u001b[0m \u001b[0max1_pad_right\u001b[0m\u001b[0;34m)\u001b[0m\u001b[0;34m,\u001b[0m\u001b[0;34m(\u001b[0m\u001b[0;36m0\u001b[0m\u001b[0;34m,\u001b[0m \u001b[0;36m0\u001b[0m\u001b[0;34m)\u001b[0m\u001b[0;34m)\u001b[0m\u001b[0;34m,\u001b[0m\u001b[0mconstant_values\u001b[0m\u001b[0;34m=\u001b[0m\u001b[0mpad_color\u001b[0m\u001b[0;34m)\u001b[0m \u001b[0;31m# pad image with white background\u001b[0m\u001b[0;34m\u001b[0m\u001b[0;34m\u001b[0m\u001b[0m\n\u001b[1;32m     27\u001b[0m \u001b[0mdatagen\u001b[0m \u001b[0;34m=\u001b[0m \u001b[0mImageDataGenerator\u001b[0m\u001b[0;34m(\u001b[0m\u001b[0mpreprocessing_function\u001b[0m\u001b[0;34m=\u001b[0m\u001b[0mpreprocess_input\u001b[0m\u001b[0;34m)\u001b[0m\u001b[0;34m\u001b[0m\u001b[0;34m\u001b[0m\u001b[0m\n\u001b[0;32m---> 28\u001b[0;31m \u001b[0mtest_generator\u001b[0m \u001b[0;34m=\u001b[0m \u001b[0mdatagen\u001b[0m\u001b[0;34m.\u001b[0m\u001b[0mflow\u001b[0m\u001b[0;34m(\u001b[0m\u001b[0mcropped_pad_array\u001b[0m\u001b[0;34m,\u001b[0m\u001b[0mbatch_size\u001b[0m\u001b[0;34m=\u001b[0m\u001b[0;36m1\u001b[0m\u001b[0;34m)\u001b[0m\u001b[0;34m\u001b[0m\u001b[0;34m\u001b[0m\u001b[0m\n\u001b[0m\u001b[1;32m     29\u001b[0m \u001b[0;34m\u001b[0m\u001b[0m\n\u001b[1;32m     30\u001b[0m \u001b[0mdesign_model\u001b[0m\u001b[0;34m.\u001b[0m\u001b[0mpredict_generator\u001b[0m\u001b[0;34m(\u001b[0m\u001b[0mtest_generator\u001b[0m\u001b[0;34m)\u001b[0m\u001b[0;34m\u001b[0m\u001b[0;34m\u001b[0m\u001b[0m\n",
            "\u001b[0;32m/usr/local/lib/python3.8/dist-packages/keras/preprocessing/image.py\u001b[0m in \u001b[0;36mflow\u001b[0;34m(self, x, y, batch_size, shuffle, sample_weight, seed, save_to_dir, save_prefix, save_format, ignore_class_split, subset)\u001b[0m\n\u001b[1;32m   1368\u001b[0m \u001b[0;34m\u001b[0m\u001b[0m\n\u001b[1;32m   1369\u001b[0m     \"\"\"\n\u001b[0;32m-> 1370\u001b[0;31m     return NumpyArrayIterator(\n\u001b[0m\u001b[1;32m   1371\u001b[0m         \u001b[0mx\u001b[0m\u001b[0;34m,\u001b[0m\u001b[0;34m\u001b[0m\u001b[0;34m\u001b[0m\u001b[0m\n\u001b[1;32m   1372\u001b[0m         \u001b[0my\u001b[0m\u001b[0;34m,\u001b[0m\u001b[0;34m\u001b[0m\u001b[0;34m\u001b[0m\u001b[0m\n",
            "\u001b[0;32m/usr/local/lib/python3.8/dist-packages/keras/preprocessing/image.py\u001b[0m in \u001b[0;36m__init__\u001b[0;34m(self, x, y, image_data_generator, batch_size, shuffle, sample_weight, seed, data_format, save_to_dir, save_prefix, save_format, subset, ignore_class_split, dtype)\u001b[0m\n\u001b[1;32m    672\u001b[0m     \u001b[0mself\u001b[0m\u001b[0;34m.\u001b[0m\u001b[0mx_misc\u001b[0m \u001b[0;34m=\u001b[0m \u001b[0mx_misc\u001b[0m\u001b[0;34m\u001b[0m\u001b[0;34m\u001b[0m\u001b[0m\n\u001b[1;32m    673\u001b[0m     \u001b[0;32mif\u001b[0m \u001b[0mself\u001b[0m\u001b[0;34m.\u001b[0m\u001b[0mx\u001b[0m\u001b[0;34m.\u001b[0m\u001b[0mndim\u001b[0m \u001b[0;34m!=\u001b[0m \u001b[0;36m4\u001b[0m\u001b[0;34m:\u001b[0m\u001b[0;34m\u001b[0m\u001b[0;34m\u001b[0m\u001b[0m\n\u001b[0;32m--> 674\u001b[0;31m       raise ValueError(\n\u001b[0m\u001b[1;32m    675\u001b[0m           \u001b[0;34m'Input data in `NumpyArrayIterator` '\u001b[0m\u001b[0;34m\u001b[0m\u001b[0;34m\u001b[0m\u001b[0m\n\u001b[1;32m    676\u001b[0m           \u001b[0;34m'should have rank 4. You passed an array '\u001b[0m\u001b[0;34m\u001b[0m\u001b[0;34m\u001b[0m\u001b[0m\n",
            "\u001b[0;31mValueError\u001b[0m: ('Input data in `NumpyArrayIterator` should have rank 4. You passed an array with shape', (224, 224, 3))"
          ]
        }
      ]
    },
    {
      "cell_type": "code",
      "source": [],
      "metadata": {
        "colab": {
          "base_uri": "https://localhost:8080/"
        },
        "id": "jEK40NksCW0W",
        "outputId": "270093e7-5be2-4261-c6d6-11c0e2c673d8"
      },
      "execution_count": 21,
      "outputs": [
        {
          "output_type": "execute_result",
          "data": {
            "text/plain": [
              "(224, 224, 3)"
            ]
          },
          "metadata": {},
          "execution_count": 21
        }
      ]
    },
    {
      "cell_type": "code",
      "source": [
        "print(im.shape)\n"
      ],
      "metadata": {
        "colab": {
          "base_uri": "https://localhost:8080/"
        },
        "id": "dwddRqHeE89z",
        "outputId": "76f183c3-a977-4cea-cf2a-466e3dfb387c"
      },
      "execution_count": 22,
      "outputs": [
        {
          "output_type": "stream",
          "name": "stdout",
          "text": [
            "(224, 224, 3)\n"
          ]
        }
      ]
    },
    {
      "cell_type": "code",
      "source": [
        "im[0]"
      ],
      "metadata": {
        "colab": {
          "base_uri": "https://localhost:8080/"
        },
        "id": "ZAnBpTrgKJRV",
        "outputId": "929f9b78-fc29-4476-8aa4-1cf417400f5f"
      },
      "execution_count": 25,
      "outputs": [
        {
          "output_type": "execute_result",
          "data": {
            "text/plain": [
              "array([[-673.476, -697.232, -673.476],\n",
              "       [-673.476, -697.232, -673.476],\n",
              "       [-673.476, -697.232, -673.476],\n",
              "       [-673.476, -697.232, -673.476],\n",
              "       [-673.476, -697.232, -673.476],\n",
              "       [-673.476, -697.232, -673.476],\n",
              "       [-673.476, -697.232, -673.476],\n",
              "       [-673.476, -697.232, -673.476],\n",
              "       [-673.476, -697.232, -673.476],\n",
              "       [-673.476, -697.232, -673.476],\n",
              "       [-673.476, -697.232, -673.476],\n",
              "       [-673.476, -697.232, -673.476],\n",
              "       [-673.476, -697.232, -673.476],\n",
              "       [-673.476, -697.232, -673.476],\n",
              "       [-673.476, -697.232, -673.476],\n",
              "       [-673.476, -697.232, -673.476],\n",
              "       [-673.476, -697.232, -673.476],\n",
              "       [-673.476, -697.232, -673.476],\n",
              "       [-673.476, -697.232, -673.476],\n",
              "       [-673.476, -697.232, -673.476],\n",
              "       [-673.476, -697.232, -673.476],\n",
              "       [-673.476, -697.232, -673.476],\n",
              "       [-673.476, -697.232, -673.476],\n",
              "       [-673.476, -697.232, -673.476],\n",
              "       [-672.476, -696.232, -672.476],\n",
              "       [-672.476, -696.232, -672.476],\n",
              "       [-672.476, -696.232, -672.476],\n",
              "       [-672.476, -696.232, -672.476],\n",
              "       [-672.476, -696.232, -672.476],\n",
              "       [-672.476, -696.232, -672.476],\n",
              "       [-672.476, -696.232, -672.476],\n",
              "       [-672.476, -696.232, -672.476],\n",
              "       [-671.476, -695.232, -671.476],\n",
              "       [-671.476, -695.232, -671.476],\n",
              "       [-671.476, -695.232, -671.476],\n",
              "       [-671.476, -695.232, -671.476],\n",
              "       [-671.476, -695.232, -671.476],\n",
              "       [-671.476, -695.232, -671.476],\n",
              "       [-671.476, -695.232, -671.476],\n",
              "       [-671.476, -695.232, -671.476],\n",
              "       [-671.476, -695.232, -671.476],\n",
              "       [-671.476, -695.232, -671.476],\n",
              "       [-671.476, -695.232, -671.476],\n",
              "       [-671.476, -695.232, -671.476],\n",
              "       [-671.476, -695.232, -671.476],\n",
              "       [-671.476, -695.232, -671.476],\n",
              "       [-671.476, -695.232, -671.476],\n",
              "       [-671.476, -695.232, -671.476],\n",
              "       [-671.476, -695.232, -671.476],\n",
              "       [-671.476, -695.232, -671.476],\n",
              "       [-671.476, -695.232, -671.476],\n",
              "       [-671.476, -695.232, -671.476],\n",
              "       [-671.476, -695.232, -671.476],\n",
              "       [-671.476, -695.232, -671.476],\n",
              "       [-671.476, -695.232, -671.476],\n",
              "       [-671.476, -695.232, -671.476],\n",
              "       [-671.476, -695.232, -671.476],\n",
              "       [-671.476, -695.232, -671.476],\n",
              "       [-671.476, -695.232, -671.476],\n",
              "       [-671.476, -695.232, -671.476],\n",
              "       [-672.476, -696.232, -672.476],\n",
              "       [-672.476, -696.232, -672.476],\n",
              "       [-672.476, -696.232, -672.476],\n",
              "       [-672.476, -696.232, -672.476],\n",
              "       [-672.476, -696.232, -672.476],\n",
              "       [-671.476, -695.232, -671.476],\n",
              "       [-671.476, -695.232, -671.476],\n",
              "       [-671.476, -695.232, -671.476],\n",
              "       [-671.476, -695.232, -671.476],\n",
              "       [-672.476, -696.232, -672.476],\n",
              "       [-672.476, -696.232, -672.476],\n",
              "       [-672.476, -696.232, -672.476],\n",
              "       [-672.476, -696.232, -672.476],\n",
              "       [-672.476, -696.232, -672.476],\n",
              "       [-671.476, -695.232, -671.476],\n",
              "       [-671.476, -695.232, -671.476],\n",
              "       [-671.476, -695.232, -671.476],\n",
              "       [-671.476, -695.232, -671.476],\n",
              "       [-671.476, -695.232, -671.476],\n",
              "       [-671.476, -695.232, -671.476],\n",
              "       [-671.476, -695.232, -671.476],\n",
              "       [-671.476, -695.232, -671.476],\n",
              "       [-670.476, -694.232, -670.476],\n",
              "       [-670.476, -694.232, -670.476],\n",
              "       [-670.476, -694.232, -670.476],\n",
              "       [-670.476, -694.232, -670.476],\n",
              "       [-670.476, -694.232, -670.476],\n",
              "       [-671.476, -695.232, -671.476],\n",
              "       [-671.476, -695.232, -671.476],\n",
              "       [-671.476, -695.232, -671.476],\n",
              "       [-671.476, -695.232, -671.476],\n",
              "       [-672.476, -696.232, -672.476],\n",
              "       [-672.476, -696.232, -672.476],\n",
              "       [-672.476, -696.232, -672.476],\n",
              "       [-672.476, -696.232, -672.476],\n",
              "       [-672.476, -696.232, -672.476],\n",
              "       [-671.476, -695.232, -671.476],\n",
              "       [-671.476, -695.232, -671.476],\n",
              "       [-671.476, -695.232, -671.476],\n",
              "       [-671.476, -695.232, -671.476],\n",
              "       [-670.476, -694.232, -670.476],\n",
              "       [-671.476, -695.232, -671.476],\n",
              "       [-671.476, -695.232, -671.476],\n",
              "       [-671.476, -695.232, -671.476],\n",
              "       [-672.476, -696.232, -672.476],\n",
              "       [-673.476, -697.232, -673.476],\n",
              "       [-673.476, -697.232, -673.476],\n",
              "       [-674.476, -698.232, -674.476],\n",
              "       [-672.476, -696.232, -672.476],\n",
              "       [-670.476, -694.232, -670.476],\n",
              "       [-670.476, -694.232, -670.476],\n",
              "       [-670.476, -694.232, -670.476],\n",
              "       [-670.476, -694.232, -670.476],\n",
              "       [-670.476, -694.232, -670.476],\n",
              "       [-670.476, -694.232, -670.476],\n",
              "       [-670.476, -694.232, -670.476],\n",
              "       [-671.476, -695.232, -671.476],\n",
              "       [-671.476, -695.232, -671.476],\n",
              "       [-670.476, -694.232, -670.476],\n",
              "       [-670.476, -694.232, -670.476],\n",
              "       [-670.476, -694.232, -670.476],\n",
              "       [-670.476, -694.232, -670.476],\n",
              "       [-670.476, -694.232, -670.476],\n",
              "       [-671.476, -695.232, -671.476],\n",
              "       [-671.476, -695.232, -671.476],\n",
              "       [-671.476, -695.232, -671.476],\n",
              "       [-671.476, -695.232, -671.476],\n",
              "       [-670.476, -694.232, -670.476],\n",
              "       [-671.476, -695.232, -671.476],\n",
              "       [-672.476, -696.232, -672.476],\n",
              "       [-671.476, -695.232, -671.476],\n",
              "       [-670.476, -694.232, -670.476],\n",
              "       [-671.476, -695.232, -671.476],\n",
              "       [-671.476, -695.232, -671.476],\n",
              "       [-671.476, -695.232, -671.476],\n",
              "       [-671.476, -695.232, -671.476],\n",
              "       [-671.476, -695.232, -671.476],\n",
              "       [-671.476, -695.232, -671.476],\n",
              "       [-671.476, -695.232, -671.476],\n",
              "       [-671.476, -695.232, -671.476],\n",
              "       [-671.476, -695.232, -671.476],\n",
              "       [-671.476, -695.232, -671.476],\n",
              "       [-671.476, -695.232, -671.476],\n",
              "       [-671.476, -695.232, -671.476],\n",
              "       [-671.476, -695.232, -671.476],\n",
              "       [-671.476, -695.232, -671.476],\n",
              "       [-671.476, -695.232, -671.476],\n",
              "       [-671.476, -695.232, -671.476],\n",
              "       [-671.476, -695.232, -671.476],\n",
              "       [-671.476, -695.232, -671.476],\n",
              "       [-671.476, -695.232, -671.476],\n",
              "       [-671.476, -695.232, -671.476],\n",
              "       [-671.476, -695.232, -671.476],\n",
              "       [-671.476, -695.232, -671.476],\n",
              "       [-671.476, -695.232, -671.476],\n",
              "       [-671.476, -695.232, -671.476],\n",
              "       [-671.476, -695.232, -671.476],\n",
              "       [-671.476, -695.232, -671.476],\n",
              "       [-671.476, -695.232, -671.476],\n",
              "       [-671.476, -695.232, -671.476],\n",
              "       [-671.476, -695.232, -671.476],\n",
              "       [-671.476, -695.232, -671.476],\n",
              "       [-671.476, -695.232, -671.476],\n",
              "       [-672.476, -696.232, -672.476],\n",
              "       [-672.476, -696.232, -672.476],\n",
              "       [-672.476, -696.232, -672.476],\n",
              "       [-672.476, -696.232, -672.476],\n",
              "       [-672.476, -696.232, -672.476],\n",
              "       [-672.476, -696.232, -672.476],\n",
              "       [-672.476, -696.232, -672.476],\n",
              "       [-672.476, -696.232, -672.476],\n",
              "       [-672.476, -696.232, -672.476],\n",
              "       [-672.476, -696.232, -672.476],\n",
              "       [-672.476, -696.232, -672.476],\n",
              "       [-672.476, -696.232, -672.476],\n",
              "       [-672.476, -696.232, -672.476],\n",
              "       [-672.476, -696.232, -672.476],\n",
              "       [-672.476, -696.232, -672.476],\n",
              "       [-672.476, -696.232, -672.476],\n",
              "       [-672.476, -696.232, -672.476],\n",
              "       [-672.476, -696.232, -672.476],\n",
              "       [-672.476, -696.232, -672.476],\n",
              "       [-672.476, -696.232, -672.476],\n",
              "       [-672.476, -696.232, -672.476],\n",
              "       [-672.476, -696.232, -672.476],\n",
              "       [-672.476, -696.232, -672.476],\n",
              "       [-672.476, -696.232, -672.476],\n",
              "       [-672.476, -696.232, -672.476],\n",
              "       [-672.476, -696.232, -672.476],\n",
              "       [-672.476, -696.232, -672.476],\n",
              "       [-673.476, -697.232, -673.476],\n",
              "       [-673.476, -697.232, -673.476],\n",
              "       [-673.476, -697.232, -673.476],\n",
              "       [-673.476, -697.232, -673.476],\n",
              "       [-673.476, -697.232, -673.476],\n",
              "       [-673.476, -697.232, -673.476],\n",
              "       [-673.476, -697.232, -673.476],\n",
              "       [-673.476, -697.232, -673.476],\n",
              "       [-674.476, -698.232, -674.476],\n",
              "       [-674.476, -698.232, -674.476],\n",
              "       [-673.476, -697.232, -673.476],\n",
              "       [-673.476, -697.232, -673.476],\n",
              "       [-673.476, -697.232, -673.476],\n",
              "       [-673.476, -697.232, -673.476],\n",
              "       [-673.476, -697.232, -673.476],\n",
              "       [-673.476, -697.232, -673.476],\n",
              "       [-673.476, -697.232, -673.476],\n",
              "       [-673.476, -697.232, -673.476],\n",
              "       [-673.476, -697.232, -673.476],\n",
              "       [-673.476, -697.232, -673.476],\n",
              "       [-673.476, -697.232, -673.476],\n",
              "       [-673.476, -697.232, -673.476],\n",
              "       [-673.476, -697.232, -673.476],\n",
              "       [-673.476, -697.232, -673.476],\n",
              "       [-673.476, -697.232, -673.476],\n",
              "       [-673.476, -697.232, -673.476],\n",
              "       [-673.476, -697.232, -673.476],\n",
              "       [-673.476, -697.232, -673.476],\n",
              "       [-673.476, -697.232, -673.476],\n",
              "       [-673.476, -697.232, -673.476],\n",
              "       [-673.476, -697.232, -673.476],\n",
              "       [-673.476, -697.232, -673.476],\n",
              "       [-673.476, -697.232, -673.476],\n",
              "       [-669.939, -682.779, -689.68 ]], dtype=float32)"
            ]
          },
          "metadata": {},
          "execution_count": 25
        }
      ]
    },
    {
      "cell_type": "code",
      "source": [],
      "metadata": {
        "id": "gToG76VsKzbA"
      },
      "execution_count": null,
      "outputs": []
    }
  ]
}