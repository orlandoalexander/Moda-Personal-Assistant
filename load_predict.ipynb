{
  "nbformat": 4,
  "nbformat_minor": 0,
  "metadata": {
    "colab": {
      "provenance": [],
      "authorship_tag": "ABX9TyO3cKAdv2TlSEZFArDOFmsr",
      "include_colab_link": true
    },
    "kernelspec": {
      "name": "python3",
      "display_name": "Python 3"
    },
    "language_info": {
      "name": "python"
    }
  },
  "cells": [
    {
      "cell_type": "markdown",
      "metadata": {
        "id": "view-in-github",
        "colab_type": "text"
      },
      "source": [
        "<a href=\"https://colab.research.google.com/github/orlandoalexander/Moda-Personal-Assistant/blob/playground/load_predict.ipynb\" target=\"_parent\"><img src=\"https://colab.research.google.com/assets/colab-badge.svg\" alt=\"Open In Colab\"/></a>"
      ]
    },
    {
      "cell_type": "code",
      "execution_count": 1,
      "metadata": {
        "id": "ashC5TP7urvu"
      },
      "outputs": [],
      "source": [
        "from keras.applications.mobilenet import preprocess_input\n",
        "import tensorflow as tf"
      ]
    },
    {
      "cell_type": "code",
      "source": [
        "import numpy as np"
      ],
      "metadata": {
        "id": "Faw3eZDl7iIk"
      },
      "execution_count": 2,
      "outputs": []
    },
    {
      "cell_type": "code",
      "source": [
        "import tensorflow as tf\n",
        "import numpy as np\n",
        "from PIL import Image\n",
        "from keras.applications.resnet import preprocess_input\n",
        "from sys import getsizeof\n",
        "import matplotlib.pyplot as plt\n",
        "import requests\n",
        "from io import BytesIO"
      ],
      "metadata": {
        "id": "AcBa-iq89c5t"
      },
      "execution_count": 3,
      "outputs": []
    },
    {
      "cell_type": "code",
      "source": [
        "from keras.preprocessing import image\n"
      ],
      "metadata": {
        "id": "zuaag6p1O2Zj"
      },
      "execution_count": 34,
      "outputs": []
    },
    {
      "cell_type": "code",
      "source": [
        "from google.colab import drive\n",
        "drive.mount('/content/drive')"
      ],
      "metadata": {
        "colab": {
          "base_uri": "https://localhost:8080/"
        },
        "id": "w-QgU0KM6QfK",
        "outputId": "f41c2e89-738d-4471-8019-c794abc1646d"
      },
      "execution_count": 4,
      "outputs": [
        {
          "output_type": "stream",
          "name": "stdout",
          "text": [
            "Mounted at /content/drive\n"
          ]
        }
      ]
    },
    {
      "cell_type": "code",
      "source": [
        "classes = {\n",
        "  \"section\": [\n",
        "    \"upper\",\n",
        "    \"lower\",\n",
        "    \"full body\",\n",
        "    \"outfit\"\n",
        "  ],\n",
        "  \"category\": [\n",
        "    \"Baggy_Pants\",\n",
        "    \"Blouses\",\n",
        "    \"Cardigans\",\n",
        "    \"Dresses\",\n",
        "    \"Graphic_Tees\",\n",
        "    \"Jackets\",\n",
        "    \"Joggers\",\n",
        "    \"Pants\",\n",
        "    \"Rompers\",\n",
        "    \"Shirts\",\n",
        "    \"Shorts\",\n",
        "    \"Skirts\",\n",
        "    \"Suiting\",\n",
        "    \"Sweaters\",\n",
        "    \"Tees\"\n",
        "  ],\n",
        "  \"design\": [\n",
        "    \"floral\",\n",
        "    \"graphic\",\n",
        "    \"striped\",\n",
        "    \"embroidered\",\n",
        "    \"pleated\",\n",
        "    \"solid\",\n",
        "    \"lattice\"\n",
        "  ],\n",
        "  \"sleeves\": [\n",
        "    \"long_sleeve\",\n",
        "    \"short_sleeve\",\n",
        "    \"sleeveless\"\n",
        "  ],\n",
        "  \"length\": [\n",
        "    \"maxi_length\",\n",
        "    \"mini_length\"\n",
        "  ],\n",
        "  \"neckline\": [\n",
        "    \"crew_neckline\",\n",
        "    \"v_neckline\",\n",
        "    \"square_neckline\",\n",
        "    \"no_neckline\"\n",
        "  ],\n",
        "  \"fabric\": [\n",
        "    \"denim\",\n",
        "    \"chiffon\",\n",
        "    \"cotton\",\n",
        "    \"leather\",\n",
        "    \"faux\",\n",
        "    \"knit\"\n",
        "  ],\n",
        "  \"fit\": [\n",
        "    \"tight\",\n",
        "    \"loose\",\n",
        "    \"conventional\"\n",
        "  ]\n",
        "}\n"
      ],
      "metadata": {
        "id": "R0xLQGrius1i"
      },
      "execution_count": 5,
      "outputs": []
    },
    {
      "cell_type": "code",
      "source": [
        "design_model = tf.keras.models.load_model('/content/drive/MyDrive/Moda/saved_models/resnet_design_v1')"
      ],
      "metadata": {
        "id": "YGfmoIky5UBt"
      },
      "execution_count": 31,
      "outputs": []
    },
    {
      "cell_type": "code",
      "source": [
        "design_model.compile(loss='categorical_crossentropy',\n",
        "                     optimizer='rmsprop',\n",
        "                     metrics=['accuracy'])"
      ],
      "metadata": {
        "id": "PrJJZ4NXOnUp"
      },
      "execution_count": 32,
      "outputs": []
    },
    {
      "cell_type": "code",
      "source": [
        "def get_pad_color(image):\n",
        "  left = image[:,0]\n",
        "  right = image[:,-1]\n",
        "  edge_color = int(np.concatenate((left, right)).mean())\n",
        "  mean_color = (edge_color,edge_color)\n",
        "  return mean_color"
      ],
      "metadata": {
        "id": "BqQl_y-n7WU4"
      },
      "execution_count": 7,
      "outputs": []
    },
    {
      "cell_type": "code",
      "source": [
        "url = 'https://'+'images.asos-media.com/products/aape-by-a-bathing-ape-luxe-t-shirt-in-black/203648646-1-black'\n",
        "response = requests.get(url)\n",
        "im = Image.open(BytesIO(response.content))\n",
        "IMAGE_SIZE = (224, 224)\n"
      ],
      "metadata": {
        "id": "HjCSDDBl_Ggo"
      },
      "execution_count": 35,
      "outputs": []
    },
    {
      "cell_type": "code",
      "source": [
        "# img = image.load_img('test1.jpg', target_size=(img_width, img_height))\n",
        "x = image.img_to_array(im)\n",
        "x = np.expand_dims(x, axis=0)"
      ],
      "metadata": {
        "colab": {
          "base_uri": "https://localhost:8080/",
          "height": 201
        },
        "id": "dwkitCf7O7hL",
        "outputId": "0c5e82c3-ec33-49c0-f744-63eea5eb80ba"
      },
      "execution_count": 36,
      "outputs": [
        {
          "output_type": "error",
          "ename": "AttributeError",
          "evalue": "ignored",
          "traceback": [
            "\u001b[0;31m---------------------------------------------------------------------------\u001b[0m",
            "\u001b[0;31mAttributeError\u001b[0m                            Traceback (most recent call last)",
            "\u001b[0;32m<ipython-input-36-0804973d5180>\u001b[0m in \u001b[0;36m<module>\u001b[0;34m\u001b[0m\n\u001b[1;32m      1\u001b[0m \u001b[0;31m# img = image.load_img('test1.jpg', target_size=(img_width, img_height))\u001b[0m\u001b[0;34m\u001b[0m\u001b[0;34m\u001b[0m\u001b[0;34m\u001b[0m\u001b[0m\n\u001b[0;32m----> 2\u001b[0;31m \u001b[0mx\u001b[0m \u001b[0;34m=\u001b[0m \u001b[0mimage\u001b[0m\u001b[0;34m.\u001b[0m\u001b[0mimg_to_array\u001b[0m\u001b[0;34m(\u001b[0m\u001b[0mim\u001b[0m\u001b[0;34m)\u001b[0m\u001b[0;34m\u001b[0m\u001b[0;34m\u001b[0m\u001b[0m\n\u001b[0m\u001b[1;32m      3\u001b[0m \u001b[0mx\u001b[0m \u001b[0;34m=\u001b[0m \u001b[0mnp\u001b[0m\u001b[0;34m.\u001b[0m\u001b[0mexpand_dims\u001b[0m\u001b[0;34m(\u001b[0m\u001b[0mx\u001b[0m\u001b[0;34m,\u001b[0m \u001b[0maxis\u001b[0m\u001b[0;34m=\u001b[0m\u001b[0;36m0\u001b[0m\u001b[0;34m)\u001b[0m\u001b[0;34m\u001b[0m\u001b[0;34m\u001b[0m\u001b[0m\n",
            "\u001b[0;31mAttributeError\u001b[0m: module 'keras.preprocessing.image' has no attribute 'img_to_array'"
          ]
        }
      ]
    },
    {
      "cell_type": "code",
      "source": [
        "images = np.vstack([x])\n",
        "classes = model.predict_classes(images, batch_size=10)\n",
        "print classes"
      ],
      "metadata": {
        "id": "Uk3Ep-GdPMH3"
      },
      "execution_count": null,
      "outputs": []
    },
    {
      "cell_type": "code",
      "source": [
        "if im.shape[0] > im.shape[1]:\n",
        "    scale = (IMAGE_SIZE[1]-1)/im.shape[0]\n",
        "else:\n",
        "    scale = (IMAGE_SIZE[0]-1)/im.shape[1]\n",
        "scale_x, scale_y = (scale * dim for dim in im.shape[:-1])\n",
        "x, y = np.ogrid[0:scale_x, 0:scale_y]\n",
        "im = im[(x//scale).astype(int), (y//scale).astype(int)]\n",
        "if im.shape[0] % 2 == 0:\n",
        "    ax0_pad_left = ax0_pad_right = int((IMAGE_SIZE[1] - im.shape[0])/2)\n",
        "else:\n",
        "    dif = (IMAGE_SIZE[1] - im.shape[0])\n",
        "    ax0_pad_left = int(dif/2)\n",
        "    ax0_pad_right=0\n",
        "    if dif > 0:\n",
        "        ax0_pad_right = ax0_pad_left + 1\n",
        "if im.shape[1] % 2 == 0:\n",
        "    ax1_pad_left = ax1_pad_right = int((IMAGE_SIZE[0] - im.shape[1])/2)\n",
        "else:\n",
        "    dif = (IMAGE_SIZE[0] - im.shape[1])\n",
        "    ax1_pad_left = int(dif/2)\n",
        "    ax1_pad_right=0\n",
        "    if dif > 0:\n",
        "        ax1_pad_right = ax1_pad_left + 1\n",
        "pad_color = get_pad_color(im)\n",
        "cropped_pad_array = np.pad(im,pad_width=((ax0_pad_left, ax0_pad_right),(ax1_pad_left, ax1_pad_right),(0, 0)),constant_values=pad_color) # pad image with white background\n",
        "im = preprocess_input(cropped_pad_array)\n",
        "plt.imshow(cropped_pad_array)\n",
        "result = design_model(im)\n",
        "# post process result\n",
        "predicted_class = tf.math.argmax(result[0], axis=-1)\n",
        "print(predicted_class)\n",
        "print(classes[design_model][predicted_class])\n",
        "res = [(classes[design_model][index],val) for index, val in enumerate(result[0])]\n",
        "res.sort(key=lambda x: x[1],reverse=True)\n",
        "print(res)"
      ],
      "metadata": {
        "colab": {
          "base_uri": "https://localhost:8080/",
          "height": 650
        },
        "id": "a_vqj4I-3Zny",
        "outputId": "39b5766a-e1f8-4384-dc7d-9f37a28fd6fd"
      },
      "execution_count": 33,
      "outputs": [
        {
          "output_type": "stream",
          "name": "stderr",
          "text": [
            "WARNING:matplotlib.image:Clipping input data to the valid range for imshow with RGB data ([0..1] for floats or [0..255] for integers).\n"
          ]
        },
        {
          "output_type": "error",
          "ename": "ValueError",
          "evalue": "ignored",
          "traceback": [
            "\u001b[0;31m---------------------------------------------------------------------------\u001b[0m",
            "\u001b[0;31mValueError\u001b[0m                                Traceback (most recent call last)",
            "\u001b[0;32m<ipython-input-33-3f9dec9d00cf>\u001b[0m in \u001b[0;36m<module>\u001b[0;34m\u001b[0m\n\u001b[1;32m     26\u001b[0m \u001b[0mim\u001b[0m \u001b[0;34m=\u001b[0m \u001b[0mpreprocess_input\u001b[0m\u001b[0;34m(\u001b[0m\u001b[0mcropped_pad_array\u001b[0m\u001b[0;34m)\u001b[0m\u001b[0;34m\u001b[0m\u001b[0;34m\u001b[0m\u001b[0m\n\u001b[1;32m     27\u001b[0m \u001b[0mplt\u001b[0m\u001b[0;34m.\u001b[0m\u001b[0mimshow\u001b[0m\u001b[0;34m(\u001b[0m\u001b[0mcropped_pad_array\u001b[0m\u001b[0;34m)\u001b[0m\u001b[0;34m\u001b[0m\u001b[0;34m\u001b[0m\u001b[0m\n\u001b[0;32m---> 28\u001b[0;31m \u001b[0mresult\u001b[0m \u001b[0;34m=\u001b[0m \u001b[0mdesign_model\u001b[0m\u001b[0;34m(\u001b[0m\u001b[0mim\u001b[0m\u001b[0;34m)\u001b[0m\u001b[0;34m\u001b[0m\u001b[0;34m\u001b[0m\u001b[0m\n\u001b[0m\u001b[1;32m     29\u001b[0m \u001b[0;31m# post process result\u001b[0m\u001b[0;34m\u001b[0m\u001b[0;34m\u001b[0m\u001b[0;34m\u001b[0m\u001b[0m\n\u001b[1;32m     30\u001b[0m \u001b[0mpredicted_class\u001b[0m \u001b[0;34m=\u001b[0m \u001b[0mtf\u001b[0m\u001b[0;34m.\u001b[0m\u001b[0mmath\u001b[0m\u001b[0;34m.\u001b[0m\u001b[0margmax\u001b[0m\u001b[0;34m(\u001b[0m\u001b[0mresult\u001b[0m\u001b[0;34m[\u001b[0m\u001b[0;36m0\u001b[0m\u001b[0;34m]\u001b[0m\u001b[0;34m,\u001b[0m \u001b[0maxis\u001b[0m\u001b[0;34m=\u001b[0m\u001b[0;34m-\u001b[0m\u001b[0;36m1\u001b[0m\u001b[0;34m)\u001b[0m\u001b[0;34m\u001b[0m\u001b[0;34m\u001b[0m\u001b[0m\n",
            "\u001b[0;32m/usr/local/lib/python3.8/dist-packages/keras/utils/traceback_utils.py\u001b[0m in \u001b[0;36merror_handler\u001b[0;34m(*args, **kwargs)\u001b[0m\n\u001b[1;32m     65\u001b[0m     \u001b[0;32mexcept\u001b[0m \u001b[0mException\u001b[0m \u001b[0;32mas\u001b[0m \u001b[0me\u001b[0m\u001b[0;34m:\u001b[0m  \u001b[0;31m# pylint: disable=broad-except\u001b[0m\u001b[0;34m\u001b[0m\u001b[0;34m\u001b[0m\u001b[0m\n\u001b[1;32m     66\u001b[0m       \u001b[0mfiltered_tb\u001b[0m \u001b[0;34m=\u001b[0m \u001b[0m_process_traceback_frames\u001b[0m\u001b[0;34m(\u001b[0m\u001b[0me\u001b[0m\u001b[0;34m.\u001b[0m\u001b[0m__traceback__\u001b[0m\u001b[0;34m)\u001b[0m\u001b[0;34m\u001b[0m\u001b[0;34m\u001b[0m\u001b[0m\n\u001b[0;32m---> 67\u001b[0;31m       \u001b[0;32mraise\u001b[0m \u001b[0me\u001b[0m\u001b[0;34m.\u001b[0m\u001b[0mwith_traceback\u001b[0m\u001b[0;34m(\u001b[0m\u001b[0mfiltered_tb\u001b[0m\u001b[0;34m)\u001b[0m \u001b[0;32mfrom\u001b[0m \u001b[0;32mNone\u001b[0m\u001b[0;34m\u001b[0m\u001b[0;34m\u001b[0m\u001b[0m\n\u001b[0m\u001b[1;32m     68\u001b[0m     \u001b[0;32mfinally\u001b[0m\u001b[0;34m:\u001b[0m\u001b[0;34m\u001b[0m\u001b[0;34m\u001b[0m\u001b[0m\n\u001b[1;32m     69\u001b[0m       \u001b[0;32mdel\u001b[0m \u001b[0mfiltered_tb\u001b[0m\u001b[0;34m\u001b[0m\u001b[0;34m\u001b[0m\u001b[0m\n",
            "\u001b[0;32m/usr/local/lib/python3.8/dist-packages/keras/engine/input_spec.py\u001b[0m in \u001b[0;36massert_input_compatibility\u001b[0;34m(input_spec, inputs, layer_name)\u001b[0m\n\u001b[1;32m    262\u001b[0m         \u001b[0;32mif\u001b[0m \u001b[0mspec_dim\u001b[0m \u001b[0;32mis\u001b[0m \u001b[0;32mnot\u001b[0m \u001b[0;32mNone\u001b[0m \u001b[0;32mand\u001b[0m \u001b[0mdim\u001b[0m \u001b[0;32mis\u001b[0m \u001b[0;32mnot\u001b[0m \u001b[0;32mNone\u001b[0m\u001b[0;34m:\u001b[0m\u001b[0;34m\u001b[0m\u001b[0;34m\u001b[0m\u001b[0m\n\u001b[1;32m    263\u001b[0m           \u001b[0;32mif\u001b[0m \u001b[0mspec_dim\u001b[0m \u001b[0;34m!=\u001b[0m \u001b[0mdim\u001b[0m\u001b[0;34m:\u001b[0m\u001b[0;34m\u001b[0m\u001b[0;34m\u001b[0m\u001b[0m\n\u001b[0;32m--> 264\u001b[0;31m             raise ValueError(f'Input {input_index} of layer \"{layer_name}\" is '\n\u001b[0m\u001b[1;32m    265\u001b[0m                              \u001b[0;34m'incompatible with the layer: '\u001b[0m\u001b[0;34m\u001b[0m\u001b[0;34m\u001b[0m\u001b[0m\n\u001b[1;32m    266\u001b[0m                              \u001b[0;34mf'expected shape={spec.shape}, '\u001b[0m\u001b[0;34m\u001b[0m\u001b[0;34m\u001b[0m\u001b[0m\n",
            "\u001b[0;31mValueError\u001b[0m: Input 0 of layer \"model\" is incompatible with the layer: expected shape=(None, 224, 224, 3), found shape=(224, 224, 3)"
          ]
        },
        {
          "output_type": "display_data",
          "data": {
            "text/plain": [
              "<Figure size 432x288 with 1 Axes>"
            ],
            "image/png": "[encoded data removed]"
          },
          "metadata": {
            "needs_background": "light"
          }
        }
      ]
    },
    {
      "cell_type": "code",
      "source": [
        "cropped_pad_array.shape"
      ],
      "metadata": {
        "colab": {
          "base_uri": "https://localhost:8080/"
        },
        "id": "jEK40NksCW0W",
        "outputId": "270093e7-5be2-4261-c6d6-11c0e2c673d8"
      },
      "execution_count": 21,
      "outputs": [
        {
          "output_type": "execute_result",
          "data": {
            "text/plain": [
              "(224, 224, 3)"
            ]
          },
          "metadata": {},
          "execution_count": 21
        }
      ]
    },
    {
      "cell_type": "code",
      "source": [
        "print(im.shape)\n"
      ],
      "metadata": {
        "colab": {
          "base_uri": "https://localhost:8080/"
        },
        "id": "dwddRqHeE89z",
        "outputId": "76f183c3-a977-4cea-cf2a-466e3dfb387c"
      },
      "execution_count": 22,
      "outputs": [
        {
          "output_type": "stream",
          "name": "stdout",
          "text": [
            "(224, 224, 3)\n"
          ]
        }
      ]
    },
    {
      "cell_type": "code",
      "source": [
        "im[0]"
      ],
      "metadata": {
        "colab": {
          "base_uri": "https://localhost:8080/"
        },
        "id": "ZAnBpTrgKJRV",
        "outputId": "929f9b78-fc29-4476-8aa4-1cf417400f5f"
      },
      "execution_count": 25,
      "outputs": [
        {
          "output_type": "execute_result",
          "data": {
            "text/plain": [
              "array([[-673.476, -697.232, -673.476],\n",
              "       [-673.476, -697.232, -673.476],\n",
              "       [-673.476, -697.232, -673.476],\n",
              "       [-673.476, -697.232, -673.476],\n",
              "       [-673.476, -697.232, -673.476],\n",
              "       [-673.476, -697.232, -673.476],\n",
              "       [-673.476, -697.232, -673.476],\n",
              "       [-673.476, -697.232, -673.476],\n",
              "       [-673.476, -697.232, -673.476],\n",
              "       [-673.476, -697.232, -673.476],\n",
              "       [-673.476, -697.232, -673.476],\n",
              "       [-673.476, -697.232, -673.476],\n",
              "       [-673.476, -697.232, -673.476],\n",
              "       [-673.476, -697.232, -673.476],\n",
              "       [-673.476, -697.232, -673.476],\n",
              "       [-673.476, -697.232, -673.476],\n",
              "       [-673.476, -697.232, -673.476],\n",
              "       [-673.476, -697.232, -673.476],\n",
              "       [-673.476, -697.232, -673.476],\n",
              "       [-673.476, -697.232, -673.476],\n",
              "       [-673.476, -697.232, -673.476],\n",
              "       [-673.476, -697.232, -673.476],\n",
              "       [-673.476, -697.232, -673.476],\n",
              "       [-673.476, -697.232, -673.476],\n",
              "       [-672.476, -696.232, -672.476],\n",
              "       [-672.476, -696.232, -672.476],\n",
              "       [-672.476, -696.232, -672.476],\n",
              "       [-672.476, -696.232, -672.476],\n",
              "       [-672.476, -696.232, -672.476],\n",
              "       [-672.476, -696.232, -672.476],\n",
              "       [-672.476, -696.232, -672.476],\n",
              "       [-672.476, -696.232, -672.476],\n",
              "       [-671.476, -695.232, -671.476],\n",
              "       [-671.476, -695.232, -671.476],\n",
              "       [-671.476, -695.232, -671.476],\n",
              "       [-671.476, -695.232, -671.476],\n",
              "       [-671.476, -695.232, -671.476],\n",
              "       [-671.476, -695.232, -671.476],\n",
              "       [-671.476, -695.232, -671.476],\n",
              "       [-671.476, -695.232, -671.476],\n",
              "       [-671.476, -695.232, -671.476],\n",
              "       [-671.476, -695.232, -671.476],\n",
              "       [-671.476, -695.232, -671.476],\n",
              "       [-671.476, -695.232, -671.476],\n",
              "       [-671.476, -695.232, -671.476],\n",
              "       [-671.476, -695.232, -671.476],\n",
              "       [-671.476, -695.232, -671.476],\n",
              "       [-671.476, -695.232, -671.476],\n",
              "       [-671.476, -695.232, -671.476],\n",
              "       [-671.476, -695.232, -671.476],\n",
              "       [-671.476, -695.232, -671.476],\n",
              "       [-671.476, -695.232, -671.476],\n",
              "       [-671.476, -695.232, -671.476],\n",
              "       [-671.476, -695.232, -671.476],\n",
              "       [-671.476, -695.232, -671.476],\n",
              "       [-671.476, -695.232, -671.476],\n",
              "       [-671.476, -695.232, -671.476],\n",
              "       [-671.476, -695.232, -671.476],\n",
              "       [-671.476, -695.232, -671.476],\n",
              "       [-671.476, -695.232, -671.476],\n",
              "       [-672.476, -696.232, -672.476],\n",
              "       [-672.476, -696.232, -672.476],\n",
              "       [-672.476, -696.232, -672.476],\n",
              "       [-672.476, -696.232, -672.476],\n",
              "       [-672.476, -696.232, -672.476],\n",
              "       [-671.476, -695.232, -671.476],\n",
              "       [-671.476, -695.232, -671.476],\n",
              "       [-671.476, -695.232, -671.476],\n",
              "       [-671.476, -695.232, -671.476],\n",
              "       [-672.476, -696.232, -672.476],\n",
              "       [-672.476, -696.232, -672.476],\n",
              "       [-672.476, -696.232, -672.476],\n",
              "       [-672.476, -696.232, -672.476],\n",
              "       [-672.476, -696.232, -672.476],\n",
              "       [-671.476, -695.232, -671.476],\n",
              "       [-671.476, -695.232, -671.476],\n",
              "       [-671.476, -695.232, -671.476],\n",
              "       [-671.476, -695.232, -671.476],\n",
              "       [-671.476, -695.232, -671.476],\n",
              "       [-671.476, -695.232, -671.476],\n",
              "       [-671.476, -695.232, -671.476],\n",
              "       [-671.476, -695.232, -671.476],\n",
              "       [-670.476, -694.232, -670.476],\n",
              "       [-670.476, -694.232, -670.476],\n",
              "       [-670.476, -694.232, -670.476],\n",
              "       [-670.476, -694.232, -670.476],\n",
              "       [-670.476, -694.232, -670.476],\n",
              "       [-671.476, -695.232, -671.476],\n",
              "       [-671.476, -695.232, -671.476],\n",
              "       [-671.476, -695.232, -671.476],\n",
              "       [-671.476, -695.232, -671.476],\n",
              "       [-672.476, -696.232, -672.476],\n",
              "       [-672.476, -696.232, -672.476],\n",
              "       [-672.476, -696.232, -672.476],\n",
              "       [-672.476, -696.232, -672.476],\n",
              "       [-672.476, -696.232, -672.476],\n",
              "       [-671.476, -695.232, -671.476],\n",
              "       [-671.476, -695.232, -671.476],\n",
              "       [-671.476, -695.232, -671.476],\n",
              "       [-671.476, -695.232, -671.476],\n",
              "       [-670.476, -694.232, -670.476],\n",
              "       [-671.476, -695.232, -671.476],\n",
              "       [-671.476, -695.232, -671.476],\n",
              "       [-671.476, -695.232, -671.476],\n",
              "       [-672.476, -696.232, -672.476],\n",
              "       [-673.476, -697.232, -673.476],\n",
              "       [-673.476, -697.232, -673.476],\n",
              "       [-674.476, -698.232, -674.476],\n",
              "       [-672.476, -696.232, -672.476],\n",
              "       [-670.476, -694.232, -670.476],\n",
              "       [-670.476, -694.232, -670.476],\n",
              "       [-670.476, -694.232, -670.476],\n",
              "       [-670.476, -694.232, -670.476],\n",
              "       [-670.476, -694.232, -670.476],\n",
              "       [-670.476, -694.232, -670.476],\n",
              "       [-670.476, -694.232, -670.476],\n",
              "       [-671.476, -695.232, -671.476],\n",
              "       [-671.476, -695.232, -671.476],\n",
              "       [-670.476, -694.232, -670.476],\n",
              "       [-670.476, -694.232, -670.476],\n",
              "       [-670.476, -694.232, -670.476],\n",
              "       [-670.476, -694.232, -670.476],\n",
              "       [-670.476, -694.232, -670.476],\n",
              "       [-671.476, -695.232, -671.476],\n",
              "       [-671.476, -695.232, -671.476],\n",
              "       [-671.476, -695.232, -671.476],\n",
              "       [-671.476, -695.232, -671.476],\n",
              "       [-670.476, -694.232, -670.476],\n",
              "       [-671.476, -695.232, -671.476],\n",
              "       [-672.476, -696.232, -672.476],\n",
              "       [-671.476, -695.232, -671.476],\n",
              "       [-670.476, -694.232, -670.476],\n",
              "       [-671.476, -695.232, -671.476],\n",
              "       [-671.476, -695.232, -671.476],\n",
              "       [-671.476, -695.232, -671.476],\n",
              "       [-671.476, -695.232, -671.476],\n",
              "       [-671.476, -695.232, -671.476],\n",
              "       [-671.476, -695.232, -671.476],\n",
              "       [-671.476, -695.232, -671.476],\n",
              "       [-671.476, -695.232, -671.476],\n",
              "       [-671.476, -695.232, -671.476],\n",
              "       [-671.476, -695.232, -671.476],\n",
              "       [-671.476, -695.232, -671.476],\n",
              "       [-671.476, -695.232, -671.476],\n",
              "       [-671.476, -695.232, -671.476],\n",
              "       [-671.476, -695.232, -671.476],\n",
              "       [-671.476, -695.232, -671.476],\n",
              "       [-671.476, -695.232, -671.476],\n",
              "       [-671.476, -695.232, -671.476],\n",
              "       [-671.476, -695.232, -671.476],\n",
              "       [-671.476, -695.232, -671.476],\n",
              "       [-671.476, -695.232, -671.476],\n",
              "       [-671.476, -695.232, -671.476],\n",
              "       [-671.476, -695.232, -671.476],\n",
              "       [-671.476, -695.232, -671.476],\n",
              "       [-671.476, -695.232, -671.476],\n",
              "       [-671.476, -695.232, -671.476],\n",
              "       [-671.476, -695.232, -671.476],\n",
              "       [-671.476, -695.232, -671.476],\n",
              "       [-671.476, -695.232, -671.476],\n",
              "       [-671.476, -695.232, -671.476],\n",
              "       [-671.476, -695.232, -671.476],\n",
              "       [-671.476, -695.232, -671.476],\n",
              "       [-672.476, -696.232, -672.476],\n",
              "       [-672.476, -696.232, -672.476],\n",
              "       [-672.476, -696.232, -672.476],\n",
              "       [-672.476, -696.232, -672.476],\n",
              "       [-672.476, -696.232, -672.476],\n",
              "       [-672.476, -696.232, -672.476],\n",
              "       [-672.476, -696.232, -672.476],\n",
              "       [-672.476, -696.232, -672.476],\n",
              "       [-672.476, -696.232, -672.476],\n",
              "       [-672.476, -696.232, -672.476],\n",
              "       [-672.476, -696.232, -672.476],\n",
              "       [-672.476, -696.232, -672.476],\n",
              "       [-672.476, -696.232, -672.476],\n",
              "       [-672.476, -696.232, -672.476],\n",
              "       [-672.476, -696.232, -672.476],\n",
              "       [-672.476, -696.232, -672.476],\n",
              "       [-672.476, -696.232, -672.476],\n",
              "       [-672.476, -696.232, -672.476],\n",
              "       [-672.476, -696.232, -672.476],\n",
              "       [-672.476, -696.232, -672.476],\n",
              "       [-672.476, -696.232, -672.476],\n",
              "       [-672.476, -696.232, -672.476],\n",
              "       [-672.476, -696.232, -672.476],\n",
              "       [-672.476, -696.232, -672.476],\n",
              "       [-672.476, -696.232, -672.476],\n",
              "       [-672.476, -696.232, -672.476],\n",
              "       [-672.476, -696.232, -672.476],\n",
              "       [-673.476, -697.232, -673.476],\n",
              "       [-673.476, -697.232, -673.476],\n",
              "       [-673.476, -697.232, -673.476],\n",
              "       [-673.476, -697.232, -673.476],\n",
              "       [-673.476, -697.232, -673.476],\n",
              "       [-673.476, -697.232, -673.476],\n",
              "       [-673.476, -697.232, -673.476],\n",
              "       [-673.476, -697.232, -673.476],\n",
              "       [-674.476, -698.232, -674.476],\n",
              "       [-674.476, -698.232, -674.476],\n",
              "       [-673.476, -697.232, -673.476],\n",
              "       [-673.476, -697.232, -673.476],\n",
              "       [-673.476, -697.232, -673.476],\n",
              "       [-673.476, -697.232, -673.476],\n",
              "       [-673.476, -697.232, -673.476],\n",
              "       [-673.476, -697.232, -673.476],\n",
              "       [-673.476, -697.232, -673.476],\n",
              "       [-673.476, -697.232, -673.476],\n",
              "       [-673.476, -697.232, -673.476],\n",
              "       [-673.476, -697.232, -673.476],\n",
              "       [-673.476, -697.232, -673.476],\n",
              "       [-673.476, -697.232, -673.476],\n",
              "       [-673.476, -697.232, -673.476],\n",
              "       [-673.476, -697.232, -673.476],\n",
              "       [-673.476, -697.232, -673.476],\n",
              "       [-673.476, -697.232, -673.476],\n",
              "       [-673.476, -697.232, -673.476],\n",
              "       [-673.476, -697.232, -673.476],\n",
              "       [-673.476, -697.232, -673.476],\n",
              "       [-673.476, -697.232, -673.476],\n",
              "       [-673.476, -697.232, -673.476],\n",
              "       [-673.476, -697.232, -673.476],\n",
              "       [-673.476, -697.232, -673.476],\n",
              "       [-669.939, -682.779, -689.68 ]], dtype=float32)"
            ]
          },
          "metadata": {},
          "execution_count": 25
        }
      ]
    },
    {
      "cell_type": "code",
      "source": [],
      "metadata": {
        "id": "gToG76VsKzbA"
      },
      "execution_count": null,
      "outputs": []
    }
  ]
}