{
 "cells": [
  {
   "cell_type": "code",
   "execution_count": null,
   "id": "6e62b7dc",
   "metadata": {},
   "outputs": [],
   "source": [
    "! pip install webcolors"
   ]
  },
  {
   "cell_type": "code",
   "execution_count": 5,
   "id": "30c4385e",
   "metadata": {},
   "outputs": [
    {
     "ename": "SyntaxError",
     "evalue": "incomplete input (495257760.py, line 40)",
     "output_type": "error",
     "traceback": [
      "\u001b[0;36m  Cell \u001b[0;32mIn [5], line 40\u001b[0;36m\u001b[0m\n\u001b[0;31m    print(rgb_to_\u001b[0m\n\u001b[0m                 ^\u001b[0m\n\u001b[0;31mSyntaxError\u001b[0m\u001b[0;31m:\u001b[0m incomplete input\n"
     ]
    }
   ],
   "source": [
    "# Import the necessary libraries\n",
    "import colorsys\n",
    "import webcolors\n",
    "\n",
    "# Define a list of the 20 most commonly used color groups\n",
    "most_common_groups = ['red', 'orange', 'yellow', 'green', 'blue', 'indigo', 'violet']\n",
    "\n",
    "# Define a function that takes an RGB tuple and returns the name of a color group\n",
    "def rgb_to_group(rgb):\n",
    "    # Use the colorsys library to convert the RGB tuple to the HSL color space\n",
    "    h, s, l = colorsys.rgb_to_hls(*rgb)\n",
    "    \n",
    "    # Determine the color group name based on the hue value\n",
    "    if h < 0.1:\n",
    "        color_group = 'red'\n",
    "    elif h < 0.2:\n",
    "        color_group = 'orange'\n",
    "    elif h < 0.3:\n",
    "        color_group = 'yellow'\n",
    "    elif h < 0.4:\n",
    "        color_group = 'green'\n",
    "    elif h < 0.5:\n",
    "        color_group = 'blue'\n",
    "    elif h < 0.6:\n",
    "        color_group = 'indigo'\n",
    "    elif h < 0.7:\n",
    "        color_group = 'violet'\n",
    "    else:\n",
    "        color_group = 'red'\n",
    "    \n",
    "    # Return the color group name\n",
    "    return color_group"
   ]
  },
  {
   "cell_type": "raw",
   "id": "5221b46f",
   "metadata": {},
   "source": []
  },
  {
   "cell_type": "code",
   "execution_count": 4,
   "id": "0b1599dd",
   "metadata": {},
   "outputs": [
    {
     "ename": "ValueError",
     "evalue": "'#7a0032' has no defined color name in css3",
     "output_type": "error",
     "traceback": [
      "\u001b[0;31m---------------------------------------------------------------------------\u001b[0m",
      "\u001b[0;31mValueError\u001b[0m                                Traceback (most recent call last)",
      "Cell \u001b[0;32mIn [4], line 1\u001b[0m\n\u001b[0;32m----> 1\u001b[0m \u001b[43mrgb_to_name\u001b[49m\u001b[43m(\u001b[49m\u001b[43m(\u001b[49m\u001b[38;5;241;43m122\u001b[39;49m\u001b[43m,\u001b[49m\u001b[38;5;241;43m0\u001b[39;49m\u001b[43m,\u001b[49m\u001b[38;5;241;43m50\u001b[39;49m\u001b[43m)\u001b[49m\u001b[43m)\u001b[49m\n",
      "Cell \u001b[0;32mIn [3], line 8\u001b[0m, in \u001b[0;36mrgb_to_name\u001b[0;34m(rgb)\u001b[0m\n\u001b[1;32m      6\u001b[0m \u001b[38;5;28;01mdef\u001b[39;00m \u001b[38;5;21mrgb_to_name\u001b[39m(rgb):\n\u001b[1;32m      7\u001b[0m     \u001b[38;5;66;03m# Use the webcolors library to convert the RGB tuple to the closest matching color name\u001b[39;00m\n\u001b[0;32m----> 8\u001b[0m     color_name \u001b[38;5;241m=\u001b[39m \u001b[43mwebcolors\u001b[49m\u001b[38;5;241;43m.\u001b[39;49m\u001b[43mrgb_to_name\u001b[49m\u001b[43m(\u001b[49m\u001b[43mrgb\u001b[49m\u001b[43m)\u001b[49m\n\u001b[1;32m     10\u001b[0m     \u001b[38;5;66;03m# Return the color name\u001b[39;00m\n\u001b[1;32m     11\u001b[0m     \u001b[38;5;28;01mreturn\u001b[39;00m color_name\n",
      "File \u001b[0;32m~/.pyenv/versions/3.10.6/envs/lewagon/lib/python3.10/site-packages/webcolors.py:470\u001b[0m, in \u001b[0;36mrgb_to_name\u001b[0;34m(rgb_triplet, spec)\u001b[0m\n\u001b[1;32m    457\u001b[0m \u001b[38;5;28;01mdef\u001b[39;00m \u001b[38;5;21mrgb_to_name\u001b[39m(rgb_triplet: IntTuple, spec: \u001b[38;5;28mstr\u001b[39m \u001b[38;5;241m=\u001b[39m CSS3) \u001b[38;5;241m-\u001b[39m\u001b[38;5;241m>\u001b[39m \u001b[38;5;28mstr\u001b[39m:\n\u001b[1;32m    458\u001b[0m     \u001b[38;5;124;03m\"\"\"\u001b[39;00m\n\u001b[1;32m    459\u001b[0m \u001b[38;5;124;03m    Convert a 3-tuple of integers, suitable for use in an ``rgb()``\u001b[39;00m\n\u001b[1;32m    460\u001b[0m \u001b[38;5;124;03m    color triplet, to its corresponding normalized color name, if any\u001b[39;00m\n\u001b[0;32m   (...)\u001b[0m\n\u001b[1;32m    468\u001b[0m \n\u001b[1;32m    469\u001b[0m \u001b[38;5;124;03m    \"\"\"\u001b[39;00m\n\u001b[0;32m--> 470\u001b[0m     \u001b[38;5;28;01mreturn\u001b[39;00m \u001b[43mhex_to_name\u001b[49m\u001b[43m(\u001b[49m\u001b[43mrgb_to_hex\u001b[49m\u001b[43m(\u001b[49m\u001b[43mnormalize_integer_triplet\u001b[49m\u001b[43m(\u001b[49m\u001b[43mrgb_triplet\u001b[49m\u001b[43m)\u001b[49m\u001b[43m)\u001b[49m\u001b[43m,\u001b[49m\u001b[43m \u001b[49m\u001b[43mspec\u001b[49m\u001b[38;5;241;43m=\u001b[39;49m\u001b[43mspec\u001b[49m\u001b[43m)\u001b[49m\n",
      "File \u001b[0;32m~/.pyenv/versions/3.10.6/envs/lewagon/lib/python3.10/site-packages/webcolors.py:430\u001b[0m, in \u001b[0;36mhex_to_name\u001b[0;34m(hex_value, spec)\u001b[0m\n\u001b[1;32m    423\u001b[0m name \u001b[38;5;241m=\u001b[39m {\n\u001b[1;32m    424\u001b[0m     CSS2: CSS2_HEX_TO_NAMES,\n\u001b[1;32m    425\u001b[0m     CSS21: CSS21_HEX_TO_NAMES,\n\u001b[1;32m    426\u001b[0m     CSS3: CSS3_HEX_TO_NAMES,\n\u001b[1;32m    427\u001b[0m     HTML4: HTML4_HEX_TO_NAMES,\n\u001b[1;32m    428\u001b[0m }[spec]\u001b[38;5;241m.\u001b[39mget(normalized)\n\u001b[1;32m    429\u001b[0m \u001b[38;5;28;01mif\u001b[39;00m name \u001b[38;5;129;01mis\u001b[39;00m \u001b[38;5;28;01mNone\u001b[39;00m:\n\u001b[0;32m--> 430\u001b[0m     \u001b[38;5;28;01mraise\u001b[39;00m \u001b[38;5;167;01mValueError\u001b[39;00m(\u001b[38;5;124m\"\u001b[39m\u001b[38;5;124m'\u001b[39m\u001b[38;5;132;01m{}\u001b[39;00m\u001b[38;5;124m'\u001b[39m\u001b[38;5;124m has no defined color name in \u001b[39m\u001b[38;5;132;01m{}\u001b[39;00m\u001b[38;5;124m\"\u001b[39m\u001b[38;5;241m.\u001b[39mformat(hex_value, spec))\n\u001b[1;32m    431\u001b[0m \u001b[38;5;28;01mreturn\u001b[39;00m name\n",
      "\u001b[0;31mValueError\u001b[0m: '#7a0032' has no defined color name in css3"
     ]
    }
   ],
   "source": [
    "rgb_to_name((122,0,50))"
   ]
  },
  {
   "cell_type": "code",
   "execution_count": null,
   "id": "39b68e7e",
   "metadata": {},
   "outputs": [],
   "source": []
  }
 ],
 "metadata": {
  "kernelspec": {
   "display_name": "Python 3 (ipykernel)",
   "language": "python",
   "name": "python3"
  },
  "language_info": {
   "codemirror_mode": {
    "name": "ipython",
    "version": 3
   },
   "file_extension": ".py",
   "mimetype": "text/x-python",
   "name": "python",
   "nbconvert_exporter": "python",
   "pygments_lexer": "ipython3",
   "version": "3.10.6"
  }
 },
 "nbformat": 4,
 "nbformat_minor": 5
}
