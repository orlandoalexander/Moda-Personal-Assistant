{
 "cells": [
  {
   "cell_type": "code",
   "execution_count": null,
   "id": "bb6f62ff",
   "metadata": {},
   "outputs": [],
   "source": [
    "! pip install webcolors"
   ]
  },
  {
   "cell_type": "code",
   "execution_count": 41,
   "id": "38b77293",
   "metadata": {},
   "outputs": [],
   "source": [
    "from scipy.spatial import KDTree\n",
    "from webcolors import (CSS3_HEX_TO_NAMES, hex_to_rgb)\n",
    "def convert_rgb_to_names(rgb_tuple):\n",
    "    \n",
    "    # a dictionary of all the hex and their respective names in css3\n",
    "    css3_db = CSS3_HEX_TO_NAMES\n",
    "    names = []\n",
    "    rgb_values = []\n",
    "    for color_hex, color_name in css3_db.items():\n",
    "        names.append(color_name)\n",
    "        rgb_values.append(hex_to_rgb(color_hex))\n",
    "    \n",
    "    kdt_db = KDTree(rgb_values)\n",
    "    distance, index = kdt_db.query(rgb_tuple)\n",
    "    return f'closest match: {names[index]}'"
   ]
  },
  {
   "cell_type": "code",
   "execution_count": 47,
   "id": "7620e0ce",
   "metadata": {},
   "outputs": [
    {
     "data": {
      "text/plain": [
       "'closest match: lightskyblue'"
      ]
     },
     "execution_count": 47,
     "metadata": {},
     "output_type": "execute_result"
    }
   ],
   "source": [
    "convert_rgb_to_names((95,200,255))"
   ]
  }
 ],
 "metadata": {
  "kernelspec": {
   "display_name": "Python 3 (ipykernel)",
   "language": "python",
   "name": "python3"
  },
  "language_info": {
   "codemirror_mode": {
    "name": "ipython",
    "version": 3
   },
   "file_extension": ".py",
   "mimetype": "text/x-python",
   "name": "python",
   "nbconvert_exporter": "python",
   "pygments_lexer": "ipython3",
   "version": "3.10.6"
  }
 },
 "nbformat": 4,
 "nbformat_minor": 5
}
