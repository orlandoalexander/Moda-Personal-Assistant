{
 "cells": [
  {
   "cell_type": "code",
   "execution_count": null,
   "id": "94da5ac6",
   "metadata": {},
   "outputs": [],
   "source": [
    "! pip install webcolors"
   ]
  },
  {
   "cell_type": "code",
   "execution_count": 1,
   "id": "1a22e458",
   "metadata": {},
   "outputs": [],
   "source": [
    "from scipy.spatial import KDTree\n",
    "from webcolors import (CSS3_HEX_TO_NAMES, hex_to_rgb)\n",
    "def convert_rgb_to_names(rgb_tuple):\n",
    "    \n",
    "    # a dictionary of all the hex and their respective names in css3\n",
    "    css3_db = CSS3_HEX_TO_NAMES\n",
    "    names = []\n",
    "    rgb_values = []\n",
    "    for color_hex, color_name in css3_db.items():\n",
    "        names.append(color_name)\n",
    "        rgb_values.append(hex_to_rgb(color_hex))\n",
    "    \n",
    "    kdt_db = KDTree(rgb_values)\n",
    "    distance, index = kdt_db.query(rgb_tuple)\n",
    "    return f'closest match: {names[index]}'"
   ]
  },
  {
   "cell_type": "code",
   "execution_count": 7,
   "id": "6b8b4fa0",
   "metadata": {},
   "outputs": [
    {
     "data": {
      "text/plain": [
       "'closest match: cornflowerblue'"
      ]
     },
     "execution_count": 7,
     "metadata": {},
     "output_type": "execute_result"
    }
   ],
   "source": [
    "convert_rgb_to_names((74, 143, 228))"
   ]
  },
  {
   "cell_type": "code",
   "execution_count": 9,
   "id": "8c86b021",
   "metadata": {},
   "outputs": [
    {
     "data": {
      "text/plain": [
       "'closest match: darkslategray'"
      ]
     },
     "execution_count": 9,
     "metadata": {},
     "output_type": "execute_result"
    }
   ],
   "source": [
    "convert_rgb_to_names((41, 41, 47))"
   ]
  },
  {
   "cell_type": "code",
   "execution_count": null,
   "id": "76cb73b5",
   "metadata": {},
   "outputs": [],
   "source": []
  }
 ],
 "metadata": {
  "kernelspec": {
   "display_name": "Python 3 (ipykernel)",
   "language": "python",
   "name": "python3"
  },
  "language_info": {
   "codemirror_mode": {
    "name": "ipython",
    "version": 3
   },
   "file_extension": ".py",
   "mimetype": "text/x-python",
   "name": "python",
   "nbconvert_exporter": "python",
   "pygments_lexer": "ipython3",
   "version": "3.10.6"
  },
  "toc": {
   "base_numbering": 1,
   "nav_menu": {},
   "number_sections": true,
   "sideBar": true,
   "skip_h1_title": false,
   "title_cell": "Table of Contents",
   "title_sidebar": "Contents",
   "toc_cell": false,
   "toc_position": {},
   "toc_section_display": true,
   "toc_window_display": false
  }
 },
 "nbformat": 4,
 "nbformat_minor": 5
}
