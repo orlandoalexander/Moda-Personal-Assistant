{
  "nbformat": 4,
  "nbformat_minor": 0,
  "metadata": {
    "colab": {
      "provenance": [],
      "machine_shape": "hm",
      "include_colab_link": true
    },
    "kernelspec": {
      "name": "python3",
      "display_name": "Python 3"
    },
    "language_info": {
      "name": "python"
    },
    "accelerator": "GPU",
    "gpuClass": "standard"
  },
  "cells": [
    {
      "cell_type": "markdown",
      "metadata": {
        "id": "view-in-github",
        "colab_type": "text"
      },
      "source": [
        "<a href=\"https://colab.research.google.com/github/orlandoalexander/Moda-Personal-Assistant/blob/models/Nigel_Attribute_ModelTesting.ipynb\" target=\"_parent\"><img src=\"https://colab.research.google.com/assets/colab-badge.svg\" alt=\"Open In Colab\"/></a>"
      ]
    },
    {
      "cell_type": "code",
      "source": [
        "import tensorflow as tf\n",
        "from sklearn.model_selection import train_test_split\n",
        "from tensorflow.keras.preprocessing.image import ImageDataGenerator\n",
        "from tensorflow.keras.layers import Dense, Flatten, LeakyReLU\n",
        "from tensorflow.keras.models import Sequential\n",
        "from tensorflow.keras.callbacks import EarlyStopping\n",
        "from tensorflow.keras.metrics import Precision, Recall\n",
        "from tensorflow.keras.layers import Input\n",
        "import pandas as pd\n",
        "import numpy as np\n"
      ],
      "metadata": {
        "id": "c1TXSUxe5Q_J"
      },
      "execution_count": 1,
      "outputs": []
    },
    {
      "cell_type": "code",
      "source": [
        "# Run this cell to mount your Google Drive.\n",
        "from google.colab import drive\n",
        "drive.mount('/content/drive')"
      ],
      "metadata": {
        "colab": {
          "base_uri": "https://localhost:8080/"
        },
        "id": "HotamS6T5ONO",
        "outputId": "25b18ffe-d1b7-4802-96c8-66ddc42fdfbe"
      },
      "execution_count": 2,
      "outputs": [
        {
          "output_type": "stream",
          "name": "stdout",
          "text": [
            "Drive already mounted at /content/drive; to attempt to forcibly remount, call drive.mount(\"/content/drive\", force_remount=True).\n"
          ]
        }
      ]
    },
    {
      "cell_type": "code",
      "source": [
        "# from tensorflow import keras\n",
        "# model = keras.models.load_model('/content/drive/MyDrive/Moda/saved_models/mobilenet_design_v1')"
      ],
      "metadata": {
        "id": "suM6PWK3UzPI"
      },
      "execution_count": 3,
      "outputs": []
    },
    {
      "cell_type": "code",
      "source": [
        "# model.call()"
      ],
      "metadata": {
        "id": "5AwdriOwUz3A"
      },
      "execution_count": 4,
      "outputs": []
    },
    {
      "cell_type": "code",
      "source": [
        "# !pip install --upgrade pip\n"
      ],
      "metadata": {
        "id": "yq8UFwXCvvCL"
      },
      "execution_count": 5,
      "outputs": []
    },
    {
      "cell_type": "code",
      "source": [
        "!pip install git+https://github.com/orlandoalexander/Moda-Personal-Assistant.git@preproc_package\n"
      ],
      "metadata": {
        "id": "fF8likxwv70d",
        "colab": {
          "base_uri": "https://localhost:8080/",
          "height": 1000
        },
        "outputId": "feada95b-a677-41cf-e464-2b8a9eb5b18a"
      },
      "execution_count": 6,
      "outputs": [
        {
          "output_type": "stream",
          "name": "stdout",
          "text": [
            "Looking in indexes: https://pypi.org/simple, https://us-python.pkg.dev/colab-wheels/public/simple/\n",
            "Collecting git+https://github.com/orlandoalexander/Moda-Personal-Assistant.git@preproc_package\n",
            "  Cloning https://github.com/orlandoalexander/Moda-Personal-Assistant.git (to revision preproc_package) to /tmp/pip-req-build-88sf5qk0\n",
            "  Running command git clone -q https://github.com/orlandoalexander/Moda-Personal-Assistant.git /tmp/pip-req-build-88sf5qk0\n",
            "  Running command git checkout -b preproc_package --track origin/preproc_package\n",
            "  Switched to a new branch 'preproc_package'\n",
            "  Branch 'preproc_package' set up to track remote branch 'preproc_package' from 'origin'.\n",
            "Requirement already satisfied: pandas==1.4.4 in /usr/local/lib/python3.8/dist-packages (from preproc==0.0.0) (1.4.4)\n",
            "Requirement already satisfied: numpy==1.23.5 in /usr/local/lib/python3.8/dist-packages (from preproc==0.0.0) (1.23.5)\n",
            "Collecting matplotlib==3.5.2\n",
            "  Using cached matplotlib-3.5.2-cp38-cp38-manylinux_2_5_x86_64.manylinux1_x86_64.whl (11.3 MB)\n",
            "Requirement already satisfied: sklearn-pandas==1.8.0 in /usr/local/lib/python3.8/dist-packages (from preproc==0.0.0) (1.8.0)\n",
            "Requirement already satisfied: absl-py==1.3.0 in /usr/local/lib/python3.8/dist-packages (from preproc==0.0.0) (1.3.0)\n",
            "Requirement already satisfied: astor==0.8.1 in /usr/local/lib/python3.8/dist-packages (from preproc==0.0.0) (0.8.1)\n",
            "Requirement already satisfied: astunparse==1.6.3 in /usr/local/lib/python3.8/dist-packages (from preproc==0.0.0) (1.6.3)\n",
            "Requirement already satisfied: cachetools==5.2.0 in /usr/local/lib/python3.8/dist-packages (from preproc==0.0.0) (5.2.0)\n",
            "Requirement already satisfied: certifi==2022.9.24 in /usr/local/lib/python3.8/dist-packages (from preproc==0.0.0) (2022.9.24)\n",
            "Requirement already satisfied: charset-normalizer==2.1.1 in /usr/local/lib/python3.8/dist-packages (from preproc==0.0.0) (2.1.1)\n",
            "Requirement already satisfied: flatbuffers==22.12.6 in /usr/local/lib/python3.8/dist-packages (from preproc==0.0.0) (22.12.6)\n",
            "Requirement already satisfied: gast==0.4.0 in /usr/local/lib/python3.8/dist-packages (from preproc==0.0.0) (0.4.0)\n",
            "Requirement already satisfied: google-auth==2.15.0 in /usr/local/lib/python3.8/dist-packages (from preproc==0.0.0) (2.15.0)\n",
            "Requirement already satisfied: google-auth-oauthlib==0.4.6 in /usr/local/lib/python3.8/dist-packages (from preproc==0.0.0) (0.4.6)\n",
            "Requirement already satisfied: google-pasta==0.2.0 in /usr/local/lib/python3.8/dist-packages (from preproc==0.0.0) (0.2.0)\n",
            "Requirement already satisfied: grpcio==1.51.1 in /usr/local/lib/python3.8/dist-packages (from preproc==0.0.0) (1.51.1)\n",
            "Requirement already satisfied: h5py==3.7.0 in /usr/local/lib/python3.8/dist-packages (from preproc==0.0.0) (3.7.0)\n",
            "Requirement already satisfied: idna==3.4 in /usr/local/lib/python3.8/dist-packages (from preproc==0.0.0) (3.4)\n",
            "Requirement already satisfied: importlib-metadata==5.1.0 in /usr/local/lib/python3.8/dist-packages (from preproc==0.0.0) (5.1.0)\n",
            "Requirement already satisfied: joblib==1.2.0 in /usr/local/lib/python3.8/dist-packages (from preproc==0.0.0) (1.2.0)\n",
            "Requirement already satisfied: Keras-Preprocessing==1.1.2 in /usr/local/lib/python3.8/dist-packages (from preproc==0.0.0) (1.1.2)\n",
            "Requirement already satisfied: libclang==14.0.6 in /usr/local/lib/python3.8/dist-packages (from preproc==0.0.0) (14.0.6)\n",
            "Requirement already satisfied: Markdown==3.4.1 in /usr/local/lib/python3.8/dist-packages (from preproc==0.0.0) (3.4.1)\n",
            "Requirement already satisfied: MarkupSafe==2.1.1 in /usr/local/lib/python3.8/dist-packages (from preproc==0.0.0) (2.1.1)\n",
            "Requirement already satisfied: oauthlib==3.2.2 in /usr/local/lib/python3.8/dist-packages (from preproc==0.0.0) (3.2.2)\n",
            "Requirement already satisfied: opt-einsum==3.3.0 in /usr/local/lib/python3.8/dist-packages (from preproc==0.0.0) (3.3.0)\n",
            "Requirement already satisfied: packaging==21.3 in /usr/local/lib/python3.8/dist-packages (from preproc==0.0.0) (21.3)\n",
            "Requirement already satisfied: protobuf==3.19.6 in /usr/local/lib/python3.8/dist-packages (from preproc==0.0.0) (3.19.6)\n",
            "Requirement already satisfied: pyasn1==0.4.8 in /usr/local/lib/python3.8/dist-packages (from preproc==0.0.0) (0.4.8)\n",
            "Requirement already satisfied: pyasn1-modules==0.2.8 in /usr/local/lib/python3.8/dist-packages (from preproc==0.0.0) (0.2.8)\n",
            "Requirement already satisfied: pyparsing==3.0.9 in /usr/local/lib/python3.8/dist-packages (from preproc==0.0.0) (3.0.9)\n",
            "Requirement already satisfied: python-dateutil==2.8.2 in /usr/local/lib/python3.8/dist-packages (from preproc==0.0.0) (2.8.2)\n",
            "Requirement already satisfied: pytz==2022.6 in /usr/local/lib/python3.8/dist-packages (from preproc==0.0.0) (2022.6)\n",
            "Requirement already satisfied: requests==2.28.1 in /usr/local/lib/python3.8/dist-packages (from preproc==0.0.0) (2.28.1)\n",
            "Requirement already satisfied: requests-oauthlib==1.3.1 in /usr/local/lib/python3.8/dist-packages (from preproc==0.0.0) (1.3.1)\n",
            "Requirement already satisfied: rsa==4.9 in /usr/local/lib/python3.8/dist-packages (from preproc==0.0.0) (4.9)\n",
            "Requirement already satisfied: scikit-learn==1.1.3 in /usr/local/lib/python3.8/dist-packages (from preproc==0.0.0) (1.1.3)\n",
            "Requirement already satisfied: scipy==1.9.3 in /usr/local/lib/python3.8/dist-packages (from preproc==0.0.0) (1.9.3)\n",
            "Requirement already satisfied: six==1.16.0 in /usr/local/lib/python3.8/dist-packages (from preproc==0.0.0) (1.16.0)\n",
            "Requirement already satisfied: tensorboard-data-server==0.6.1 in /usr/local/lib/python3.8/dist-packages (from preproc==0.0.0) (0.6.1)\n",
            "Requirement already satisfied: tensorboard-plugin-wit==1.8.1 in /usr/local/lib/python3.8/dist-packages (from preproc==0.0.0) (1.8.1)\n",
            "Requirement already satisfied: termcolor==2.1.1 in /usr/local/lib/python3.8/dist-packages (from preproc==0.0.0) (2.1.1)\n",
            "Requirement already satisfied: threadpoolctl==3.1.0 in /usr/local/lib/python3.8/dist-packages (from preproc==0.0.0) (3.1.0)\n",
            "Requirement already satisfied: typing_extensions==4.4.0 in /usr/local/lib/python3.8/dist-packages (from preproc==0.0.0) (4.4.0)\n",
            "Requirement already satisfied: urllib3==1.26.13 in /usr/local/lib/python3.8/dist-packages (from preproc==0.0.0) (1.26.13)\n",
            "Requirement already satisfied: Werkzeug==2.2.2 in /usr/local/lib/python3.8/dist-packages (from preproc==0.0.0) (2.2.2)\n",
            "Requirement already satisfied: wrapt==1.14.1 in /usr/local/lib/python3.8/dist-packages (from preproc==0.0.0) (1.14.1)\n",
            "Requirement already satisfied: zipp==3.11.0 in /usr/local/lib/python3.8/dist-packages (from preproc==0.0.0) (3.11.0)\n",
            "Requirement already satisfied: keras==2.11.0 in /usr/local/lib/python3.8/dist-packages (from preproc==0.0.0) (2.11.0)\n",
            "Requirement already satisfied: tensorboard==2.11 in /usr/local/lib/python3.8/dist-packages (from preproc==0.0.0) (2.11.0)\n",
            "Requirement already satisfied: tensorflow-estimator==2.11.0 in /usr/local/lib/python3.8/dist-packages (from preproc==0.0.0) (2.11.0)\n",
            "Requirement already satisfied: tensorflow==2.11.0 in /usr/local/lib/python3.8/dist-packages (from preproc==0.0.0) (2.11.0)\n",
            "Requirement already satisfied: wheel<1.0,>=0.23.0 in /usr/local/lib/python3.8/dist-packages (from astunparse==1.6.3->preproc==0.0.0) (0.38.4)\n",
            "Requirement already satisfied: cycler>=0.10 in /usr/local/lib/python3.8/dist-packages (from matplotlib==3.5.2->preproc==0.0.0) (0.11.0)\n",
            "Requirement already satisfied: pillow>=6.2.0 in /usr/local/lib/python3.8/dist-packages (from matplotlib==3.5.2->preproc==0.0.0) (7.1.2)\n",
            "Requirement already satisfied: kiwisolver>=1.0.1 in /usr/local/lib/python3.8/dist-packages (from matplotlib==3.5.2->preproc==0.0.0) (1.4.4)\n",
            "Requirement already satisfied: fonttools>=4.22.0 in /usr/local/lib/python3.8/dist-packages (from matplotlib==3.5.2->preproc==0.0.0) (4.38.0)\n",
            "Requirement already satisfied: setuptools>=41.0.0 in /usr/local/lib/python3.8/dist-packages (from tensorboard==2.11->preproc==0.0.0) (57.4.0)\n",
            "Requirement already satisfied: tensorflow-io-gcs-filesystem>=0.23.1 in /usr/local/lib/python3.8/dist-packages (from tensorflow==2.11.0->preproc==0.0.0) (0.28.0)\n",
            "Installing collected packages: matplotlib\n",
            "  Attempting uninstall: matplotlib\n",
            "    Found existing installation: matplotlib 3.6.2\n",
            "    Uninstalling matplotlib-3.6.2:\n",
            "      Successfully uninstalled matplotlib-3.6.2\n",
            "Successfully installed matplotlib-3.5.2\n"
          ]
        },
        {
          "output_type": "display_data",
          "data": {
            "application/vnd.colab-display-data+json": {
              "pip_warning": {
                "packages": [
                  "matplotlib",
                  "mpl_toolkits"
                ]
              }
            }
          },
          "metadata": {}
        }
      ]
    },
    {
      "cell_type": "code",
      "source": [
        "# Uncomment as needed\n",
        "# !unzip '/content/drive/MyDrive/attribute_img/img.zip' # Attribute\n",
        "# !unzip '/content/drive/MyDrive/Moda/images.zip'"
      ],
      "metadata": {
        "id": "WTijLFXOh_g9",
        "outputId": "57951294-72ad-493f-9920-17ee588a6253",
        "colab": {
          "base_uri": "https://localhost:8080/"
        }
      },
      "execution_count": 7,
      "outputs": [
        {
          "output_type": "stream",
          "name": "stdout",
          "text": [
            "Archive:  /content/drive/MyDrive/Moda/images.zip\n",
            "replace images/MEN-Denim-id_00000080-01_7_additional.jpg? [y]es, [n]o, [A]ll, [N]one, [r]ename: N\n",
            "N\n"
          ]
        }
      ]
    },
    {
      "cell_type": "code",
      "source": [
        "from preproc.preprocess import SectionPreproc\n"
      ],
      "metadata": {
        "id": "QA8yjzxuwAgU"
      },
      "execution_count": 8,
      "outputs": []
    },
    {
      "cell_type": "code",
      "source": [
        "# input size for resnet, efficientnet and mobilenet is (224,224). For inceptionv3 use 299,299\n",
        "prep = SectionPreproc('images', (224,224), 0.2)"
      ],
      "metadata": {
        "id": "an3Vit6udBvo"
      },
      "execution_count": 9,
      "outputs": []
    },
    {
      "cell_type": "code",
      "source": [
        "X_train, X_test, y_train, y_test, names  = prep.run()"
      ],
      "metadata": {
        "id": "yTU4WRpWvvF2",
        "colab": {
          "base_uri": "https://localhost:8080/"
        },
        "outputId": "bc0662f8-cd4b-4432-d60c-3a1b52518423"
      },
      "execution_count": null,
      "outputs": [
        {
          "output_type": "stream",
          "name": "stdout",
          "text": [
            "Augmenting section 'upper'...\n"
          ]
        }
      ]
    },
    {
      "cell_type": "code",
      "source": [
        "names"
      ],
      "metadata": {
        "id": "mBae4woHmQaE"
      },
      "execution_count": null,
      "outputs": []
    },
    {
      "cell_type": "code",
      "source": [
        "import matplotlib.pyplot as plt"
      ],
      "metadata": {
        "id": "oemAZXZSmjeP"
      },
      "execution_count": null,
      "outputs": []
    },
    {
      "cell_type": "code",
      "source": [
        "plt.imshow(X_test[5000])"
      ],
      "metadata": {
        "id": "Hl8caSSEmIPT"
      },
      "execution_count": null,
      "outputs": []
    },
    {
      "cell_type": "code",
      "source": [
        "np.save('X_train.npy',X_train)\n",
        "np.save('X_test.npy',X_test)\n",
        "np.save('y_train.npy',y_train)\n",
        "np.save('y_test.npy',y_test)\n"
      ],
      "metadata": {
        "id": "JeLuGv9Oljm8"
      },
      "execution_count": null,
      "outputs": []
    },
    {
      "cell_type": "code",
      "source": [
        "from matplotlib.pyplot import imshow"
      ],
      "metadata": {
        "id": "aoylJpuFHffv"
      },
      "execution_count": null,
      "outputs": []
    },
    {
      "cell_type": "code",
      "source": [
        "names"
      ],
      "metadata": {
        "id": "5bfLFVBltjV1"
      },
      "execution_count": null,
      "outputs": []
    },
    {
      "cell_type": "code",
      "source": [
        "imshow(X_test[8])\n",
        "y_test[8]"
      ],
      "metadata": {
        "id": "UXY1x34LKp32"
      },
      "execution_count": null,
      "outputs": []
    },
    {
      "cell_type": "code",
      "source": [
        "import time"
      ],
      "metadata": {
        "id": "fEhHd5swH0hI"
      },
      "execution_count": null,
      "outputs": []
    },
    {
      "cell_type": "code",
      "source": [
        "# imshow(X_train[])\n",
        "# y_train[]"
      ],
      "metadata": {
        "id": "nc1AstMsHiUG"
      },
      "execution_count": null,
      "outputs": []
    },
    {
      "cell_type": "code",
      "source": [
        "pd.DataFrame(y_train).value_counts()"
      ],
      "metadata": {
        "id": "9hc3oYKPF5dR"
      },
      "execution_count": null,
      "outputs": []
    },
    {
      "cell_type": "code",
      "source": [
        "## New Class code\n",
        "y_train[:, :4]"
      ],
      "metadata": {
        "id": "-9YbpxpEvp-5"
      },
      "execution_count": null,
      "outputs": []
    },
    {
      "cell_type": "code",
      "source": [],
      "metadata": {
        "id": "EkvV0d91O3RC"
      },
      "execution_count": null,
      "outputs": []
    },
    {
      "cell_type": "code",
      "source": [
        "## Orginal Class code\n",
        "\n",
        "from keras.layers import Input, Dense, Flatten, GlobalAveragePooling2D, Lambda, BatchNormalization, Dropout\n",
        "from keras import Sequential, Model\n",
        "from keras.metrics import Precision, Recall\n",
        "from keras.optimizers import Adam\n",
        "from keras.callbacks import EarlyStopping\n",
        "\n",
        "from keras.applications import InceptionV3\n",
        "from keras.applications import inception_v3\n",
        "from keras.applications import ResNet50\n",
        "from keras.applications import MobileNetV2\n",
        "from keras.applications import MobileNet\n",
        "from keras.applications import mobilenet_v2\n",
        "from keras.applications import EfficientNetB0\n",
        "from keras.applications import efficientnet\n",
        "from keras.applications import mobilenet\n",
        "from keras.applications import resnet\n",
        "from keras.applications import inception_v3\n",
        "\n",
        "from sklearn.model_selection import train_test_split\n",
        "\n",
        "# attribute should be one of the following strings:\n",
        "# 'design', 'sleeves', 'length', 'neckline', 'fabric', 'fit'\n",
        "\n",
        "# model should be one of the following strings:\n",
        "# 'inception', 'resnet', 'mobilenet', 'efficientnet'\n",
        "\n",
        "class AttrModel(Model):\n",
        "    def __init__(self, attribute, epochs, model_name, in_shape, batch_size, callbacks, final_layer_neurons,\n",
        "                 pretrain_lr, finetune_lr,\n",
        "                 X_train, X_test,\n",
        "                 y_train, y_test, **kwargs):\n",
        "        super().__init__()\n",
        "        self.attribute = attribute\n",
        "        self.model_name = model_name.lower()\n",
        "        self.in_shape = in_shape\n",
        "        self.batch_size = batch_size\n",
        "        self.epochs = epochs\n",
        "        self.pretrain_lr = pretrain_lr\n",
        "        self.finetune_lr = finetune_lr\n",
        "        self.callbacks = callbacks\n",
        "        self.final_layer_neurons = final_layer_neurons\n",
        "        self.kwargs = kwargs\n",
        "        self.X_pretrain, self.X_finetune, self.y_pretrain, self.y_finetune = train_test_split(\n",
        "            X_train, y_train, test_size=0.5\n",
        "        )\n",
        "        self.X_test = X_test\n",
        "        self.y_test = y_test\n",
        "        self.cat_nums = {\n",
        "            'design': 7,\n",
        "            'sleeves': 3,\n",
        "            'length': 2,      # Binary category = 1\n",
        "            'neckline': 4,\n",
        "            'fabric': 6,\n",
        "            'fit': 3,\n",
        "            'section': 4\n",
        "        }\n",
        "\n",
        "        del X_train\n",
        "        del y_train\n",
        "\n",
        "        self.cat_num = self.cat_nums[self.attribute]\n",
        "        self.activation = 'softmax'\n",
        "        self.loss = 'categorical_crossentropy'\n",
        "        self.model = self.instantiate_model()  # calling the function below\n",
        "\n",
        "    def instantiate_model(self):\n",
        "        input = Input(self.in_shape)\n",
        "        if self.model_name == 'inception':              # calling the chosen pretrained model\n",
        "            base_model = InceptionV3(include_top=False, weights='imagenet',\n",
        "                                    classes=self.cat_num, input_shape=self.in_shape)\n",
        "            self.preprocess_input = inception_v3.preprocess_input\n",
        "        elif self.model_name == 'resnet':\n",
        "            base_model = ResNet50(include_top=False, weights='imagenet',\n",
        "                                  classes=self.cat_num, input_shape=self.in_shape)\n",
        "            self.preprocess_input = resnet.preprocess_input\n",
        "        elif self.model_name == 'mobilenet':\n",
        "            base_model = MobileNetV2(include_top=False, weights='imagenet',\n",
        "                                     classes=self.cat_num, input_shape=self.in_shape)\n",
        "            self.preprocess_input = mobilenet.preprocess_input\n",
        "        elif self.model_name == 'efficientnet':\n",
        "            base_model = EfficientNetB0(include_top=False, weights='imagenet',\n",
        "                                        classes=self.cat_num, input_shape=self.in_shape)\n",
        "            self.preprocess_input = efficientnet.preprocess_input\n",
        "        else:\n",
        "            print('''No model found. Please pass one of the following:\n",
        "                  inception, resnet, mobilenet, efficientnet''')\n",
        "\n",
        "        base_model.trainable = False    # freeze layers\n",
        "        outputs = base_model(input)\n",
        "        outputs = BatchNormalization(name='BatchNormalization')(outputs)\n",
        "        outputs = GlobalAveragePooling2D()(outputs)\n",
        "        outputs = Dropout(0.5)(outputs)\n",
        "        outputs = Dense(units=self.final_layer_neurons, activation='relu')(outputs)\n",
        "        outputs = LeakyReLU(alpha=0.1)(outputs)\n",
        "        outputs = Dropout(0.25)(outputs)\n",
        "        outputs = Dense(units=self.cat_num, activation=self.activation)(outputs)\n",
        "        self.model = Model(inputs = [input], outputs = [outputs])\n",
        "        self.model.save('')\n",
        "        print(self.loss) # check loss func\n",
        "        self.model.compile(loss=self.loss, optimizer=Adam(learning_rate=self.pretrain_lr),\n",
        "                      metrics=['accuracy', Precision(), Recall()])\n",
        "        return self.model\n",
        "\n",
        "    def train(self):\n",
        "        self.datagen = ImageDataGenerator(preprocessing_function=self.preprocess_input)\n",
        "\n",
        "        self.X_pretrain, self.X_val, self.y_pretrain, self.y_val = train_test_split(\n",
        "            self.X_pretrain, self.y_pretrain, test_size=0.2\n",
        "        )\n",
        "\n",
        "        self.pretrain_generator = self.datagen.flow( \n",
        "        self.X_pretrain, self.y_pretrain,                                \n",
        "        batch_size=16)\n",
        "\n",
        "        self.pretrain_val = self.datagen.flow( \n",
        "        self.X_val, self.y_val,                                \n",
        "        batch_size=16)\n",
        "\n",
        "        # Train the model on the images and labels\n",
        "        self.model.history = self.model.fit(self.pretrain_generator,validation_data = self.pretrain_val,\n",
        "        epochs=self.epochs, batch_size=self.batch_size, verbose=1, \n",
        "        callbacks=self.callbacks)\n",
        "\n",
        "        del self.pretrain_generator\n",
        "        del self.pretrain_val\n",
        "\n",
        "        return self.model.history\n",
        "\n",
        "    def finetune(self,\n",
        "                 metrics=['accuracy', Precision(), Recall()]):\n",
        "        self.finetune_generator = self.datagen.flow( \n",
        "        self.X_finetune, self.y_finetune,                                \n",
        "        batch_size=16)\n",
        "      \n",
        "        self.model.trainable = True     # unfreeze layers, then compile to save changes\n",
        "        self.model.compile(\n",
        "            optimizer=Adam(self.finetune_lr),                  # Very low learning rate\n",
        "            loss=self.loss,\n",
        "            metrics=metrics)\n",
        "        self.model.fit(self.finetune_generator,\n",
        "                       epochs=self.epochs, batch_size=self.batch_size,\n",
        "                       callbacks=self.callbacks)\n",
        "        \n",
        "        del self.finetune_generator\n",
        "        return self.model, self.model.history\n",
        "\n",
        "    def evaluate(self):\n",
        "        self.test_generator = self.datagen.flow( \n",
        "        self.X_test, self.y_test,                                \n",
        "        batch_size=16)\n",
        "        res = self.model.evaluate(self.test_generator, verbose=1)\n",
        "        del self.test_generator\n",
        "        return res\n",
        "    def predict(self, X):\n",
        "        return self.model.predict(self.preprocess_input(X))\n",
        "\n",
        "\n",
        "    def save(self, filepath):\n",
        "        return tf.keras.models.save_model(self.model,\n",
        "                                   filepath=filepath)\n",
        "        \n",
        "    def summary(self):\n",
        "        return self.model.summary()\n"
      ],
      "metadata": {
        "id": "RYPiOxL3vvLc"
      },
      "execution_count": null,
      "outputs": []
    },
    {
      "cell_type": "code",
      "source": [],
      "metadata": {
        "id": "-rlQcMM8yAK9"
      },
      "execution_count": null,
      "outputs": []
    },
    {
      "cell_type": "code",
      "execution_count": null,
      "metadata": {
        "id": "YAeTs3Tz49-u"
      },
      "outputs": [],
      "source": [
        "mobilenet_section = AttrModel(attribute='section',\n",
        "                      model_name='mobilenet',\n",
        "                      in_shape=(224,224,3),\n",
        "                      batch_size= 32,\n",
        "                      epochs=25,\n",
        "                      pretrain_lr = .0001,\n",
        "                      finetune_lr = .00001,\n",
        "                      callbacks = EarlyStopping(patience=3, restore_best_weights=True, monitor='accuracy'),\n",
        "                      final_layer_neurons=100,\n",
        "                      X_train=X_train,\n",
        "                      X_test=X_test,\n",
        "                      y_train=y_train[:, :4],\n",
        "                      y_test=y_test[:, :4])"
      ]
    },
    {
      "cell_type": "code",
      "source": [
        "mobilenet_section.train()"
      ],
      "metadata": {
        "id": "unQyCZR4igv_"
      },
      "execution_count": null,
      "outputs": []
    },
    {
      "cell_type": "code",
      "source": [
        "mobilenet_section.evaluate()"
      ],
      "metadata": {
        "id": "h2k8h_fPyDKR"
      },
      "execution_count": null,
      "outputs": []
    },
    {
      "cell_type": "code",
      "source": [
        " "
      ],
      "metadata": {
        "id": "hpUxfPSBTbNc"
      },
      "execution_count": null,
      "outputs": []
    },
    {
      "cell_type": "code",
      "source": [
        "mobilenet_section.finetune()"
      ],
      "metadata": {
        "id": "9_xfF9c35hF3"
      },
      "execution_count": null,
      "outputs": []
    },
    {
      "cell_type": "code",
      "source": [],
      "metadata": {
        "id": "RpyOoMIQWvNu"
      },
      "execution_count": null,
      "outputs": []
    },
    {
      "cell_type": "code",
      "source": [
        "mobilenet_section.summary()"
      ],
      "metadata": {
        "id": "OXeIHK_wv_Gk"
      },
      "execution_count": null,
      "outputs": []
    },
    {
      "cell_type": "code",
      "source": [],
      "metadata": {
        "id": "Swg7hky32Rbl"
      },
      "execution_count": null,
      "outputs": []
    },
    {
      "cell_type": "code",
      "source": [
        "mobilenet_section.evaluate()"
      ],
      "metadata": {
        "id": "SYDX2VOOeYhE"
      },
      "execution_count": null,
      "outputs": []
    },
    {
      "cell_type": "code",
      "source": [],
      "metadata": {
        "id": "TDpH-udQ58U1"
      },
      "execution_count": null,
      "outputs": []
    },
    {
      "cell_type": "code",
      "source": [
        "mobilenet_length.save('/content/drive/MyDrive/Moda/saved_models/mobilenet_length_v1')"
      ],
      "metadata": {
        "colab": {
          "base_uri": "https://localhost:8080/"
        },
        "id": "D476o6ec2SGK",
        "outputId": "dcc92203-f1a6-4d4b-c41a-a3e393e39d58"
      },
      "execution_count": null,
      "outputs": [
        {
          "output_type": "stream",
          "name": "stderr",
          "text": [
            "WARNING:absl:Found untraced functions such as _jit_compiled_convolution_op, _jit_compiled_convolution_op, _jit_compiled_convolution_op, _jit_compiled_convolution_op, _jit_compiled_convolution_op while saving (showing 5 of 52). These functions will not be directly callable after loading.\n"
          ]
        }
      ]
    },
    {
      "cell_type": "markdown",
      "source": [],
      "metadata": {
        "id": "DbGEJ_TX1qOu"
      }
    },
    {
      "cell_type": "code",
      "source": [],
      "metadata": {
        "id": "_FTsp_Pppx8N"
      },
      "execution_count": null,
      "outputs": []
    },
    {
      "cell_type": "code",
      "source": [
        "mobilenet_length_v1_metrics = {\n",
        "    'loss': 0.2144,\n",
        "    'accuracy': 0.9276,\n",
        "    'precision': 0.9276,\n",
        "    'recall': 0.9276\n",
        "    }"
      ],
      "metadata": {
        "id": "b1damN0bsXmK"
      },
      "execution_count": null,
      "outputs": []
    },
    {
      "cell_type": "code",
      "source": [],
      "metadata": {
        "id": "hCGnnUNTEs-t"
      },
      "execution_count": null,
      "outputs": []
    },
    {
      "cell_type": "code",
      "source": [
        "import json"
      ],
      "metadata": {
        "id": "lEvlFQW81yJ7"
      },
      "execution_count": null,
      "outputs": []
    },
    {
      "cell_type": "code",
      "source": [
        "# Writing to sample.json\n",
        "with open('/content/drive/MyDrive/Moda/saved_models/mobilenet_length_v1/eval_metrics.txt', 'w') as outfile:\n",
        "    outfile.write(json.dumps(mobilenet_length_v1_metrics))"
      ],
      "metadata": {
        "id": "JdP2pz_F0wG1"
      },
      "execution_count": null,
      "outputs": []
    },
    {
      "cell_type": "code",
      "source": [],
      "metadata": {
        "id": "LcBNr4osJkOC"
      },
      "execution_count": null,
      "outputs": []
    }
  ]
}