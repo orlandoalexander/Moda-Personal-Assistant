{
 "cells": [
  {
   "cell_type": "code",
   "execution_count": 1,
   "id": "77c31e6a",
   "metadata": {
    "id": "77c31e6a"
   },
   "outputs": [],
   "source": [
    "import pandas as pd\n",
    "import numpy as np\n",
    "from matplotlib import pyplot as plt\n",
    "import requests\n",
    "from PIL import Image, ImageOps\n",
    "import cv2\n",
    "from scipy import cluster\n",
    "from sklearn.preprocessing import MinMaxScaler\n",
    "import imagesize\n",
    "import random\n",
    "from sklearn.preprocessing import LabelEncoder\n",
    "from ipywidgets import interact\n",
    "import time\n",
    "from io import BytesIO\n",
    "from keras.applications.vgg16 import VGG16\n",
    "from keras.applications.vgg16 import preprocess_input\n",
    "from keras.callbacks import EarlyStopping\n",
    "from keras import Sequential\n",
    "from keras import layers, models\n",
    "from keras.preprocessing.image import ImageDataGenerator\n",
    "from tqdm.notebook import tqdm\n",
    "from keras.metrics import Precision, Recall, Accuracy\n",
    "from sklearn.model_selection import train_test_split\n",
    "from sklearn.pipeline import make_pipeline\n",
    "from sklearn.preprocessing import FunctionTransformer\n",
    "from math import ceil\n",
    "import os"
   ]
  },
  {
   "cell_type": "code",
   "execution_count": null,
   "id": "tn69h8XONGXf",
   "metadata": {
    "colab": {
     "base_uri": "https://localhost:8080/"
    },
    "id": "tn69h8XONGXf",
    "outputId": "e22bb404-239d-41b6-bd6f-8630778aa6eb"
   },
   "outputs": [],
   "source": [
    "#!pip install --upgrade pip"
   ]
  },
  {
   "cell_type": "code",
   "execution_count": null,
   "id": "Z9iZdmf_NaQ7",
   "metadata": {
    "id": "Z9iZdmf_NaQ7"
   },
   "outputs": [],
   "source": [
    "#!git clone -b preproc_package https://github.com/orlandoalexander/Moda-Personal-Assistant.git"
   ]
  },
  {
   "cell_type": "code",
   "execution_count": null,
   "id": "bKmDfLhnNeTs",
   "metadata": {
    "id": "bKmDfLhnNeTs"
   },
   "outputs": [],
   "source": [
    "#%cd Moda-Personal-Assistant\n",
    "#! pip install ."
   ]
  },
  {
   "cell_type": "code",
   "execution_count": null,
   "id": "n0ZHHWLhO9lO",
   "metadata": {
    "id": "n0ZHHWLhO9lO"
   },
   "outputs": [],
   "source": [
    "#path = '/content/Moda-Personal-Assistant/img'"
   ]
  },
  {
   "cell_type": "code",
   "execution_count": null,
   "id": "A1O0jnfYPSa0",
   "metadata": {
    "id": "A1O0jnfYPSa0"
   },
   "outputs": [],
   "source": [
    "#prep = Preproc(path, (299,299), 'fabric', 0.2)"
   ]
  },
  {
   "cell_type": "code",
   "execution_count": null,
   "id": "VJZJOlW2PWgK",
   "metadata": {
    "colab": {
     "base_uri": "https://localhost:8080/"
    },
    "id": "VJZJOlW2PWgK",
    "outputId": "547533ca-03e3-49ae-d73c-30c81465013f"
   },
   "outputs": [],
   "source": [
    "#X_train, X_test, y_train, y_test = prep.run()"
   ]
  },
  {
   "cell_type": "code",
   "execution_count": null,
   "id": "Nj78lIYKRz7X",
   "metadata": {
    "id": "Nj78lIYKRz7X"
   },
   "outputs": [],
   "source": [
    "from psutil import virtual_memory\n",
    "ram_gb = virtual_memory().total / 1e9\n",
    "print('Your runtime has {:.1f} gigabytes of available RAM\\n'.format(ram_gb))\n",
    "\n",
    "if ram_gb < 20:\n",
    "  print('Not using a high-RAM runtime')\n",
    "else:\n",
    "  print('You are using a high-RAM runtime!')"
   ]
  },
  {
   "cell_type": "code",
   "execution_count": null,
   "id": "x125kCtiR1dr",
   "metadata": {
    "id": "x125kCtiR1dr"
   },
   "outputs": [],
   "source": [
    "pd.set_option('display.max_columns', None)"
   ]
  },
  {
   "cell_type": "code",
   "execution_count": null,
   "id": "6375906c",
   "metadata": {
    "colab": {
     "base_uri": "https://localhost:8080/"
    },
    "id": "TeWyl54THv16",
    "outputId": "ee052400-56cc-4812-93a1-712788f5e984"
   },
   "outputs": [],
   "source": [
    "# from google.colab import drive\n",
    "# drive.mount('/content/drive')"
   ]
  },
  {
   "cell_type": "code",
   "execution_count": null,
   "id": "9b490719",
   "metadata": {
    "id": "lw9Azl17u8Qv"
   },
   "outputs": [],
   "source": [
    "#!unzip '/content/drive/MyDrive/Le Wagon/Moda-Personal-Assistant/Data/DeepFashion_categorical_images_low/img.zip'"
   ]
  },
  {
   "cell_type": "code",
   "execution_count": null,
   "id": "a8e9e309",
   "metadata": {
    "id": "82067545"
   },
   "outputs": [],
   "source": [
    "#PATH_IMG = '/content/img/'\n",
    "#PATH_DATA = '/content/drive/MyDrive/Le Wagon/Moda-Personal-Assistant/Data/DeepFashion_attributes - train'\n"
   ]
  },
  {
   "cell_type": "code",
   "execution_count": 9,
   "id": "c2a64d59",
   "metadata": {},
   "outputs": [],
   "source": [
    "PATH_IMG = 'Data/DeepFashion_attributes_image/'\n",
    "PATH_DATA = 'Data/DeepFashion_attributes_data'\n"
   ]
  },
  {
   "cell_type": "markdown",
   "id": "5e20ee75",
   "metadata": {
    "heading_collapsed": true,
    "id": "5e20ee75"
   },
   "source": [
    "# Attributes"
   ]
  },
  {
   "cell_type": "markdown",
   "id": "78f09c6c",
   "metadata": {
    "id": "5e20ee75"
   },
   "source": [
    "# Categories"
   ]
  },
  {
   "cell_type": "markdown",
   "id": "1d8b8300",
   "metadata": {},
   "source": [
    "## Load raw data"
   ]
  },
  {
   "cell_type": "code",
   "execution_count": 52,
   "id": "49ab34f9",
   "metadata": {
    "id": "49ab34f9"
   },
   "outputs": [],
   "source": [
    "cat_names = pd.read_csv(PATH_DATA+'/list_category.txt',sep ='\\s+',header=None).reset_index().rename(columns={0:'category',1:'section','index':'cat_num'})\n"
   ]
  },
  {
   "cell_type": "code",
   "execution_count": 53,
   "id": "689814cf",
   "metadata": {
    "id": "689814cf"
   },
   "outputs": [],
   "source": [
    "cat_names['cat_num'] = cat_names['cat_num'].apply(lambda x : x+1)"
   ]
  },
  {
   "cell_type": "code",
   "execution_count": 54,
   "id": "e552cf72",
   "metadata": {
    "colab": {
     "base_uri": "https://localhost:8080/",
     "height": 206
    },
    "id": "e552cf72",
    "outputId": "5b350f1f-d976-4954-ac6e-e5f9be68bc37"
   },
   "outputs": [
    {
     "data": {
      "text/html": [
       "<div>\n",
       "<style scoped>\n",
       "    .dataframe tbody tr th:only-of-type {\n",
       "        vertical-align: middle;\n",
       "    }\n",
       "\n",
       "    .dataframe tbody tr th {\n",
       "        vertical-align: top;\n",
       "    }\n",
       "\n",
       "    .dataframe thead th {\n",
       "        text-align: right;\n",
       "    }\n",
       "</style>\n",
       "<table border=\"1\" class=\"dataframe\">\n",
       "  <thead>\n",
       "    <tr style=\"text-align: right;\">\n",
       "      <th></th>\n",
       "      <th>cat_num</th>\n",
       "      <th>category</th>\n",
       "      <th>section</th>\n",
       "    </tr>\n",
       "  </thead>\n",
       "  <tbody>\n",
       "    <tr>\n",
       "      <th>0</th>\n",
       "      <td>1</td>\n",
       "      <td>Anorak</td>\n",
       "      <td>1</td>\n",
       "    </tr>\n",
       "    <tr>\n",
       "      <th>1</th>\n",
       "      <td>2</td>\n",
       "      <td>Blazer</td>\n",
       "      <td>1</td>\n",
       "    </tr>\n",
       "    <tr>\n",
       "      <th>2</th>\n",
       "      <td>3</td>\n",
       "      <td>Blouse</td>\n",
       "      <td>1</td>\n",
       "    </tr>\n",
       "    <tr>\n",
       "      <th>3</th>\n",
       "      <td>4</td>\n",
       "      <td>Bomber</td>\n",
       "      <td>1</td>\n",
       "    </tr>\n",
       "    <tr>\n",
       "      <th>4</th>\n",
       "      <td>5</td>\n",
       "      <td>Button-Down</td>\n",
       "      <td>1</td>\n",
       "    </tr>\n",
       "  </tbody>\n",
       "</table>\n",
       "</div>"
      ],
      "text/plain": [
       "   cat_num     category  section\n",
       "0        1       Anorak        1\n",
       "1        2       Blazer        1\n",
       "2        3       Blouse        1\n",
       "3        4       Bomber        1\n",
       "4        5  Button-Down        1"
      ]
     },
     "execution_count": 54,
     "metadata": {},
     "output_type": "execute_result"
    }
   ],
   "source": [
    "cat_names.head()"
   ]
  },
  {
   "cell_type": "code",
   "execution_count": 55,
   "id": "10212d3f",
   "metadata": {
    "id": "10212d3f"
   },
   "outputs": [],
   "source": [
    "cat_tag = pd.read_csv(PATH_DATA+'/tag_cat_simple.txt',sep='\\s+',header=None,names=['category']).rename(columns={'category':'cat_num'})\n",
    "\n"
   ]
  },
  {
   "cell_type": "code",
   "execution_count": 56,
   "id": "c366f8fd",
   "metadata": {
    "id": "c366f8fd"
   },
   "outputs": [],
   "source": [
    "cat_img = pd.read_csv(PATH_DATA+'/img_simple.txt',sep='\\s+',header=None,names=['category']).rename(columns={'category':'img'})"
   ]
  },
  {
   "cell_type": "code",
   "execution_count": 57,
   "id": "3653dbd8",
   "metadata": {
    "id": "3653dbd8"
   },
   "outputs": [],
   "source": [
    "cat_num = cat_img.join(cat_tag).drop(columns='img')\n"
   ]
  },
  {
   "cell_type": "code",
   "execution_count": 58,
   "id": "8bc09c07",
   "metadata": {
    "colab": {
     "base_uri": "https://localhost:8080/",
     "height": 206
    },
    "id": "8bc09c07",
    "outputId": "f780d42a-c4bb-465f-b581-b4f891e58532"
   },
   "outputs": [
    {
     "data": {
      "text/html": [
       "<div>\n",
       "<style scoped>\n",
       "    .dataframe tbody tr th:only-of-type {\n",
       "        vertical-align: middle;\n",
       "    }\n",
       "\n",
       "    .dataframe tbody tr th {\n",
       "        vertical-align: top;\n",
       "    }\n",
       "\n",
       "    .dataframe thead th {\n",
       "        text-align: right;\n",
       "    }\n",
       "</style>\n",
       "<table border=\"1\" class=\"dataframe\">\n",
       "  <thead>\n",
       "    <tr style=\"text-align: right;\">\n",
       "      <th></th>\n",
       "      <th>cat_num</th>\n",
       "    </tr>\n",
       "  </thead>\n",
       "  <tbody>\n",
       "    <tr>\n",
       "      <th>0</th>\n",
       "      <td>3</td>\n",
       "    </tr>\n",
       "    <tr>\n",
       "      <th>1</th>\n",
       "      <td>33</td>\n",
       "    </tr>\n",
       "    <tr>\n",
       "      <th>2</th>\n",
       "      <td>41</td>\n",
       "    </tr>\n",
       "    <tr>\n",
       "      <th>3</th>\n",
       "      <td>26</td>\n",
       "    </tr>\n",
       "    <tr>\n",
       "      <th>4</th>\n",
       "      <td>2</td>\n",
       "    </tr>\n",
       "  </tbody>\n",
       "</table>\n",
       "</div>"
      ],
      "text/plain": [
       "   cat_num\n",
       "0        3\n",
       "1       33\n",
       "2       41\n",
       "3       26\n",
       "4        2"
      ]
     },
     "execution_count": 58,
     "metadata": {},
     "output_type": "execute_result"
    }
   ],
   "source": [
    "cat_num.head()"
   ]
  },
  {
   "cell_type": "code",
   "execution_count": 59,
   "id": "4b09cf1a",
   "metadata": {
    "id": "4b09cf1a"
   },
   "outputs": [],
   "source": [
    "cat = cat_num.merge(cat_names, on='cat_num', how='left').drop(columns='cat_num')\n",
    "\n"
   ]
  },
  {
   "cell_type": "code",
   "execution_count": 60,
   "id": "89994635",
   "metadata": {
    "colab": {
     "base_uri": "https://localhost:8080/",
     "height": 424
    },
    "id": "89994635",
    "outputId": "65c1758a-9f49-4fd9-fef1-3fbce75fd6d2"
   },
   "outputs": [
    {
     "data": {
      "text/html": [
       "<div>\n",
       "<style scoped>\n",
       "    .dataframe tbody tr th:only-of-type {\n",
       "        vertical-align: middle;\n",
       "    }\n",
       "\n",
       "    .dataframe tbody tr th {\n",
       "        vertical-align: top;\n",
       "    }\n",
       "\n",
       "    .dataframe thead th {\n",
       "        text-align: right;\n",
       "    }\n",
       "</style>\n",
       "<table border=\"1\" class=\"dataframe\">\n",
       "  <thead>\n",
       "    <tr style=\"text-align: right;\">\n",
       "      <th></th>\n",
       "      <th>category</th>\n",
       "      <th>section</th>\n",
       "    </tr>\n",
       "  </thead>\n",
       "  <tbody>\n",
       "    <tr>\n",
       "      <th>0</th>\n",
       "      <td>Blouse</td>\n",
       "      <td>1</td>\n",
       "    </tr>\n",
       "    <tr>\n",
       "      <th>1</th>\n",
       "      <td>Skirt</td>\n",
       "      <td>2</td>\n",
       "    </tr>\n",
       "    <tr>\n",
       "      <th>2</th>\n",
       "      <td>Dress</td>\n",
       "      <td>3</td>\n",
       "    </tr>\n",
       "    <tr>\n",
       "      <th>3</th>\n",
       "      <td>Jeans</td>\n",
       "      <td>2</td>\n",
       "    </tr>\n",
       "    <tr>\n",
       "      <th>4</th>\n",
       "      <td>Blazer</td>\n",
       "      <td>1</td>\n",
       "    </tr>\n",
       "    <tr>\n",
       "      <th>...</th>\n",
       "      <td>...</td>\n",
       "      <td>...</td>\n",
       "    </tr>\n",
       "    <tr>\n",
       "      <th>19995</th>\n",
       "      <td>Tank</td>\n",
       "      <td>1</td>\n",
       "    </tr>\n",
       "    <tr>\n",
       "      <th>19996</th>\n",
       "      <td>Sweater</td>\n",
       "      <td>1</td>\n",
       "    </tr>\n",
       "    <tr>\n",
       "      <th>19997</th>\n",
       "      <td>Henley</td>\n",
       "      <td>1</td>\n",
       "    </tr>\n",
       "    <tr>\n",
       "      <th>19998</th>\n",
       "      <td>Jumpsuit</td>\n",
       "      <td>3</td>\n",
       "    </tr>\n",
       "    <tr>\n",
       "      <th>19999</th>\n",
       "      <td>Dress</td>\n",
       "      <td>3</td>\n",
       "    </tr>\n",
       "  </tbody>\n",
       "</table>\n",
       "<p>20000 rows × 2 columns</p>\n",
       "</div>"
      ],
      "text/plain": [
       "       category  section\n",
       "0        Blouse        1\n",
       "1         Skirt        2\n",
       "2         Dress        3\n",
       "3         Jeans        2\n",
       "4        Blazer        1\n",
       "...         ...      ...\n",
       "19995      Tank        1\n",
       "19996   Sweater        1\n",
       "19997    Henley        1\n",
       "19998  Jumpsuit        3\n",
       "19999     Dress        3\n",
       "\n",
       "[20000 rows x 2 columns]"
      ]
     },
     "execution_count": 60,
     "metadata": {},
     "output_type": "execute_result"
    }
   ],
   "source": [
    "cat"
   ]
  },
  {
   "cell_type": "code",
   "execution_count": 61,
   "id": "058181c8",
   "metadata": {
    "id": "058181c8"
   },
   "outputs": [],
   "source": [
    "cat['section'] = cat['section'].map({1:'upper',2:'lower',3:'full body'})"
   ]
  },
  {
   "cell_type": "code",
   "execution_count": 62,
   "id": "7b056d00",
   "metadata": {
    "id": "7b056d00"
   },
   "outputs": [],
   "source": [
    "cat_names = pd.read_csv(PATH_DATA+'/list_category.txt',sep ='\\s+',header=None).reset_index().rename(columns={0:'category',1:'section','index':'cat_num'})\n",
    "\n"
   ]
  },
  {
   "cell_type": "code",
   "execution_count": 63,
   "id": "da04bd87",
   "metadata": {
    "id": "da04bd87"
   },
   "outputs": [],
   "source": [
    "cat_names['cat_num'] = cat_names['cat_num'].apply(lambda x : x+1)"
   ]
  },
  {
   "cell_type": "code",
   "execution_count": 64,
   "id": "61c92263",
   "metadata": {
    "colab": {
     "base_uri": "https://localhost:8080/",
     "height": 206
    },
    "id": "61c92263",
    "outputId": "35e36950-95be-4132-f551-dbce1abdf6a5"
   },
   "outputs": [
    {
     "data": {
      "text/html": [
       "<div>\n",
       "<style scoped>\n",
       "    .dataframe tbody tr th:only-of-type {\n",
       "        vertical-align: middle;\n",
       "    }\n",
       "\n",
       "    .dataframe tbody tr th {\n",
       "        vertical-align: top;\n",
       "    }\n",
       "\n",
       "    .dataframe thead th {\n",
       "        text-align: right;\n",
       "    }\n",
       "</style>\n",
       "<table border=\"1\" class=\"dataframe\">\n",
       "  <thead>\n",
       "    <tr style=\"text-align: right;\">\n",
       "      <th></th>\n",
       "      <th>cat_num</th>\n",
       "      <th>category</th>\n",
       "      <th>section</th>\n",
       "    </tr>\n",
       "  </thead>\n",
       "  <tbody>\n",
       "    <tr>\n",
       "      <th>0</th>\n",
       "      <td>1</td>\n",
       "      <td>Anorak</td>\n",
       "      <td>1</td>\n",
       "    </tr>\n",
       "    <tr>\n",
       "      <th>1</th>\n",
       "      <td>2</td>\n",
       "      <td>Blazer</td>\n",
       "      <td>1</td>\n",
       "    </tr>\n",
       "    <tr>\n",
       "      <th>2</th>\n",
       "      <td>3</td>\n",
       "      <td>Blouse</td>\n",
       "      <td>1</td>\n",
       "    </tr>\n",
       "    <tr>\n",
       "      <th>3</th>\n",
       "      <td>4</td>\n",
       "      <td>Bomber</td>\n",
       "      <td>1</td>\n",
       "    </tr>\n",
       "    <tr>\n",
       "      <th>4</th>\n",
       "      <td>5</td>\n",
       "      <td>Button-Down</td>\n",
       "      <td>1</td>\n",
       "    </tr>\n",
       "  </tbody>\n",
       "</table>\n",
       "</div>"
      ],
      "text/plain": [
       "   cat_num     category  section\n",
       "0        1       Anorak        1\n",
       "1        2       Blazer        1\n",
       "2        3       Blouse        1\n",
       "3        4       Bomber        1\n",
       "4        5  Button-Down        1"
      ]
     },
     "execution_count": 64,
     "metadata": {},
     "output_type": "execute_result"
    }
   ],
   "source": [
    "cat_names.head()"
   ]
  },
  {
   "cell_type": "code",
   "execution_count": 65,
   "id": "b0997c6f",
   "metadata": {
    "id": "b0997c6f"
   },
   "outputs": [],
   "source": [
    "cat_tag = pd.read_csv(PATH_DATA+'/tag_cat_simple.txt',sep='\\s+',header=None,names=['category']).rename(columns={'category':'cat_num'})\n",
    "\n"
   ]
  },
  {
   "cell_type": "code",
   "execution_count": 66,
   "id": "fd451595",
   "metadata": {
    "id": "fd451595"
   },
   "outputs": [],
   "source": [
    "cat_img = pd.read_csv(PATH_DATA+'/img_simple.txt',sep='\\s+',header=None,names=['category']).rename(columns={'category':'img'})"
   ]
  },
  {
   "cell_type": "code",
   "execution_count": 67,
   "id": "69ce85ff",
   "metadata": {
    "id": "69ce85ff"
   },
   "outputs": [],
   "source": [
    "cat_num = cat_img.join(cat_tag)\n"
   ]
  },
  {
   "cell_type": "code",
   "execution_count": 68,
   "id": "7c26ef9c",
   "metadata": {
    "colab": {
     "base_uri": "https://localhost:8080/",
     "height": 206
    },
    "id": "7c26ef9c",
    "outputId": "83e77a06-6cde-48d6-90cc-6895a2ce7b4e"
   },
   "outputs": [
    {
     "data": {
      "text/html": [
       "<div>\n",
       "<style scoped>\n",
       "    .dataframe tbody tr th:only-of-type {\n",
       "        vertical-align: middle;\n",
       "    }\n",
       "\n",
       "    .dataframe tbody tr th {\n",
       "        vertical-align: top;\n",
       "    }\n",
       "\n",
       "    .dataframe thead th {\n",
       "        text-align: right;\n",
       "    }\n",
       "</style>\n",
       "<table border=\"1\" class=\"dataframe\">\n",
       "  <thead>\n",
       "    <tr style=\"text-align: right;\">\n",
       "      <th></th>\n",
       "      <th>img</th>\n",
       "      <th>cat_num</th>\n",
       "    </tr>\n",
       "  </thead>\n",
       "  <tbody>\n",
       "    <tr>\n",
       "      <th>0</th>\n",
       "      <td>img/Sweet_Crochet_Blouse/img_00000070.jpg</td>\n",
       "      <td>3</td>\n",
       "    </tr>\n",
       "    <tr>\n",
       "      <th>1</th>\n",
       "      <td>img/Classic_Pencil_Skirt/img_00000010.jpg</td>\n",
       "      <td>33</td>\n",
       "    </tr>\n",
       "    <tr>\n",
       "      <th>2</th>\n",
       "      <td>img/Strapless_Diamond_Print_Dress/img_00000038...</td>\n",
       "      <td>41</td>\n",
       "    </tr>\n",
       "    <tr>\n",
       "      <th>3</th>\n",
       "      <td>img/Mid-Rise_-_Acid_Wash_Skinny_Jeans/img_0000...</td>\n",
       "      <td>26</td>\n",
       "    </tr>\n",
       "    <tr>\n",
       "      <th>4</th>\n",
       "      <td>img/Zippered_Single-Button_Blazer/img_00000078...</td>\n",
       "      <td>2</td>\n",
       "    </tr>\n",
       "  </tbody>\n",
       "</table>\n",
       "</div>"
      ],
      "text/plain": [
       "                                                 img  cat_num\n",
       "0          img/Sweet_Crochet_Blouse/img_00000070.jpg        3\n",
       "1          img/Classic_Pencil_Skirt/img_00000010.jpg       33\n",
       "2  img/Strapless_Diamond_Print_Dress/img_00000038...       41\n",
       "3  img/Mid-Rise_-_Acid_Wash_Skinny_Jeans/img_0000...       26\n",
       "4  img/Zippered_Single-Button_Blazer/img_00000078...        2"
      ]
     },
     "execution_count": 68,
     "metadata": {},
     "output_type": "execute_result"
    }
   ],
   "source": [
    "cat_num.head()"
   ]
  },
  {
   "cell_type": "code",
   "execution_count": 69,
   "id": "c4751a2b",
   "metadata": {
    "id": "c4751a2b"
   },
   "outputs": [],
   "source": [
    "cat = cat_num.merge(cat_names, on='cat_num', how='left').drop(columns='cat_num')\n"
   ]
  },
  {
   "cell_type": "code",
   "execution_count": 70,
   "id": "b20a928e",
   "metadata": {
    "id": "b20a928e"
   },
   "outputs": [],
   "source": [
    "cat['img'] = cat['img'].apply(lambda x: x[4:])"
   ]
  },
  {
   "cell_type": "code",
   "execution_count": 71,
   "id": "09e9a0f5",
   "metadata": {
    "colab": {
     "base_uri": "https://localhost:8080/",
     "height": 424
    },
    "id": "09e9a0f5",
    "outputId": "759c42d8-be9b-4a31-a479-1271bc14dec1"
   },
   "outputs": [
    {
     "data": {
      "text/html": [
       "<div>\n",
       "<style scoped>\n",
       "    .dataframe tbody tr th:only-of-type {\n",
       "        vertical-align: middle;\n",
       "    }\n",
       "\n",
       "    .dataframe tbody tr th {\n",
       "        vertical-align: top;\n",
       "    }\n",
       "\n",
       "    .dataframe thead th {\n",
       "        text-align: right;\n",
       "    }\n",
       "</style>\n",
       "<table border=\"1\" class=\"dataframe\">\n",
       "  <thead>\n",
       "    <tr style=\"text-align: right;\">\n",
       "      <th></th>\n",
       "      <th>img</th>\n",
       "      <th>category</th>\n",
       "      <th>section</th>\n",
       "    </tr>\n",
       "  </thead>\n",
       "  <tbody>\n",
       "    <tr>\n",
       "      <th>0</th>\n",
       "      <td>Sweet_Crochet_Blouse/img_00000070.jpg</td>\n",
       "      <td>Blouse</td>\n",
       "      <td>1</td>\n",
       "    </tr>\n",
       "    <tr>\n",
       "      <th>1</th>\n",
       "      <td>Classic_Pencil_Skirt/img_00000010.jpg</td>\n",
       "      <td>Skirt</td>\n",
       "      <td>2</td>\n",
       "    </tr>\n",
       "    <tr>\n",
       "      <th>2</th>\n",
       "      <td>Strapless_Diamond_Print_Dress/img_00000038.jpg</td>\n",
       "      <td>Dress</td>\n",
       "      <td>3</td>\n",
       "    </tr>\n",
       "    <tr>\n",
       "      <th>3</th>\n",
       "      <td>Mid-Rise_-_Acid_Wash_Skinny_Jeans/img_00000010...</td>\n",
       "      <td>Jeans</td>\n",
       "      <td>2</td>\n",
       "    </tr>\n",
       "    <tr>\n",
       "      <th>4</th>\n",
       "      <td>Zippered_Single-Button_Blazer/img_00000078.jpg</td>\n",
       "      <td>Blazer</td>\n",
       "      <td>1</td>\n",
       "    </tr>\n",
       "    <tr>\n",
       "      <th>...</th>\n",
       "      <td>...</td>\n",
       "      <td>...</td>\n",
       "      <td>...</td>\n",
       "    </tr>\n",
       "    <tr>\n",
       "      <th>19995</th>\n",
       "      <td>Embroidered_Peasant_Tank/img_00000044.jpg</td>\n",
       "      <td>Tank</td>\n",
       "      <td>1</td>\n",
       "    </tr>\n",
       "    <tr>\n",
       "      <th>19996</th>\n",
       "      <td>Tasmanian_Devil_Sweater/img_00000048.jpg</td>\n",
       "      <td>Sweater</td>\n",
       "      <td>1</td>\n",
       "    </tr>\n",
       "    <tr>\n",
       "      <th>19997</th>\n",
       "      <td>Lace-Sleeved_Raglan_Henley/img_00000022.jpg</td>\n",
       "      <td>Henley</td>\n",
       "      <td>1</td>\n",
       "    </tr>\n",
       "    <tr>\n",
       "      <th>19998</th>\n",
       "      <td>Floral_Mosaic_Print_Jumpsuit/img_00000017.jpg</td>\n",
       "      <td>Jumpsuit</td>\n",
       "      <td>3</td>\n",
       "    </tr>\n",
       "    <tr>\n",
       "      <th>19999</th>\n",
       "      <td>Sparkling_Ruched_Dress/img_00000047.jpg</td>\n",
       "      <td>Dress</td>\n",
       "      <td>3</td>\n",
       "    </tr>\n",
       "  </tbody>\n",
       "</table>\n",
       "<p>20000 rows × 3 columns</p>\n",
       "</div>"
      ],
      "text/plain": [
       "                                                     img  category  section\n",
       "0                  Sweet_Crochet_Blouse/img_00000070.jpg    Blouse        1\n",
       "1                  Classic_Pencil_Skirt/img_00000010.jpg     Skirt        2\n",
       "2         Strapless_Diamond_Print_Dress/img_00000038.jpg     Dress        3\n",
       "3      Mid-Rise_-_Acid_Wash_Skinny_Jeans/img_00000010...     Jeans        2\n",
       "4         Zippered_Single-Button_Blazer/img_00000078.jpg    Blazer        1\n",
       "...                                                  ...       ...      ...\n",
       "19995          Embroidered_Peasant_Tank/img_00000044.jpg      Tank        1\n",
       "19996           Tasmanian_Devil_Sweater/img_00000048.jpg   Sweater        1\n",
       "19997        Lace-Sleeved_Raglan_Henley/img_00000022.jpg    Henley        1\n",
       "19998      Floral_Mosaic_Print_Jumpsuit/img_00000017.jpg  Jumpsuit        3\n",
       "19999            Sparkling_Ruched_Dress/img_00000047.jpg     Dress        3\n",
       "\n",
       "[20000 rows x 3 columns]"
      ]
     },
     "execution_count": 71,
     "metadata": {},
     "output_type": "execute_result"
    }
   ],
   "source": [
    "cat"
   ]
  },
  {
   "cell_type": "code",
   "execution_count": 72,
   "id": "b229ccfe",
   "metadata": {
    "id": "b229ccfe"
   },
   "outputs": [],
   "source": [
    "cat['section'] = cat['section'].map({1:'upper',2:'lower',3:'full body'})"
   ]
  },
  {
   "cell_type": "code",
   "execution_count": 73,
   "id": "21ec92c5",
   "metadata": {},
   "outputs": [],
   "source": [
    "data_full = cat"
   ]
  },
  {
   "cell_type": "code",
   "execution_count": 79,
   "id": "e56627a9",
   "metadata": {},
   "outputs": [
    {
     "data": {
      "text/html": [
       "<div>\n",
       "<style scoped>\n",
       "    .dataframe tbody tr th:only-of-type {\n",
       "        vertical-align: middle;\n",
       "    }\n",
       "\n",
       "    .dataframe tbody tr th {\n",
       "        vertical-align: top;\n",
       "    }\n",
       "\n",
       "    .dataframe thead th {\n",
       "        text-align: right;\n",
       "    }\n",
       "</style>\n",
       "<table border=\"1\" class=\"dataframe\">\n",
       "  <thead>\n",
       "    <tr style=\"text-align: right;\">\n",
       "      <th></th>\n",
       "      <th>img</th>\n",
       "      <th>category</th>\n",
       "      <th>section</th>\n",
       "    </tr>\n",
       "  </thead>\n",
       "  <tbody>\n",
       "    <tr>\n",
       "      <th>0</th>\n",
       "      <td>Sweet_Crochet_Blouse/img_00000070.jpg</td>\n",
       "      <td>Blouse</td>\n",
       "      <td>upper</td>\n",
       "    </tr>\n",
       "    <tr>\n",
       "      <th>1</th>\n",
       "      <td>Classic_Pencil_Skirt/img_00000010.jpg</td>\n",
       "      <td>Skirt</td>\n",
       "      <td>lower</td>\n",
       "    </tr>\n",
       "    <tr>\n",
       "      <th>2</th>\n",
       "      <td>Strapless_Diamond_Print_Dress/img_00000038.jpg</td>\n",
       "      <td>Dress</td>\n",
       "      <td>full body</td>\n",
       "    </tr>\n",
       "    <tr>\n",
       "      <th>3</th>\n",
       "      <td>Mid-Rise_-_Acid_Wash_Skinny_Jeans/img_00000010...</td>\n",
       "      <td>Jeans</td>\n",
       "      <td>lower</td>\n",
       "    </tr>\n",
       "    <tr>\n",
       "      <th>4</th>\n",
       "      <td>Zippered_Single-Button_Blazer/img_00000078.jpg</td>\n",
       "      <td>Blazer</td>\n",
       "      <td>upper</td>\n",
       "    </tr>\n",
       "    <tr>\n",
       "      <th>...</th>\n",
       "      <td>...</td>\n",
       "      <td>...</td>\n",
       "      <td>...</td>\n",
       "    </tr>\n",
       "    <tr>\n",
       "      <th>19995</th>\n",
       "      <td>Embroidered_Peasant_Tank/img_00000044.jpg</td>\n",
       "      <td>Tank</td>\n",
       "      <td>upper</td>\n",
       "    </tr>\n",
       "    <tr>\n",
       "      <th>19996</th>\n",
       "      <td>Tasmanian_Devil_Sweater/img_00000048.jpg</td>\n",
       "      <td>Sweater</td>\n",
       "      <td>upper</td>\n",
       "    </tr>\n",
       "    <tr>\n",
       "      <th>19997</th>\n",
       "      <td>Lace-Sleeved_Raglan_Henley/img_00000022.jpg</td>\n",
       "      <td>Henley</td>\n",
       "      <td>upper</td>\n",
       "    </tr>\n",
       "    <tr>\n",
       "      <th>19998</th>\n",
       "      <td>Floral_Mosaic_Print_Jumpsuit/img_00000017.jpg</td>\n",
       "      <td>Jumpsuit</td>\n",
       "      <td>full body</td>\n",
       "    </tr>\n",
       "    <tr>\n",
       "      <th>19999</th>\n",
       "      <td>Sparkling_Ruched_Dress/img_00000047.jpg</td>\n",
       "      <td>Dress</td>\n",
       "      <td>full body</td>\n",
       "    </tr>\n",
       "  </tbody>\n",
       "</table>\n",
       "<p>20000 rows × 3 columns</p>\n",
       "</div>"
      ],
      "text/plain": [
       "                                                     img  category    section\n",
       "0                  Sweet_Crochet_Blouse/img_00000070.jpg    Blouse      upper\n",
       "1                  Classic_Pencil_Skirt/img_00000010.jpg     Skirt      lower\n",
       "2         Strapless_Diamond_Print_Dress/img_00000038.jpg     Dress  full body\n",
       "3      Mid-Rise_-_Acid_Wash_Skinny_Jeans/img_00000010...     Jeans      lower\n",
       "4         Zippered_Single-Button_Blazer/img_00000078.jpg    Blazer      upper\n",
       "...                                                  ...       ...        ...\n",
       "19995          Embroidered_Peasant_Tank/img_00000044.jpg      Tank      upper\n",
       "19996           Tasmanian_Devil_Sweater/img_00000048.jpg   Sweater      upper\n",
       "19997        Lace-Sleeved_Raglan_Henley/img_00000022.jpg    Henley      upper\n",
       "19998      Floral_Mosaic_Print_Jumpsuit/img_00000017.jpg  Jumpsuit  full body\n",
       "19999            Sparkling_Ruched_Dress/img_00000047.jpg     Dress  full body\n",
       "\n",
       "[20000 rows x 3 columns]"
      ]
     },
     "execution_count": 79,
     "metadata": {},
     "output_type": "execute_result"
    }
   ],
   "source": [
    "data_full"
   ]
  },
  {
   "cell_type": "code",
   "execution_count": 88,
   "id": "5243f2e8",
   "metadata": {},
   "outputs": [],
   "source": [
    "cat_counts = data_full.category.value_counts() # number of images in each section class (list of tuples) in training data set\n"
   ]
  },
  {
   "cell_type": "code",
   "execution_count": 89,
   "id": "5acd7373",
   "metadata": {},
   "outputs": [
    {
     "data": {
      "text/plain": [
       "444.44444444444446"
      ]
     },
     "execution_count": 89,
     "metadata": {},
     "output_type": "execute_result"
    }
   ],
   "source": [
    "cat_counts.mean()"
   ]
  },
  {
   "cell_type": "code",
   "execution_count": 90,
   "id": "f5d2a518",
   "metadata": {},
   "outputs": [
    {
     "data": {
      "text/plain": [
       "Dress          5669\n",
       "Tee            2289\n",
       "Blouse         1508\n",
       "Shorts         1160\n",
       "Tank           1041\n",
       "Skirt          1007\n",
       "Cardigan        918\n",
       "Sweater         800\n",
       "Top             775\n",
       "Jacket          673\n",
       "Blazer          532\n",
       "Romper          507\n",
       "Jumpsuit        503\n",
       "Jeans           502\n",
       "Leggings        331\n",
       "Joggers         294\n",
       "Hoodie          289\n",
       "Kimono          200\n",
       "Sweatpants      162\n",
       "Coat            157\n",
       "Cutoffs          96\n",
       "Sweatshorts      83\n",
       "Henley           66\n",
       "Jersey           58\n",
       "Poncho           56\n",
       "Jeggings         48\n",
       "Chinos           45\n",
       "Culottes         41\n",
       "Parka            40\n",
       "Trunks           29\n",
       "Bomber           23\n",
       "Turtleneck       14\n",
       "Flannel          13\n",
       "Anorak           13\n",
       "Button-Down      10\n",
       "Kaftan            9\n",
       "Capris            8\n",
       "Robe              7\n",
       "Onesie            7\n",
       "Jodhpurs          6\n",
       "Peacoat           4\n",
       "Sarong            3\n",
       "Coverup           2\n",
       "Caftan            1\n",
       "Halter            1\n",
       "Name: category, dtype: int64"
      ]
     },
     "execution_count": 90,
     "metadata": {},
     "output_type": "execute_result"
    }
   ],
   "source": [
    "cat_counts"
   ]
  },
  {
   "cell_type": "code",
   "execution_count": null,
   "id": "c85c8b7d",
   "metadata": {},
   "outputs": [],
   "source": []
  },
  {
   "cell_type": "markdown",
   "id": "d1c4d652",
   "metadata": {
    "heading_collapsed": true,
    "id": "d1c4d652"
   },
   "source": [
    "## Filter attributes"
   ]
  },
  {
   "cell_type": "code",
   "execution_count": null,
   "id": "4a2cb10e",
   "metadata": {
    "colab": {
     "base_uri": "https://localhost:8080/",
     "height": 505
    },
    "hidden": true,
    "id": "4a2cb10e",
    "outputId": "574481bf-f451-4ed1-afb8-0d010eebe6f7"
   },
   "outputs": [],
   "source": [
    "data_full"
   ]
  },
  {
   "cell_type": "code",
   "execution_count": null,
   "id": "c03cd3c3",
   "metadata": {
    "hidden": true,
    "id": "c03cd3c3"
   },
   "outputs": [],
   "source": [
    "# If item is sleevless and of lower type, set attribute value to 0:\n",
    "data_full['sleeveless'] = data_full.apply(lambda x: 0 if ((x['sleeveless'])==1) & (x['section']=='lower') else x['sleeveless'], axis =1)\n"
   ]
  },
  {
   "cell_type": "code",
   "execution_count": null,
   "id": "5a4e7907",
   "metadata": {
    "colab": {
     "base_uri": "https://localhost:8080/",
     "height": 505
    },
    "hidden": true,
    "id": "5a4e7907",
    "outputId": "af08c2cc-345c-4b7c-ed71-fa2d448f58f1"
   },
   "outputs": [],
   "source": [
    "data_full"
   ]
  },
  {
   "cell_type": "code",
   "execution_count": null,
   "id": "fbfa4661",
   "metadata": {
    "hidden": true,
    "id": "fbfa4661"
   },
   "outputs": [],
   "source": [
    "data_full.drop(columns=['no_dress','no_neckline'],inplace=True)"
   ]
  },
  {
   "cell_type": "markdown",
   "id": "0b5be07c",
   "metadata": {
    "heading_collapsed": true,
    "id": "0b5be07c"
   },
   "source": [
    "## Crop and augment images"
   ]
  },
  {
   "cell_type": "code",
   "execution_count": null,
   "id": "64f73553",
   "metadata": {
    "colab": {
     "base_uri": "https://localhost:8080/",
     "height": 505
    },
    "hidden": true,
    "id": "64f73553",
    "outputId": "f6c1a5b2-68b8-4aa8-bad1-35cdbc753f0d"
   },
   "outputs": [],
   "source": [
    "data_full"
   ]
  },
  {
   "cell_type": "code",
   "execution_count": null,
   "id": "ca179d7d",
   "metadata": {
    "hidden": true,
    "id": "ca179d7d"
   },
   "outputs": [],
   "source": [
    "data_full_attr = data_full.iloc[:,3:-28]"
   ]
  },
  {
   "cell_type": "code",
   "execution_count": null,
   "id": "85efaa29",
   "metadata": {
    "colab": {
     "base_uri": "https://localhost:8080/",
     "height": 488
    },
    "hidden": true,
    "id": "85efaa29",
    "outputId": "6917eecd-8a27-4ddf-b688-21259e042740"
   },
   "outputs": [],
   "source": [
    "data_full_attr"
   ]
  },
  {
   "cell_type": "code",
   "execution_count": null,
   "id": "dee0d7ab",
   "metadata": {
    "hidden": true,
    "id": "dee0d7ab"
   },
   "outputs": [],
   "source": [
    "attribute_count = data_full_attr.apply(pd.value_counts)"
   ]
  },
  {
   "cell_type": "code",
   "execution_count": null,
   "id": "31eb31de",
   "metadata": {
    "hidden": true,
    "id": "31eb31de"
   },
   "outputs": [],
   "source": [
    "attribute_count_T = attribute_count.T.reset_index().rename(columns={'index':'attribute'})"
   ]
  },
  {
   "cell_type": "code",
   "execution_count": null,
   "id": "65e5475a",
   "metadata": {
    "colab": {
     "base_uri": "https://localhost:8080/",
     "height": 802
    },
    "hidden": true,
    "id": "65e5475a",
    "outputId": "043bdfbf-650b-4b94-a135-ab3d0fde9fe4"
   },
   "outputs": [],
   "source": [
    "attribute_count_T"
   ]
  },
  {
   "cell_type": "code",
   "execution_count": null,
   "id": "3347f075",
   "metadata": {
    "hidden": true,
    "id": "3347f075"
   },
   "outputs": [],
   "source": [
    "attribute_count_type = attribute_count_T.merge(attr_names, on='attribute')"
   ]
  },
  {
   "cell_type": "code",
   "execution_count": null,
   "id": "05123444",
   "metadata": {
    "colab": {
     "base_uri": "https://localhost:8080/",
     "height": 802
    },
    "hidden": true,
    "id": "05123444",
    "outputId": "d96f09c5-51e6-459a-8f6b-d23021556cd7"
   },
   "outputs": [],
   "source": [
    "attribute_count_type"
   ]
  },
  {
   "cell_type": "code",
   "execution_count": null,
   "id": "baa9fc45",
   "metadata": {
    "hidden": true,
    "id": "baa9fc45"
   },
   "outputs": [],
   "source": [
    "attribute_count_type_mean = attribute_count_type.groupby('attribute_type').median().drop(columns=0)"
   ]
  },
  {
   "cell_type": "code",
   "execution_count": null,
   "id": "41aa0c71",
   "metadata": {
    "colab": {
     "base_uri": "https://localhost:8080/",
     "height": 269
    },
    "hidden": true,
    "id": "41aa0c71",
    "outputId": "dd028eda-c50e-4af8-aa4a-8a40ba4e587a"
   },
   "outputs": [],
   "source": [
    "attribute_count_type_mean"
   ]
  },
  {
   "cell_type": "code",
   "execution_count": null,
   "id": "01913b82",
   "metadata": {
    "colab": {
     "base_uri": "https://localhost:8080/"
    },
    "hidden": true,
    "id": "01913b82",
    "outputId": "a525f730-4338-47d5-fd24-333ca78fba23"
   },
   "outputs": [],
   "source": [
    "attribute_count_mean = attribute_count_type[1].median()\n",
    "attribute_count_mean"
   ]
  },
  {
   "cell_type": "code",
   "execution_count": null,
   "id": "dd6674c3",
   "metadata": {
    "colab": {
     "base_uri": "https://localhost:8080/"
    },
    "hidden": true,
    "id": "dd6674c3",
    "outputId": "9701b8d3-1aac-4706-da6c-4d2b8053bc6e"
   },
   "outputs": [],
   "source": [
    "attr_names_list = attribute_count_type['attribute'].values\n",
    "attr_names_list"
   ]
  },
  {
   "cell_type": "code",
   "execution_count": null,
   "id": "8fa8c076",
   "metadata": {
    "hidden": true,
    "id": "8fa8c076"
   },
   "outputs": [],
   "source": [
    "def landmark_crop(index): # NOT USED AT THE MOMENT !\n",
    "    observation = data_full.iloc[index,:] # get observation from database according to index\n",
    "    v1,x1,y1,v2,x2,y2,v3,x3,y3,v4,x4,y4=observation[-24:-12] # landmarks belonging to ALL images\n",
    "    lm_x = [x1,x2,x3,x4]\n",
    "    lm_y = [y1,y2,y3,y4]\n",
    "    lm_v = [v1,v2,v3,v4]\n",
    "    \n",
    "    section = data_full.iloc[index,2] # get section type for image\n",
    "    if section == 'upper' or section == 'full body': # if image is an upper or full body, has 6 landmarks\n",
    "        v5,x5,y5,v6,x6,y6=observation[-12:-6]\n",
    "        lm_x.extend([x5,x6])\n",
    "        lm_y.extend([y5,y6])\n",
    "        lm_v.extend([v5,v6])\n",
    "    if section == 'full body': # if image is full body has 8 landmarks\n",
    "        v7,x7,y7,v8,x8,y8=observation[-6:]\n",
    "        lm_x.extend([x7,x8])\n",
    "        lm_y.extend([y7,y8])\n",
    "        lm_v.extend([v7,v8])\n",
    "    \n",
    "    lm_x = np.array(lm_x)\n",
    "    lm_y = np.array(lm_y)\n",
    "    lm_x = lm_x[lm_x !=0] # keep only non-zero landmarks \n",
    "    lm_y = lm_y[lm_y !=0]\n",
    "    \n",
    "    pts = (np.array(list(zip(lm_x,lm_y)))).astype('int') # store coordinates defined by landmarks\n",
    "    \n",
    "    img_name = observation[0]\n",
    "    full_path = PATH_IMG+img_name\n",
    "    \n",
    "    img = cv2.imread(full_path) # open image using OpenCV\n",
    "    img = cv2.cvtColor(img, cv2.COLOR_BGR2RGB) # convert image to correct format\n",
    "    \n",
    "    x,y,w,h = cv2.boundingRect(pts) # create approximate rectangle using landmark points\n",
    "    cropped = Image.fromarray(img[y:y+h, x:x+w].copy()) # crop image by bounding rectangle\n",
    "\n",
    "    return cropped\n",
    "    "
   ]
  },
  {
   "cell_type": "code",
   "execution_count": null,
   "id": "79661234",
   "metadata": {
    "hidden": true,
    "id": "79661234"
   },
   "outputs": [],
   "source": [
    "def format_image(index): # format image\n",
    "    observation = data_full.iloc[index,:] # get observation from database according to index    \n",
    "    img_name = observation[0]\n",
    "    full_path = PATH_IMG+img_name\n",
    "\n",
    "    # LOAD IMAGES:\n",
    "    img = Image.open(full_path)\n",
    "  \n",
    "    # CROP IMAGES:\n",
    "    box_x1,box_y1,box_x2,box_y2 = (np.array(observation[-28:-24].values)) # box coords\n",
    "    cropped = img.crop((box_x1, box_y1, box_x2, box_y2))\n",
    "\n",
    "    # PAD IMAGES:\n",
    "    cropped_pad = ImageOps.pad(cropped,(256,256),color=(255, 255, 255)) # pad image to (256,256) with white background\n",
    "    return cropped_pad\n"
   ]
  },
  {
   "cell_type": "code",
   "execution_count": null,
   "id": "f848c7e9",
   "metadata": {
    "colab": {
     "base_uri": "https://localhost:8080/",
     "height": 287
    },
    "hidden": true,
    "id": "f848c7e9",
    "outputId": "2e5e376b-ae8d-45ac-a6d3-21bb8de744a4"
   },
   "outputs": [],
   "source": [
    "sample_index = np.random.randint(20000)\n",
    "image = format_image(sample_index)\n",
    "\n",
    "\n",
    "plt.imshow(image)"
   ]
  },
  {
   "cell_type": "code",
   "execution_count": null,
   "id": "07520642",
   "metadata": {
    "hidden": true,
    "id": "07520642",
    "scrolled": false
   },
   "outputs": [],
   "source": [
    "# fig, axs = plt.subplots(24,10,figsize=(30,100))\n",
    "# for i in range(24):\n",
    "#     for j in range(10):\n",
    "#         index = data_full[data_full[attr_names_list[i]]==1].sample(1).index._data[0]\n",
    "#         img = format_image(index)\n",
    "#         img = axs[i][j].imshow(img)\n",
    "#         axs[i][j].title.set_text(attr_names_list[i])"
   ]
  },
  {
   "cell_type": "markdown",
   "id": "7089ae1e",
   "metadata": {
    "heading_collapsed": true,
    "id": "7089ae1e"
   },
   "source": [
    "## Model testing "
   ]
  },
  {
   "cell_type": "code",
   "execution_count": null,
   "id": "WColWZBZcg8R",
   "metadata": {
    "hidden": true,
    "id": "WColWZBZcg8R"
   },
   "outputs": [],
   "source": [
    "def plot_loss_accuracy(history, title=None):\n",
    "    fig, ax = plt.subplots(1,2, figsize=(20,7))\n",
    "    \n",
    "    # --- LOSS --- \n",
    "    \n",
    "    ax[0].plot(history.history['loss'])\n",
    "    ax[0].plot(history.history['val_loss'])\n",
    "    ax[0].set_title('Model loss')\n",
    "    ax[0].set_ylabel('Loss')\n",
    "    ax[0].set_xlabel('Epoch')\n",
    "    ax[0].set_ylim((0,3))\n",
    "    ax[0].legend(['Train', 'Test'], loc='best')\n",
    "    ax[0].grid(axis=\"x\",linewidth=0.5)\n",
    "    ax[0].grid(axis=\"y\",linewidth=0.5)\n",
    "    \n",
    "    # --- ACCURACY\n",
    "    \n",
    "    ax[1].plot(history.history['accuracy'])\n",
    "    ax[1].plot(history.history['val_accuracy'])\n",
    "    ax[1].set_title('Model Accuracy')\n",
    "    ax[1].set_ylabel('Accuracy')\n",
    "    ax[1].set_xlabel('Epoch')\n",
    "    ax[1].legend(['Train', 'Test'], loc='best')\n",
    "    ax[1].set_ylim((0,1))\n",
    "    ax[1].grid(axis=\"x\",linewidth=0.5)\n",
    "    ax[1].grid(axis=\"y\",linewidth=0.5)\n",
    "    \n",
    "    if title:\n",
    "        fig.suptitle(title)"
   ]
  },
  {
   "cell_type": "markdown",
   "id": "cc70031c",
   "metadata": {
    "heading_collapsed": true,
    "hidden": true,
    "id": "cc70031c"
   },
   "source": [
    "### Without image augmentation"
   ]
  },
  {
   "cell_type": "code",
   "execution_count": null,
   "id": "5ySulbxa9Az7",
   "metadata": {
    "hidden": true,
    "id": "5ySulbxa9Az7"
   },
   "outputs": [],
   "source": [
    "def format_image_model(img_name,box_x1,box_y1,box_x2,box_y2): # format image\n",
    "    full_path = PATH_IMG+img_name\n",
    "\n",
    "    \n",
    "    # LOAD IMAGES:\n",
    "    img = cv2.imread(full_path) # open image using OpenCV\n",
    "    img = cv2.cvtColor(img, cv2.COLOR_BGR2RGB)\n",
    "    \n",
    "    # CROP IMAGES:\n",
    "    cropped = Image.fromarray(img[box_y1:box_y2, box_x1:box_x2]) # crop image using box\n",
    "    \n",
    "    # PAD IMAGES:\n",
    "    cropped_pad = ImageOps.pad(cropped,(256,256),color=(255,255,255)) # pad image to (256,256) with white background\n",
    "\n",
    "    cropped_pad_array = np.asarray(cropped_pad)\n",
    "    \n",
    "    return cropped_pad_array"
   ]
  },
  {
   "cell_type": "markdown",
   "id": "afaf0e10",
   "metadata": {
    "hidden": true,
    "id": "afaf0e10"
   },
   "source": [
    "#### Fabric"
   ]
  },
  {
   "cell_type": "code",
   "execution_count": null,
   "id": "c366ea35",
   "metadata": {
    "hidden": true,
    "id": "c366ea35"
   },
   "outputs": [],
   "source": [
    "fabric_data = data_full.iloc[:,np.r_[0,18:24,27:31]] # select all attributes related to fabric"
   ]
  },
  {
   "cell_type": "code",
   "execution_count": null,
   "id": "5b9b457a",
   "metadata": {
    "hidden": true,
    "id": "5b9b457a"
   },
   "outputs": [],
   "source": [
    "fabric_X_names = fabric_data.iloc[:,np.r_[0,7,8,9,10]]"
   ]
  },
  {
   "cell_type": "code",
   "execution_count": null,
   "id": "fdda5ead",
   "metadata": {
    "colab": {
     "base_uri": "https://localhost:8080/",
     "height": 385,
     "referenced_widgets": [
      "a7982feaaf084164a7351c845e8bcd17",
      "323985ba87a84fb0a13d6ab3fb486e96",
      "08072c44dda14785bba3024d80810217",
      "104b60d4dc2b48c2ae694ff644add694",
      "b4143cf4ac904364ba513073f62737a2",
      "70e97c7c05a94e17a523fb30f043e496",
      "3dbeeff89d3945d3bf5f4a99d276f097",
      "c24d0d695ed04ec48634187381a25381",
      "0afda0bb980f4bfda4f62e7622f5c18c",
      "eab8053e9a1b4385acf2f6e049e3a1e3",
      "02a3b70d1dda49a7852e5a658d2b7c8e"
     ]
    },
    "hidden": true,
    "id": "fdda5ead",
    "outputId": "72f70b47-2238-4ee2-a5b5-a856aa6f75ed"
   },
   "outputs": [],
   "source": [
    "fabric_X_train = np.array([format_image_model(fabric_X_name[0], *fabric_X_name[1:]) for fabric_X_name in tqdm(fabric_X_names.values)])\n",
    "\n",
    "\n"
   ]
  },
  {
   "cell_type": "code",
   "execution_count": null,
   "id": "MUJBPeRouZqY",
   "metadata": {
    "hidden": true,
    "id": "MUJBPeRouZqY"
   },
   "outputs": [],
   "source": [
    "fabric_X_train.shape"
   ]
  },
  {
   "cell_type": "code",
   "execution_count": null,
   "id": "86a50cc4",
   "metadata": {
    "hidden": true,
    "id": "86a50cc4"
   },
   "outputs": [],
   "source": [
    "fabric_y_train = fabric_data.iloc[:,1:7]"
   ]
  },
  {
   "cell_type": "code",
   "execution_count": null,
   "id": "jyG6JoGZ2Ge8",
   "metadata": {
    "hidden": true,
    "id": "jyG6JoGZ2Ge8"
   },
   "outputs": [],
   "source": [
    "fabric_y_train.shape"
   ]
  },
  {
   "cell_type": "code",
   "execution_count": null,
   "id": "5817232a",
   "metadata": {
    "hidden": true,
    "id": "5817232a"
   },
   "outputs": [],
   "source": [
    "fabric_X_train, fabric_X_test, fabric_y_train, fabric_y_test = train_test_split(fabric_X_train, fabric_y_train, test_size =0.2,random_state=2)\n"
   ]
  },
  {
   "cell_type": "code",
   "execution_count": null,
   "id": "nBZwGrYC2m6K",
   "metadata": {
    "hidden": true,
    "id": "nBZwGrYC2m6K"
   },
   "outputs": [],
   "source": [
    "fabric_X_train.shape"
   ]
  },
  {
   "cell_type": "code",
   "execution_count": null,
   "id": "eec23382",
   "metadata": {
    "hidden": true,
    "id": "eec23382"
   },
   "outputs": [],
   "source": [
    "fabric_X_train, fabric_X_val, fabric_y_train, fabric_y_val = train_test_split(fabric_X_train, fabric_y_train, test_size =0.2,random_state=2)\n"
   ]
  },
  {
   "cell_type": "markdown",
   "id": "q2tusjzlxV0u",
   "metadata": {
    "hidden": true,
    "id": "q2tusjzlxV0u"
   },
   "source": [
    "#### Baseline model"
   ]
  },
  {
   "cell_type": "code",
   "execution_count": null,
   "id": "d5DkVFcudi7Q",
   "metadata": {
    "hidden": true,
    "id": "d5DkVFcudi7Q"
   },
   "outputs": [],
   "source": [
    "def initialize_model():\n",
    "  model = Sequential()\n",
    "  model.add(layers.Conv2D(16, (4,4), input_shape=fabric_X_train[0].shape, padding='valid', activation=\"relu\"))\n",
    "  model.add(layers.MaxPooling2D(pool_size = (2,2)))\n",
    "  model.add(layers.Conv2D(32, (3,3), padding='valid', activation=\"relu\"))\n",
    "  model.add(layers.MaxPooling2D(pool_size = (2,2)))\n",
    "  model.add(layers.Conv2D(64, (2,2), input_shape=fabric_X_train[0].shape, padding='valid', activation=\"relu\"))\n",
    "  model.add(layers.MaxPooling2D(pool_size = (2,2)))\n",
    "  model.add(layers.Flatten())\n",
    "  model.add(layers.Dense(60,activation='relu'))\n",
    "  model.add(layers.Dense(6, activation = 'softmax'))\n",
    "  model.summary()\n",
    "  return model"
   ]
  },
  {
   "cell_type": "code",
   "execution_count": null,
   "id": "i4t-w6ZUzZpf",
   "metadata": {
    "hidden": true,
    "id": "i4t-w6ZUzZpf"
   },
   "outputs": [],
   "source": [
    "model = initialize_model()\n",
    "model.compile(\n",
    "    optimizer='adam',\n",
    "    loss='categorical_crossentropy',\n",
    "    metrics=[Recall(), Precision(), Accuracy()],\n",
    ")"
   ]
  },
  {
   "cell_type": "code",
   "execution_count": null,
   "id": "6mWeknzJzwl_",
   "metadata": {
    "hidden": true,
    "id": "6mWeknzJzwl_"
   },
   "outputs": [],
   "source": [
    "es = EarlyStopping(patience=20,  restore_best_weights=True)\n",
    "\n",
    "history = model.fit(fabric_X_train, np.array(fabric_y_train), epochs=50, validation_data=(fabric_X_val,fabric_y_val), batch_size=16, callbacks=[es])"
   ]
  },
  {
   "cell_type": "code",
   "execution_count": null,
   "id": "pN_-saWJ52QP",
   "metadata": {
    "hidden": true,
    "id": "pN_-saWJ52QP"
   },
   "outputs": [],
   "source": [
    "model.evaluate(fabric_X_test,fabric_y_test)"
   ]
  },
  {
   "cell_type": "code",
   "execution_count": null,
   "id": "56ojL6Kl6JAk",
   "metadata": {
    "hidden": true,
    "id": "56ojL6Kl6JAk"
   },
   "outputs": [],
   "source": [
    "plot_loss_accuracy(history)\n"
   ]
  },
  {
   "cell_type": "markdown",
   "id": "e29a71a5",
   "metadata": {
    "hidden": true,
    "id": "e29a71a5"
   },
   "source": [
    "#### VGG16"
   ]
  },
  {
   "cell_type": "code",
   "execution_count": null,
   "id": "3cbf8010",
   "metadata": {
    "hidden": true,
    "id": "3cbf8010"
   },
   "outputs": [],
   "source": [
    "# Training image size --> (256,256,3)"
   ]
  },
  {
   "cell_type": "code",
   "execution_count": null,
   "id": "5b37bcd4",
   "metadata": {
    "hidden": true,
    "id": "5b37bcd4"
   },
   "outputs": [],
   "source": [
    "model_vgg16 = VGG16(weights=\"imagenet\", include_top=False, input_shape=fabric_X_train[0].shape) # include top removes classification layer from imagenet dataset\n",
    "model_vgg16.trainable = False # not trainable weights\n",
    "\n",
    "## Preprocessing input (normalise data for VGG16 model):\n",
    "fabric_X_train = preprocess_input(fabric_X_train) \n",
    "fabric_X_val = preprocess_input(fabric_X_val)\n",
    "fabric_X_test = preprocess_input(fabric_X_test)\n"
   ]
  },
  {
   "cell_type": "code",
   "execution_count": null,
   "id": "YTGVs_A7VXQO",
   "metadata": {
    "hidden": true,
    "id": "YTGVs_A7VXQO"
   },
   "outputs": [],
   "source": [
    "flatten_layer = layers.Flatten()\n",
    "dense_layer_1 = layers.Dense(60, activation='relu')\n",
    "dense_layer_2 = layers.Dense(30, activation='relu')\n",
    "prediction_layer = layers.Dense(6, activation='softmax')\n",
    "\n",
    "\n",
    "model = models.Sequential([\n",
    "    model_vgg16,\n",
    "    flatten_layer,\n",
    "    dense_layer_1,\n",
    "    dense_layer_2,\n",
    "    prediction_layer\n",
    "])"
   ]
  },
  {
   "cell_type": "code",
   "execution_count": null,
   "id": "4ba820e6",
   "metadata": {
    "hidden": true,
    "id": "4ba820e6"
   },
   "outputs": [],
   "source": [
    "model.compile(\n",
    "    optimizer='adam',\n",
    "    loss='categorical_crossentropy',\n",
    "    metrics=['recall','precision','accuracy'],\n",
    ")\n",
    "\n",
    "\n",
    "es = EarlyStopping(monitor='val_recall', patience=20,  restore_best_weights=True)\n",
    "\n",
    "history = model.fit(fabric_X_train, fabric_y_train, epochs=50, validation_data=fabric_X_val, batch_size=32, callbacks=[es])"
   ]
  },
  {
   "cell_type": "markdown",
   "id": "UqQhzQxrOTyM",
   "metadata": {
    "hidden": true,
    "id": "UqQhzQxrOTyM"
   },
   "source": []
  },
  {
   "cell_type": "markdown",
   "id": "7FJT5Ns788t7",
   "metadata": {
    "hidden": true,
    "id": "7FJT5Ns788t7"
   },
   "source": [
    "### With image augmentation"
   ]
  },
  {
   "cell_type": "code",
   "execution_count": null,
   "id": "kER9I1Tl0UTP",
   "metadata": {
    "colab": {
     "base_uri": "https://localhost:8080/",
     "height": 424
    },
    "hidden": true,
    "id": "kER9I1Tl0UTP",
    "outputId": "d6bebb9c-f382-47cd-84f8-7502fad8e3b1"
   },
   "outputs": [],
   "source": [
    "fabric_data_augment = data_full.iloc[:,np.r_[0,18:24,27:31]] # select all attributes related to fabric\n",
    "fabric_data_augment"
   ]
  },
  {
   "cell_type": "code",
   "execution_count": null,
   "id": "_JX2o0zeOdEU",
   "metadata": {
    "colab": {
     "base_uri": "https://localhost:8080/"
    },
    "hidden": true,
    "id": "_JX2o0zeOdEU",
    "outputId": "31aa1793-c6f2-4c47-a719-87b7c0658fe4"
   },
   "outputs": [],
   "source": [
    "fabric_mean = round(fabric_data_augment.iloc[:,1:7].apply(pd.value_counts).iloc[1,:].mean())\n",
    "fabric_mean"
   ]
  },
  {
   "cell_type": "code",
   "execution_count": null,
   "id": "3laqyGTIeLLs",
   "metadata": {
    "colab": {
     "base_uri": "https://localhost:8080/"
    },
    "hidden": true,
    "id": "3laqyGTIeLLs",
    "outputId": "bb7dd374-bb83-4dc1-edbc-105223438c71"
   },
   "outputs": [],
   "source": [
    "fabric_attrs = list(fabric_data_augment.iloc[:,1:7].apply(pd.value_counts).iloc[1,:].items())\n",
    "fabric_attrs"
   ]
  },
  {
   "cell_type": "code",
   "execution_count": null,
   "id": "Yo0t96g3Tw5G",
   "metadata": {
    "hidden": true,
    "id": "Yo0t96g3Tw5G"
   },
   "outputs": [],
   "source": [
    "def format_image_model(img_name,box_x1,box_y1,box_x2,box_y2): # format image\n",
    "    full_path = PATH_IMG+img_name\n",
    "    \n",
    "    # LOAD IMAGES:\n",
    "    img = Image.open(full_path)\n",
    "  \n",
    "    # CROP IMAGES:\n",
    "    cropped = img.crop((box_x1, box_y1, box_x2, box_y2))\n",
    "    \n",
    "    # PAD IMAGES:\n",
    "    cropped_pad = ImageOps.pad(cropped,(256,256),color=(255,255,255)) # pad image to (256,256) with white background\n",
    "\n",
    "    cropped_pad_array = np.asarray(cropped_pad)\n",
    "    \n",
    "    return cropped_pad_array"
   ]
  },
  {
   "cell_type": "code",
   "execution_count": null,
   "id": "HNLAdOD9PCSp",
   "metadata": {
    "colab": {
     "base_uri": "https://localhost:8080/"
    },
    "hidden": true,
    "id": "HNLAdOD9PCSp",
    "outputId": "58cc2ace-b0fe-43d6-e329-2d8a4e364357"
   },
   "outputs": [],
   "source": [
    "fabric_data_augment_array = pd.DataFrame()\n",
    "for  attr, count in fabric_attrs:\n",
    "\n",
    "  if count >= fabric_mean: # if number of samples is greater than mean number of samples for 'attr'\n",
    "    print(attr)\n",
    "    sample_df = fabric_data_augment[fabric_data_augment[attr]==1].sample(fabric_mean,random_state=2)\n",
    "    sample_df['img'] = sample_df.apply(lambda row: format_image_model(row[0], *row[7:]),axis=1)\n",
    "    sample_df = sample_df.iloc[:,:7]\n",
    "  else:\n",
    "    print(attr)\n",
    "    sample_values = [0]*count\n",
    "    remaining_sum = fabric_mean-count\n",
    "    i = 0\n",
    "    while remaining_sum != 0:\n",
    "      sample_values[i]+=1\n",
    "      remaining_sum-=1\n",
    "      i = (i+1)%len(sample_values)\n",
    "    sample_df = pd.DataFrame()\n",
    "    for index, row in enumerate(fabric_data_augment[fabric_data_augment[attr]==1].values):\n",
    "      sample = sample_values[index]\n",
    "      cropped_img_array = format_image_model(row[0], *row[7:])\n",
    "      temp_oversample_df = pd.concat([pd.DataFrame([row], columns = fabric_data_augment.columns).iloc[:,:7]]*(sample+1),ignore_index=True)\n",
    "      temp_oversample_df.iloc[0,0] = [cropped_img_array]\n",
    "      if sample != 0:\n",
    "        augmented_img_array = augment(cropped_img_array,sample)\n",
    "        temp_oversample_df.iloc[1:,0] = augmented_img_array\n",
    "      sample_df = pd.concat([sample_df,temp_oversample_df],axis=0)\n",
    "  fabric_data_augment_array = pd.concat([fabric_data_augment_array,sample_df],axis=0)"
   ]
  },
  {
   "cell_type": "code",
   "execution_count": null,
   "id": "DXJ7a4nnoFD9",
   "metadata": {
    "colab": {
     "base_uri": "https://localhost:8080/",
     "height": 424
    },
    "hidden": true,
    "id": "DXJ7a4nnoFD9",
    "outputId": "d992127c-128f-49f1-bf16-5c37cec402c4"
   },
   "outputs": [],
   "source": [
    "fabric_data_augment_array"
   ]
  },
  {
   "cell_type": "code",
   "execution_count": null,
   "id": "_1-x53nEoIKt",
   "metadata": {
    "hidden": true,
    "id": "_1-x53nEoIKt"
   },
   "outputs": [],
   "source": [
    "img_t = fabric_data_augment_array.iloc[37,0]"
   ]
  },
  {
   "cell_type": "code",
   "execution_count": null,
   "id": "4JQBelzOoMxF",
   "metadata": {
    "colab": {
     "base_uri": "https://localhost:8080/",
     "height": 287
    },
    "hidden": true,
    "id": "4JQBelzOoMxF",
    "outputId": "f7965c01-7bcd-4cfb-9408-7ffff67688da"
   },
   "outputs": [],
   "source": [
    "plt.imshow(img_t)"
   ]
  },
  {
   "cell_type": "code",
   "execution_count": null,
   "id": "QOIp4p_zWj_0",
   "metadata": {
    "hidden": true,
    "id": "QOIp4p_zWj_0"
   },
   "outputs": [],
   "source": [
    "def augment(img_array, samples):\n",
    "  img_array = img_array.reshape((1,) + img_array.shape)\n",
    "\n",
    "  # AUGMENT IMAGES:\n",
    "\n",
    "  # Create an ImageDataGenerator object with the desired transformations\n",
    "  datagen = ImageDataGenerator(\n",
    "      horizontal_flip=True,\n",
    "      width_shift_range=0.2, \n",
    "      rotation_range=15,\n",
    "      fill_mode='constant',\n",
    "      cval=255\n",
    "  )\n",
    "\n",
    "  aug_iter = datagen.flow(img_array, batch_size=1)\n",
    "  arrays = [aug_iter.next()[0].astype('uint8') for i in range (samples)]\n",
    "  return arrays"
   ]
  },
  {
   "cell_type": "code",
   "execution_count": null,
   "id": "7hRsuw9m-PCg",
   "metadata": {
    "hidden": true,
    "id": "7hRsuw9m-PCg"
   },
   "outputs": [],
   "source": [
    "def display_augmented():\n",
    "  sample_index = np.random.randint(20000)\n",
    "  img = format_image(sample_index)\n",
    "  img_array = np.asarray(img)\n",
    "  img_array = img_array.reshape((1,) + img_array.shape)\n",
    "\n",
    "  # AUGMENT IMAGES:\n",
    "\n",
    "  # Create an ImageDataGenerator object with the desired transformations\n",
    "  datagen = ImageDataGenerator(\n",
    "      horizontal_flip=True,\n",
    "      width_shift_range=0.2, \n",
    "      rotation_range=15,\n",
    "      fill_mode='constant',\n",
    "      cval=255\n",
    "  )\n",
    "\n",
    "  aug_iter = datagen.flow(img_array, batch_size=1)\n",
    "\n",
    "  # generate samples and plot\n",
    "  fig, ax = plt.subplots(nrows=1, ncols=5, figsize=(15,15))\n",
    "\n",
    "  # generate batch of images\n",
    "  for i in range(5):\n",
    "\n",
    "    # convert to unsigned integers\n",
    "    image = next(aug_iter)[0].astype('uint8')\n",
    "  \n",
    "    # plot image\n",
    "    ax[i].imshow(image)\n",
    "    ax[i].axis('off')"
   ]
  },
  {
   "cell_type": "code",
   "execution_count": null,
   "id": "456aZQk-wYsU",
   "metadata": {
    "colab": {
     "base_uri": "https://localhost:8080/",
     "height": 175
    },
    "hidden": true,
    "id": "456aZQk-wYsU",
    "outputId": "4f48c49b-5e19-431e-8cd5-34e6f153111b"
   },
   "outputs": [],
   "source": [
    "display_augmented()"
   ]
  },
  {
   "cell_type": "code",
   "execution_count": null,
   "id": "UcEznGOG9GUW",
   "metadata": {
    "colab": {
     "base_uri": "https://localhost:8080/"
    },
    "hidden": true,
    "id": "UcEznGOG9GUW",
    "outputId": "de7e1be1-181d-4b1b-8997-ce5e8ccd0db8"
   },
   "outputs": [],
   "source": [
    "fabric_y_train.apply(pd.value_counts).iloc[1,:]"
   ]
  },
  {
   "cell_type": "code",
   "execution_count": null,
   "id": "4gpDaYgx9DKT",
   "metadata": {
    "hidden": true,
    "id": "4gpDaYgx9DKT"
   },
   "outputs": [],
   "source": [
    "def format_image_model(img_name,box_x1,box_y1,box_x2,box_y2): # format image\n",
    "    full_path = PATH_IMG+img_name\n",
    "\n",
    "    \n",
    "    # LOAD IMAGES:\n",
    "    img = cv2.imread(full_path) # open image using OpenCV\n",
    "    img = cv2.cvtColor(img, cv2.COLOR_BGR2RGB)\n",
    "    \n",
    "    # CROP IMAGES:\n",
    "    cropped = Image.fromarray(img[box_y1:box_y2, box_x1:box_x2]) # crop image using box\n",
    "    \n",
    "    # PAD IMAGES:\n",
    "    cropped_pad = ImageOps.pad(cropped,(256,256),color=(255,255,255)) # pad image to (256,256) with white background\n",
    "\n",
    "    cropped_pad_array = np.asarray(cropped_pad)\n",
    "    \n",
    "    return cropped_pad_array"
   ]
  },
  {
   "cell_type": "markdown",
   "id": "eQBl8Zvb88uE",
   "metadata": {
    "hidden": true,
    "id": "eQBl8Zvb88uE"
   },
   "source": [
    "#### Fabric"
   ]
  },
  {
   "cell_type": "code",
   "execution_count": null,
   "id": "oiGMGY4388uE",
   "metadata": {
    "hidden": true,
    "id": "oiGMGY4388uE"
   },
   "outputs": [],
   "source": [
    "fabric_data = data_full.iloc[:,np.r_[0,18:24,27:31]] # select all attributes related to fabric"
   ]
  },
  {
   "cell_type": "code",
   "execution_count": null,
   "id": "juALDbiv88uF",
   "metadata": {
    "hidden": true,
    "id": "juALDbiv88uF"
   },
   "outputs": [],
   "source": [
    "fabric_X_names = fabric_data.iloc[:,np.r_[0,7,8,9,10]]"
   ]
  },
  {
   "cell_type": "code",
   "execution_count": null,
   "id": "1NDGaBQV88uF",
   "metadata": {
    "colab": {
     "base_uri": "https://localhost:8080/",
     "height": 49,
     "referenced_widgets": [
      "ef27a9019b6e43e19e08b91bb88c3b9f",
      "bc06a50fcc3d4d35857416ca215772dc",
      "4bb3eee3cf3845cb87924db54eddd40d",
      "1b7473f5299e428b815de8a2bd735a98",
      "82290b15013d4bfdb5130d4fff0a3bee",
      "1e1a38d6caca4045ba59ca33d65f3c8b",
      "0da463e38e89467c884ccef2fff44686",
      "0bafae020df14505b5c9af02145692f9",
      "65b9844c274742ab9142a43e0a56671b",
      "faf9a65b17a74fe08e77a07f274de2a6",
      "2021b109f0bb4c468f5eb97aa88ca220"
     ]
    },
    "hidden": true,
    "id": "1NDGaBQV88uF",
    "outputId": "f9e3acca-53e8-4a72-92a1-8de460cc215f"
   },
   "outputs": [],
   "source": [
    "fabric_X_train = np.array([format_image_model(fabric_X_name[0], *fabric_X_name[1:]) for fabric_X_name in tqdm(fabric_X_names.values)])\n",
    "\n"
   ]
  },
  {
   "cell_type": "code",
   "execution_count": null,
   "id": "wFk9aM9g88uF",
   "metadata": {
    "colab": {
     "base_uri": "https://localhost:8080/"
    },
    "hidden": true,
    "id": "wFk9aM9g88uF",
    "outputId": "528c555e-6611-4070-eb8f-00fa744cf547"
   },
   "outputs": [],
   "source": [
    "fabric_X_train.shape"
   ]
  },
  {
   "cell_type": "code",
   "execution_count": null,
   "id": "jaK-u9CC88uF",
   "metadata": {
    "hidden": true,
    "id": "jaK-u9CC88uF"
   },
   "outputs": [],
   "source": [
    "fabric_y_train = fabric_data.iloc[:,1:7]"
   ]
  },
  {
   "cell_type": "code",
   "execution_count": null,
   "id": "_4WMYkox88uF",
   "metadata": {
    "colab": {
     "base_uri": "https://localhost:8080/"
    },
    "hidden": true,
    "id": "_4WMYkox88uF",
    "outputId": "8e920fb5-5572-457f-95bf-50f14646d116"
   },
   "outputs": [],
   "source": [
    "fabric_y_train.shape"
   ]
  },
  {
   "cell_type": "code",
   "execution_count": null,
   "id": "hGyxi6AF88uF",
   "metadata": {
    "hidden": true,
    "id": "hGyxi6AF88uF"
   },
   "outputs": [],
   "source": [
    "fabric_X_train, fabric_X_test, fabric_y_train, fabric_y_test = train_test_split(fabric_X_train, fabric_y_train, test_size =0.2,random_state=2)\n"
   ]
  },
  {
   "cell_type": "code",
   "execution_count": null,
   "id": "qQuvNQ9h88uF",
   "metadata": {
    "colab": {
     "base_uri": "https://localhost:8080/"
    },
    "hidden": true,
    "id": "qQuvNQ9h88uF",
    "outputId": "370453c4-56f1-47aa-e26b-9d725c08c4e8"
   },
   "outputs": [],
   "source": [
    "fabric_X_train.shape"
   ]
  },
  {
   "cell_type": "code",
   "execution_count": null,
   "id": "PnyI2HsX88uF",
   "metadata": {
    "hidden": true,
    "id": "PnyI2HsX88uF"
   },
   "outputs": [],
   "source": [
    "fabric_X_train, fabric_X_val, fabric_y_train, fabric_y_val = train_test_split(fabric_X_train, fabric_y_train, test_size =0.2,random_state=2)\n"
   ]
  },
  {
   "cell_type": "markdown",
   "id": "fGBFibDS88uF",
   "metadata": {
    "heading_collapsed": true,
    "hidden": true,
    "id": "fGBFibDS88uF"
   },
   "source": [
    "##### Baseline model"
   ]
  },
  {
   "cell_type": "code",
   "execution_count": null,
   "id": "0WHRe_lF88uF",
   "metadata": {
    "hidden": true,
    "id": "0WHRe_lF88uF"
   },
   "outputs": [],
   "source": [
    "def initialize_model():\n",
    "  model = Sequential()\n",
    "  model.add(layers.Conv2D(16, (4,4), input_shape=fabric_X_train[0].shape, padding='valid', activation=\"relu\"))\n",
    "  model.add(layers.MaxPooling2D(pool_size = (2,2)))\n",
    "  model.add(layers.Conv2D(32, (3,3), padding='valid', activation=\"relu\"))\n",
    "  model.add(layers.MaxPooling2D(pool_size = (2,2)))\n",
    "  model.add(layers.Conv2D(64, (2,2), input_shape=fabric_X_train[0].shape, padding='valid', activation=\"relu\"))\n",
    "  model.add(layers.MaxPooling2D(pool_size = (2,2)))\n",
    "  model.add(layers.Flatten())\n",
    "  model.add(layers.Dense(60,activation='relu'))\n",
    "  model.add(layers.Dense(6, activation = 'softmax'))\n",
    "  model.summary()\n",
    "  return model"
   ]
  },
  {
   "cell_type": "code",
   "execution_count": null,
   "id": "T1474yIJ88uF",
   "metadata": {
    "colab": {
     "base_uri": "https://localhost:8080/"
    },
    "hidden": true,
    "id": "T1474yIJ88uF",
    "outputId": "765a6957-3962-4dfa-ddc8-ae40f96b8bf2"
   },
   "outputs": [],
   "source": [
    "model = initialize_model()\n",
    "model.compile(\n",
    "    optimizer='adam',\n",
    "    loss='categorical_crossentropy',\n",
    "    metrics=[Recall(), Precision(), Accuracy()],\n",
    ")"
   ]
  },
  {
   "cell_type": "code",
   "execution_count": null,
   "id": "s3eqSkfX88uF",
   "metadata": {
    "colab": {
     "base_uri": "https://localhost:8080/"
    },
    "hidden": true,
    "id": "s3eqSkfX88uF",
    "outputId": "db2d5c2c-6842-442e-e63c-ef1915dbebc5"
   },
   "outputs": [],
   "source": [
    "es = EarlyStopping(patience=20,  restore_best_weights=True)\n",
    "\n",
    "history = model.fit(fabric_X_train, np.array(fabric_y_train), epochs=50, validation_data=(fabric_X_val,fabric_y_val), batch_size=16, callbacks=[es])"
   ]
  },
  {
   "cell_type": "code",
   "execution_count": null,
   "id": "xVe9ATYO88uF",
   "metadata": {
    "colab": {
     "base_uri": "https://localhost:8080/"
    },
    "hidden": true,
    "id": "xVe9ATYO88uF",
    "outputId": "aea2022d-f048-4c6a-bb95-085998bcabb0"
   },
   "outputs": [],
   "source": [
    "model.evaluate(fabric_X_test,fabric_y_test)"
   ]
  },
  {
   "cell_type": "code",
   "execution_count": null,
   "id": "GPcRnbv988uF",
   "metadata": {
    "colab": {
     "base_uri": "https://localhost:8080/",
     "height": 443
    },
    "hidden": true,
    "id": "GPcRnbv988uF",
    "outputId": "a889b95f-42d8-4de1-c0fa-320dd56056cc"
   },
   "outputs": [],
   "source": [
    "plot_loss_accuracy(history)\n"
   ]
  },
  {
   "cell_type": "markdown",
   "id": "p5XI91Dr88uG",
   "metadata": {
    "hidden": true,
    "id": "p5XI91Dr88uG"
   },
   "source": [
    "##### VGG16"
   ]
  },
  {
   "cell_type": "code",
   "execution_count": null,
   "id": "rRNLp2Sq88uG",
   "metadata": {
    "hidden": true,
    "id": "rRNLp2Sq88uG"
   },
   "outputs": [],
   "source": [
    "# Training image size --> (256,256,3)"
   ]
  },
  {
   "cell_type": "code",
   "execution_count": null,
   "id": "uF3Ag8AC88uG",
   "metadata": {
    "colab": {
     "base_uri": "https://localhost:8080/"
    },
    "hidden": true,
    "id": "uF3Ag8AC88uG",
    "outputId": "89bec17b-339d-4c90-cf36-425ed74d5ca9"
   },
   "outputs": [],
   "source": [
    "model_vgg16 = VGG16(weights=\"imagenet\", include_top=False, input_shape=fabric_X_train[0].shape) # include top removes classification layer from imagenet dataset\n",
    "model_vgg16.trainable = False # not trainable weights\n",
    "\n",
    "## Preprocessing input (normalise data for VGG16 model):\n",
    "fabric_X_train = preprocess_input(fabric_X_train) \n",
    "fabric_X_val = preprocess_input(fabric_X_val)\n",
    "fabric_X_test = preprocess_input(fabric_X_test)\n"
   ]
  },
  {
   "cell_type": "code",
   "execution_count": null,
   "id": "aWcAnzbC88uG",
   "metadata": {
    "hidden": true,
    "id": "aWcAnzbC88uG"
   },
   "outputs": [],
   "source": [
    "flatten_layer = layers.Flatten()\n",
    "dense_layer_1 = layers.Dense(60, activation='relu')\n",
    "dense_layer_2 = layers.Dense(30, activation='relu')\n",
    "prediction_layer = layers.Dense(6, activation='softmax')\n",
    "\n",
    "\n",
    "model = models.Sequential([\n",
    "    model_vgg16,\n",
    "    flatten_layer,\n",
    "    dense_layer_1,\n",
    "    dense_layer_2,\n",
    "    prediction_layer\n",
    "])"
   ]
  },
  {
   "cell_type": "code",
   "execution_count": null,
   "id": "Qbm-BUux88uG",
   "metadata": {
    "hidden": true,
    "id": "Qbm-BUux88uG"
   },
   "outputs": [],
   "source": [
    "model.compile(\n",
    "    optimizer='adam',\n",
    "    loss='categorical_crossentropy',\n",
    "    metrics=['recall','precision','accuracy'],\n",
    ")\n",
    "\n",
    "\n",
    "es = EarlyStopping(monitor='val_recall', patience=20,  restore_best_weights=True)\n",
    "\n",
    "history = model.fit(fabric_X_train, fabric_y_train, epochs=50, validation_data=fabric_X_val, batch_size=32, callbacks=[es])"
   ]
  },
  {
   "cell_type": "markdown",
   "id": "cfdb660c",
   "metadata": {
    "heading_collapsed": true
   },
   "source": [
    "# Sections"
   ]
  },
  {
   "cell_type": "code",
   "execution_count": 4,
   "id": "36fa160f",
   "metadata": {
    "hidden": true
   },
   "outputs": [
    {
     "name": "stderr",
     "output_type": "stream",
     "text": [
      "<ipython-input-4-e4ac3a8df5d1>:16: SettingWithCopyWarning: \n",
      "A value is trying to be set on a copy of a slice from a DataFrame.\n",
      "Try using .loc[row_indexer,col_indexer] = value instead\n",
      "\n",
      "See the caveats in the documentation: https://pandas.pydata.org/pandas-docs/stable/user_guide/indexing.html#returning-a-view-versus-a-copy\n",
      "  upper['upper'] = upper['upper'].apply(lambda x: 1)\n",
      "<ipython-input-4-e4ac3a8df5d1>:17: SettingWithCopyWarning: \n",
      "A value is trying to be set on a copy of a slice from a DataFrame.\n",
      "Try using .loc[row_indexer,col_indexer] = value instead\n",
      "\n",
      "See the caveats in the documentation: https://pandas.pydata.org/pandas-docs/stable/user_guide/indexing.html#returning-a-view-versus-a-copy\n",
      "  upper['outfit'] = upper['outfit'].apply(lambda x: 0)\n",
      "<ipython-input-4-e4ac3a8df5d1>:18: SettingWithCopyWarning: \n",
      "A value is trying to be set on a copy of a slice from a DataFrame.\n",
      "Try using .loc[row_indexer,col_indexer] = value instead\n",
      "\n",
      "See the caveats in the documentation: https://pandas.pydata.org/pandas-docs/stable/user_guide/indexing.html#returning-a-view-versus-a-copy\n",
      "  lower['lower'] = lower['lower'].apply(lambda x: 1)\n",
      "<ipython-input-4-e4ac3a8df5d1>:19: SettingWithCopyWarning: \n",
      "A value is trying to be set on a copy of a slice from a DataFrame.\n",
      "Try using .loc[row_indexer,col_indexer] = value instead\n",
      "\n",
      "See the caveats in the documentation: https://pandas.pydata.org/pandas-docs/stable/user_guide/indexing.html#returning-a-view-versus-a-copy\n",
      "  lower['outfit'] = lower['outfit'].apply(lambda x: 0)\n"
     ]
    }
   ],
   "source": [
    "section = pd.read_csv('Data/DeepFashion_sections_data'+'/fabric.txt',sep=' ',names = ['img','upper_original','lower_original','outer','upper','lower'],header=None,index_col=False).fillna(0)\n",
    "section['back'] = np.where(section['img'].str.contains('_back'),1,0)\n",
    "section['full body'] = np.where((section['img'].str.contains('WOMEN-Dresses|WOMEN-Rompers')) & ~section['img'].str.contains('_back'),1,0)\n",
    "section['outfit'] = np.where((((section['upper_original']!=7) |(section['lower_original']!=7)) & ((section['upper_original']!=7) |(section['outer']!=7))) & (section['full body']==0) & (section['back']==0),1,0)\n",
    "section = section.drop(columns=['outer','upper_original','lower_original'])\n",
    "\n",
    "# Landmarks:\n",
    "landmarks = pd.read_csv('Data/DeepFashion_sections_data'+'/keypoints_loc.txt',sep=' ',usecols=[0,15,16,17,18,29,30,31,32,39,40,41,42],names=['img','x1','y1','x2','y2','x3','y3','x4','y4','x5','y5','x6','y6'], header=None,index_col=False)\n",
    "\n",
    "# Create full data set:\n",
    "data_full = section.merge(landmarks, on='img',how='left').dropna()\n",
    "\n",
    "# Create upper and lower oberservations (to be cropped later):\n",
    "upper = data_full[data_full['outfit']==1]\n",
    "lower = data_full[data_full['outfit']==1]\n",
    "upper['upper'] = upper['upper'].apply(lambda x: 1)\n",
    "upper['outfit'] = upper['outfit'].apply(lambda x: 0)\n",
    "lower['lower'] = lower['lower'].apply(lambda x: 1)\n",
    "lower['outfit'] = lower['outfit'].apply(lambda x: 0)\n",
    "data_full = pd.concat([data_full,upper,lower],axis=0)\n",
    "data_full = data_full[(data_full['outfit']==1) | (data_full['full body']==1) | (data_full['back']==1) | (data_full['upper']==1) | (data_full['lower']==1)]\n",
    "\n",
    "# Drop invalid rows:\n",
    "data_full = data_full[~data_full.isin([-1]).any(1)] # drop rows with inavlid values"
   ]
  },
  {
   "cell_type": "code",
   "execution_count": 5,
   "id": "1f84d04f",
   "metadata": {
    "hidden": true
   },
   "outputs": [
    {
     "data": {
      "text/html": [
       "<div>\n",
       "<style scoped>\n",
       "    .dataframe tbody tr th:only-of-type {\n",
       "        vertical-align: middle;\n",
       "    }\n",
       "\n",
       "    .dataframe tbody tr th {\n",
       "        vertical-align: top;\n",
       "    }\n",
       "\n",
       "    .dataframe thead th {\n",
       "        text-align: right;\n",
       "    }\n",
       "</style>\n",
       "<table border=\"1\" class=\"dataframe\">\n",
       "  <thead>\n",
       "    <tr style=\"text-align: right;\">\n",
       "      <th></th>\n",
       "      <th>img</th>\n",
       "      <th>upper</th>\n",
       "      <th>lower</th>\n",
       "      <th>back</th>\n",
       "      <th>full body</th>\n",
       "      <th>outfit</th>\n",
       "      <th>x1</th>\n",
       "      <th>y1</th>\n",
       "      <th>x2</th>\n",
       "      <th>y2</th>\n",
       "      <th>x3</th>\n",
       "      <th>y3</th>\n",
       "      <th>x4</th>\n",
       "      <th>y4</th>\n",
       "      <th>x5</th>\n",
       "      <th>y5</th>\n",
       "      <th>x6</th>\n",
       "      <th>y6</th>\n",
       "    </tr>\n",
       "  </thead>\n",
       "  <tbody>\n",
       "    <tr>\n",
       "      <th>0</th>\n",
       "      <td>MEN-Denim-id_00000080-01_7_additional.jpg</td>\n",
       "      <td>0.0</td>\n",
       "      <td>0.0</td>\n",
       "      <td>0</td>\n",
       "      <td>0</td>\n",
       "      <td>1</td>\n",
       "      <td>267.0</td>\n",
       "      <td>234.0</td>\n",
       "      <td>509.0</td>\n",
       "      <td>229.0</td>\n",
       "      <td>291.0</td>\n",
       "      <td>521.0</td>\n",
       "      <td>478.0</td>\n",
       "      <td>530.0</td>\n",
       "      <td>324.0</td>\n",
       "      <td>1028.0</td>\n",
       "      <td>358.0</td>\n",
       "      <td>1029.0</td>\n",
       "    </tr>\n",
       "    <tr>\n",
       "      <th>1</th>\n",
       "      <td>MEN-Denim-id_00000089-01_7_additional.jpg</td>\n",
       "      <td>0.0</td>\n",
       "      <td>0.0</td>\n",
       "      <td>0</td>\n",
       "      <td>0</td>\n",
       "      <td>1</td>\n",
       "      <td>347.0</td>\n",
       "      <td>201.0</td>\n",
       "      <td>598.0</td>\n",
       "      <td>194.0</td>\n",
       "      <td>388.0</td>\n",
       "      <td>519.0</td>\n",
       "      <td>588.0</td>\n",
       "      <td>520.0</td>\n",
       "      <td>492.0</td>\n",
       "      <td>1036.0</td>\n",
       "      <td>511.0</td>\n",
       "      <td>1024.0</td>\n",
       "    </tr>\n",
       "    <tr>\n",
       "      <th>2</th>\n",
       "      <td>MEN-Denim-id_00000089-02_7_additional.jpg</td>\n",
       "      <td>0.0</td>\n",
       "      <td>0.0</td>\n",
       "      <td>0</td>\n",
       "      <td>0</td>\n",
       "      <td>1</td>\n",
       "      <td>236.0</td>\n",
       "      <td>234.0</td>\n",
       "      <td>491.0</td>\n",
       "      <td>241.0</td>\n",
       "      <td>266.0</td>\n",
       "      <td>543.0</td>\n",
       "      <td>462.0</td>\n",
       "      <td>534.0</td>\n",
       "      <td>330.0</td>\n",
       "      <td>1037.0</td>\n",
       "      <td>400.0</td>\n",
       "      <td>1034.0</td>\n",
       "    </tr>\n",
       "    <tr>\n",
       "      <th>3</th>\n",
       "      <td>MEN-Denim-id_00000089-03_7_additional.jpg</td>\n",
       "      <td>0.0</td>\n",
       "      <td>0.0</td>\n",
       "      <td>0</td>\n",
       "      <td>0</td>\n",
       "      <td>1</td>\n",
       "      <td>225.0</td>\n",
       "      <td>237.0</td>\n",
       "      <td>467.0</td>\n",
       "      <td>211.0</td>\n",
       "      <td>268.0</td>\n",
       "      <td>540.0</td>\n",
       "      <td>470.0</td>\n",
       "      <td>531.0</td>\n",
       "      <td>377.0</td>\n",
       "      <td>1040.0</td>\n",
       "      <td>394.0</td>\n",
       "      <td>1024.0</td>\n",
       "    </tr>\n",
       "    <tr>\n",
       "      <th>4</th>\n",
       "      <td>MEN-Denim-id_00000089-04_7_additional.jpg</td>\n",
       "      <td>0.0</td>\n",
       "      <td>0.0</td>\n",
       "      <td>0</td>\n",
       "      <td>0</td>\n",
       "      <td>1</td>\n",
       "      <td>244.0</td>\n",
       "      <td>235.0</td>\n",
       "      <td>480.0</td>\n",
       "      <td>228.0</td>\n",
       "      <td>269.0</td>\n",
       "      <td>545.0</td>\n",
       "      <td>465.0</td>\n",
       "      <td>541.0</td>\n",
       "      <td>341.0</td>\n",
       "      <td>1041.0</td>\n",
       "      <td>399.0</td>\n",
       "      <td>1041.0</td>\n",
       "    </tr>\n",
       "    <tr>\n",
       "      <th>...</th>\n",
       "      <td>...</td>\n",
       "      <td>...</td>\n",
       "      <td>...</td>\n",
       "      <td>...</td>\n",
       "      <td>...</td>\n",
       "      <td>...</td>\n",
       "      <td>...</td>\n",
       "      <td>...</td>\n",
       "      <td>...</td>\n",
       "      <td>...</td>\n",
       "      <td>...</td>\n",
       "      <td>...</td>\n",
       "      <td>...</td>\n",
       "      <td>...</td>\n",
       "      <td>...</td>\n",
       "      <td>...</td>\n",
       "      <td>...</td>\n",
       "      <td>...</td>\n",
       "    </tr>\n",
       "    <tr>\n",
       "      <th>44074</th>\n",
       "      <td>WOMEN-Tees_Tanks-id_00007969-04_7_additional.jpg</td>\n",
       "      <td>0.0</td>\n",
       "      <td>1.0</td>\n",
       "      <td>0</td>\n",
       "      <td>0</td>\n",
       "      <td>0</td>\n",
       "      <td>221.0</td>\n",
       "      <td>218.0</td>\n",
       "      <td>392.0</td>\n",
       "      <td>180.0</td>\n",
       "      <td>225.0</td>\n",
       "      <td>503.0</td>\n",
       "      <td>416.0</td>\n",
       "      <td>491.0</td>\n",
       "      <td>329.0</td>\n",
       "      <td>999.0</td>\n",
       "      <td>327.0</td>\n",
       "      <td>910.0</td>\n",
       "    </tr>\n",
       "    <tr>\n",
       "      <th>44078</th>\n",
       "      <td>WOMEN-Tees_Tanks-id_00007970-01_7_additional.jpg</td>\n",
       "      <td>0.0</td>\n",
       "      <td>1.0</td>\n",
       "      <td>0</td>\n",
       "      <td>0</td>\n",
       "      <td>0</td>\n",
       "      <td>242.0</td>\n",
       "      <td>229.0</td>\n",
       "      <td>446.0</td>\n",
       "      <td>200.0</td>\n",
       "      <td>245.0</td>\n",
       "      <td>444.0</td>\n",
       "      <td>433.0</td>\n",
       "      <td>460.0</td>\n",
       "      <td>292.0</td>\n",
       "      <td>1010.0</td>\n",
       "      <td>345.0</td>\n",
       "      <td>921.0</td>\n",
       "    </tr>\n",
       "    <tr>\n",
       "      <th>44082</th>\n",
       "      <td>WOMEN-Tees_Tanks-id_00007976-01_4_full.jpg</td>\n",
       "      <td>0.0</td>\n",
       "      <td>1.0</td>\n",
       "      <td>0</td>\n",
       "      <td>0</td>\n",
       "      <td>0</td>\n",
       "      <td>288.0</td>\n",
       "      <td>225.0</td>\n",
       "      <td>473.0</td>\n",
       "      <td>193.0</td>\n",
       "      <td>297.0</td>\n",
       "      <td>474.0</td>\n",
       "      <td>475.0</td>\n",
       "      <td>486.0</td>\n",
       "      <td>410.0</td>\n",
       "      <td>1022.0</td>\n",
       "      <td>502.0</td>\n",
       "      <td>1026.0</td>\n",
       "    </tr>\n",
       "    <tr>\n",
       "      <th>44086</th>\n",
       "      <td>WOMEN-Tees_Tanks-id_00007979-03_4_full.jpg</td>\n",
       "      <td>0.0</td>\n",
       "      <td>1.0</td>\n",
       "      <td>0</td>\n",
       "      <td>0</td>\n",
       "      <td>0</td>\n",
       "      <td>287.0</td>\n",
       "      <td>210.0</td>\n",
       "      <td>466.0</td>\n",
       "      <td>172.0</td>\n",
       "      <td>274.0</td>\n",
       "      <td>467.0</td>\n",
       "      <td>462.0</td>\n",
       "      <td>474.0</td>\n",
       "      <td>359.0</td>\n",
       "      <td>1023.0</td>\n",
       "      <td>361.0</td>\n",
       "      <td>1038.0</td>\n",
       "    </tr>\n",
       "    <tr>\n",
       "      <th>44091</th>\n",
       "      <td>WOMEN-Tees_Tanks-id_00007979-04_4_full.jpg</td>\n",
       "      <td>0.0</td>\n",
       "      <td>1.0</td>\n",
       "      <td>0</td>\n",
       "      <td>0</td>\n",
       "      <td>0</td>\n",
       "      <td>275.0</td>\n",
       "      <td>187.0</td>\n",
       "      <td>468.0</td>\n",
       "      <td>207.0</td>\n",
       "      <td>282.0</td>\n",
       "      <td>485.0</td>\n",
       "      <td>468.0</td>\n",
       "      <td>475.0</td>\n",
       "      <td>335.0</td>\n",
       "      <td>1009.0</td>\n",
       "      <td>346.0</td>\n",
       "      <td>1035.0</td>\n",
       "    </tr>\n",
       "  </tbody>\n",
       "</table>\n",
       "<p>30805 rows × 18 columns</p>\n",
       "</div>"
      ],
      "text/plain": [
       "                                                    img  upper  lower  back  \\\n",
       "0             MEN-Denim-id_00000080-01_7_additional.jpg    0.0    0.0     0   \n",
       "1             MEN-Denim-id_00000089-01_7_additional.jpg    0.0    0.0     0   \n",
       "2             MEN-Denim-id_00000089-02_7_additional.jpg    0.0    0.0     0   \n",
       "3             MEN-Denim-id_00000089-03_7_additional.jpg    0.0    0.0     0   \n",
       "4             MEN-Denim-id_00000089-04_7_additional.jpg    0.0    0.0     0   \n",
       "...                                                 ...    ...    ...   ...   \n",
       "44074  WOMEN-Tees_Tanks-id_00007969-04_7_additional.jpg    0.0    1.0     0   \n",
       "44078  WOMEN-Tees_Tanks-id_00007970-01_7_additional.jpg    0.0    1.0     0   \n",
       "44082        WOMEN-Tees_Tanks-id_00007976-01_4_full.jpg    0.0    1.0     0   \n",
       "44086        WOMEN-Tees_Tanks-id_00007979-03_4_full.jpg    0.0    1.0     0   \n",
       "44091        WOMEN-Tees_Tanks-id_00007979-04_4_full.jpg    0.0    1.0     0   \n",
       "\n",
       "       full body  outfit     x1     y1     x2     y2     x3     y3     x4  \\\n",
       "0              0       1  267.0  234.0  509.0  229.0  291.0  521.0  478.0   \n",
       "1              0       1  347.0  201.0  598.0  194.0  388.0  519.0  588.0   \n",
       "2              0       1  236.0  234.0  491.0  241.0  266.0  543.0  462.0   \n",
       "3              0       1  225.0  237.0  467.0  211.0  268.0  540.0  470.0   \n",
       "4              0       1  244.0  235.0  480.0  228.0  269.0  545.0  465.0   \n",
       "...          ...     ...    ...    ...    ...    ...    ...    ...    ...   \n",
       "44074          0       0  221.0  218.0  392.0  180.0  225.0  503.0  416.0   \n",
       "44078          0       0  242.0  229.0  446.0  200.0  245.0  444.0  433.0   \n",
       "44082          0       0  288.0  225.0  473.0  193.0  297.0  474.0  475.0   \n",
       "44086          0       0  287.0  210.0  466.0  172.0  274.0  467.0  462.0   \n",
       "44091          0       0  275.0  187.0  468.0  207.0  282.0  485.0  468.0   \n",
       "\n",
       "          y4     x5      y5     x6      y6  \n",
       "0      530.0  324.0  1028.0  358.0  1029.0  \n",
       "1      520.0  492.0  1036.0  511.0  1024.0  \n",
       "2      534.0  330.0  1037.0  400.0  1034.0  \n",
       "3      531.0  377.0  1040.0  394.0  1024.0  \n",
       "4      541.0  341.0  1041.0  399.0  1041.0  \n",
       "...      ...    ...     ...    ...     ...  \n",
       "44074  491.0  329.0   999.0  327.0   910.0  \n",
       "44078  460.0  292.0  1010.0  345.0   921.0  \n",
       "44082  486.0  410.0  1022.0  502.0  1026.0  \n",
       "44086  474.0  359.0  1023.0  361.0  1038.0  \n",
       "44091  475.0  335.0  1009.0  346.0  1035.0  \n",
       "\n",
       "[30805 rows x 18 columns]"
      ]
     },
     "execution_count": 5,
     "metadata": {},
     "output_type": "execute_result"
    }
   ],
   "source": [
    "data_full"
   ]
  },
  {
   "cell_type": "code",
   "execution_count": 9,
   "id": "660807e2",
   "metadata": {
    "hidden": true
   },
   "outputs": [],
   "source": [
    "for img_name in data_full.iloc[:,0]:\n",
    "    path = 'Data/test/'\n",
    "    img = mpimg.imread('Data/DeepFashion_multimodal_images/'+img_name)\n",
    "    mpimg.imsave(path+img_name, img)"
   ]
  },
  {
   "cell_type": "code",
   "execution_count": null,
   "id": "871aef8d",
   "metadata": {
    "hidden": true
   },
   "outputs": [],
   "source": []
  }
 ],
 "metadata": {
  "colab": {
   "collapsed_sections": [
    "cc70031c"
   ],
   "machine_shape": "hm",
   "provenance": []
  },
  "gpuClass": "standard",
  "kernelspec": {
   "display_name": "Python 3",
   "language": "python",
   "name": "python3"
  },
  "language_info": {
   "codemirror_mode": {
    "name": "ipython",
    "version": 3
   },
   "file_extension": ".py",
   "mimetype": "text/x-python",
   "name": "python",
   "nbconvert_exporter": "python",
   "pygments_lexer": "ipython3",
   "version": "3.9.12"
  },
  "toc": {
   "base_numbering": 1,
   "nav_menu": {},
   "number_sections": true,
   "sideBar": true,
   "skip_h1_title": false,
   "title_cell": "Table of Contents",
   "title_sidebar": "Contents",
   "toc_cell": false,
   "toc_position": {},
   "toc_section_display": true,
   "toc_window_display": false
  },
  "varInspector": {
   "cols": {
    "lenName": 16,
    "lenType": 16,
    "lenVar": 40
   },
   "kernels_config": {
    "python": {
     "delete_cmd_postfix": "",
     "delete_cmd_prefix": "del ",
     "library": "var_list.py",
     "varRefreshCmd": "print(var_dic_list())"
    },
    "r": {
     "delete_cmd_postfix": ") ",
     "delete_cmd_prefix": "rm(",
     "library": "var_list.r",
     "varRefreshCmd": "cat(var_dic_list()) "
    }
   },
   "types_to_exclude": [
    "module",
    "function",
    "builtin_function_or_method",
    "instance",
    "_Feature"
   ],
   "window_display": false
  },
  "widgets": {
   "application/vnd.jupyter.widget-state+json": {
    "02a3b70d1dda49a7852e5a658d2b7c8e": {
     "model_module": "@jupyter-widgets/controls",
     "model_module_version": "1.5.0",
     "model_name": "DescriptionStyleModel",
     "state": {
      "_model_module": "@jupyter-widgets/controls",
      "_model_module_version": "1.5.0",
      "_model_name": "DescriptionStyleModel",
      "_view_count": null,
      "_view_module": "@jupyter-widgets/base",
      "_view_module_version": "1.2.0",
      "_view_name": "StyleView",
      "description_width": ""
     }
    },
    "08072c44dda14785bba3024d80810217": {
     "model_module": "@jupyter-widgets/controls",
     "model_module_version": "1.5.0",
     "model_name": "FloatProgressModel",
     "state": {
      "_dom_classes": [],
      "_model_module": "@jupyter-widgets/controls",
      "_model_module_version": "1.5.0",
      "_model_name": "FloatProgressModel",
      "_view_count": null,
      "_view_module": "@jupyter-widgets/controls",
      "_view_module_version": "1.5.0",
      "_view_name": "ProgressView",
      "bar_style": "",
      "description": "",
      "description_tooltip": null,
      "layout": "IPY_MODEL_c24d0d695ed04ec48634187381a25381",
      "max": 20000,
      "min": 0,
      "orientation": "horizontal",
      "style": "IPY_MODEL_0afda0bb980f4bfda4f62e7622f5c18c",
      "value": 2709
     }
    },
    "0afda0bb980f4bfda4f62e7622f5c18c": {
     "model_module": "@jupyter-widgets/controls",
     "model_module_version": "1.5.0",
     "model_name": "ProgressStyleModel",
     "state": {
      "_model_module": "@jupyter-widgets/controls",
      "_model_module_version": "1.5.0",
      "_model_name": "ProgressStyleModel",
      "_view_count": null,
      "_view_module": "@jupyter-widgets/base",
      "_view_module_version": "1.2.0",
      "_view_name": "StyleView",
      "bar_color": null,
      "description_width": ""
     }
    },
    "0bafae020df14505b5c9af02145692f9": {
     "model_module": "@jupyter-widgets/base",
     "model_module_version": "1.2.0",
     "model_name": "LayoutModel",
     "state": {
      "_model_module": "@jupyter-widgets/base",
      "_model_module_version": "1.2.0",
      "_model_name": "LayoutModel",
      "_view_count": null,
      "_view_module": "@jupyter-widgets/base",
      "_view_module_version": "1.2.0",
      "_view_name": "LayoutView",
      "align_content": null,
      "align_items": null,
      "align_self": null,
      "border": null,
      "bottom": null,
      "display": null,
      "flex": null,
      "flex_flow": null,
      "grid_area": null,
      "grid_auto_columns": null,
      "grid_auto_flow": null,
      "grid_auto_rows": null,
      "grid_column": null,
      "grid_gap": null,
      "grid_row": null,
      "grid_template_areas": null,
      "grid_template_columns": null,
      "grid_template_rows": null,
      "height": null,
      "justify_content": null,
      "justify_items": null,
      "left": null,
      "margin": null,
      "max_height": null,
      "max_width": null,
      "min_height": null,
      "min_width": null,
      "object_fit": null,
      "object_position": null,
      "order": null,
      "overflow": null,
      "overflow_x": null,
      "overflow_y": null,
      "padding": null,
      "right": null,
      "top": null,
      "visibility": null,
      "width": null
     }
    },
    "0da463e38e89467c884ccef2fff44686": {
     "model_module": "@jupyter-widgets/controls",
     "model_module_version": "1.5.0",
     "model_name": "DescriptionStyleModel",
     "state": {
      "_model_module": "@jupyter-widgets/controls",
      "_model_module_version": "1.5.0",
      "_model_name": "DescriptionStyleModel",
      "_view_count": null,
      "_view_module": "@jupyter-widgets/base",
      "_view_module_version": "1.2.0",
      "_view_name": "StyleView",
      "description_width": ""
     }
    },
    "104b60d4dc2b48c2ae694ff644add694": {
     "model_module": "@jupyter-widgets/controls",
     "model_module_version": "1.5.0",
     "model_name": "HTMLModel",
     "state": {
      "_dom_classes": [],
      "_model_module": "@jupyter-widgets/controls",
      "_model_module_version": "1.5.0",
      "_model_name": "HTMLModel",
      "_view_count": null,
      "_view_module": "@jupyter-widgets/controls",
      "_view_module_version": "1.5.0",
      "_view_name": "HTMLView",
      "description": "",
      "description_tooltip": null,
      "layout": "IPY_MODEL_eab8053e9a1b4385acf2f6e049e3a1e3",
      "placeholder": "​",
      "style": "IPY_MODEL_02a3b70d1dda49a7852e5a658d2b7c8e",
      "value": " 2709/20000 [00:30&lt;01:45, 163.99it/s]"
     }
    },
    "1b7473f5299e428b815de8a2bd735a98": {
     "model_module": "@jupyter-widgets/controls",
     "model_module_version": "1.5.0",
     "model_name": "HTMLModel",
     "state": {
      "_dom_classes": [],
      "_model_module": "@jupyter-widgets/controls",
      "_model_module_version": "1.5.0",
      "_model_name": "HTMLModel",
      "_view_count": null,
      "_view_module": "@jupyter-widgets/controls",
      "_view_module_version": "1.5.0",
      "_view_name": "HTMLView",
      "description": "",
      "description_tooltip": null,
      "layout": "IPY_MODEL_faf9a65b17a74fe08e77a07f274de2a6",
      "placeholder": "​",
      "style": "IPY_MODEL_2021b109f0bb4c468f5eb97aa88ca220",
      "value": " 20000/20000 [01:08&lt;00:00, 305.48it/s]"
     }
    },
    "1e1a38d6caca4045ba59ca33d65f3c8b": {
     "model_module": "@jupyter-widgets/base",
     "model_module_version": "1.2.0",
     "model_name": "LayoutModel",
     "state": {
      "_model_module": "@jupyter-widgets/base",
      "_model_module_version": "1.2.0",
      "_model_name": "LayoutModel",
      "_view_count": null,
      "_view_module": "@jupyter-widgets/base",
      "_view_module_version": "1.2.0",
      "_view_name": "LayoutView",
      "align_content": null,
      "align_items": null,
      "align_self": null,
      "border": null,
      "bottom": null,
      "display": null,
      "flex": null,
      "flex_flow": null,
      "grid_area": null,
      "grid_auto_columns": null,
      "grid_auto_flow": null,
      "grid_auto_rows": null,
      "grid_column": null,
      "grid_gap": null,
      "grid_row": null,
      "grid_template_areas": null,
      "grid_template_columns": null,
      "grid_template_rows": null,
      "height": null,
      "justify_content": null,
      "justify_items": null,
      "left": null,
      "margin": null,
      "max_height": null,
      "max_width": null,
      "min_height": null,
      "min_width": null,
      "object_fit": null,
      "object_position": null,
      "order": null,
      "overflow": null,
      "overflow_x": null,
      "overflow_y": null,
      "padding": null,
      "right": null,
      "top": null,
      "visibility": null,
      "width": null
     }
    },
    "2021b109f0bb4c468f5eb97aa88ca220": {
     "model_module": "@jupyter-widgets/controls",
     "model_module_version": "1.5.0",
     "model_name": "DescriptionStyleModel",
     "state": {
      "_model_module": "@jupyter-widgets/controls",
      "_model_module_version": "1.5.0",
      "_model_name": "DescriptionStyleModel",
      "_view_count": null,
      "_view_module": "@jupyter-widgets/base",
      "_view_module_version": "1.2.0",
      "_view_name": "StyleView",
      "description_width": ""
     }
    },
    "323985ba87a84fb0a13d6ab3fb486e96": {
     "model_module": "@jupyter-widgets/controls",
     "model_module_version": "1.5.0",
     "model_name": "HTMLModel",
     "state": {
      "_dom_classes": [],
      "_model_module": "@jupyter-widgets/controls",
      "_model_module_version": "1.5.0",
      "_model_name": "HTMLModel",
      "_view_count": null,
      "_view_module": "@jupyter-widgets/controls",
      "_view_module_version": "1.5.0",
      "_view_name": "HTMLView",
      "description": "",
      "description_tooltip": null,
      "layout": "IPY_MODEL_70e97c7c05a94e17a523fb30f043e496",
      "placeholder": "​",
      "style": "IPY_MODEL_3dbeeff89d3945d3bf5f4a99d276f097",
      "value": " 14%"
     }
    },
    "3dbeeff89d3945d3bf5f4a99d276f097": {
     "model_module": "@jupyter-widgets/controls",
     "model_module_version": "1.5.0",
     "model_name": "DescriptionStyleModel",
     "state": {
      "_model_module": "@jupyter-widgets/controls",
      "_model_module_version": "1.5.0",
      "_model_name": "DescriptionStyleModel",
      "_view_count": null,
      "_view_module": "@jupyter-widgets/base",
      "_view_module_version": "1.2.0",
      "_view_name": "StyleView",
      "description_width": ""
     }
    },
    "4bb3eee3cf3845cb87924db54eddd40d": {
     "model_module": "@jupyter-widgets/controls",
     "model_module_version": "1.5.0",
     "model_name": "FloatProgressModel",
     "state": {
      "_dom_classes": [],
      "_model_module": "@jupyter-widgets/controls",
      "_model_module_version": "1.5.0",
      "_model_name": "FloatProgressModel",
      "_view_count": null,
      "_view_module": "@jupyter-widgets/controls",
      "_view_module_version": "1.5.0",
      "_view_name": "ProgressView",
      "bar_style": "success",
      "description": "",
      "description_tooltip": null,
      "layout": "IPY_MODEL_0bafae020df14505b5c9af02145692f9",
      "max": 20000,
      "min": 0,
      "orientation": "horizontal",
      "style": "IPY_MODEL_65b9844c274742ab9142a43e0a56671b",
      "value": 20000
     }
    },
    "65b9844c274742ab9142a43e0a56671b": {
     "model_module": "@jupyter-widgets/controls",
     "model_module_version": "1.5.0",
     "model_name": "ProgressStyleModel",
     "state": {
      "_model_module": "@jupyter-widgets/controls",
      "_model_module_version": "1.5.0",
      "_model_name": "ProgressStyleModel",
      "_view_count": null,
      "_view_module": "@jupyter-widgets/base",
      "_view_module_version": "1.2.0",
      "_view_name": "StyleView",
      "bar_color": null,
      "description_width": ""
     }
    },
    "70e97c7c05a94e17a523fb30f043e496": {
     "model_module": "@jupyter-widgets/base",
     "model_module_version": "1.2.0",
     "model_name": "LayoutModel",
     "state": {
      "_model_module": "@jupyter-widgets/base",
      "_model_module_version": "1.2.0",
      "_model_name": "LayoutModel",
      "_view_count": null,
      "_view_module": "@jupyter-widgets/base",
      "_view_module_version": "1.2.0",
      "_view_name": "LayoutView",
      "align_content": null,
      "align_items": null,
      "align_self": null,
      "border": null,
      "bottom": null,
      "display": null,
      "flex": null,
      "flex_flow": null,
      "grid_area": null,
      "grid_auto_columns": null,
      "grid_auto_flow": null,
      "grid_auto_rows": null,
      "grid_column": null,
      "grid_gap": null,
      "grid_row": null,
      "grid_template_areas": null,
      "grid_template_columns": null,
      "grid_template_rows": null,
      "height": null,
      "justify_content": null,
      "justify_items": null,
      "left": null,
      "margin": null,
      "max_height": null,
      "max_width": null,
      "min_height": null,
      "min_width": null,
      "object_fit": null,
      "object_position": null,
      "order": null,
      "overflow": null,
      "overflow_x": null,
      "overflow_y": null,
      "padding": null,
      "right": null,
      "top": null,
      "visibility": null,
      "width": null
     }
    },
    "82290b15013d4bfdb5130d4fff0a3bee": {
     "model_module": "@jupyter-widgets/base",
     "model_module_version": "1.2.0",
     "model_name": "LayoutModel",
     "state": {
      "_model_module": "@jupyter-widgets/base",
      "_model_module_version": "1.2.0",
      "_model_name": "LayoutModel",
      "_view_count": null,
      "_view_module": "@jupyter-widgets/base",
      "_view_module_version": "1.2.0",
      "_view_name": "LayoutView",
      "align_content": null,
      "align_items": null,
      "align_self": null,
      "border": null,
      "bottom": null,
      "display": null,
      "flex": null,
      "flex_flow": null,
      "grid_area": null,
      "grid_auto_columns": null,
      "grid_auto_flow": null,
      "grid_auto_rows": null,
      "grid_column": null,
      "grid_gap": null,
      "grid_row": null,
      "grid_template_areas": null,
      "grid_template_columns": null,
      "grid_template_rows": null,
      "height": null,
      "justify_content": null,
      "justify_items": null,
      "left": null,
      "margin": null,
      "max_height": null,
      "max_width": null,
      "min_height": null,
      "min_width": null,
      "object_fit": null,
      "object_position": null,
      "order": null,
      "overflow": null,
      "overflow_x": null,
      "overflow_y": null,
      "padding": null,
      "right": null,
      "top": null,
      "visibility": null,
      "width": null
     }
    },
    "a7982feaaf084164a7351c845e8bcd17": {
     "model_module": "@jupyter-widgets/controls",
     "model_module_version": "1.5.0",
     "model_name": "HBoxModel",
     "state": {
      "_dom_classes": [],
      "_model_module": "@jupyter-widgets/controls",
      "_model_module_version": "1.5.0",
      "_model_name": "HBoxModel",
      "_view_count": null,
      "_view_module": "@jupyter-widgets/controls",
      "_view_module_version": "1.5.0",
      "_view_name": "HBoxView",
      "box_style": "",
      "children": [
       "IPY_MODEL_323985ba87a84fb0a13d6ab3fb486e96",
       "IPY_MODEL_08072c44dda14785bba3024d80810217",
       "IPY_MODEL_104b60d4dc2b48c2ae694ff644add694"
      ],
      "layout": "IPY_MODEL_b4143cf4ac904364ba513073f62737a2"
     }
    },
    "b4143cf4ac904364ba513073f62737a2": {
     "model_module": "@jupyter-widgets/base",
     "model_module_version": "1.2.0",
     "model_name": "LayoutModel",
     "state": {
      "_model_module": "@jupyter-widgets/base",
      "_model_module_version": "1.2.0",
      "_model_name": "LayoutModel",
      "_view_count": null,
      "_view_module": "@jupyter-widgets/base",
      "_view_module_version": "1.2.0",
      "_view_name": "LayoutView",
      "align_content": null,
      "align_items": null,
      "align_self": null,
      "border": null,
      "bottom": null,
      "display": null,
      "flex": null,
      "flex_flow": null,
      "grid_area": null,
      "grid_auto_columns": null,
      "grid_auto_flow": null,
      "grid_auto_rows": null,
      "grid_column": null,
      "grid_gap": null,
      "grid_row": null,
      "grid_template_areas": null,
      "grid_template_columns": null,
      "grid_template_rows": null,
      "height": null,
      "justify_content": null,
      "justify_items": null,
      "left": null,
      "margin": null,
      "max_height": null,
      "max_width": null,
      "min_height": null,
      "min_width": null,
      "object_fit": null,
      "object_position": null,
      "order": null,
      "overflow": null,
      "overflow_x": null,
      "overflow_y": null,
      "padding": null,
      "right": null,
      "top": null,
      "visibility": null,
      "width": null
     }
    },
    "bc06a50fcc3d4d35857416ca215772dc": {
     "model_module": "@jupyter-widgets/controls",
     "model_module_version": "1.5.0",
     "model_name": "HTMLModel",
     "state": {
      "_dom_classes": [],
      "_model_module": "@jupyter-widgets/controls",
      "_model_module_version": "1.5.0",
      "_model_name": "HTMLModel",
      "_view_count": null,
      "_view_module": "@jupyter-widgets/controls",
      "_view_module_version": "1.5.0",
      "_view_name": "HTMLView",
      "description": "",
      "description_tooltip": null,
      "layout": "IPY_MODEL_1e1a38d6caca4045ba59ca33d65f3c8b",
      "placeholder": "​",
      "style": "IPY_MODEL_0da463e38e89467c884ccef2fff44686",
      "value": "100%"
     }
    },
    "c24d0d695ed04ec48634187381a25381": {
     "model_module": "@jupyter-widgets/base",
     "model_module_version": "1.2.0",
     "model_name": "LayoutModel",
     "state": {
      "_model_module": "@jupyter-widgets/base",
      "_model_module_version": "1.2.0",
      "_model_name": "LayoutModel",
      "_view_count": null,
      "_view_module": "@jupyter-widgets/base",
      "_view_module_version": "1.2.0",
      "_view_name": "LayoutView",
      "align_content": null,
      "align_items": null,
      "align_self": null,
      "border": null,
      "bottom": null,
      "display": null,
      "flex": null,
      "flex_flow": null,
      "grid_area": null,
      "grid_auto_columns": null,
      "grid_auto_flow": null,
      "grid_auto_rows": null,
      "grid_column": null,
      "grid_gap": null,
      "grid_row": null,
      "grid_template_areas": null,
      "grid_template_columns": null,
      "grid_template_rows": null,
      "height": null,
      "justify_content": null,
      "justify_items": null,
      "left": null,
      "margin": null,
      "max_height": null,
      "max_width": null,
      "min_height": null,
      "min_width": null,
      "object_fit": null,
      "object_position": null,
      "order": null,
      "overflow": null,
      "overflow_x": null,
      "overflow_y": null,
      "padding": null,
      "right": null,
      "top": null,
      "visibility": null,
      "width": null
     }
    },
    "eab8053e9a1b4385acf2f6e049e3a1e3": {
     "model_module": "@jupyter-widgets/base",
     "model_module_version": "1.2.0",
     "model_name": "LayoutModel",
     "state": {
      "_model_module": "@jupyter-widgets/base",
      "_model_module_version": "1.2.0",
      "_model_name": "LayoutModel",
      "_view_count": null,
      "_view_module": "@jupyter-widgets/base",
      "_view_module_version": "1.2.0",
      "_view_name": "LayoutView",
      "align_content": null,
      "align_items": null,
      "align_self": null,
      "border": null,
      "bottom": null,
      "display": null,
      "flex": null,
      "flex_flow": null,
      "grid_area": null,
      "grid_auto_columns": null,
      "grid_auto_flow": null,
      "grid_auto_rows": null,
      "grid_column": null,
      "grid_gap": null,
      "grid_row": null,
      "grid_template_areas": null,
      "grid_template_columns": null,
      "grid_template_rows": null,
      "height": null,
      "justify_content": null,
      "justify_items": null,
      "left": null,
      "margin": null,
      "max_height": null,
      "max_width": null,
      "min_height": null,
      "min_width": null,
      "object_fit": null,
      "object_position": null,
      "order": null,
      "overflow": null,
      "overflow_x": null,
      "overflow_y": null,
      "padding": null,
      "right": null,
      "top": null,
      "visibility": null,
      "width": null
     }
    },
    "ef27a9019b6e43e19e08b91bb88c3b9f": {
     "model_module": "@jupyter-widgets/controls",
     "model_module_version": "1.5.0",
     "model_name": "HBoxModel",
     "state": {
      "_dom_classes": [],
      "_model_module": "@jupyter-widgets/controls",
      "_model_module_version": "1.5.0",
      "_model_name": "HBoxModel",
      "_view_count": null,
      "_view_module": "@jupyter-widgets/controls",
      "_view_module_version": "1.5.0",
      "_view_name": "HBoxView",
      "box_style": "",
      "children": [
       "IPY_MODEL_bc06a50fcc3d4d35857416ca215772dc",
       "IPY_MODEL_4bb3eee3cf3845cb87924db54eddd40d",
       "IPY_MODEL_1b7473f5299e428b815de8a2bd735a98"
      ],
      "layout": "IPY_MODEL_82290b15013d4bfdb5130d4fff0a3bee"
     }
    },
    "faf9a65b17a74fe08e77a07f274de2a6": {
     "model_module": "@jupyter-widgets/base",
     "model_module_version": "1.2.0",
     "model_name": "LayoutModel",
     "state": {
      "_model_module": "@jupyter-widgets/base",
      "_model_module_version": "1.2.0",
      "_model_name": "LayoutModel",
      "_view_count": null,
      "_view_module": "@jupyter-widgets/base",
      "_view_module_version": "1.2.0",
      "_view_name": "LayoutView",
      "align_content": null,
      "align_items": null,
      "align_self": null,
      "border": null,
      "bottom": null,
      "display": null,
      "flex": null,
      "flex_flow": null,
      "grid_area": null,
      "grid_auto_columns": null,
      "grid_auto_flow": null,
      "grid_auto_rows": null,
      "grid_column": null,
      "grid_gap": null,
      "grid_row": null,
      "grid_template_areas": null,
      "grid_template_columns": null,
      "grid_template_rows": null,
      "height": null,
      "justify_content": null,
      "justify_items": null,
      "left": null,
      "margin": null,
      "max_height": null,
      "max_width": null,
      "min_height": null,
      "min_width": null,
      "object_fit": null,
      "object_position": null,
      "order": null,
      "overflow": null,
      "overflow_x": null,
      "overflow_y": null,
      "padding": null,
      "right": null,
      "top": null,
      "visibility": null,
      "width": null
     }
    }
   }
  }
 },
 "nbformat": 4,
 "nbformat_minor": 5
}
