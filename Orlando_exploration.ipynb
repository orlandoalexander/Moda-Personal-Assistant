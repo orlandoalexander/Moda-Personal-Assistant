{
 "cells": [
  {
   "cell_type": "code",
   "execution_count": 2,
   "id": "77c31e6a",
   "metadata": {
    "id": "77c31e6a"
   },
   "outputs": [],
   "source": [
    "import pandas as pd\n",
    "import numpy as np\n",
    "from matplotlib import pyplot as plt\n",
    "import requests\n",
    "from PIL import Image, ImageOps\n",
    "import cv2\n",
    "from scipy import cluster\n",
    "from sklearn.preprocessing import MinMaxScaler\n",
    "import imagesize\n",
    "import random\n",
    "from sklearn.preprocessing import LabelEncoder\n",
    "from ipywidgets import interact\n",
    "import time\n",
    "from io import BytesIO\n",
    "from keras.applications.vgg16 import VGG16\n",
    "from keras.applications.vgg16 import preprocess_input\n",
    "from keras.callbacks import EarlyStopping\n",
    "from keras import Sequential\n",
    "from keras import layers, models\n",
    "from keras.preprocessing.image import ImageDataGenerator\n",
    "from tqdm.notebook import tqdm\n",
    "from keras.metrics import Precision, Recall, Accuracy\n",
    "from sklearn.model_selection import train_test_split\n",
    "from sklearn.pipeline import make_pipeline\n",
    "from sklearn.preprocessing import FunctionTransformer\n",
    "from math import ceil\n",
    "from preproc.sections import SectionPreproc"
   ]
  },
  {
   "cell_type": "code",
   "execution_count": null,
   "id": "tn69h8XONGXf",
   "metadata": {
    "colab": {
     "base_uri": "https://localhost:8080/"
    },
    "id": "tn69h8XONGXf",
    "outputId": "e22bb404-239d-41b6-bd6f-8630778aa6eb"
   },
   "outputs": [],
   "source": [
    "#!pip install --upgrade pip"
   ]
  },
  {
   "cell_type": "code",
   "execution_count": null,
   "id": "Z9iZdmf_NaQ7",
   "metadata": {
    "id": "Z9iZdmf_NaQ7"
   },
   "outputs": [],
   "source": [
    "#!git clone -b preproc_package https://github.com/orlandoalexander/Moda-Personal-Assistant.git"
   ]
  },
  {
   "cell_type": "code",
   "execution_count": null,
   "id": "bKmDfLhnNeTs",
   "metadata": {
    "id": "bKmDfLhnNeTs"
   },
   "outputs": [],
   "source": [
    "#%cd Moda-Personal-Assistant\n",
    "#! pip install ."
   ]
  },
  {
   "cell_type": "code",
   "execution_count": null,
   "id": "n0ZHHWLhO9lO",
   "metadata": {
    "id": "n0ZHHWLhO9lO"
   },
   "outputs": [],
   "source": [
    "#path = '/content/Moda-Personal-Assistant/img'"
   ]
  },
  {
   "cell_type": "code",
   "execution_count": null,
   "id": "A1O0jnfYPSa0",
   "metadata": {
    "id": "A1O0jnfYPSa0"
   },
   "outputs": [],
   "source": [
    "#prep = Preproc(path, (299,299), 'fabric', 0.2)"
   ]
  },
  {
   "cell_type": "code",
   "execution_count": null,
   "id": "VJZJOlW2PWgK",
   "metadata": {
    "colab": {
     "base_uri": "https://localhost:8080/"
    },
    "id": "VJZJOlW2PWgK",
    "outputId": "547533ca-03e3-49ae-d73c-30c81465013f"
   },
   "outputs": [],
   "source": [
    "#X_train, X_test, y_train, y_test = prep.run()"
   ]
  },
  {
   "cell_type": "code",
   "execution_count": null,
   "id": "Nj78lIYKRz7X",
   "metadata": {
    "id": "Nj78lIYKRz7X"
   },
   "outputs": [],
   "source": [
    "from psutil import virtual_memory\n",
    "ram_gb = virtual_memory().total / 1e9\n",
    "print('Your runtime has {:.1f} gigabytes of available RAM\\n'.format(ram_gb))\n",
    "\n",
    "if ram_gb < 20:\n",
    "  print('Not using a high-RAM runtime')\n",
    "else:\n",
    "  print('You are using a high-RAM runtime!')"
   ]
  },
  {
   "cell_type": "code",
   "execution_count": 3,
   "id": "x125kCtiR1dr",
   "metadata": {
    "id": "x125kCtiR1dr"
   },
   "outputs": [],
   "source": [
    "pd.set_option('display.max_columns', None)"
   ]
  },
  {
   "cell_type": "markdown",
   "id": "5e20ee75",
   "metadata": {
    "id": "5e20ee75"
   },
   "source": [
    "# Load raw data"
   ]
  },
  {
   "cell_type": "code",
   "execution_count": null,
   "id": "TeWyl54THv16",
   "metadata": {
    "colab": {
     "base_uri": "https://localhost:8080/"
    },
    "id": "TeWyl54THv16",
    "outputId": "ee052400-56cc-4812-93a1-712788f5e984"
   },
   "outputs": [],
   "source": [
    "# from google.colab import drive\n",
    "# drive.mount('/content/drive')"
   ]
  },
  {
   "cell_type": "code",
   "execution_count": null,
   "id": "lw9Azl17u8Qv",
   "metadata": {
    "id": "lw9Azl17u8Qv"
   },
   "outputs": [],
   "source": [
    "#!unzip '/content/drive/MyDrive/Le Wagon/Moda-Personal-Assistant/Data/DeepFashion_categorical_images_low/img.zip'"
   ]
  },
  {
   "cell_type": "code",
   "execution_count": null,
   "id": "82067545",
   "metadata": {
    "id": "82067545"
   },
   "outputs": [],
   "source": [
    "#PATH_IMG = '/content/img/'\n",
    "#PATH_DATA = '/content/drive/MyDrive/Le Wagon/Moda-Personal-Assistant/Data/DeepFashion_attributes - train'\n"
   ]
  },
  {
   "cell_type": "code",
   "execution_count": 4,
   "id": "d9f45994",
   "metadata": {},
   "outputs": [],
   "source": [
    "PATH_IMG = 'Data/DeepFashion_categorical_images_low/'\n",
    "PATH_DATA = 'Data/DeepFashion_attributes - train'\n"
   ]
  },
  {
   "cell_type": "code",
   "execution_count": 5,
   "id": "49ab34f9",
   "metadata": {
    "id": "49ab34f9"
   },
   "outputs": [],
   "source": [
    "cat_names = pd.read_csv(PATH_DATA+'/list_category.txt',sep ='\\s+',header=None).reset_index().rename(columns={0:'category',1:'section','index':'cat_num'})\n"
   ]
  },
  {
   "cell_type": "code",
   "execution_count": 6,
   "id": "689814cf",
   "metadata": {
    "id": "689814cf"
   },
   "outputs": [],
   "source": [
    "cat_names['cat_num'] = cat_names['cat_num'].apply(lambda x : x+1)"
   ]
  },
  {
   "cell_type": "code",
   "execution_count": 7,
   "id": "e552cf72",
   "metadata": {
    "colab": {
     "base_uri": "https://localhost:8080/",
     "height": 206
    },
    "id": "e552cf72",
    "outputId": "5b350f1f-d976-4954-ac6e-e5f9be68bc37"
   },
   "outputs": [
    {
     "data": {
      "text/html": [
       "<div>\n",
       "<style scoped>\n",
       "    .dataframe tbody tr th:only-of-type {\n",
       "        vertical-align: middle;\n",
       "    }\n",
       "\n",
       "    .dataframe tbody tr th {\n",
       "        vertical-align: top;\n",
       "    }\n",
       "\n",
       "    .dataframe thead th {\n",
       "        text-align: right;\n",
       "    }\n",
       "</style>\n",
       "<table border=\"1\" class=\"dataframe\">\n",
       "  <thead>\n",
       "    <tr style=\"text-align: right;\">\n",
       "      <th></th>\n",
       "      <th>cat_num</th>\n",
       "      <th>category</th>\n",
       "      <th>section</th>\n",
       "    </tr>\n",
       "  </thead>\n",
       "  <tbody>\n",
       "    <tr>\n",
       "      <th>0</th>\n",
       "      <td>1</td>\n",
       "      <td>Anorak</td>\n",
       "      <td>1</td>\n",
       "    </tr>\n",
       "    <tr>\n",
       "      <th>1</th>\n",
       "      <td>2</td>\n",
       "      <td>Blazer</td>\n",
       "      <td>1</td>\n",
       "    </tr>\n",
       "    <tr>\n",
       "      <th>2</th>\n",
       "      <td>3</td>\n",
       "      <td>Blouse</td>\n",
       "      <td>1</td>\n",
       "    </tr>\n",
       "    <tr>\n",
       "      <th>3</th>\n",
       "      <td>4</td>\n",
       "      <td>Bomber</td>\n",
       "      <td>1</td>\n",
       "    </tr>\n",
       "    <tr>\n",
       "      <th>4</th>\n",
       "      <td>5</td>\n",
       "      <td>Button-Down</td>\n",
       "      <td>1</td>\n",
       "    </tr>\n",
       "  </tbody>\n",
       "</table>\n",
       "</div>"
      ],
      "text/plain": [
       "   cat_num     category  section\n",
       "0        1       Anorak        1\n",
       "1        2       Blazer        1\n",
       "2        3       Blouse        1\n",
       "3        4       Bomber        1\n",
       "4        5  Button-Down        1"
      ]
     },
     "execution_count": 7,
     "metadata": {},
     "output_type": "execute_result"
    }
   ],
   "source": [
    "cat_names.head()"
   ]
  },
  {
   "cell_type": "code",
   "execution_count": 8,
   "id": "10212d3f",
   "metadata": {
    "id": "10212d3f"
   },
   "outputs": [],
   "source": [
    "cat_tag = pd.read_csv(PATH_DATA+'/tag_cat_simple.txt',sep='\\s+',header=None,names=['category']).rename(columns={'category':'cat_num'})\n",
    "\n"
   ]
  },
  {
   "cell_type": "code",
   "execution_count": 9,
   "id": "c366f8fd",
   "metadata": {
    "id": "c366f8fd"
   },
   "outputs": [],
   "source": [
    "cat_img = pd.read_csv(PATH_DATA+'/img_simple.txt',sep='\\s+',header=None,names=['category']).rename(columns={'category':'img'})"
   ]
  },
  {
   "cell_type": "code",
   "execution_count": 10,
   "id": "3653dbd8",
   "metadata": {
    "id": "3653dbd8"
   },
   "outputs": [],
   "source": [
    "cat_num = cat_img.join(cat_tag).drop(columns='img')\n"
   ]
  },
  {
   "cell_type": "code",
   "execution_count": 11,
   "id": "8bc09c07",
   "metadata": {
    "colab": {
     "base_uri": "https://localhost:8080/",
     "height": 206
    },
    "id": "8bc09c07",
    "outputId": "f780d42a-c4bb-465f-b581-b4f891e58532"
   },
   "outputs": [
    {
     "data": {
      "text/html": [
       "<div>\n",
       "<style scoped>\n",
       "    .dataframe tbody tr th:only-of-type {\n",
       "        vertical-align: middle;\n",
       "    }\n",
       "\n",
       "    .dataframe tbody tr th {\n",
       "        vertical-align: top;\n",
       "    }\n",
       "\n",
       "    .dataframe thead th {\n",
       "        text-align: right;\n",
       "    }\n",
       "</style>\n",
       "<table border=\"1\" class=\"dataframe\">\n",
       "  <thead>\n",
       "    <tr style=\"text-align: right;\">\n",
       "      <th></th>\n",
       "      <th>cat_num</th>\n",
       "    </tr>\n",
       "  </thead>\n",
       "  <tbody>\n",
       "    <tr>\n",
       "      <th>0</th>\n",
       "      <td>3</td>\n",
       "    </tr>\n",
       "    <tr>\n",
       "      <th>1</th>\n",
       "      <td>33</td>\n",
       "    </tr>\n",
       "    <tr>\n",
       "      <th>2</th>\n",
       "      <td>41</td>\n",
       "    </tr>\n",
       "    <tr>\n",
       "      <th>3</th>\n",
       "      <td>26</td>\n",
       "    </tr>\n",
       "    <tr>\n",
       "      <th>4</th>\n",
       "      <td>2</td>\n",
       "    </tr>\n",
       "  </tbody>\n",
       "</table>\n",
       "</div>"
      ],
      "text/plain": [
       "   cat_num\n",
       "0        3\n",
       "1       33\n",
       "2       41\n",
       "3       26\n",
       "4        2"
      ]
     },
     "execution_count": 11,
     "metadata": {},
     "output_type": "execute_result"
    }
   ],
   "source": [
    "cat_num.head()"
   ]
  },
  {
   "cell_type": "code",
   "execution_count": 12,
   "id": "4b09cf1a",
   "metadata": {
    "id": "4b09cf1a"
   },
   "outputs": [],
   "source": [
    "cat = cat_num.merge(cat_names, on='cat_num', how='left').drop(columns='cat_num')\n",
    "\n"
   ]
  },
  {
   "cell_type": "code",
   "execution_count": 13,
   "id": "89994635",
   "metadata": {
    "colab": {
     "base_uri": "https://localhost:8080/",
     "height": 424
    },
    "id": "89994635",
    "outputId": "65c1758a-9f49-4fd9-fef1-3fbce75fd6d2"
   },
   "outputs": [
    {
     "data": {
      "text/html": [
       "<div>\n",
       "<style scoped>\n",
       "    .dataframe tbody tr th:only-of-type {\n",
       "        vertical-align: middle;\n",
       "    }\n",
       "\n",
       "    .dataframe tbody tr th {\n",
       "        vertical-align: top;\n",
       "    }\n",
       "\n",
       "    .dataframe thead th {\n",
       "        text-align: right;\n",
       "    }\n",
       "</style>\n",
       "<table border=\"1\" class=\"dataframe\">\n",
       "  <thead>\n",
       "    <tr style=\"text-align: right;\">\n",
       "      <th></th>\n",
       "      <th>category</th>\n",
       "      <th>section</th>\n",
       "    </tr>\n",
       "  </thead>\n",
       "  <tbody>\n",
       "    <tr>\n",
       "      <th>0</th>\n",
       "      <td>Blouse</td>\n",
       "      <td>1</td>\n",
       "    </tr>\n",
       "    <tr>\n",
       "      <th>1</th>\n",
       "      <td>Skirt</td>\n",
       "      <td>2</td>\n",
       "    </tr>\n",
       "    <tr>\n",
       "      <th>2</th>\n",
       "      <td>Dress</td>\n",
       "      <td>3</td>\n",
       "    </tr>\n",
       "    <tr>\n",
       "      <th>3</th>\n",
       "      <td>Jeans</td>\n",
       "      <td>2</td>\n",
       "    </tr>\n",
       "    <tr>\n",
       "      <th>4</th>\n",
       "      <td>Blazer</td>\n",
       "      <td>1</td>\n",
       "    </tr>\n",
       "    <tr>\n",
       "      <th>...</th>\n",
       "      <td>...</td>\n",
       "      <td>...</td>\n",
       "    </tr>\n",
       "    <tr>\n",
       "      <th>19995</th>\n",
       "      <td>Tank</td>\n",
       "      <td>1</td>\n",
       "    </tr>\n",
       "    <tr>\n",
       "      <th>19996</th>\n",
       "      <td>Sweater</td>\n",
       "      <td>1</td>\n",
       "    </tr>\n",
       "    <tr>\n",
       "      <th>19997</th>\n",
       "      <td>Henley</td>\n",
       "      <td>1</td>\n",
       "    </tr>\n",
       "    <tr>\n",
       "      <th>19998</th>\n",
       "      <td>Jumpsuit</td>\n",
       "      <td>3</td>\n",
       "    </tr>\n",
       "    <tr>\n",
       "      <th>19999</th>\n",
       "      <td>Dress</td>\n",
       "      <td>3</td>\n",
       "    </tr>\n",
       "  </tbody>\n",
       "</table>\n",
       "<p>20000 rows × 2 columns</p>\n",
       "</div>"
      ],
      "text/plain": [
       "       category  section\n",
       "0        Blouse        1\n",
       "1         Skirt        2\n",
       "2         Dress        3\n",
       "3         Jeans        2\n",
       "4        Blazer        1\n",
       "...         ...      ...\n",
       "19995      Tank        1\n",
       "19996   Sweater        1\n",
       "19997    Henley        1\n",
       "19998  Jumpsuit        3\n",
       "19999     Dress        3\n",
       "\n",
       "[20000 rows x 2 columns]"
      ]
     },
     "execution_count": 13,
     "metadata": {},
     "output_type": "execute_result"
    }
   ],
   "source": [
    "cat"
   ]
  },
  {
   "cell_type": "code",
   "execution_count": 14,
   "id": "058181c8",
   "metadata": {
    "id": "058181c8"
   },
   "outputs": [],
   "source": [
    "cat['section'] = cat['section'].map({1:'upper',2:'lower',3:'full body'})"
   ]
  },
  {
   "cell_type": "code",
   "execution_count": 15,
   "id": "7b056d00",
   "metadata": {
    "id": "7b056d00"
   },
   "outputs": [],
   "source": [
    "cat_names = pd.read_csv(PATH_DATA+'/list_category.txt',sep ='\\s+',header=None).reset_index().rename(columns={0:'category',1:'section','index':'cat_num'})\n",
    "\n"
   ]
  },
  {
   "cell_type": "code",
   "execution_count": 16,
   "id": "da04bd87",
   "metadata": {
    "id": "da04bd87"
   },
   "outputs": [],
   "source": [
    "cat_names['cat_num'] = cat_names['cat_num'].apply(lambda x : x+1)"
   ]
  },
  {
   "cell_type": "code",
   "execution_count": 17,
   "id": "61c92263",
   "metadata": {
    "colab": {
     "base_uri": "https://localhost:8080/",
     "height": 206
    },
    "id": "61c92263",
    "outputId": "35e36950-95be-4132-f551-dbce1abdf6a5"
   },
   "outputs": [
    {
     "data": {
      "text/html": [
       "<div>\n",
       "<style scoped>\n",
       "    .dataframe tbody tr th:only-of-type {\n",
       "        vertical-align: middle;\n",
       "    }\n",
       "\n",
       "    .dataframe tbody tr th {\n",
       "        vertical-align: top;\n",
       "    }\n",
       "\n",
       "    .dataframe thead th {\n",
       "        text-align: right;\n",
       "    }\n",
       "</style>\n",
       "<table border=\"1\" class=\"dataframe\">\n",
       "  <thead>\n",
       "    <tr style=\"text-align: right;\">\n",
       "      <th></th>\n",
       "      <th>cat_num</th>\n",
       "      <th>category</th>\n",
       "      <th>section</th>\n",
       "    </tr>\n",
       "  </thead>\n",
       "  <tbody>\n",
       "    <tr>\n",
       "      <th>0</th>\n",
       "      <td>1</td>\n",
       "      <td>Anorak</td>\n",
       "      <td>1</td>\n",
       "    </tr>\n",
       "    <tr>\n",
       "      <th>1</th>\n",
       "      <td>2</td>\n",
       "      <td>Blazer</td>\n",
       "      <td>1</td>\n",
       "    </tr>\n",
       "    <tr>\n",
       "      <th>2</th>\n",
       "      <td>3</td>\n",
       "      <td>Blouse</td>\n",
       "      <td>1</td>\n",
       "    </tr>\n",
       "    <tr>\n",
       "      <th>3</th>\n",
       "      <td>4</td>\n",
       "      <td>Bomber</td>\n",
       "      <td>1</td>\n",
       "    </tr>\n",
       "    <tr>\n",
       "      <th>4</th>\n",
       "      <td>5</td>\n",
       "      <td>Button-Down</td>\n",
       "      <td>1</td>\n",
       "    </tr>\n",
       "  </tbody>\n",
       "</table>\n",
       "</div>"
      ],
      "text/plain": [
       "   cat_num     category  section\n",
       "0        1       Anorak        1\n",
       "1        2       Blazer        1\n",
       "2        3       Blouse        1\n",
       "3        4       Bomber        1\n",
       "4        5  Button-Down        1"
      ]
     },
     "execution_count": 17,
     "metadata": {},
     "output_type": "execute_result"
    }
   ],
   "source": [
    "cat_names.head()"
   ]
  },
  {
   "cell_type": "code",
   "execution_count": 18,
   "id": "b0997c6f",
   "metadata": {
    "id": "b0997c6f"
   },
   "outputs": [],
   "source": [
    "cat_tag = pd.read_csv(PATH_DATA+'/tag_cat_simple.txt',sep='\\s+',header=None,names=['category']).rename(columns={'category':'cat_num'})\n",
    "\n"
   ]
  },
  {
   "cell_type": "code",
   "execution_count": 19,
   "id": "fd451595",
   "metadata": {
    "id": "fd451595"
   },
   "outputs": [],
   "source": [
    "cat_img = pd.read_csv(PATH_DATA+'/img_simple.txt',sep='\\s+',header=None,names=['category']).rename(columns={'category':'img'})"
   ]
  },
  {
   "cell_type": "code",
   "execution_count": 20,
   "id": "69ce85ff",
   "metadata": {
    "id": "69ce85ff"
   },
   "outputs": [],
   "source": [
    "cat_num = cat_img.join(cat_tag)\n"
   ]
  },
  {
   "cell_type": "code",
   "execution_count": 21,
   "id": "7c26ef9c",
   "metadata": {
    "colab": {
     "base_uri": "https://localhost:8080/",
     "height": 206
    },
    "id": "7c26ef9c",
    "outputId": "83e77a06-6cde-48d6-90cc-6895a2ce7b4e"
   },
   "outputs": [
    {
     "data": {
      "text/html": [
       "<div>\n",
       "<style scoped>\n",
       "    .dataframe tbody tr th:only-of-type {\n",
       "        vertical-align: middle;\n",
       "    }\n",
       "\n",
       "    .dataframe tbody tr th {\n",
       "        vertical-align: top;\n",
       "    }\n",
       "\n",
       "    .dataframe thead th {\n",
       "        text-align: right;\n",
       "    }\n",
       "</style>\n",
       "<table border=\"1\" class=\"dataframe\">\n",
       "  <thead>\n",
       "    <tr style=\"text-align: right;\">\n",
       "      <th></th>\n",
       "      <th>img</th>\n",
       "      <th>cat_num</th>\n",
       "    </tr>\n",
       "  </thead>\n",
       "  <tbody>\n",
       "    <tr>\n",
       "      <th>0</th>\n",
       "      <td>img/Sweet_Crochet_Blouse/img_00000070.jpg</td>\n",
       "      <td>3</td>\n",
       "    </tr>\n",
       "    <tr>\n",
       "      <th>1</th>\n",
       "      <td>img/Classic_Pencil_Skirt/img_00000010.jpg</td>\n",
       "      <td>33</td>\n",
       "    </tr>\n",
       "    <tr>\n",
       "      <th>2</th>\n",
       "      <td>img/Strapless_Diamond_Print_Dress/img_00000038...</td>\n",
       "      <td>41</td>\n",
       "    </tr>\n",
       "    <tr>\n",
       "      <th>3</th>\n",
       "      <td>img/Mid-Rise_-_Acid_Wash_Skinny_Jeans/img_0000...</td>\n",
       "      <td>26</td>\n",
       "    </tr>\n",
       "    <tr>\n",
       "      <th>4</th>\n",
       "      <td>img/Zippered_Single-Button_Blazer/img_00000078...</td>\n",
       "      <td>2</td>\n",
       "    </tr>\n",
       "  </tbody>\n",
       "</table>\n",
       "</div>"
      ],
      "text/plain": [
       "                                                 img  cat_num\n",
       "0          img/Sweet_Crochet_Blouse/img_00000070.jpg        3\n",
       "1          img/Classic_Pencil_Skirt/img_00000010.jpg       33\n",
       "2  img/Strapless_Diamond_Print_Dress/img_00000038...       41\n",
       "3  img/Mid-Rise_-_Acid_Wash_Skinny_Jeans/img_0000...       26\n",
       "4  img/Zippered_Single-Button_Blazer/img_00000078...        2"
      ]
     },
     "execution_count": 21,
     "metadata": {},
     "output_type": "execute_result"
    }
   ],
   "source": [
    "cat_num.head()"
   ]
  },
  {
   "cell_type": "code",
   "execution_count": 22,
   "id": "c4751a2b",
   "metadata": {
    "id": "c4751a2b"
   },
   "outputs": [],
   "source": [
    "cat = cat_num.merge(cat_names, on='cat_num', how='left').drop(columns='cat_num')\n"
   ]
  },
  {
   "cell_type": "code",
   "execution_count": 23,
   "id": "b20a928e",
   "metadata": {
    "id": "b20a928e"
   },
   "outputs": [],
   "source": [
    "cat['img'] = cat['img'].apply(lambda x: x[4:])"
   ]
  },
  {
   "cell_type": "code",
   "execution_count": 24,
   "id": "09e9a0f5",
   "metadata": {
    "colab": {
     "base_uri": "https://localhost:8080/",
     "height": 424
    },
    "id": "09e9a0f5",
    "outputId": "759c42d8-be9b-4a31-a479-1271bc14dec1"
   },
   "outputs": [
    {
     "data": {
      "text/html": [
       "<div>\n",
       "<style scoped>\n",
       "    .dataframe tbody tr th:only-of-type {\n",
       "        vertical-align: middle;\n",
       "    }\n",
       "\n",
       "    .dataframe tbody tr th {\n",
       "        vertical-align: top;\n",
       "    }\n",
       "\n",
       "    .dataframe thead th {\n",
       "        text-align: right;\n",
       "    }\n",
       "</style>\n",
       "<table border=\"1\" class=\"dataframe\">\n",
       "  <thead>\n",
       "    <tr style=\"text-align: right;\">\n",
       "      <th></th>\n",
       "      <th>img</th>\n",
       "      <th>category</th>\n",
       "      <th>section</th>\n",
       "    </tr>\n",
       "  </thead>\n",
       "  <tbody>\n",
       "    <tr>\n",
       "      <th>0</th>\n",
       "      <td>Sweet_Crochet_Blouse/img_00000070.jpg</td>\n",
       "      <td>Blouse</td>\n",
       "      <td>1</td>\n",
       "    </tr>\n",
       "    <tr>\n",
       "      <th>1</th>\n",
       "      <td>Classic_Pencil_Skirt/img_00000010.jpg</td>\n",
       "      <td>Skirt</td>\n",
       "      <td>2</td>\n",
       "    </tr>\n",
       "    <tr>\n",
       "      <th>2</th>\n",
       "      <td>Strapless_Diamond_Print_Dress/img_00000038.jpg</td>\n",
       "      <td>Dress</td>\n",
       "      <td>3</td>\n",
       "    </tr>\n",
       "    <tr>\n",
       "      <th>3</th>\n",
       "      <td>Mid-Rise_-_Acid_Wash_Skinny_Jeans/img_00000010...</td>\n",
       "      <td>Jeans</td>\n",
       "      <td>2</td>\n",
       "    </tr>\n",
       "    <tr>\n",
       "      <th>4</th>\n",
       "      <td>Zippered_Single-Button_Blazer/img_00000078.jpg</td>\n",
       "      <td>Blazer</td>\n",
       "      <td>1</td>\n",
       "    </tr>\n",
       "    <tr>\n",
       "      <th>...</th>\n",
       "      <td>...</td>\n",
       "      <td>...</td>\n",
       "      <td>...</td>\n",
       "    </tr>\n",
       "    <tr>\n",
       "      <th>19995</th>\n",
       "      <td>Embroidered_Peasant_Tank/img_00000044.jpg</td>\n",
       "      <td>Tank</td>\n",
       "      <td>1</td>\n",
       "    </tr>\n",
       "    <tr>\n",
       "      <th>19996</th>\n",
       "      <td>Tasmanian_Devil_Sweater/img_00000048.jpg</td>\n",
       "      <td>Sweater</td>\n",
       "      <td>1</td>\n",
       "    </tr>\n",
       "    <tr>\n",
       "      <th>19997</th>\n",
       "      <td>Lace-Sleeved_Raglan_Henley/img_00000022.jpg</td>\n",
       "      <td>Henley</td>\n",
       "      <td>1</td>\n",
       "    </tr>\n",
       "    <tr>\n",
       "      <th>19998</th>\n",
       "      <td>Floral_Mosaic_Print_Jumpsuit/img_00000017.jpg</td>\n",
       "      <td>Jumpsuit</td>\n",
       "      <td>3</td>\n",
       "    </tr>\n",
       "    <tr>\n",
       "      <th>19999</th>\n",
       "      <td>Sparkling_Ruched_Dress/img_00000047.jpg</td>\n",
       "      <td>Dress</td>\n",
       "      <td>3</td>\n",
       "    </tr>\n",
       "  </tbody>\n",
       "</table>\n",
       "<p>20000 rows × 3 columns</p>\n",
       "</div>"
      ],
      "text/plain": [
       "                                                     img  category  section\n",
       "0                  Sweet_Crochet_Blouse/img_00000070.jpg    Blouse        1\n",
       "1                  Classic_Pencil_Skirt/img_00000010.jpg     Skirt        2\n",
       "2         Strapless_Diamond_Print_Dress/img_00000038.jpg     Dress        3\n",
       "3      Mid-Rise_-_Acid_Wash_Skinny_Jeans/img_00000010...     Jeans        2\n",
       "4         Zippered_Single-Button_Blazer/img_00000078.jpg    Blazer        1\n",
       "...                                                  ...       ...      ...\n",
       "19995          Embroidered_Peasant_Tank/img_00000044.jpg      Tank        1\n",
       "19996           Tasmanian_Devil_Sweater/img_00000048.jpg   Sweater        1\n",
       "19997        Lace-Sleeved_Raglan_Henley/img_00000022.jpg    Henley        1\n",
       "19998      Floral_Mosaic_Print_Jumpsuit/img_00000017.jpg  Jumpsuit        3\n",
       "19999            Sparkling_Ruched_Dress/img_00000047.jpg     Dress        3\n",
       "\n",
       "[20000 rows x 3 columns]"
      ]
     },
     "execution_count": 24,
     "metadata": {},
     "output_type": "execute_result"
    }
   ],
   "source": [
    "cat"
   ]
  },
  {
   "cell_type": "code",
   "execution_count": 25,
   "id": "b229ccfe",
   "metadata": {
    "id": "b229ccfe"
   },
   "outputs": [],
   "source": [
    "cat['section'] = cat['section'].map({1:'upper',2:'lower',3:'full body'})"
   ]
  },
  {
   "cell_type": "code",
   "execution_count": 26,
   "id": "f9d33cba",
   "metadata": {
    "id": "f9d33cba"
   },
   "outputs": [],
   "source": [
    "attr_names = pd.read_csv(PATH_DATA+'/list_attr_simple.txt',sep='\\s+', header=None).rename(columns={0:'attribute',1:'attribute_type'})\n"
   ]
  },
  {
   "cell_type": "code",
   "execution_count": 27,
   "id": "d820bc81",
   "metadata": {
    "colab": {
     "base_uri": "https://localhost:8080/",
     "height": 865
    },
    "id": "d820bc81",
    "outputId": "041e8d61-48fb-4525-8cd5-eb4048a65438"
   },
   "outputs": [
    {
     "data": {
      "text/html": [
       "<div>\n",
       "<style scoped>\n",
       "    .dataframe tbody tr th:only-of-type {\n",
       "        vertical-align: middle;\n",
       "    }\n",
       "\n",
       "    .dataframe tbody tr th {\n",
       "        vertical-align: top;\n",
       "    }\n",
       "\n",
       "    .dataframe thead th {\n",
       "        text-align: right;\n",
       "    }\n",
       "</style>\n",
       "<table border=\"1\" class=\"dataframe\">\n",
       "  <thead>\n",
       "    <tr style=\"text-align: right;\">\n",
       "      <th></th>\n",
       "      <th>attribute</th>\n",
       "      <th>attribute_type</th>\n",
       "    </tr>\n",
       "  </thead>\n",
       "  <tbody>\n",
       "    <tr>\n",
       "      <th>0</th>\n",
       "      <td>floral</td>\n",
       "      <td>1</td>\n",
       "    </tr>\n",
       "    <tr>\n",
       "      <th>1</th>\n",
       "      <td>graphic</td>\n",
       "      <td>1</td>\n",
       "    </tr>\n",
       "    <tr>\n",
       "      <th>2</th>\n",
       "      <td>striped</td>\n",
       "      <td>1</td>\n",
       "    </tr>\n",
       "    <tr>\n",
       "      <th>3</th>\n",
       "      <td>embroidered</td>\n",
       "      <td>1</td>\n",
       "    </tr>\n",
       "    <tr>\n",
       "      <th>4</th>\n",
       "      <td>pleated</td>\n",
       "      <td>1</td>\n",
       "    </tr>\n",
       "    <tr>\n",
       "      <th>5</th>\n",
       "      <td>solid</td>\n",
       "      <td>1</td>\n",
       "    </tr>\n",
       "    <tr>\n",
       "      <th>6</th>\n",
       "      <td>lattice</td>\n",
       "      <td>1</td>\n",
       "    </tr>\n",
       "    <tr>\n",
       "      <th>7</th>\n",
       "      <td>long_sleeve</td>\n",
       "      <td>2</td>\n",
       "    </tr>\n",
       "    <tr>\n",
       "      <th>8</th>\n",
       "      <td>short_sleeve</td>\n",
       "      <td>2</td>\n",
       "    </tr>\n",
       "    <tr>\n",
       "      <th>9</th>\n",
       "      <td>sleeveless</td>\n",
       "      <td>2</td>\n",
       "    </tr>\n",
       "    <tr>\n",
       "      <th>10</th>\n",
       "      <td>maxi_length</td>\n",
       "      <td>3</td>\n",
       "    </tr>\n",
       "    <tr>\n",
       "      <th>11</th>\n",
       "      <td>mini_length</td>\n",
       "      <td>3</td>\n",
       "    </tr>\n",
       "    <tr>\n",
       "      <th>12</th>\n",
       "      <td>no_dress</td>\n",
       "      <td>3</td>\n",
       "    </tr>\n",
       "    <tr>\n",
       "      <th>13</th>\n",
       "      <td>crew_neckline</td>\n",
       "      <td>4</td>\n",
       "    </tr>\n",
       "    <tr>\n",
       "      <th>14</th>\n",
       "      <td>v_neckline</td>\n",
       "      <td>4</td>\n",
       "    </tr>\n",
       "    <tr>\n",
       "      <th>15</th>\n",
       "      <td>square_neckline</td>\n",
       "      <td>4</td>\n",
       "    </tr>\n",
       "    <tr>\n",
       "      <th>16</th>\n",
       "      <td>no_neckline</td>\n",
       "      <td>4</td>\n",
       "    </tr>\n",
       "    <tr>\n",
       "      <th>17</th>\n",
       "      <td>denim</td>\n",
       "      <td>5</td>\n",
       "    </tr>\n",
       "    <tr>\n",
       "      <th>18</th>\n",
       "      <td>chiffon</td>\n",
       "      <td>5</td>\n",
       "    </tr>\n",
       "    <tr>\n",
       "      <th>19</th>\n",
       "      <td>cotton</td>\n",
       "      <td>5</td>\n",
       "    </tr>\n",
       "    <tr>\n",
       "      <th>20</th>\n",
       "      <td>leather</td>\n",
       "      <td>5</td>\n",
       "    </tr>\n",
       "    <tr>\n",
       "      <th>21</th>\n",
       "      <td>faux</td>\n",
       "      <td>5</td>\n",
       "    </tr>\n",
       "    <tr>\n",
       "      <th>22</th>\n",
       "      <td>knit</td>\n",
       "      <td>5</td>\n",
       "    </tr>\n",
       "    <tr>\n",
       "      <th>23</th>\n",
       "      <td>tight</td>\n",
       "      <td>6</td>\n",
       "    </tr>\n",
       "    <tr>\n",
       "      <th>24</th>\n",
       "      <td>loose</td>\n",
       "      <td>6</td>\n",
       "    </tr>\n",
       "    <tr>\n",
       "      <th>25</th>\n",
       "      <td>conventional</td>\n",
       "      <td>6</td>\n",
       "    </tr>\n",
       "  </tbody>\n",
       "</table>\n",
       "</div>"
      ],
      "text/plain": [
       "          attribute  attribute_type\n",
       "0            floral               1\n",
       "1           graphic               1\n",
       "2           striped               1\n",
       "3       embroidered               1\n",
       "4           pleated               1\n",
       "5             solid               1\n",
       "6           lattice               1\n",
       "7       long_sleeve               2\n",
       "8      short_sleeve               2\n",
       "9        sleeveless               2\n",
       "10      maxi_length               3\n",
       "11      mini_length               3\n",
       "12         no_dress               3\n",
       "13    crew_neckline               4\n",
       "14       v_neckline               4\n",
       "15  square_neckline               4\n",
       "16      no_neckline               4\n",
       "17            denim               5\n",
       "18          chiffon               5\n",
       "19           cotton               5\n",
       "20          leather               5\n",
       "21             faux               5\n",
       "22             knit               5\n",
       "23            tight               6\n",
       "24            loose               6\n",
       "25     conventional               6"
      ]
     },
     "execution_count": 27,
     "metadata": {},
     "output_type": "execute_result"
    }
   ],
   "source": [
    "attr_names"
   ]
  },
  {
   "cell_type": "code",
   "execution_count": 28,
   "id": "7dcdb3fb",
   "metadata": {
    "id": "7dcdb3fb"
   },
   "outputs": [],
   "source": [
    "attr_names['attribute_type'] = attr_names['attribute_type'].map({1:'design',2:'sleeves',3:'length',4:'part',5:'fabric',6:'fit'})\n"
   ]
  },
  {
   "cell_type": "code",
   "execution_count": 29,
   "id": "pgJ8RINE5vQn",
   "metadata": {
    "colab": {
     "base_uri": "https://localhost:8080/",
     "height": 35
    },
    "id": "pgJ8RINE5vQn",
    "outputId": "32c2b7bc-f138-4113-a768-50d32242a1d8"
   },
   "outputs": [
    {
     "data": {
      "text/plain": [
       "'long_sleeve'"
      ]
     },
     "execution_count": 29,
     "metadata": {},
     "output_type": "execute_result"
    }
   ],
   "source": [
    "attr_names[attr_names['attribute_type']=='sleeves'].iloc[0,0]"
   ]
  },
  {
   "cell_type": "code",
   "execution_count": 30,
   "id": "wd2x3DPO4HkI",
   "metadata": {
    "colab": {
     "base_uri": "https://localhost:8080/"
    },
    "id": "wd2x3DPO4HkI",
    "outputId": "c0448b43-cde4-4d20-f077-f6531a90f42e"
   },
   "outputs": [
    {
     "data": {
      "text/plain": [
       "array([7, 8, 9])"
      ]
     },
     "execution_count": 30,
     "metadata": {},
     "output_type": "execute_result"
    }
   ],
   "source": [
    "np.where(attr_names['attribute_type'].values=='sleeves')[0]"
   ]
  },
  {
   "cell_type": "code",
   "execution_count": 31,
   "id": "99eca10e",
   "metadata": {
    "colab": {
     "base_uri": "https://localhost:8080/"
    },
    "id": "99eca10e",
    "outputId": "c58c0a57-9174-4f38-8565-cea747ccac70"
   },
   "outputs": [
    {
     "data": {
      "text/plain": [
       "0              floral\n",
       "1             graphic\n",
       "2             striped\n",
       "3         embroidered\n",
       "4             pleated\n",
       "5               solid\n",
       "6             lattice\n",
       "7         long_sleeve\n",
       "8        short_sleeve\n",
       "9          sleeveless\n",
       "10        maxi_length\n",
       "11        mini_length\n",
       "12           no_dress\n",
       "13      crew_neckline\n",
       "14         v_neckline\n",
       "15    square_neckline\n",
       "16        no_neckline\n",
       "17              denim\n",
       "18            chiffon\n",
       "19             cotton\n",
       "20            leather\n",
       "21               faux\n",
       "22               knit\n",
       "23              tight\n",
       "24              loose\n",
       "25       conventional\n",
       "Name: attribute, dtype: object"
      ]
     },
     "execution_count": 31,
     "metadata": {},
     "output_type": "execute_result"
    }
   ],
   "source": [
    "attr_names_headers = attr_names.iloc[:,0]\n",
    "attr_names_headers"
   ]
  },
  {
   "cell_type": "code",
   "execution_count": 32,
   "id": "b263aae7",
   "metadata": {
    "id": "b263aae7"
   },
   "outputs": [],
   "source": [
    "attr_tags = pd.read_csv(PATH_DATA+'/tags_attr_simple.txt',sep='\\s+',header=None,names=attr_names_headers)\n"
   ]
  },
  {
   "cell_type": "code",
   "execution_count": 33,
   "id": "1198dcac",
   "metadata": {
    "colab": {
     "base_uri": "https://localhost:8080/",
     "height": 488
    },
    "id": "1198dcac",
    "outputId": "a64e2121-ae58-4971-f130-b6906fdf9566"
   },
   "outputs": [
    {
     "data": {
      "text/html": [
       "<div>\n",
       "<style scoped>\n",
       "    .dataframe tbody tr th:only-of-type {\n",
       "        vertical-align: middle;\n",
       "    }\n",
       "\n",
       "    .dataframe tbody tr th {\n",
       "        vertical-align: top;\n",
       "    }\n",
       "\n",
       "    .dataframe thead th {\n",
       "        text-align: right;\n",
       "    }\n",
       "</style>\n",
       "<table border=\"1\" class=\"dataframe\">\n",
       "  <thead>\n",
       "    <tr style=\"text-align: right;\">\n",
       "      <th></th>\n",
       "      <th>floral</th>\n",
       "      <th>graphic</th>\n",
       "      <th>striped</th>\n",
       "      <th>embroidered</th>\n",
       "      <th>pleated</th>\n",
       "      <th>solid</th>\n",
       "      <th>lattice</th>\n",
       "      <th>long_sleeve</th>\n",
       "      <th>short_sleeve</th>\n",
       "      <th>sleeveless</th>\n",
       "      <th>maxi_length</th>\n",
       "      <th>mini_length</th>\n",
       "      <th>no_dress</th>\n",
       "      <th>crew_neckline</th>\n",
       "      <th>v_neckline</th>\n",
       "      <th>square_neckline</th>\n",
       "      <th>no_neckline</th>\n",
       "      <th>denim</th>\n",
       "      <th>chiffon</th>\n",
       "      <th>cotton</th>\n",
       "      <th>leather</th>\n",
       "      <th>faux</th>\n",
       "      <th>knit</th>\n",
       "      <th>tight</th>\n",
       "      <th>loose</th>\n",
       "      <th>conventional</th>\n",
       "    </tr>\n",
       "  </thead>\n",
       "  <tbody>\n",
       "    <tr>\n",
       "      <th>0</th>\n",
       "      <td>0</td>\n",
       "      <td>0</td>\n",
       "      <td>0</td>\n",
       "      <td>1</td>\n",
       "      <td>0</td>\n",
       "      <td>0</td>\n",
       "      <td>0</td>\n",
       "      <td>0</td>\n",
       "      <td>0</td>\n",
       "      <td>1</td>\n",
       "      <td>0</td>\n",
       "      <td>0</td>\n",
       "      <td>1</td>\n",
       "      <td>0</td>\n",
       "      <td>0</td>\n",
       "      <td>0</td>\n",
       "      <td>1</td>\n",
       "      <td>0</td>\n",
       "      <td>1</td>\n",
       "      <td>0</td>\n",
       "      <td>0</td>\n",
       "      <td>0</td>\n",
       "      <td>0</td>\n",
       "      <td>0</td>\n",
       "      <td>0</td>\n",
       "      <td>1</td>\n",
       "    </tr>\n",
       "    <tr>\n",
       "      <th>1</th>\n",
       "      <td>0</td>\n",
       "      <td>0</td>\n",
       "      <td>0</td>\n",
       "      <td>0</td>\n",
       "      <td>0</td>\n",
       "      <td>1</td>\n",
       "      <td>0</td>\n",
       "      <td>0</td>\n",
       "      <td>0</td>\n",
       "      <td>1</td>\n",
       "      <td>0</td>\n",
       "      <td>0</td>\n",
       "      <td>1</td>\n",
       "      <td>0</td>\n",
       "      <td>0</td>\n",
       "      <td>0</td>\n",
       "      <td>1</td>\n",
       "      <td>0</td>\n",
       "      <td>0</td>\n",
       "      <td>1</td>\n",
       "      <td>0</td>\n",
       "      <td>0</td>\n",
       "      <td>0</td>\n",
       "      <td>1</td>\n",
       "      <td>0</td>\n",
       "      <td>0</td>\n",
       "    </tr>\n",
       "    <tr>\n",
       "      <th>2</th>\n",
       "      <td>0</td>\n",
       "      <td>1</td>\n",
       "      <td>0</td>\n",
       "      <td>0</td>\n",
       "      <td>0</td>\n",
       "      <td>0</td>\n",
       "      <td>0</td>\n",
       "      <td>0</td>\n",
       "      <td>0</td>\n",
       "      <td>1</td>\n",
       "      <td>1</td>\n",
       "      <td>0</td>\n",
       "      <td>0</td>\n",
       "      <td>0</td>\n",
       "      <td>0</td>\n",
       "      <td>0</td>\n",
       "      <td>1</td>\n",
       "      <td>0</td>\n",
       "      <td>0</td>\n",
       "      <td>1</td>\n",
       "      <td>0</td>\n",
       "      <td>0</td>\n",
       "      <td>0</td>\n",
       "      <td>0</td>\n",
       "      <td>0</td>\n",
       "      <td>1</td>\n",
       "    </tr>\n",
       "    <tr>\n",
       "      <th>3</th>\n",
       "      <td>0</td>\n",
       "      <td>0</td>\n",
       "      <td>0</td>\n",
       "      <td>0</td>\n",
       "      <td>0</td>\n",
       "      <td>1</td>\n",
       "      <td>0</td>\n",
       "      <td>0</td>\n",
       "      <td>0</td>\n",
       "      <td>1</td>\n",
       "      <td>0</td>\n",
       "      <td>0</td>\n",
       "      <td>1</td>\n",
       "      <td>0</td>\n",
       "      <td>0</td>\n",
       "      <td>0</td>\n",
       "      <td>1</td>\n",
       "      <td>1</td>\n",
       "      <td>0</td>\n",
       "      <td>0</td>\n",
       "      <td>0</td>\n",
       "      <td>0</td>\n",
       "      <td>0</td>\n",
       "      <td>1</td>\n",
       "      <td>0</td>\n",
       "      <td>0</td>\n",
       "    </tr>\n",
       "    <tr>\n",
       "      <th>4</th>\n",
       "      <td>0</td>\n",
       "      <td>0</td>\n",
       "      <td>0</td>\n",
       "      <td>0</td>\n",
       "      <td>0</td>\n",
       "      <td>1</td>\n",
       "      <td>0</td>\n",
       "      <td>1</td>\n",
       "      <td>0</td>\n",
       "      <td>0</td>\n",
       "      <td>0</td>\n",
       "      <td>0</td>\n",
       "      <td>1</td>\n",
       "      <td>0</td>\n",
       "      <td>1</td>\n",
       "      <td>0</td>\n",
       "      <td>0</td>\n",
       "      <td>0</td>\n",
       "      <td>0</td>\n",
       "      <td>1</td>\n",
       "      <td>0</td>\n",
       "      <td>0</td>\n",
       "      <td>0</td>\n",
       "      <td>0</td>\n",
       "      <td>0</td>\n",
       "      <td>1</td>\n",
       "    </tr>\n",
       "    <tr>\n",
       "      <th>...</th>\n",
       "      <td>...</td>\n",
       "      <td>...</td>\n",
       "      <td>...</td>\n",
       "      <td>...</td>\n",
       "      <td>...</td>\n",
       "      <td>...</td>\n",
       "      <td>...</td>\n",
       "      <td>...</td>\n",
       "      <td>...</td>\n",
       "      <td>...</td>\n",
       "      <td>...</td>\n",
       "      <td>...</td>\n",
       "      <td>...</td>\n",
       "      <td>...</td>\n",
       "      <td>...</td>\n",
       "      <td>...</td>\n",
       "      <td>...</td>\n",
       "      <td>...</td>\n",
       "      <td>...</td>\n",
       "      <td>...</td>\n",
       "      <td>...</td>\n",
       "      <td>...</td>\n",
       "      <td>...</td>\n",
       "      <td>...</td>\n",
       "      <td>...</td>\n",
       "      <td>...</td>\n",
       "    </tr>\n",
       "    <tr>\n",
       "      <th>19995</th>\n",
       "      <td>0</td>\n",
       "      <td>0</td>\n",
       "      <td>0</td>\n",
       "      <td>1</td>\n",
       "      <td>0</td>\n",
       "      <td>0</td>\n",
       "      <td>0</td>\n",
       "      <td>0</td>\n",
       "      <td>0</td>\n",
       "      <td>1</td>\n",
       "      <td>0</td>\n",
       "      <td>0</td>\n",
       "      <td>1</td>\n",
       "      <td>0</td>\n",
       "      <td>1</td>\n",
       "      <td>0</td>\n",
       "      <td>0</td>\n",
       "      <td>0</td>\n",
       "      <td>0</td>\n",
       "      <td>1</td>\n",
       "      <td>0</td>\n",
       "      <td>0</td>\n",
       "      <td>0</td>\n",
       "      <td>0</td>\n",
       "      <td>0</td>\n",
       "      <td>1</td>\n",
       "    </tr>\n",
       "    <tr>\n",
       "      <th>19996</th>\n",
       "      <td>0</td>\n",
       "      <td>0</td>\n",
       "      <td>0</td>\n",
       "      <td>0</td>\n",
       "      <td>0</td>\n",
       "      <td>1</td>\n",
       "      <td>0</td>\n",
       "      <td>1</td>\n",
       "      <td>0</td>\n",
       "      <td>0</td>\n",
       "      <td>0</td>\n",
       "      <td>0</td>\n",
       "      <td>1</td>\n",
       "      <td>0</td>\n",
       "      <td>1</td>\n",
       "      <td>0</td>\n",
       "      <td>0</td>\n",
       "      <td>0</td>\n",
       "      <td>0</td>\n",
       "      <td>0</td>\n",
       "      <td>0</td>\n",
       "      <td>0</td>\n",
       "      <td>1</td>\n",
       "      <td>0</td>\n",
       "      <td>0</td>\n",
       "      <td>1</td>\n",
       "    </tr>\n",
       "    <tr>\n",
       "      <th>19997</th>\n",
       "      <td>0</td>\n",
       "      <td>0</td>\n",
       "      <td>1</td>\n",
       "      <td>0</td>\n",
       "      <td>0</td>\n",
       "      <td>0</td>\n",
       "      <td>0</td>\n",
       "      <td>1</td>\n",
       "      <td>0</td>\n",
       "      <td>0</td>\n",
       "      <td>0</td>\n",
       "      <td>0</td>\n",
       "      <td>1</td>\n",
       "      <td>1</td>\n",
       "      <td>0</td>\n",
       "      <td>0</td>\n",
       "      <td>0</td>\n",
       "      <td>0</td>\n",
       "      <td>0</td>\n",
       "      <td>1</td>\n",
       "      <td>0</td>\n",
       "      <td>0</td>\n",
       "      <td>0</td>\n",
       "      <td>0</td>\n",
       "      <td>0</td>\n",
       "      <td>1</td>\n",
       "    </tr>\n",
       "    <tr>\n",
       "      <th>19998</th>\n",
       "      <td>1</td>\n",
       "      <td>0</td>\n",
       "      <td>0</td>\n",
       "      <td>0</td>\n",
       "      <td>0</td>\n",
       "      <td>0</td>\n",
       "      <td>0</td>\n",
       "      <td>0</td>\n",
       "      <td>1</td>\n",
       "      <td>0</td>\n",
       "      <td>0</td>\n",
       "      <td>0</td>\n",
       "      <td>1</td>\n",
       "      <td>0</td>\n",
       "      <td>1</td>\n",
       "      <td>0</td>\n",
       "      <td>0</td>\n",
       "      <td>0</td>\n",
       "      <td>0</td>\n",
       "      <td>1</td>\n",
       "      <td>0</td>\n",
       "      <td>0</td>\n",
       "      <td>0</td>\n",
       "      <td>0</td>\n",
       "      <td>0</td>\n",
       "      <td>1</td>\n",
       "    </tr>\n",
       "    <tr>\n",
       "      <th>19999</th>\n",
       "      <td>0</td>\n",
       "      <td>0</td>\n",
       "      <td>0</td>\n",
       "      <td>1</td>\n",
       "      <td>0</td>\n",
       "      <td>0</td>\n",
       "      <td>0</td>\n",
       "      <td>0</td>\n",
       "      <td>0</td>\n",
       "      <td>1</td>\n",
       "      <td>0</td>\n",
       "      <td>1</td>\n",
       "      <td>0</td>\n",
       "      <td>0</td>\n",
       "      <td>0</td>\n",
       "      <td>0</td>\n",
       "      <td>1</td>\n",
       "      <td>0</td>\n",
       "      <td>1</td>\n",
       "      <td>0</td>\n",
       "      <td>0</td>\n",
       "      <td>0</td>\n",
       "      <td>0</td>\n",
       "      <td>0</td>\n",
       "      <td>0</td>\n",
       "      <td>1</td>\n",
       "    </tr>\n",
       "  </tbody>\n",
       "</table>\n",
       "<p>20000 rows × 26 columns</p>\n",
       "</div>"
      ],
      "text/plain": [
       "       floral  graphic  striped  embroidered  pleated  solid  lattice  \\\n",
       "0           0        0        0            1        0      0        0   \n",
       "1           0        0        0            0        0      1        0   \n",
       "2           0        1        0            0        0      0        0   \n",
       "3           0        0        0            0        0      1        0   \n",
       "4           0        0        0            0        0      1        0   \n",
       "...       ...      ...      ...          ...      ...    ...      ...   \n",
       "19995       0        0        0            1        0      0        0   \n",
       "19996       0        0        0            0        0      1        0   \n",
       "19997       0        0        1            0        0      0        0   \n",
       "19998       1        0        0            0        0      0        0   \n",
       "19999       0        0        0            1        0      0        0   \n",
       "\n",
       "       long_sleeve  short_sleeve  sleeveless  maxi_length  mini_length  \\\n",
       "0                0             0           1            0            0   \n",
       "1                0             0           1            0            0   \n",
       "2                0             0           1            1            0   \n",
       "3                0             0           1            0            0   \n",
       "4                1             0           0            0            0   \n",
       "...            ...           ...         ...          ...          ...   \n",
       "19995            0             0           1            0            0   \n",
       "19996            1             0           0            0            0   \n",
       "19997            1             0           0            0            0   \n",
       "19998            0             1           0            0            0   \n",
       "19999            0             0           1            0            1   \n",
       "\n",
       "       no_dress  crew_neckline  v_neckline  square_neckline  no_neckline  \\\n",
       "0             1              0           0                0            1   \n",
       "1             1              0           0                0            1   \n",
       "2             0              0           0                0            1   \n",
       "3             1              0           0                0            1   \n",
       "4             1              0           1                0            0   \n",
       "...         ...            ...         ...              ...          ...   \n",
       "19995         1              0           1                0            0   \n",
       "19996         1              0           1                0            0   \n",
       "19997         1              1           0                0            0   \n",
       "19998         1              0           1                0            0   \n",
       "19999         0              0           0                0            1   \n",
       "\n",
       "       denim  chiffon  cotton  leather  faux  knit  tight  loose  conventional  \n",
       "0          0        1       0        0     0     0      0      0             1  \n",
       "1          0        0       1        0     0     0      1      0             0  \n",
       "2          0        0       1        0     0     0      0      0             1  \n",
       "3          1        0       0        0     0     0      1      0             0  \n",
       "4          0        0       1        0     0     0      0      0             1  \n",
       "...      ...      ...     ...      ...   ...   ...    ...    ...           ...  \n",
       "19995      0        0       1        0     0     0      0      0             1  \n",
       "19996      0        0       0        0     0     1      0      0             1  \n",
       "19997      0        0       1        0     0     0      0      0             1  \n",
       "19998      0        0       1        0     0     0      0      0             1  \n",
       "19999      0        1       0        0     0     0      0      0             1  \n",
       "\n",
       "[20000 rows x 26 columns]"
      ]
     },
     "execution_count": 33,
     "metadata": {},
     "output_type": "execute_result"
    }
   ],
   "source": [
    "attr_tags"
   ]
  },
  {
   "cell_type": "code",
   "execution_count": 34,
   "id": "0e60de41",
   "metadata": {
    "id": "0e60de41"
   },
   "outputs": [],
   "source": [
    "attr_img = pd.read_csv(PATH_DATA+'/img_simple.txt',sep='\\s+',header=None).rename(columns={0:'img'})\n",
    "\n"
   ]
  },
  {
   "cell_type": "code",
   "execution_count": 35,
   "id": "dcd86e47",
   "metadata": {
    "colab": {
     "base_uri": "https://localhost:8080/",
     "height": 424
    },
    "id": "dcd86e47",
    "outputId": "5f1b0daf-ad1b-4be9-d61f-5c78905d3596"
   },
   "outputs": [
    {
     "data": {
      "text/html": [
       "<div>\n",
       "<style scoped>\n",
       "    .dataframe tbody tr th:only-of-type {\n",
       "        vertical-align: middle;\n",
       "    }\n",
       "\n",
       "    .dataframe tbody tr th {\n",
       "        vertical-align: top;\n",
       "    }\n",
       "\n",
       "    .dataframe thead th {\n",
       "        text-align: right;\n",
       "    }\n",
       "</style>\n",
       "<table border=\"1\" class=\"dataframe\">\n",
       "  <thead>\n",
       "    <tr style=\"text-align: right;\">\n",
       "      <th></th>\n",
       "      <th>img</th>\n",
       "    </tr>\n",
       "  </thead>\n",
       "  <tbody>\n",
       "    <tr>\n",
       "      <th>0</th>\n",
       "      <td>img/Sweet_Crochet_Blouse/img_00000070.jpg</td>\n",
       "    </tr>\n",
       "    <tr>\n",
       "      <th>1</th>\n",
       "      <td>img/Classic_Pencil_Skirt/img_00000010.jpg</td>\n",
       "    </tr>\n",
       "    <tr>\n",
       "      <th>2</th>\n",
       "      <td>img/Strapless_Diamond_Print_Dress/img_00000038...</td>\n",
       "    </tr>\n",
       "    <tr>\n",
       "      <th>3</th>\n",
       "      <td>img/Mid-Rise_-_Acid_Wash_Skinny_Jeans/img_0000...</td>\n",
       "    </tr>\n",
       "    <tr>\n",
       "      <th>4</th>\n",
       "      <td>img/Zippered_Single-Button_Blazer/img_00000078...</td>\n",
       "    </tr>\n",
       "    <tr>\n",
       "      <th>...</th>\n",
       "      <td>...</td>\n",
       "    </tr>\n",
       "    <tr>\n",
       "      <th>19995</th>\n",
       "      <td>img/Embroidered_Peasant_Tank/img_00000044.jpg</td>\n",
       "    </tr>\n",
       "    <tr>\n",
       "      <th>19996</th>\n",
       "      <td>img/Tasmanian_Devil_Sweater/img_00000048.jpg</td>\n",
       "    </tr>\n",
       "    <tr>\n",
       "      <th>19997</th>\n",
       "      <td>img/Lace-Sleeved_Raglan_Henley/img_00000022.jpg</td>\n",
       "    </tr>\n",
       "    <tr>\n",
       "      <th>19998</th>\n",
       "      <td>img/Floral_Mosaic_Print_Jumpsuit/img_00000017.jpg</td>\n",
       "    </tr>\n",
       "    <tr>\n",
       "      <th>19999</th>\n",
       "      <td>img/Sparkling_Ruched_Dress/img_00000047.jpg</td>\n",
       "    </tr>\n",
       "  </tbody>\n",
       "</table>\n",
       "<p>20000 rows × 1 columns</p>\n",
       "</div>"
      ],
      "text/plain": [
       "                                                     img\n",
       "0              img/Sweet_Crochet_Blouse/img_00000070.jpg\n",
       "1              img/Classic_Pencil_Skirt/img_00000010.jpg\n",
       "2      img/Strapless_Diamond_Print_Dress/img_00000038...\n",
       "3      img/Mid-Rise_-_Acid_Wash_Skinny_Jeans/img_0000...\n",
       "4      img/Zippered_Single-Button_Blazer/img_00000078...\n",
       "...                                                  ...\n",
       "19995      img/Embroidered_Peasant_Tank/img_00000044.jpg\n",
       "19996       img/Tasmanian_Devil_Sweater/img_00000048.jpg\n",
       "19997    img/Lace-Sleeved_Raglan_Henley/img_00000022.jpg\n",
       "19998  img/Floral_Mosaic_Print_Jumpsuit/img_00000017.jpg\n",
       "19999        img/Sparkling_Ruched_Dress/img_00000047.jpg\n",
       "\n",
       "[20000 rows x 1 columns]"
      ]
     },
     "execution_count": 35,
     "metadata": {},
     "output_type": "execute_result"
    }
   ],
   "source": [
    "attr_img"
   ]
  },
  {
   "cell_type": "code",
   "execution_count": 36,
   "id": "ac28bfdd",
   "metadata": {
    "id": "ac28bfdd"
   },
   "outputs": [],
   "source": [
    "attr = attr_img.join(attr_tags,how='inner').drop(columns='img')"
   ]
  },
  {
   "cell_type": "code",
   "execution_count": 37,
   "id": "7c34d4c1",
   "metadata": {
    "colab": {
     "base_uri": "https://localhost:8080/",
     "height": 488
    },
    "id": "7c34d4c1",
    "outputId": "be8b671f-f4cf-4237-8265-6ca2971e0965",
    "scrolled": true
   },
   "outputs": [
    {
     "data": {
      "text/html": [
       "<div>\n",
       "<style scoped>\n",
       "    .dataframe tbody tr th:only-of-type {\n",
       "        vertical-align: middle;\n",
       "    }\n",
       "\n",
       "    .dataframe tbody tr th {\n",
       "        vertical-align: top;\n",
       "    }\n",
       "\n",
       "    .dataframe thead th {\n",
       "        text-align: right;\n",
       "    }\n",
       "</style>\n",
       "<table border=\"1\" class=\"dataframe\">\n",
       "  <thead>\n",
       "    <tr style=\"text-align: right;\">\n",
       "      <th></th>\n",
       "      <th>floral</th>\n",
       "      <th>graphic</th>\n",
       "      <th>striped</th>\n",
       "      <th>embroidered</th>\n",
       "      <th>pleated</th>\n",
       "      <th>solid</th>\n",
       "      <th>lattice</th>\n",
       "      <th>long_sleeve</th>\n",
       "      <th>short_sleeve</th>\n",
       "      <th>sleeveless</th>\n",
       "      <th>maxi_length</th>\n",
       "      <th>mini_length</th>\n",
       "      <th>no_dress</th>\n",
       "      <th>crew_neckline</th>\n",
       "      <th>v_neckline</th>\n",
       "      <th>square_neckline</th>\n",
       "      <th>no_neckline</th>\n",
       "      <th>denim</th>\n",
       "      <th>chiffon</th>\n",
       "      <th>cotton</th>\n",
       "      <th>leather</th>\n",
       "      <th>faux</th>\n",
       "      <th>knit</th>\n",
       "      <th>tight</th>\n",
       "      <th>loose</th>\n",
       "      <th>conventional</th>\n",
       "    </tr>\n",
       "  </thead>\n",
       "  <tbody>\n",
       "    <tr>\n",
       "      <th>0</th>\n",
       "      <td>0</td>\n",
       "      <td>0</td>\n",
       "      <td>0</td>\n",
       "      <td>1</td>\n",
       "      <td>0</td>\n",
       "      <td>0</td>\n",
       "      <td>0</td>\n",
       "      <td>0</td>\n",
       "      <td>0</td>\n",
       "      <td>1</td>\n",
       "      <td>0</td>\n",
       "      <td>0</td>\n",
       "      <td>1</td>\n",
       "      <td>0</td>\n",
       "      <td>0</td>\n",
       "      <td>0</td>\n",
       "      <td>1</td>\n",
       "      <td>0</td>\n",
       "      <td>1</td>\n",
       "      <td>0</td>\n",
       "      <td>0</td>\n",
       "      <td>0</td>\n",
       "      <td>0</td>\n",
       "      <td>0</td>\n",
       "      <td>0</td>\n",
       "      <td>1</td>\n",
       "    </tr>\n",
       "    <tr>\n",
       "      <th>1</th>\n",
       "      <td>0</td>\n",
       "      <td>0</td>\n",
       "      <td>0</td>\n",
       "      <td>0</td>\n",
       "      <td>0</td>\n",
       "      <td>1</td>\n",
       "      <td>0</td>\n",
       "      <td>0</td>\n",
       "      <td>0</td>\n",
       "      <td>1</td>\n",
       "      <td>0</td>\n",
       "      <td>0</td>\n",
       "      <td>1</td>\n",
       "      <td>0</td>\n",
       "      <td>0</td>\n",
       "      <td>0</td>\n",
       "      <td>1</td>\n",
       "      <td>0</td>\n",
       "      <td>0</td>\n",
       "      <td>1</td>\n",
       "      <td>0</td>\n",
       "      <td>0</td>\n",
       "      <td>0</td>\n",
       "      <td>1</td>\n",
       "      <td>0</td>\n",
       "      <td>0</td>\n",
       "    </tr>\n",
       "    <tr>\n",
       "      <th>2</th>\n",
       "      <td>0</td>\n",
       "      <td>1</td>\n",
       "      <td>0</td>\n",
       "      <td>0</td>\n",
       "      <td>0</td>\n",
       "      <td>0</td>\n",
       "      <td>0</td>\n",
       "      <td>0</td>\n",
       "      <td>0</td>\n",
       "      <td>1</td>\n",
       "      <td>1</td>\n",
       "      <td>0</td>\n",
       "      <td>0</td>\n",
       "      <td>0</td>\n",
       "      <td>0</td>\n",
       "      <td>0</td>\n",
       "      <td>1</td>\n",
       "      <td>0</td>\n",
       "      <td>0</td>\n",
       "      <td>1</td>\n",
       "      <td>0</td>\n",
       "      <td>0</td>\n",
       "      <td>0</td>\n",
       "      <td>0</td>\n",
       "      <td>0</td>\n",
       "      <td>1</td>\n",
       "    </tr>\n",
       "    <tr>\n",
       "      <th>3</th>\n",
       "      <td>0</td>\n",
       "      <td>0</td>\n",
       "      <td>0</td>\n",
       "      <td>0</td>\n",
       "      <td>0</td>\n",
       "      <td>1</td>\n",
       "      <td>0</td>\n",
       "      <td>0</td>\n",
       "      <td>0</td>\n",
       "      <td>1</td>\n",
       "      <td>0</td>\n",
       "      <td>0</td>\n",
       "      <td>1</td>\n",
       "      <td>0</td>\n",
       "      <td>0</td>\n",
       "      <td>0</td>\n",
       "      <td>1</td>\n",
       "      <td>1</td>\n",
       "      <td>0</td>\n",
       "      <td>0</td>\n",
       "      <td>0</td>\n",
       "      <td>0</td>\n",
       "      <td>0</td>\n",
       "      <td>1</td>\n",
       "      <td>0</td>\n",
       "      <td>0</td>\n",
       "    </tr>\n",
       "    <tr>\n",
       "      <th>4</th>\n",
       "      <td>0</td>\n",
       "      <td>0</td>\n",
       "      <td>0</td>\n",
       "      <td>0</td>\n",
       "      <td>0</td>\n",
       "      <td>1</td>\n",
       "      <td>0</td>\n",
       "      <td>1</td>\n",
       "      <td>0</td>\n",
       "      <td>0</td>\n",
       "      <td>0</td>\n",
       "      <td>0</td>\n",
       "      <td>1</td>\n",
       "      <td>0</td>\n",
       "      <td>1</td>\n",
       "      <td>0</td>\n",
       "      <td>0</td>\n",
       "      <td>0</td>\n",
       "      <td>0</td>\n",
       "      <td>1</td>\n",
       "      <td>0</td>\n",
       "      <td>0</td>\n",
       "      <td>0</td>\n",
       "      <td>0</td>\n",
       "      <td>0</td>\n",
       "      <td>1</td>\n",
       "    </tr>\n",
       "    <tr>\n",
       "      <th>...</th>\n",
       "      <td>...</td>\n",
       "      <td>...</td>\n",
       "      <td>...</td>\n",
       "      <td>...</td>\n",
       "      <td>...</td>\n",
       "      <td>...</td>\n",
       "      <td>...</td>\n",
       "      <td>...</td>\n",
       "      <td>...</td>\n",
       "      <td>...</td>\n",
       "      <td>...</td>\n",
       "      <td>...</td>\n",
       "      <td>...</td>\n",
       "      <td>...</td>\n",
       "      <td>...</td>\n",
       "      <td>...</td>\n",
       "      <td>...</td>\n",
       "      <td>...</td>\n",
       "      <td>...</td>\n",
       "      <td>...</td>\n",
       "      <td>...</td>\n",
       "      <td>...</td>\n",
       "      <td>...</td>\n",
       "      <td>...</td>\n",
       "      <td>...</td>\n",
       "      <td>...</td>\n",
       "    </tr>\n",
       "    <tr>\n",
       "      <th>19995</th>\n",
       "      <td>0</td>\n",
       "      <td>0</td>\n",
       "      <td>0</td>\n",
       "      <td>1</td>\n",
       "      <td>0</td>\n",
       "      <td>0</td>\n",
       "      <td>0</td>\n",
       "      <td>0</td>\n",
       "      <td>0</td>\n",
       "      <td>1</td>\n",
       "      <td>0</td>\n",
       "      <td>0</td>\n",
       "      <td>1</td>\n",
       "      <td>0</td>\n",
       "      <td>1</td>\n",
       "      <td>0</td>\n",
       "      <td>0</td>\n",
       "      <td>0</td>\n",
       "      <td>0</td>\n",
       "      <td>1</td>\n",
       "      <td>0</td>\n",
       "      <td>0</td>\n",
       "      <td>0</td>\n",
       "      <td>0</td>\n",
       "      <td>0</td>\n",
       "      <td>1</td>\n",
       "    </tr>\n",
       "    <tr>\n",
       "      <th>19996</th>\n",
       "      <td>0</td>\n",
       "      <td>0</td>\n",
       "      <td>0</td>\n",
       "      <td>0</td>\n",
       "      <td>0</td>\n",
       "      <td>1</td>\n",
       "      <td>0</td>\n",
       "      <td>1</td>\n",
       "      <td>0</td>\n",
       "      <td>0</td>\n",
       "      <td>0</td>\n",
       "      <td>0</td>\n",
       "      <td>1</td>\n",
       "      <td>0</td>\n",
       "      <td>1</td>\n",
       "      <td>0</td>\n",
       "      <td>0</td>\n",
       "      <td>0</td>\n",
       "      <td>0</td>\n",
       "      <td>0</td>\n",
       "      <td>0</td>\n",
       "      <td>0</td>\n",
       "      <td>1</td>\n",
       "      <td>0</td>\n",
       "      <td>0</td>\n",
       "      <td>1</td>\n",
       "    </tr>\n",
       "    <tr>\n",
       "      <th>19997</th>\n",
       "      <td>0</td>\n",
       "      <td>0</td>\n",
       "      <td>1</td>\n",
       "      <td>0</td>\n",
       "      <td>0</td>\n",
       "      <td>0</td>\n",
       "      <td>0</td>\n",
       "      <td>1</td>\n",
       "      <td>0</td>\n",
       "      <td>0</td>\n",
       "      <td>0</td>\n",
       "      <td>0</td>\n",
       "      <td>1</td>\n",
       "      <td>1</td>\n",
       "      <td>0</td>\n",
       "      <td>0</td>\n",
       "      <td>0</td>\n",
       "      <td>0</td>\n",
       "      <td>0</td>\n",
       "      <td>1</td>\n",
       "      <td>0</td>\n",
       "      <td>0</td>\n",
       "      <td>0</td>\n",
       "      <td>0</td>\n",
       "      <td>0</td>\n",
       "      <td>1</td>\n",
       "    </tr>\n",
       "    <tr>\n",
       "      <th>19998</th>\n",
       "      <td>1</td>\n",
       "      <td>0</td>\n",
       "      <td>0</td>\n",
       "      <td>0</td>\n",
       "      <td>0</td>\n",
       "      <td>0</td>\n",
       "      <td>0</td>\n",
       "      <td>0</td>\n",
       "      <td>1</td>\n",
       "      <td>0</td>\n",
       "      <td>0</td>\n",
       "      <td>0</td>\n",
       "      <td>1</td>\n",
       "      <td>0</td>\n",
       "      <td>1</td>\n",
       "      <td>0</td>\n",
       "      <td>0</td>\n",
       "      <td>0</td>\n",
       "      <td>0</td>\n",
       "      <td>1</td>\n",
       "      <td>0</td>\n",
       "      <td>0</td>\n",
       "      <td>0</td>\n",
       "      <td>0</td>\n",
       "      <td>0</td>\n",
       "      <td>1</td>\n",
       "    </tr>\n",
       "    <tr>\n",
       "      <th>19999</th>\n",
       "      <td>0</td>\n",
       "      <td>0</td>\n",
       "      <td>0</td>\n",
       "      <td>1</td>\n",
       "      <td>0</td>\n",
       "      <td>0</td>\n",
       "      <td>0</td>\n",
       "      <td>0</td>\n",
       "      <td>0</td>\n",
       "      <td>1</td>\n",
       "      <td>0</td>\n",
       "      <td>1</td>\n",
       "      <td>0</td>\n",
       "      <td>0</td>\n",
       "      <td>0</td>\n",
       "      <td>0</td>\n",
       "      <td>1</td>\n",
       "      <td>0</td>\n",
       "      <td>1</td>\n",
       "      <td>0</td>\n",
       "      <td>0</td>\n",
       "      <td>0</td>\n",
       "      <td>0</td>\n",
       "      <td>0</td>\n",
       "      <td>0</td>\n",
       "      <td>1</td>\n",
       "    </tr>\n",
       "  </tbody>\n",
       "</table>\n",
       "<p>20000 rows × 26 columns</p>\n",
       "</div>"
      ],
      "text/plain": [
       "       floral  graphic  striped  embroidered  pleated  solid  lattice  \\\n",
       "0           0        0        0            1        0      0        0   \n",
       "1           0        0        0            0        0      1        0   \n",
       "2           0        1        0            0        0      0        0   \n",
       "3           0        0        0            0        0      1        0   \n",
       "4           0        0        0            0        0      1        0   \n",
       "...       ...      ...      ...          ...      ...    ...      ...   \n",
       "19995       0        0        0            1        0      0        0   \n",
       "19996       0        0        0            0        0      1        0   \n",
       "19997       0        0        1            0        0      0        0   \n",
       "19998       1        0        0            0        0      0        0   \n",
       "19999       0        0        0            1        0      0        0   \n",
       "\n",
       "       long_sleeve  short_sleeve  sleeveless  maxi_length  mini_length  \\\n",
       "0                0             0           1            0            0   \n",
       "1                0             0           1            0            0   \n",
       "2                0             0           1            1            0   \n",
       "3                0             0           1            0            0   \n",
       "4                1             0           0            0            0   \n",
       "...            ...           ...         ...          ...          ...   \n",
       "19995            0             0           1            0            0   \n",
       "19996            1             0           0            0            0   \n",
       "19997            1             0           0            0            0   \n",
       "19998            0             1           0            0            0   \n",
       "19999            0             0           1            0            1   \n",
       "\n",
       "       no_dress  crew_neckline  v_neckline  square_neckline  no_neckline  \\\n",
       "0             1              0           0                0            1   \n",
       "1             1              0           0                0            1   \n",
       "2             0              0           0                0            1   \n",
       "3             1              0           0                0            1   \n",
       "4             1              0           1                0            0   \n",
       "...         ...            ...         ...              ...          ...   \n",
       "19995         1              0           1                0            0   \n",
       "19996         1              0           1                0            0   \n",
       "19997         1              1           0                0            0   \n",
       "19998         1              0           1                0            0   \n",
       "19999         0              0           0                0            1   \n",
       "\n",
       "       denim  chiffon  cotton  leather  faux  knit  tight  loose  conventional  \n",
       "0          0        1       0        0     0     0      0      0             1  \n",
       "1          0        0       1        0     0     0      1      0             0  \n",
       "2          0        0       1        0     0     0      0      0             1  \n",
       "3          1        0       0        0     0     0      1      0             0  \n",
       "4          0        0       1        0     0     0      0      0             1  \n",
       "...      ...      ...     ...      ...   ...   ...    ...    ...           ...  \n",
       "19995      0        0       1        0     0     0      0      0             1  \n",
       "19996      0        0       0        0     0     1      0      0             1  \n",
       "19997      0        0       1        0     0     0      0      0             1  \n",
       "19998      0        0       1        0     0     0      0      0             1  \n",
       "19999      0        1       0        0     0     0      0      0             1  \n",
       "\n",
       "[20000 rows x 26 columns]"
      ]
     },
     "execution_count": 37,
     "metadata": {},
     "output_type": "execute_result"
    }
   ],
   "source": [
    "attr"
   ]
  },
  {
   "cell_type": "code",
   "execution_count": 38,
   "id": "6ddc0906",
   "metadata": {
    "id": "6ddc0906"
   },
   "outputs": [],
   "source": [
    "bb = pd.read_csv(PATH_DATA+'/bbox.txt',sep='\\s+',header=None,index_col=False, names=['img','x_1', 'y_1', 'x_2', 'y_2'])\n"
   ]
  },
  {
   "cell_type": "code",
   "execution_count": 39,
   "id": "72ba208a",
   "metadata": {
    "id": "72ba208a"
   },
   "outputs": [],
   "source": [
    "bb['img'] = bb['img'].apply(lambda x: x[4:])"
   ]
  },
  {
   "cell_type": "code",
   "execution_count": 40,
   "id": "99f74052",
   "metadata": {
    "id": "99f74052"
   },
   "outputs": [],
   "source": [
    "landmarks = pd.read_csv(PATH_DATA+'/landmarks.txt',sep='\\s+',names=['img','clothes_type','v1','x1','y1','v2','x2','y2','v3','x3','y3','v4','x4','y4','v5','x5','y5','v6','x6','y6','v7','x7','y7','v8','x8','y8']).fillna(0).drop(columns=['clothes_type'])\n",
    "\n"
   ]
  },
  {
   "cell_type": "code",
   "execution_count": 41,
   "id": "c96af7ed",
   "metadata": {
    "id": "c96af7ed"
   },
   "outputs": [],
   "source": [
    "landmarks['img'] = landmarks['img'].apply(lambda x: x[4:])"
   ]
  },
  {
   "cell_type": "code",
   "execution_count": 42,
   "id": "d2d9d0e3",
   "metadata": {
    "id": "d2d9d0e3"
   },
   "outputs": [],
   "source": [
    "data_full = cat.join(attr,how='left').merge(bb,how='left',on='img').merge(landmarks, how='left',on='img')\n",
    "\n"
   ]
  },
  {
   "cell_type": "code",
   "execution_count": 43,
   "id": "94ec36c7",
   "metadata": {},
   "outputs": [
    {
     "data": {
      "text/html": [
       "<div>\n",
       "<style scoped>\n",
       "    .dataframe tbody tr th:only-of-type {\n",
       "        vertical-align: middle;\n",
       "    }\n",
       "\n",
       "    .dataframe tbody tr th {\n",
       "        vertical-align: top;\n",
       "    }\n",
       "\n",
       "    .dataframe thead th {\n",
       "        text-align: right;\n",
       "    }\n",
       "</style>\n",
       "<table border=\"1\" class=\"dataframe\">\n",
       "  <thead>\n",
       "    <tr style=\"text-align: right;\">\n",
       "      <th></th>\n",
       "      <th>img</th>\n",
       "      <th>category</th>\n",
       "      <th>section</th>\n",
       "      <th>floral</th>\n",
       "      <th>graphic</th>\n",
       "      <th>striped</th>\n",
       "      <th>embroidered</th>\n",
       "      <th>pleated</th>\n",
       "      <th>solid</th>\n",
       "      <th>lattice</th>\n",
       "      <th>long_sleeve</th>\n",
       "      <th>short_sleeve</th>\n",
       "      <th>sleeveless</th>\n",
       "      <th>maxi_length</th>\n",
       "      <th>mini_length</th>\n",
       "      <th>no_dress</th>\n",
       "      <th>crew_neckline</th>\n",
       "      <th>v_neckline</th>\n",
       "      <th>square_neckline</th>\n",
       "      <th>no_neckline</th>\n",
       "      <th>denim</th>\n",
       "      <th>chiffon</th>\n",
       "      <th>cotton</th>\n",
       "      <th>leather</th>\n",
       "      <th>faux</th>\n",
       "      <th>knit</th>\n",
       "      <th>tight</th>\n",
       "      <th>loose</th>\n",
       "      <th>conventional</th>\n",
       "      <th>x_1</th>\n",
       "      <th>y_1</th>\n",
       "      <th>x_2</th>\n",
       "      <th>y_2</th>\n",
       "      <th>v1</th>\n",
       "      <th>x1</th>\n",
       "      <th>y1</th>\n",
       "      <th>v2</th>\n",
       "      <th>x2</th>\n",
       "      <th>y2</th>\n",
       "      <th>v3</th>\n",
       "      <th>x3</th>\n",
       "      <th>y3</th>\n",
       "      <th>v4</th>\n",
       "      <th>x4</th>\n",
       "      <th>y4</th>\n",
       "      <th>v5</th>\n",
       "      <th>x5</th>\n",
       "      <th>y5</th>\n",
       "      <th>v6</th>\n",
       "      <th>x6</th>\n",
       "      <th>y6</th>\n",
       "      <th>v7</th>\n",
       "      <th>x7</th>\n",
       "      <th>y7</th>\n",
       "      <th>v8</th>\n",
       "      <th>x8</th>\n",
       "      <th>y8</th>\n",
       "    </tr>\n",
       "  </thead>\n",
       "  <tbody>\n",
       "    <tr>\n",
       "      <th>0</th>\n",
       "      <td>Sweet_Crochet_Blouse/img_00000070.jpg</td>\n",
       "      <td>Blouse</td>\n",
       "      <td>upper</td>\n",
       "      <td>0</td>\n",
       "      <td>0</td>\n",
       "      <td>0</td>\n",
       "      <td>1</td>\n",
       "      <td>0</td>\n",
       "      <td>0</td>\n",
       "      <td>0</td>\n",
       "      <td>0</td>\n",
       "      <td>0</td>\n",
       "      <td>1</td>\n",
       "      <td>0</td>\n",
       "      <td>0</td>\n",
       "      <td>1</td>\n",
       "      <td>0</td>\n",
       "      <td>0</td>\n",
       "      <td>0</td>\n",
       "      <td>1</td>\n",
       "      <td>0</td>\n",
       "      <td>1</td>\n",
       "      <td>0</td>\n",
       "      <td>0</td>\n",
       "      <td>0</td>\n",
       "      <td>0</td>\n",
       "      <td>0</td>\n",
       "      <td>0</td>\n",
       "      <td>1</td>\n",
       "      <td>66</td>\n",
       "      <td>75</td>\n",
       "      <td>241</td>\n",
       "      <td>293</td>\n",
       "      <td>0</td>\n",
       "      <td>120</td>\n",
       "      <td>104</td>\n",
       "      <td>0</td>\n",
       "      <td>181</td>\n",
       "      <td>109</td>\n",
       "      <td>0</td>\n",
       "      <td>104</td>\n",
       "      <td>93</td>\n",
       "      <td>0</td>\n",
       "      <td>196</td>\n",
       "      <td>95</td>\n",
       "      <td>0.0</td>\n",
       "      <td>90.0</td>\n",
       "      <td>273.0</td>\n",
       "      <td>0.0</td>\n",
       "      <td>212.0</td>\n",
       "      <td>267.0</td>\n",
       "      <td>0.0</td>\n",
       "      <td>0.0</td>\n",
       "      <td>0.0</td>\n",
       "      <td>0.0</td>\n",
       "      <td>0.0</td>\n",
       "      <td>0.0</td>\n",
       "    </tr>\n",
       "    <tr>\n",
       "      <th>1</th>\n",
       "      <td>Classic_Pencil_Skirt/img_00000010.jpg</td>\n",
       "      <td>Skirt</td>\n",
       "      <td>lower</td>\n",
       "      <td>0</td>\n",
       "      <td>0</td>\n",
       "      <td>0</td>\n",
       "      <td>0</td>\n",
       "      <td>0</td>\n",
       "      <td>1</td>\n",
       "      <td>0</td>\n",
       "      <td>0</td>\n",
       "      <td>0</td>\n",
       "      <td>1</td>\n",
       "      <td>0</td>\n",
       "      <td>0</td>\n",
       "      <td>1</td>\n",
       "      <td>0</td>\n",
       "      <td>0</td>\n",
       "      <td>0</td>\n",
       "      <td>1</td>\n",
       "      <td>0</td>\n",
       "      <td>0</td>\n",
       "      <td>1</td>\n",
       "      <td>0</td>\n",
       "      <td>0</td>\n",
       "      <td>0</td>\n",
       "      <td>1</td>\n",
       "      <td>0</td>\n",
       "      <td>0</td>\n",
       "      <td>65</td>\n",
       "      <td>88</td>\n",
       "      <td>132</td>\n",
       "      <td>218</td>\n",
       "      <td>1</td>\n",
       "      <td>75</td>\n",
       "      <td>103</td>\n",
       "      <td>1</td>\n",
       "      <td>121</td>\n",
       "      <td>99</td>\n",
       "      <td>0</td>\n",
       "      <td>74</td>\n",
       "      <td>206</td>\n",
       "      <td>0</td>\n",
       "      <td>118</td>\n",
       "      <td>206</td>\n",
       "      <td>0.0</td>\n",
       "      <td>0.0</td>\n",
       "      <td>0.0</td>\n",
       "      <td>0.0</td>\n",
       "      <td>0.0</td>\n",
       "      <td>0.0</td>\n",
       "      <td>0.0</td>\n",
       "      <td>0.0</td>\n",
       "      <td>0.0</td>\n",
       "      <td>0.0</td>\n",
       "      <td>0.0</td>\n",
       "      <td>0.0</td>\n",
       "    </tr>\n",
       "    <tr>\n",
       "      <th>2</th>\n",
       "      <td>Strapless_Diamond_Print_Dress/img_00000038.jpg</td>\n",
       "      <td>Dress</td>\n",
       "      <td>full body</td>\n",
       "      <td>0</td>\n",
       "      <td>1</td>\n",
       "      <td>0</td>\n",
       "      <td>0</td>\n",
       "      <td>0</td>\n",
       "      <td>0</td>\n",
       "      <td>0</td>\n",
       "      <td>0</td>\n",
       "      <td>0</td>\n",
       "      <td>1</td>\n",
       "      <td>1</td>\n",
       "      <td>0</td>\n",
       "      <td>0</td>\n",
       "      <td>0</td>\n",
       "      <td>0</td>\n",
       "      <td>0</td>\n",
       "      <td>1</td>\n",
       "      <td>0</td>\n",
       "      <td>0</td>\n",
       "      <td>1</td>\n",
       "      <td>0</td>\n",
       "      <td>0</td>\n",
       "      <td>0</td>\n",
       "      <td>0</td>\n",
       "      <td>0</td>\n",
       "      <td>1</td>\n",
       "      <td>75</td>\n",
       "      <td>43</td>\n",
       "      <td>176</td>\n",
       "      <td>300</td>\n",
       "      <td>0</td>\n",
       "      <td>104</td>\n",
       "      <td>64</td>\n",
       "      <td>0</td>\n",
       "      <td>132</td>\n",
       "      <td>64</td>\n",
       "      <td>0</td>\n",
       "      <td>98</td>\n",
       "      <td>71</td>\n",
       "      <td>0</td>\n",
       "      <td>140</td>\n",
       "      <td>68</td>\n",
       "      <td>0.0</td>\n",
       "      <td>100.0</td>\n",
       "      <td>99.0</td>\n",
       "      <td>0.0</td>\n",
       "      <td>138.0</td>\n",
       "      <td>102.0</td>\n",
       "      <td>0.0</td>\n",
       "      <td>89.0</td>\n",
       "      <td>276.0</td>\n",
       "      <td>0.0</td>\n",
       "      <td>159.0</td>\n",
       "      <td>277.0</td>\n",
       "    </tr>\n",
       "    <tr>\n",
       "      <th>3</th>\n",
       "      <td>Mid-Rise_-_Acid_Wash_Skinny_Jeans/img_00000010...</td>\n",
       "      <td>Jeans</td>\n",
       "      <td>lower</td>\n",
       "      <td>0</td>\n",
       "      <td>0</td>\n",
       "      <td>0</td>\n",
       "      <td>0</td>\n",
       "      <td>0</td>\n",
       "      <td>1</td>\n",
       "      <td>0</td>\n",
       "      <td>0</td>\n",
       "      <td>0</td>\n",
       "      <td>1</td>\n",
       "      <td>0</td>\n",
       "      <td>0</td>\n",
       "      <td>1</td>\n",
       "      <td>0</td>\n",
       "      <td>0</td>\n",
       "      <td>0</td>\n",
       "      <td>1</td>\n",
       "      <td>1</td>\n",
       "      <td>0</td>\n",
       "      <td>0</td>\n",
       "      <td>0</td>\n",
       "      <td>0</td>\n",
       "      <td>0</td>\n",
       "      <td>1</td>\n",
       "      <td>0</td>\n",
       "      <td>0</td>\n",
       "      <td>64</td>\n",
       "      <td>1</td>\n",
       "      <td>129</td>\n",
       "      <td>273</td>\n",
       "      <td>1</td>\n",
       "      <td>73</td>\n",
       "      <td>13</td>\n",
       "      <td>0</td>\n",
       "      <td>116</td>\n",
       "      <td>5</td>\n",
       "      <td>0</td>\n",
       "      <td>89</td>\n",
       "      <td>237</td>\n",
       "      <td>0</td>\n",
       "      <td>118</td>\n",
       "      <td>246</td>\n",
       "      <td>0.0</td>\n",
       "      <td>0.0</td>\n",
       "      <td>0.0</td>\n",
       "      <td>0.0</td>\n",
       "      <td>0.0</td>\n",
       "      <td>0.0</td>\n",
       "      <td>0.0</td>\n",
       "      <td>0.0</td>\n",
       "      <td>0.0</td>\n",
       "      <td>0.0</td>\n",
       "      <td>0.0</td>\n",
       "      <td>0.0</td>\n",
       "    </tr>\n",
       "    <tr>\n",
       "      <th>4</th>\n",
       "      <td>Zippered_Single-Button_Blazer/img_00000078.jpg</td>\n",
       "      <td>Blazer</td>\n",
       "      <td>upper</td>\n",
       "      <td>0</td>\n",
       "      <td>0</td>\n",
       "      <td>0</td>\n",
       "      <td>0</td>\n",
       "      <td>0</td>\n",
       "      <td>1</td>\n",
       "      <td>0</td>\n",
       "      <td>1</td>\n",
       "      <td>0</td>\n",
       "      <td>0</td>\n",
       "      <td>0</td>\n",
       "      <td>0</td>\n",
       "      <td>1</td>\n",
       "      <td>0</td>\n",
       "      <td>1</td>\n",
       "      <td>0</td>\n",
       "      <td>0</td>\n",
       "      <td>0</td>\n",
       "      <td>0</td>\n",
       "      <td>1</td>\n",
       "      <td>0</td>\n",
       "      <td>0</td>\n",
       "      <td>0</td>\n",
       "      <td>0</td>\n",
       "      <td>0</td>\n",
       "      <td>1</td>\n",
       "      <td>1</td>\n",
       "      <td>12</td>\n",
       "      <td>257</td>\n",
       "      <td>300</td>\n",
       "      <td>0</td>\n",
       "      <td>105</td>\n",
       "      <td>37</td>\n",
       "      <td>0</td>\n",
       "      <td>149</td>\n",
       "      <td>36</td>\n",
       "      <td>0</td>\n",
       "      <td>30</td>\n",
       "      <td>280</td>\n",
       "      <td>0</td>\n",
       "      <td>224</td>\n",
       "      <td>280</td>\n",
       "      <td>0.0</td>\n",
       "      <td>74.0</td>\n",
       "      <td>281.0</td>\n",
       "      <td>0.0</td>\n",
       "      <td>186.0</td>\n",
       "      <td>280.0</td>\n",
       "      <td>0.0</td>\n",
       "      <td>0.0</td>\n",
       "      <td>0.0</td>\n",
       "      <td>0.0</td>\n",
       "      <td>0.0</td>\n",
       "      <td>0.0</td>\n",
       "    </tr>\n",
       "    <tr>\n",
       "      <th>...</th>\n",
       "      <td>...</td>\n",
       "      <td>...</td>\n",
       "      <td>...</td>\n",
       "      <td>...</td>\n",
       "      <td>...</td>\n",
       "      <td>...</td>\n",
       "      <td>...</td>\n",
       "      <td>...</td>\n",
       "      <td>...</td>\n",
       "      <td>...</td>\n",
       "      <td>...</td>\n",
       "      <td>...</td>\n",
       "      <td>...</td>\n",
       "      <td>...</td>\n",
       "      <td>...</td>\n",
       "      <td>...</td>\n",
       "      <td>...</td>\n",
       "      <td>...</td>\n",
       "      <td>...</td>\n",
       "      <td>...</td>\n",
       "      <td>...</td>\n",
       "      <td>...</td>\n",
       "      <td>...</td>\n",
       "      <td>...</td>\n",
       "      <td>...</td>\n",
       "      <td>...</td>\n",
       "      <td>...</td>\n",
       "      <td>...</td>\n",
       "      <td>...</td>\n",
       "      <td>...</td>\n",
       "      <td>...</td>\n",
       "      <td>...</td>\n",
       "      <td>...</td>\n",
       "      <td>...</td>\n",
       "      <td>...</td>\n",
       "      <td>...</td>\n",
       "      <td>...</td>\n",
       "      <td>...</td>\n",
       "      <td>...</td>\n",
       "      <td>...</td>\n",
       "      <td>...</td>\n",
       "      <td>...</td>\n",
       "      <td>...</td>\n",
       "      <td>...</td>\n",
       "      <td>...</td>\n",
       "      <td>...</td>\n",
       "      <td>...</td>\n",
       "      <td>...</td>\n",
       "      <td>...</td>\n",
       "      <td>...</td>\n",
       "      <td>...</td>\n",
       "      <td>...</td>\n",
       "      <td>...</td>\n",
       "      <td>...</td>\n",
       "      <td>...</td>\n",
       "      <td>...</td>\n",
       "      <td>...</td>\n",
       "    </tr>\n",
       "    <tr>\n",
       "      <th>19995</th>\n",
       "      <td>Embroidered_Peasant_Tank/img_00000044.jpg</td>\n",
       "      <td>Tank</td>\n",
       "      <td>upper</td>\n",
       "      <td>0</td>\n",
       "      <td>0</td>\n",
       "      <td>0</td>\n",
       "      <td>1</td>\n",
       "      <td>0</td>\n",
       "      <td>0</td>\n",
       "      <td>0</td>\n",
       "      <td>0</td>\n",
       "      <td>0</td>\n",
       "      <td>1</td>\n",
       "      <td>0</td>\n",
       "      <td>0</td>\n",
       "      <td>1</td>\n",
       "      <td>0</td>\n",
       "      <td>1</td>\n",
       "      <td>0</td>\n",
       "      <td>0</td>\n",
       "      <td>0</td>\n",
       "      <td>0</td>\n",
       "      <td>1</td>\n",
       "      <td>0</td>\n",
       "      <td>0</td>\n",
       "      <td>0</td>\n",
       "      <td>0</td>\n",
       "      <td>0</td>\n",
       "      <td>1</td>\n",
       "      <td>93</td>\n",
       "      <td>53</td>\n",
       "      <td>160</td>\n",
       "      <td>136</td>\n",
       "      <td>0</td>\n",
       "      <td>112</td>\n",
       "      <td>62</td>\n",
       "      <td>0</td>\n",
       "      <td>140</td>\n",
       "      <td>62</td>\n",
       "      <td>0</td>\n",
       "      <td>102</td>\n",
       "      <td>60</td>\n",
       "      <td>0</td>\n",
       "      <td>147</td>\n",
       "      <td>67</td>\n",
       "      <td>0.0</td>\n",
       "      <td>102.0</td>\n",
       "      <td>128.0</td>\n",
       "      <td>0.0</td>\n",
       "      <td>149.0</td>\n",
       "      <td>123.0</td>\n",
       "      <td>0.0</td>\n",
       "      <td>0.0</td>\n",
       "      <td>0.0</td>\n",
       "      <td>0.0</td>\n",
       "      <td>0.0</td>\n",
       "      <td>0.0</td>\n",
       "    </tr>\n",
       "    <tr>\n",
       "      <th>19996</th>\n",
       "      <td>Tasmanian_Devil_Sweater/img_00000048.jpg</td>\n",
       "      <td>Sweater</td>\n",
       "      <td>upper</td>\n",
       "      <td>0</td>\n",
       "      <td>0</td>\n",
       "      <td>0</td>\n",
       "      <td>0</td>\n",
       "      <td>0</td>\n",
       "      <td>1</td>\n",
       "      <td>0</td>\n",
       "      <td>1</td>\n",
       "      <td>0</td>\n",
       "      <td>0</td>\n",
       "      <td>0</td>\n",
       "      <td>0</td>\n",
       "      <td>1</td>\n",
       "      <td>0</td>\n",
       "      <td>1</td>\n",
       "      <td>0</td>\n",
       "      <td>0</td>\n",
       "      <td>0</td>\n",
       "      <td>0</td>\n",
       "      <td>0</td>\n",
       "      <td>0</td>\n",
       "      <td>0</td>\n",
       "      <td>1</td>\n",
       "      <td>0</td>\n",
       "      <td>0</td>\n",
       "      <td>1</td>\n",
       "      <td>38</td>\n",
       "      <td>74</td>\n",
       "      <td>196</td>\n",
       "      <td>261</td>\n",
       "      <td>0</td>\n",
       "      <td>80</td>\n",
       "      <td>99</td>\n",
       "      <td>0</td>\n",
       "      <td>136</td>\n",
       "      <td>89</td>\n",
       "      <td>0</td>\n",
       "      <td>60</td>\n",
       "      <td>239</td>\n",
       "      <td>0</td>\n",
       "      <td>170</td>\n",
       "      <td>244</td>\n",
       "      <td>0.0</td>\n",
       "      <td>83.0</td>\n",
       "      <td>232.0</td>\n",
       "      <td>0.0</td>\n",
       "      <td>140.0</td>\n",
       "      <td>228.0</td>\n",
       "      <td>0.0</td>\n",
       "      <td>0.0</td>\n",
       "      <td>0.0</td>\n",
       "      <td>0.0</td>\n",
       "      <td>0.0</td>\n",
       "      <td>0.0</td>\n",
       "    </tr>\n",
       "    <tr>\n",
       "      <th>19997</th>\n",
       "      <td>Lace-Sleeved_Raglan_Henley/img_00000022.jpg</td>\n",
       "      <td>Henley</td>\n",
       "      <td>upper</td>\n",
       "      <td>0</td>\n",
       "      <td>0</td>\n",
       "      <td>1</td>\n",
       "      <td>0</td>\n",
       "      <td>0</td>\n",
       "      <td>0</td>\n",
       "      <td>0</td>\n",
       "      <td>1</td>\n",
       "      <td>0</td>\n",
       "      <td>0</td>\n",
       "      <td>0</td>\n",
       "      <td>0</td>\n",
       "      <td>1</td>\n",
       "      <td>1</td>\n",
       "      <td>0</td>\n",
       "      <td>0</td>\n",
       "      <td>0</td>\n",
       "      <td>0</td>\n",
       "      <td>0</td>\n",
       "      <td>1</td>\n",
       "      <td>0</td>\n",
       "      <td>0</td>\n",
       "      <td>0</td>\n",
       "      <td>0</td>\n",
       "      <td>0</td>\n",
       "      <td>1</td>\n",
       "      <td>99</td>\n",
       "      <td>51</td>\n",
       "      <td>136</td>\n",
       "      <td>172</td>\n",
       "      <td>0</td>\n",
       "      <td>111</td>\n",
       "      <td>61</td>\n",
       "      <td>1</td>\n",
       "      <td>130</td>\n",
       "      <td>62</td>\n",
       "      <td>0</td>\n",
       "      <td>111</td>\n",
       "      <td>144</td>\n",
       "      <td>0</td>\n",
       "      <td>129</td>\n",
       "      <td>153</td>\n",
       "      <td>0.0</td>\n",
       "      <td>104.0</td>\n",
       "      <td>156.0</td>\n",
       "      <td>1.0</td>\n",
       "      <td>124.0</td>\n",
       "      <td>161.0</td>\n",
       "      <td>0.0</td>\n",
       "      <td>0.0</td>\n",
       "      <td>0.0</td>\n",
       "      <td>0.0</td>\n",
       "      <td>0.0</td>\n",
       "      <td>0.0</td>\n",
       "    </tr>\n",
       "    <tr>\n",
       "      <th>19998</th>\n",
       "      <td>Floral_Mosaic_Print_Jumpsuit/img_00000017.jpg</td>\n",
       "      <td>Jumpsuit</td>\n",
       "      <td>full body</td>\n",
       "      <td>1</td>\n",
       "      <td>0</td>\n",
       "      <td>0</td>\n",
       "      <td>0</td>\n",
       "      <td>0</td>\n",
       "      <td>0</td>\n",
       "      <td>0</td>\n",
       "      <td>0</td>\n",
       "      <td>1</td>\n",
       "      <td>0</td>\n",
       "      <td>0</td>\n",
       "      <td>0</td>\n",
       "      <td>1</td>\n",
       "      <td>0</td>\n",
       "      <td>1</td>\n",
       "      <td>0</td>\n",
       "      <td>0</td>\n",
       "      <td>0</td>\n",
       "      <td>0</td>\n",
       "      <td>1</td>\n",
       "      <td>0</td>\n",
       "      <td>0</td>\n",
       "      <td>0</td>\n",
       "      <td>0</td>\n",
       "      <td>0</td>\n",
       "      <td>1</td>\n",
       "      <td>57</td>\n",
       "      <td>36</td>\n",
       "      <td>158</td>\n",
       "      <td>268</td>\n",
       "      <td>0</td>\n",
       "      <td>91</td>\n",
       "      <td>56</td>\n",
       "      <td>1</td>\n",
       "      <td>123</td>\n",
       "      <td>55</td>\n",
       "      <td>0</td>\n",
       "      <td>71</td>\n",
       "      <td>83</td>\n",
       "      <td>0</td>\n",
       "      <td>141</td>\n",
       "      <td>84</td>\n",
       "      <td>0.0</td>\n",
       "      <td>88.0</td>\n",
       "      <td>105.0</td>\n",
       "      <td>0.0</td>\n",
       "      <td>124.0</td>\n",
       "      <td>106.0</td>\n",
       "      <td>0.0</td>\n",
       "      <td>96.0</td>\n",
       "      <td>247.0</td>\n",
       "      <td>0.0</td>\n",
       "      <td>114.0</td>\n",
       "      <td>244.0</td>\n",
       "    </tr>\n",
       "    <tr>\n",
       "      <th>19999</th>\n",
       "      <td>Sparkling_Ruched_Dress/img_00000047.jpg</td>\n",
       "      <td>Dress</td>\n",
       "      <td>full body</td>\n",
       "      <td>0</td>\n",
       "      <td>0</td>\n",
       "      <td>0</td>\n",
       "      <td>1</td>\n",
       "      <td>0</td>\n",
       "      <td>0</td>\n",
       "      <td>0</td>\n",
       "      <td>0</td>\n",
       "      <td>0</td>\n",
       "      <td>1</td>\n",
       "      <td>0</td>\n",
       "      <td>1</td>\n",
       "      <td>0</td>\n",
       "      <td>0</td>\n",
       "      <td>0</td>\n",
       "      <td>0</td>\n",
       "      <td>1</td>\n",
       "      <td>0</td>\n",
       "      <td>1</td>\n",
       "      <td>0</td>\n",
       "      <td>0</td>\n",
       "      <td>0</td>\n",
       "      <td>0</td>\n",
       "      <td>0</td>\n",
       "      <td>0</td>\n",
       "      <td>1</td>\n",
       "      <td>25</td>\n",
       "      <td>75</td>\n",
       "      <td>177</td>\n",
       "      <td>291</td>\n",
       "      <td>0</td>\n",
       "      <td>84</td>\n",
       "      <td>93</td>\n",
       "      <td>0</td>\n",
       "      <td>108</td>\n",
       "      <td>93</td>\n",
       "      <td>0</td>\n",
       "      <td>66</td>\n",
       "      <td>102</td>\n",
       "      <td>0</td>\n",
       "      <td>126</td>\n",
       "      <td>101</td>\n",
       "      <td>0.0</td>\n",
       "      <td>67.0</td>\n",
       "      <td>151.0</td>\n",
       "      <td>0.0</td>\n",
       "      <td>124.0</td>\n",
       "      <td>145.0</td>\n",
       "      <td>0.0</td>\n",
       "      <td>46.0</td>\n",
       "      <td>271.0</td>\n",
       "      <td>0.0</td>\n",
       "      <td>152.0</td>\n",
       "      <td>268.0</td>\n",
       "    </tr>\n",
       "  </tbody>\n",
       "</table>\n",
       "<p>20000 rows × 57 columns</p>\n",
       "</div>"
      ],
      "text/plain": [
       "                                                     img  category    section  \\\n",
       "0                  Sweet_Crochet_Blouse/img_00000070.jpg    Blouse      upper   \n",
       "1                  Classic_Pencil_Skirt/img_00000010.jpg     Skirt      lower   \n",
       "2         Strapless_Diamond_Print_Dress/img_00000038.jpg     Dress  full body   \n",
       "3      Mid-Rise_-_Acid_Wash_Skinny_Jeans/img_00000010...     Jeans      lower   \n",
       "4         Zippered_Single-Button_Blazer/img_00000078.jpg    Blazer      upper   \n",
       "...                                                  ...       ...        ...   \n",
       "19995          Embroidered_Peasant_Tank/img_00000044.jpg      Tank      upper   \n",
       "19996           Tasmanian_Devil_Sweater/img_00000048.jpg   Sweater      upper   \n",
       "19997        Lace-Sleeved_Raglan_Henley/img_00000022.jpg    Henley      upper   \n",
       "19998      Floral_Mosaic_Print_Jumpsuit/img_00000017.jpg  Jumpsuit  full body   \n",
       "19999            Sparkling_Ruched_Dress/img_00000047.jpg     Dress  full body   \n",
       "\n",
       "       floral  graphic  striped  embroidered  pleated  solid  lattice  \\\n",
       "0           0        0        0            1        0      0        0   \n",
       "1           0        0        0            0        0      1        0   \n",
       "2           0        1        0            0        0      0        0   \n",
       "3           0        0        0            0        0      1        0   \n",
       "4           0        0        0            0        0      1        0   \n",
       "...       ...      ...      ...          ...      ...    ...      ...   \n",
       "19995       0        0        0            1        0      0        0   \n",
       "19996       0        0        0            0        0      1        0   \n",
       "19997       0        0        1            0        0      0        0   \n",
       "19998       1        0        0            0        0      0        0   \n",
       "19999       0        0        0            1        0      0        0   \n",
       "\n",
       "       long_sleeve  short_sleeve  sleeveless  maxi_length  mini_length  \\\n",
       "0                0             0           1            0            0   \n",
       "1                0             0           1            0            0   \n",
       "2                0             0           1            1            0   \n",
       "3                0             0           1            0            0   \n",
       "4                1             0           0            0            0   \n",
       "...            ...           ...         ...          ...          ...   \n",
       "19995            0             0           1            0            0   \n",
       "19996            1             0           0            0            0   \n",
       "19997            1             0           0            0            0   \n",
       "19998            0             1           0            0            0   \n",
       "19999            0             0           1            0            1   \n",
       "\n",
       "       no_dress  crew_neckline  v_neckline  square_neckline  no_neckline  \\\n",
       "0             1              0           0                0            1   \n",
       "1             1              0           0                0            1   \n",
       "2             0              0           0                0            1   \n",
       "3             1              0           0                0            1   \n",
       "4             1              0           1                0            0   \n",
       "...         ...            ...         ...              ...          ...   \n",
       "19995         1              0           1                0            0   \n",
       "19996         1              0           1                0            0   \n",
       "19997         1              1           0                0            0   \n",
       "19998         1              0           1                0            0   \n",
       "19999         0              0           0                0            1   \n",
       "\n",
       "       denim  chiffon  cotton  leather  faux  knit  tight  loose  \\\n",
       "0          0        1       0        0     0     0      0      0   \n",
       "1          0        0       1        0     0     0      1      0   \n",
       "2          0        0       1        0     0     0      0      0   \n",
       "3          1        0       0        0     0     0      1      0   \n",
       "4          0        0       1        0     0     0      0      0   \n",
       "...      ...      ...     ...      ...   ...   ...    ...    ...   \n",
       "19995      0        0       1        0     0     0      0      0   \n",
       "19996      0        0       0        0     0     1      0      0   \n",
       "19997      0        0       1        0     0     0      0      0   \n",
       "19998      0        0       1        0     0     0      0      0   \n",
       "19999      0        1       0        0     0     0      0      0   \n",
       "\n",
       "       conventional  x_1  y_1  x_2  y_2  v1   x1   y1  v2   x2   y2  v3   x3  \\\n",
       "0                 1   66   75  241  293   0  120  104   0  181  109   0  104   \n",
       "1                 0   65   88  132  218   1   75  103   1  121   99   0   74   \n",
       "2                 1   75   43  176  300   0  104   64   0  132   64   0   98   \n",
       "3                 0   64    1  129  273   1   73   13   0  116    5   0   89   \n",
       "4                 1    1   12  257  300   0  105   37   0  149   36   0   30   \n",
       "...             ...  ...  ...  ...  ...  ..  ...  ...  ..  ...  ...  ..  ...   \n",
       "19995             1   93   53  160  136   0  112   62   0  140   62   0  102   \n",
       "19996             1   38   74  196  261   0   80   99   0  136   89   0   60   \n",
       "19997             1   99   51  136  172   0  111   61   1  130   62   0  111   \n",
       "19998             1   57   36  158  268   0   91   56   1  123   55   0   71   \n",
       "19999             1   25   75  177  291   0   84   93   0  108   93   0   66   \n",
       "\n",
       "        y3  v4   x4   y4   v5     x5     y5   v6     x6     y6   v7    x7  \\\n",
       "0       93   0  196   95  0.0   90.0  273.0  0.0  212.0  267.0  0.0   0.0   \n",
       "1      206   0  118  206  0.0    0.0    0.0  0.0    0.0    0.0  0.0   0.0   \n",
       "2       71   0  140   68  0.0  100.0   99.0  0.0  138.0  102.0  0.0  89.0   \n",
       "3      237   0  118  246  0.0    0.0    0.0  0.0    0.0    0.0  0.0   0.0   \n",
       "4      280   0  224  280  0.0   74.0  281.0  0.0  186.0  280.0  0.0   0.0   \n",
       "...    ...  ..  ...  ...  ...    ...    ...  ...    ...    ...  ...   ...   \n",
       "19995   60   0  147   67  0.0  102.0  128.0  0.0  149.0  123.0  0.0   0.0   \n",
       "19996  239   0  170  244  0.0   83.0  232.0  0.0  140.0  228.0  0.0   0.0   \n",
       "19997  144   0  129  153  0.0  104.0  156.0  1.0  124.0  161.0  0.0   0.0   \n",
       "19998   83   0  141   84  0.0   88.0  105.0  0.0  124.0  106.0  0.0  96.0   \n",
       "19999  102   0  126  101  0.0   67.0  151.0  0.0  124.0  145.0  0.0  46.0   \n",
       "\n",
       "          y7   v8     x8     y8  \n",
       "0        0.0  0.0    0.0    0.0  \n",
       "1        0.0  0.0    0.0    0.0  \n",
       "2      276.0  0.0  159.0  277.0  \n",
       "3        0.0  0.0    0.0    0.0  \n",
       "4        0.0  0.0    0.0    0.0  \n",
       "...      ...  ...    ...    ...  \n",
       "19995    0.0  0.0    0.0    0.0  \n",
       "19996    0.0  0.0    0.0    0.0  \n",
       "19997    0.0  0.0    0.0    0.0  \n",
       "19998  247.0  0.0  114.0  244.0  \n",
       "19999  271.0  0.0  152.0  268.0  \n",
       "\n",
       "[20000 rows x 57 columns]"
      ]
     },
     "execution_count": 43,
     "metadata": {},
     "output_type": "execute_result"
    }
   ],
   "source": [
    "data_full"
   ]
  },
  {
   "cell_type": "code",
   "execution_count": 54,
   "id": "e1a6a753",
   "metadata": {},
   "outputs": [],
   "source": [
    "import os\n",
    "import matplotlib.image as mpimg\n"
   ]
  },
  {
   "cell_type": "code",
   "execution_count": 64,
   "id": "c9bef47e",
   "metadata": {},
   "outputs": [
    {
     "name": "stdout",
     "output_type": "stream",
     "text": [
      "Sweet_Crochet_Blouse\n",
      "Data/Attribute_images/Sweet_Crochet_Blouse/img_00000070.jpg\n"
     ]
    },
    {
     "data": {
      "image/png": "[encoded data removed]",
      "text/plain": [
       "<Figure size 432x288 with 1 Axes>"
      ]
     },
     "metadata": {
      "needs_background": "light"
     },
     "output_type": "display_data"
    }
   ],
   "source": [
    "for img in data_full.iloc[:,0]:\n",
    "    path = 'Data/Attribute_images/'\n",
    "    folder = img.split('/')[0]\n",
    "    print(folder)\n",
    "    print(path+img)\n",
    "    print(PATH_IMG+img)\n",
    "    #os.mkdir(path+folder)\n",
    "    img = mpimg.imread(PATH_IMG+img)\n",
    "    plt.imshow(img)\n",
    "    #mpimg.imsave(path+img, img)\n",
    "    break"
   ]
  },
  {
   "cell_type": "markdown",
   "id": "d1c4d652",
   "metadata": {
    "id": "d1c4d652"
   },
   "source": [
    "# Filter attributes"
   ]
  },
  {
   "cell_type": "code",
   "execution_count": null,
   "id": "4a2cb10e",
   "metadata": {
    "colab": {
     "base_uri": "https://localhost:8080/",
     "height": 505
    },
    "id": "4a2cb10e",
    "outputId": "574481bf-f451-4ed1-afb8-0d010eebe6f7"
   },
   "outputs": [],
   "source": [
    "data_full"
   ]
  },
  {
   "cell_type": "code",
   "execution_count": null,
   "id": "c03cd3c3",
   "metadata": {
    "id": "c03cd3c3"
   },
   "outputs": [],
   "source": [
    "# If item is sleevless and of lower type, set attribute value to 0:\n",
    "data_full['sleeveless'] = data_full.apply(lambda x: 0 if ((x['sleeveless'])==1) & (x['section']=='lower') else x['sleeveless'], axis =1)\n"
   ]
  },
  {
   "cell_type": "code",
   "execution_count": null,
   "id": "5a4e7907",
   "metadata": {
    "colab": {
     "base_uri": "https://localhost:8080/",
     "height": 505
    },
    "id": "5a4e7907",
    "outputId": "af08c2cc-345c-4b7c-ed71-fa2d448f58f1"
   },
   "outputs": [],
   "source": [
    "data_full"
   ]
  },
  {
   "cell_type": "code",
   "execution_count": null,
   "id": "fbfa4661",
   "metadata": {
    "id": "fbfa4661"
   },
   "outputs": [],
   "source": [
    "data_full.drop(columns=['no_dress','no_neckline'],inplace=True)"
   ]
  },
  {
   "cell_type": "markdown",
   "id": "0b5be07c",
   "metadata": {
    "heading_collapsed": true,
    "id": "0b5be07c"
   },
   "source": [
    "# Crop and augment images"
   ]
  },
  {
   "cell_type": "code",
   "execution_count": null,
   "id": "64f73553",
   "metadata": {
    "colab": {
     "base_uri": "https://localhost:8080/",
     "height": 505
    },
    "hidden": true,
    "id": "64f73553",
    "outputId": "f6c1a5b2-68b8-4aa8-bad1-35cdbc753f0d"
   },
   "outputs": [],
   "source": [
    "data_full"
   ]
  },
  {
   "cell_type": "code",
   "execution_count": null,
   "id": "ca179d7d",
   "metadata": {
    "hidden": true,
    "id": "ca179d7d"
   },
   "outputs": [],
   "source": [
    "data_full_attr = data_full.iloc[:,3:-28]"
   ]
  },
  {
   "cell_type": "code",
   "execution_count": null,
   "id": "85efaa29",
   "metadata": {
    "colab": {
     "base_uri": "https://localhost:8080/",
     "height": 488
    },
    "hidden": true,
    "id": "85efaa29",
    "outputId": "6917eecd-8a27-4ddf-b688-21259e042740"
   },
   "outputs": [],
   "source": [
    "data_full_attr"
   ]
  },
  {
   "cell_type": "code",
   "execution_count": null,
   "id": "dee0d7ab",
   "metadata": {
    "hidden": true,
    "id": "dee0d7ab"
   },
   "outputs": [],
   "source": [
    "attribute_count = data_full_attr.apply(pd.value_counts)"
   ]
  },
  {
   "cell_type": "code",
   "execution_count": null,
   "id": "31eb31de",
   "metadata": {
    "hidden": true,
    "id": "31eb31de"
   },
   "outputs": [],
   "source": [
    "attribute_count_T = attribute_count.T.reset_index().rename(columns={'index':'attribute'})"
   ]
  },
  {
   "cell_type": "code",
   "execution_count": null,
   "id": "65e5475a",
   "metadata": {
    "colab": {
     "base_uri": "https://localhost:8080/",
     "height": 802
    },
    "hidden": true,
    "id": "65e5475a",
    "outputId": "043bdfbf-650b-4b94-a135-ab3d0fde9fe4"
   },
   "outputs": [],
   "source": [
    "attribute_count_T"
   ]
  },
  {
   "cell_type": "code",
   "execution_count": null,
   "id": "3347f075",
   "metadata": {
    "hidden": true,
    "id": "3347f075"
   },
   "outputs": [],
   "source": [
    "attribute_count_type = attribute_count_T.merge(attr_names, on='attribute')"
   ]
  },
  {
   "cell_type": "code",
   "execution_count": null,
   "id": "05123444",
   "metadata": {
    "colab": {
     "base_uri": "https://localhost:8080/",
     "height": 802
    },
    "hidden": true,
    "id": "05123444",
    "outputId": "d96f09c5-51e6-459a-8f6b-d23021556cd7"
   },
   "outputs": [],
   "source": [
    "attribute_count_type"
   ]
  },
  {
   "cell_type": "code",
   "execution_count": null,
   "id": "baa9fc45",
   "metadata": {
    "hidden": true,
    "id": "baa9fc45"
   },
   "outputs": [],
   "source": [
    "attribute_count_type_mean = attribute_count_type.groupby('attribute_type').median().drop(columns=0)"
   ]
  },
  {
   "cell_type": "code",
   "execution_count": null,
   "id": "41aa0c71",
   "metadata": {
    "colab": {
     "base_uri": "https://localhost:8080/",
     "height": 269
    },
    "hidden": true,
    "id": "41aa0c71",
    "outputId": "dd028eda-c50e-4af8-aa4a-8a40ba4e587a"
   },
   "outputs": [],
   "source": [
    "attribute_count_type_mean"
   ]
  },
  {
   "cell_type": "code",
   "execution_count": null,
   "id": "01913b82",
   "metadata": {
    "colab": {
     "base_uri": "https://localhost:8080/"
    },
    "hidden": true,
    "id": "01913b82",
    "outputId": "a525f730-4338-47d5-fd24-333ca78fba23"
   },
   "outputs": [],
   "source": [
    "attribute_count_mean = attribute_count_type[1].median()\n",
    "attribute_count_mean"
   ]
  },
  {
   "cell_type": "code",
   "execution_count": null,
   "id": "dd6674c3",
   "metadata": {
    "colab": {
     "base_uri": "https://localhost:8080/"
    },
    "hidden": true,
    "id": "dd6674c3",
    "outputId": "9701b8d3-1aac-4706-da6c-4d2b8053bc6e"
   },
   "outputs": [],
   "source": [
    "attr_names_list = attribute_count_type['attribute'].values\n",
    "attr_names_list"
   ]
  },
  {
   "cell_type": "code",
   "execution_count": null,
   "id": "8fa8c076",
   "metadata": {
    "hidden": true,
    "id": "8fa8c076"
   },
   "outputs": [],
   "source": [
    "def landmark_crop(index): # NOT USED AT THE MOMENT !\n",
    "    observation = data_full.iloc[index,:] # get observation from database according to index\n",
    "    v1,x1,y1,v2,x2,y2,v3,x3,y3,v4,x4,y4=observation[-24:-12] # landmarks belonging to ALL images\n",
    "    lm_x = [x1,x2,x3,x4]\n",
    "    lm_y = [y1,y2,y3,y4]\n",
    "    lm_v = [v1,v2,v3,v4]\n",
    "    \n",
    "    section = data_full.iloc[index,2] # get section type for image\n",
    "    if section == 'upper' or section == 'full body': # if image is an upper or full body, has 6 landmarks\n",
    "        v5,x5,y5,v6,x6,y6=observation[-12:-6]\n",
    "        lm_x.extend([x5,x6])\n",
    "        lm_y.extend([y5,y6])\n",
    "        lm_v.extend([v5,v6])\n",
    "    if section == 'full body': # if image is full body has 8 landmarks\n",
    "        v7,x7,y7,v8,x8,y8=observation[-6:]\n",
    "        lm_x.extend([x7,x8])\n",
    "        lm_y.extend([y7,y8])\n",
    "        lm_v.extend([v7,v8])\n",
    "    \n",
    "    lm_x = np.array(lm_x)\n",
    "    lm_y = np.array(lm_y)\n",
    "    lm_x = lm_x[lm_x !=0] # keep only non-zero landmarks \n",
    "    lm_y = lm_y[lm_y !=0]\n",
    "    \n",
    "    pts = (np.array(list(zip(lm_x,lm_y)))).astype('int') # store coordinates defined by landmarks\n",
    "    \n",
    "    img_name = observation[0]\n",
    "    full_path = PATH_IMG+img_name\n",
    "    \n",
    "    img = cv2.imread(full_path) # open image using OpenCV\n",
    "    img = cv2.cvtColor(img, cv2.COLOR_BGR2RGB) # convert image to correct format\n",
    "    \n",
    "    x,y,w,h = cv2.boundingRect(pts) # create approximate rectangle using landmark points\n",
    "    cropped = Image.fromarray(img[y:y+h, x:x+w].copy()) # crop image by bounding rectangle\n",
    "\n",
    "    return cropped\n",
    "    "
   ]
  },
  {
   "cell_type": "code",
   "execution_count": null,
   "id": "79661234",
   "metadata": {
    "hidden": true,
    "id": "79661234"
   },
   "outputs": [],
   "source": [
    "def format_image(index): # format image\n",
    "    observation = data_full.iloc[index,:] # get observation from database according to index    \n",
    "    img_name = observation[0]\n",
    "    full_path = PATH_IMG+img_name\n",
    "\n",
    "    # LOAD IMAGES:\n",
    "    img = Image.open(full_path)\n",
    "  \n",
    "    # CROP IMAGES:\n",
    "    box_x1,box_y1,box_x2,box_y2 = (np.array(observation[-28:-24].values)) # box coords\n",
    "    cropped = img.crop((box_x1, box_y1, box_x2, box_y2))\n",
    "\n",
    "    # PAD IMAGES:\n",
    "    cropped_pad = ImageOps.pad(cropped,(256,256),color=(255, 255, 255)) # pad image to (256,256) with white background\n",
    "    return cropped_pad\n"
   ]
  },
  {
   "cell_type": "code",
   "execution_count": null,
   "id": "f848c7e9",
   "metadata": {
    "colab": {
     "base_uri": "https://localhost:8080/",
     "height": 287
    },
    "hidden": true,
    "id": "f848c7e9",
    "outputId": "2e5e376b-ae8d-45ac-a6d3-21bb8de744a4"
   },
   "outputs": [],
   "source": [
    "sample_index = np.random.randint(20000)\n",
    "image = format_image(sample_index)\n",
    "\n",
    "\n",
    "plt.imshow(image)"
   ]
  },
  {
   "cell_type": "code",
   "execution_count": null,
   "id": "07520642",
   "metadata": {
    "hidden": true,
    "id": "07520642",
    "scrolled": false
   },
   "outputs": [],
   "source": [
    "# fig, axs = plt.subplots(24,10,figsize=(30,100))\n",
    "# for i in range(24):\n",
    "#     for j in range(10):\n",
    "#         index = data_full[data_full[attr_names_list[i]]==1].sample(1).index._data[0]\n",
    "#         img = format_image(index)\n",
    "#         img = axs[i][j].imshow(img)\n",
    "#         axs[i][j].title.set_text(attr_names_list[i])"
   ]
  },
  {
   "cell_type": "markdown",
   "id": "7089ae1e",
   "metadata": {
    "heading_collapsed": true,
    "id": "7089ae1e"
   },
   "source": [
    "# Attribute model testing "
   ]
  },
  {
   "cell_type": "code",
   "execution_count": null,
   "id": "WColWZBZcg8R",
   "metadata": {
    "hidden": true,
    "id": "WColWZBZcg8R"
   },
   "outputs": [],
   "source": [
    "def plot_loss_accuracy(history, title=None):\n",
    "    fig, ax = plt.subplots(1,2, figsize=(20,7))\n",
    "    \n",
    "    # --- LOSS --- \n",
    "    \n",
    "    ax[0].plot(history.history['loss'])\n",
    "    ax[0].plot(history.history['val_loss'])\n",
    "    ax[0].set_title('Model loss')\n",
    "    ax[0].set_ylabel('Loss')\n",
    "    ax[0].set_xlabel('Epoch')\n",
    "    ax[0].set_ylim((0,3))\n",
    "    ax[0].legend(['Train', 'Test'], loc='best')\n",
    "    ax[0].grid(axis=\"x\",linewidth=0.5)\n",
    "    ax[0].grid(axis=\"y\",linewidth=0.5)\n",
    "    \n",
    "    # --- ACCURACY\n",
    "    \n",
    "    ax[1].plot(history.history['accuracy'])\n",
    "    ax[1].plot(history.history['val_accuracy'])\n",
    "    ax[1].set_title('Model Accuracy')\n",
    "    ax[1].set_ylabel('Accuracy')\n",
    "    ax[1].set_xlabel('Epoch')\n",
    "    ax[1].legend(['Train', 'Test'], loc='best')\n",
    "    ax[1].set_ylim((0,1))\n",
    "    ax[1].grid(axis=\"x\",linewidth=0.5)\n",
    "    ax[1].grid(axis=\"y\",linewidth=0.5)\n",
    "    \n",
    "    if title:\n",
    "        fig.suptitle(title)"
   ]
  },
  {
   "cell_type": "markdown",
   "id": "cc70031c",
   "metadata": {
    "hidden": true,
    "id": "cc70031c"
   },
   "source": [
    "## Without image augmentation"
   ]
  },
  {
   "cell_type": "code",
   "execution_count": null,
   "id": "5ySulbxa9Az7",
   "metadata": {
    "hidden": true,
    "id": "5ySulbxa9Az7"
   },
   "outputs": [],
   "source": [
    "def format_image_model(img_name,box_x1,box_y1,box_x2,box_y2): # format image\n",
    "    full_path = PATH_IMG+img_name\n",
    "\n",
    "    \n",
    "    # LOAD IMAGES:\n",
    "    img = cv2.imread(full_path) # open image using OpenCV\n",
    "    img = cv2.cvtColor(img, cv2.COLOR_BGR2RGB)\n",
    "    \n",
    "    # CROP IMAGES:\n",
    "    cropped = Image.fromarray(img[box_y1:box_y2, box_x1:box_x2]) # crop image using box\n",
    "    \n",
    "    # PAD IMAGES:\n",
    "    cropped_pad = ImageOps.pad(cropped,(256,256),color=(255,255,255)) # pad image to (256,256) with white background\n",
    "\n",
    "    cropped_pad_array = np.asarray(cropped_pad)\n",
    "    \n",
    "    return cropped_pad_array"
   ]
  },
  {
   "cell_type": "markdown",
   "id": "afaf0e10",
   "metadata": {
    "hidden": true,
    "id": "afaf0e10"
   },
   "source": [
    "### Fabric"
   ]
  },
  {
   "cell_type": "code",
   "execution_count": null,
   "id": "c366ea35",
   "metadata": {
    "hidden": true,
    "id": "c366ea35"
   },
   "outputs": [],
   "source": [
    "fabric_data = data_full.iloc[:,np.r_[0,18:24,27:31]] # select all attributes related to fabric"
   ]
  },
  {
   "cell_type": "code",
   "execution_count": null,
   "id": "5b9b457a",
   "metadata": {
    "hidden": true,
    "id": "5b9b457a"
   },
   "outputs": [],
   "source": [
    "fabric_X_names = fabric_data.iloc[:,np.r_[0,7,8,9,10]]"
   ]
  },
  {
   "cell_type": "code",
   "execution_count": null,
   "id": "fdda5ead",
   "metadata": {
    "colab": {
     "base_uri": "https://localhost:8080/",
     "height": 385,
     "referenced_widgets": [
      "a7982feaaf084164a7351c845e8bcd17",
      "323985ba87a84fb0a13d6ab3fb486e96",
      "08072c44dda14785bba3024d80810217",
      "104b60d4dc2b48c2ae694ff644add694",
      "b4143cf4ac904364ba513073f62737a2",
      "70e97c7c05a94e17a523fb30f043e496",
      "3dbeeff89d3945d3bf5f4a99d276f097",
      "c24d0d695ed04ec48634187381a25381",
      "0afda0bb980f4bfda4f62e7622f5c18c",
      "eab8053e9a1b4385acf2f6e049e3a1e3",
      "02a3b70d1dda49a7852e5a658d2b7c8e"
     ]
    },
    "hidden": true,
    "id": "fdda5ead",
    "outputId": "72f70b47-2238-4ee2-a5b5-a856aa6f75ed"
   },
   "outputs": [],
   "source": [
    "fabric_X_train = np.array([format_image_model(fabric_X_name[0], *fabric_X_name[1:]) for fabric_X_name in tqdm(fabric_X_names.values)])\n",
    "\n",
    "\n"
   ]
  },
  {
   "cell_type": "code",
   "execution_count": null,
   "id": "MUJBPeRouZqY",
   "metadata": {
    "hidden": true,
    "id": "MUJBPeRouZqY"
   },
   "outputs": [],
   "source": [
    "fabric_X_train.shape"
   ]
  },
  {
   "cell_type": "code",
   "execution_count": null,
   "id": "86a50cc4",
   "metadata": {
    "hidden": true,
    "id": "86a50cc4"
   },
   "outputs": [],
   "source": [
    "fabric_y_train = fabric_data.iloc[:,1:7]"
   ]
  },
  {
   "cell_type": "code",
   "execution_count": null,
   "id": "jyG6JoGZ2Ge8",
   "metadata": {
    "hidden": true,
    "id": "jyG6JoGZ2Ge8"
   },
   "outputs": [],
   "source": [
    "fabric_y_train.shape"
   ]
  },
  {
   "cell_type": "code",
   "execution_count": null,
   "id": "5817232a",
   "metadata": {
    "hidden": true,
    "id": "5817232a"
   },
   "outputs": [],
   "source": [
    "fabric_X_train, fabric_X_test, fabric_y_train, fabric_y_test = train_test_split(fabric_X_train, fabric_y_train, test_size =0.2,random_state=2)\n"
   ]
  },
  {
   "cell_type": "code",
   "execution_count": null,
   "id": "nBZwGrYC2m6K",
   "metadata": {
    "hidden": true,
    "id": "nBZwGrYC2m6K"
   },
   "outputs": [],
   "source": [
    "fabric_X_train.shape"
   ]
  },
  {
   "cell_type": "code",
   "execution_count": null,
   "id": "eec23382",
   "metadata": {
    "hidden": true,
    "id": "eec23382"
   },
   "outputs": [],
   "source": [
    "fabric_X_train, fabric_X_val, fabric_y_train, fabric_y_val = train_test_split(fabric_X_train, fabric_y_train, test_size =0.2,random_state=2)\n"
   ]
  },
  {
   "cell_type": "markdown",
   "id": "q2tusjzlxV0u",
   "metadata": {
    "hidden": true,
    "id": "q2tusjzlxV0u"
   },
   "source": [
    "#### Baseline model"
   ]
  },
  {
   "cell_type": "code",
   "execution_count": null,
   "id": "d5DkVFcudi7Q",
   "metadata": {
    "hidden": true,
    "id": "d5DkVFcudi7Q"
   },
   "outputs": [],
   "source": [
    "def initialize_model():\n",
    "  model = Sequential()\n",
    "  model.add(layers.Conv2D(16, (4,4), input_shape=fabric_X_train[0].shape, padding='valid', activation=\"relu\"))\n",
    "  model.add(layers.MaxPooling2D(pool_size = (2,2)))\n",
    "  model.add(layers.Conv2D(32, (3,3), padding='valid', activation=\"relu\"))\n",
    "  model.add(layers.MaxPooling2D(pool_size = (2,2)))\n",
    "  model.add(layers.Conv2D(64, (2,2), input_shape=fabric_X_train[0].shape, padding='valid', activation=\"relu\"))\n",
    "  model.add(layers.MaxPooling2D(pool_size = (2,2)))\n",
    "  model.add(layers.Flatten())\n",
    "  model.add(layers.Dense(60,activation='relu'))\n",
    "  model.add(layers.Dense(6, activation = 'softmax'))\n",
    "  model.summary()\n",
    "  return model"
   ]
  },
  {
   "cell_type": "code",
   "execution_count": null,
   "id": "i4t-w6ZUzZpf",
   "metadata": {
    "hidden": true,
    "id": "i4t-w6ZUzZpf"
   },
   "outputs": [],
   "source": [
    "model = initialize_model()\n",
    "model.compile(\n",
    "    optimizer='adam',\n",
    "    loss='categorical_crossentropy',\n",
    "    metrics=[Recall(), Precision(), Accuracy()],\n",
    ")"
   ]
  },
  {
   "cell_type": "code",
   "execution_count": null,
   "id": "6mWeknzJzwl_",
   "metadata": {
    "hidden": true,
    "id": "6mWeknzJzwl_"
   },
   "outputs": [],
   "source": [
    "es = EarlyStopping(patience=20,  restore_best_weights=True)\n",
    "\n",
    "history = model.fit(fabric_X_train, np.array(fabric_y_train), epochs=50, validation_data=(fabric_X_val,fabric_y_val), batch_size=16, callbacks=[es])"
   ]
  },
  {
   "cell_type": "code",
   "execution_count": null,
   "id": "pN_-saWJ52QP",
   "metadata": {
    "hidden": true,
    "id": "pN_-saWJ52QP"
   },
   "outputs": [],
   "source": [
    "model.evaluate(fabric_X_test,fabric_y_test)"
   ]
  },
  {
   "cell_type": "code",
   "execution_count": null,
   "id": "56ojL6Kl6JAk",
   "metadata": {
    "hidden": true,
    "id": "56ojL6Kl6JAk"
   },
   "outputs": [],
   "source": [
    "plot_loss_accuracy(history)\n"
   ]
  },
  {
   "cell_type": "markdown",
   "id": "e29a71a5",
   "metadata": {
    "hidden": true,
    "id": "e29a71a5"
   },
   "source": [
    "#### VGG16"
   ]
  },
  {
   "cell_type": "code",
   "execution_count": null,
   "id": "3cbf8010",
   "metadata": {
    "hidden": true,
    "id": "3cbf8010"
   },
   "outputs": [],
   "source": [
    "# Training image size --> (256,256,3)"
   ]
  },
  {
   "cell_type": "code",
   "execution_count": null,
   "id": "5b37bcd4",
   "metadata": {
    "hidden": true,
    "id": "5b37bcd4"
   },
   "outputs": [],
   "source": [
    "model_vgg16 = VGG16(weights=\"imagenet\", include_top=False, input_shape=fabric_X_train[0].shape) # include top removes classification layer from imagenet dataset\n",
    "model_vgg16.trainable = False # not trainable weights\n",
    "\n",
    "## Preprocessing input (normalise data for VGG16 model):\n",
    "fabric_X_train = preprocess_input(fabric_X_train) \n",
    "fabric_X_val = preprocess_input(fabric_X_val)\n",
    "fabric_X_test = preprocess_input(fabric_X_test)\n"
   ]
  },
  {
   "cell_type": "code",
   "execution_count": null,
   "id": "YTGVs_A7VXQO",
   "metadata": {
    "hidden": true,
    "id": "YTGVs_A7VXQO"
   },
   "outputs": [],
   "source": [
    "flatten_layer = layers.Flatten()\n",
    "dense_layer_1 = layers.Dense(60, activation='relu')\n",
    "dense_layer_2 = layers.Dense(30, activation='relu')\n",
    "prediction_layer = layers.Dense(6, activation='softmax')\n",
    "\n",
    "\n",
    "model = models.Sequential([\n",
    "    model_vgg16,\n",
    "    flatten_layer,\n",
    "    dense_layer_1,\n",
    "    dense_layer_2,\n",
    "    prediction_layer\n",
    "])"
   ]
  },
  {
   "cell_type": "code",
   "execution_count": null,
   "id": "4ba820e6",
   "metadata": {
    "hidden": true,
    "id": "4ba820e6"
   },
   "outputs": [],
   "source": [
    "model.compile(\n",
    "    optimizer='adam',\n",
    "    loss='categorical_crossentropy',\n",
    "    metrics=['recall','precision','accuracy'],\n",
    ")\n",
    "\n",
    "\n",
    "es = EarlyStopping(monitor='val_recall', patience=20,  restore_best_weights=True)\n",
    "\n",
    "history = model.fit(fabric_X_train, fabric_y_train, epochs=50, validation_data=fabric_X_val, batch_size=32, callbacks=[es])"
   ]
  },
  {
   "cell_type": "markdown",
   "id": "UqQhzQxrOTyM",
   "metadata": {
    "hidden": true,
    "id": "UqQhzQxrOTyM"
   },
   "source": []
  },
  {
   "cell_type": "markdown",
   "id": "7FJT5Ns788t7",
   "metadata": {
    "hidden": true,
    "id": "7FJT5Ns788t7"
   },
   "source": [
    "## With image augmentation"
   ]
  },
  {
   "cell_type": "code",
   "execution_count": null,
   "id": "kER9I1Tl0UTP",
   "metadata": {
    "colab": {
     "base_uri": "https://localhost:8080/",
     "height": 424
    },
    "hidden": true,
    "id": "kER9I1Tl0UTP",
    "outputId": "d6bebb9c-f382-47cd-84f8-7502fad8e3b1"
   },
   "outputs": [],
   "source": [
    "fabric_data_augment = data_full.iloc[:,np.r_[0,18:24,27:31]] # select all attributes related to fabric\n",
    "fabric_data_augment"
   ]
  },
  {
   "cell_type": "code",
   "execution_count": null,
   "id": "_JX2o0zeOdEU",
   "metadata": {
    "colab": {
     "base_uri": "https://localhost:8080/"
    },
    "hidden": true,
    "id": "_JX2o0zeOdEU",
    "outputId": "31aa1793-c6f2-4c47-a719-87b7c0658fe4"
   },
   "outputs": [],
   "source": [
    "fabric_mean = round(fabric_data_augment.iloc[:,1:7].apply(pd.value_counts).iloc[1,:].mean())\n",
    "fabric_mean"
   ]
  },
  {
   "cell_type": "code",
   "execution_count": null,
   "id": "3laqyGTIeLLs",
   "metadata": {
    "colab": {
     "base_uri": "https://localhost:8080/"
    },
    "hidden": true,
    "id": "3laqyGTIeLLs",
    "outputId": "bb7dd374-bb83-4dc1-edbc-105223438c71"
   },
   "outputs": [],
   "source": [
    "fabric_attrs = list(fabric_data_augment.iloc[:,1:7].apply(pd.value_counts).iloc[1,:].items())\n",
    "fabric_attrs"
   ]
  },
  {
   "cell_type": "code",
   "execution_count": null,
   "id": "Yo0t96g3Tw5G",
   "metadata": {
    "hidden": true,
    "id": "Yo0t96g3Tw5G"
   },
   "outputs": [],
   "source": [
    "def format_image_model(img_name,box_x1,box_y1,box_x2,box_y2): # format image\n",
    "    full_path = PATH_IMG+img_name\n",
    "    \n",
    "    # LOAD IMAGES:\n",
    "    img = Image.open(full_path)\n",
    "  \n",
    "    # CROP IMAGES:\n",
    "    cropped = img.crop((box_x1, box_y1, box_x2, box_y2))\n",
    "    \n",
    "    # PAD IMAGES:\n",
    "    cropped_pad = ImageOps.pad(cropped,(256,256),color=(255,255,255)) # pad image to (256,256) with white background\n",
    "\n",
    "    cropped_pad_array = np.asarray(cropped_pad)\n",
    "    \n",
    "    return cropped_pad_array"
   ]
  },
  {
   "cell_type": "code",
   "execution_count": null,
   "id": "HNLAdOD9PCSp",
   "metadata": {
    "colab": {
     "base_uri": "https://localhost:8080/"
    },
    "hidden": true,
    "id": "HNLAdOD9PCSp",
    "outputId": "58cc2ace-b0fe-43d6-e329-2d8a4e364357"
   },
   "outputs": [],
   "source": [
    "fabric_data_augment_array = pd.DataFrame()\n",
    "for  attr, count in fabric_attrs:\n",
    "\n",
    "  if count >= fabric_mean: # if number of samples is greater than mean number of samples for 'attr'\n",
    "    print(attr)\n",
    "    sample_df = fabric_data_augment[fabric_data_augment[attr]==1].sample(fabric_mean,random_state=2)\n",
    "    sample_df['img'] = sample_df.apply(lambda row: format_image_model(row[0], *row[7:]),axis=1)\n",
    "    sample_df = sample_df.iloc[:,:7]\n",
    "  else:\n",
    "    print(attr)\n",
    "    sample_values = [0]*count\n",
    "    remaining_sum = fabric_mean-count\n",
    "    i = 0\n",
    "    while remaining_sum != 0:\n",
    "      sample_values[i]+=1\n",
    "      remaining_sum-=1\n",
    "      i = (i+1)%len(sample_values)\n",
    "    sample_df = pd.DataFrame()\n",
    "    for index, row in enumerate(fabric_data_augment[fabric_data_augment[attr]==1].values):\n",
    "      sample = sample_values[index]\n",
    "      cropped_img_array = format_image_model(row[0], *row[7:])\n",
    "      temp_oversample_df = pd.concat([pd.DataFrame([row], columns = fabric_data_augment.columns).iloc[:,:7]]*(sample+1),ignore_index=True)\n",
    "      temp_oversample_df.iloc[0,0] = [cropped_img_array]\n",
    "      if sample != 0:\n",
    "        augmented_img_array = augment(cropped_img_array,sample)\n",
    "        temp_oversample_df.iloc[1:,0] = augmented_img_array\n",
    "      sample_df = pd.concat([sample_df,temp_oversample_df],axis=0)\n",
    "  fabric_data_augment_array = pd.concat([fabric_data_augment_array,sample_df],axis=0)"
   ]
  },
  {
   "cell_type": "code",
   "execution_count": null,
   "id": "DXJ7a4nnoFD9",
   "metadata": {
    "colab": {
     "base_uri": "https://localhost:8080/",
     "height": 424
    },
    "hidden": true,
    "id": "DXJ7a4nnoFD9",
    "outputId": "d992127c-128f-49f1-bf16-5c37cec402c4"
   },
   "outputs": [],
   "source": [
    "fabric_data_augment_array"
   ]
  },
  {
   "cell_type": "code",
   "execution_count": null,
   "id": "_1-x53nEoIKt",
   "metadata": {
    "hidden": true,
    "id": "_1-x53nEoIKt"
   },
   "outputs": [],
   "source": [
    "img_t = fabric_data_augment_array.iloc[37,0]"
   ]
  },
  {
   "cell_type": "code",
   "execution_count": null,
   "id": "4JQBelzOoMxF",
   "metadata": {
    "colab": {
     "base_uri": "https://localhost:8080/",
     "height": 287
    },
    "hidden": true,
    "id": "4JQBelzOoMxF",
    "outputId": "f7965c01-7bcd-4cfb-9408-7ffff67688da"
   },
   "outputs": [],
   "source": [
    "plt.imshow(img_t)"
   ]
  },
  {
   "cell_type": "code",
   "execution_count": null,
   "id": "QOIp4p_zWj_0",
   "metadata": {
    "hidden": true,
    "id": "QOIp4p_zWj_0"
   },
   "outputs": [],
   "source": [
    "def augment(img_array, samples):\n",
    "  img_array = img_array.reshape((1,) + img_array.shape)\n",
    "\n",
    "  # AUGMENT IMAGES:\n",
    "\n",
    "  # Create an ImageDataGenerator object with the desired transformations\n",
    "  datagen = ImageDataGenerator(\n",
    "      horizontal_flip=True,\n",
    "      width_shift_range=0.2, \n",
    "      rotation_range=15,\n",
    "      fill_mode='constant',\n",
    "      cval=255\n",
    "  )\n",
    "\n",
    "  aug_iter = datagen.flow(img_array, batch_size=1)\n",
    "  arrays = [aug_iter.next()[0].astype('uint8') for i in range (samples)]\n",
    "  return arrays"
   ]
  },
  {
   "cell_type": "code",
   "execution_count": null,
   "id": "7hRsuw9m-PCg",
   "metadata": {
    "hidden": true,
    "id": "7hRsuw9m-PCg"
   },
   "outputs": [],
   "source": [
    "def display_augmented():\n",
    "  sample_index = np.random.randint(20000)\n",
    "  img = format_image(sample_index)\n",
    "  img_array = np.asarray(img)\n",
    "  img_array = img_array.reshape((1,) + img_array.shape)\n",
    "\n",
    "  # AUGMENT IMAGES:\n",
    "\n",
    "  # Create an ImageDataGenerator object with the desired transformations\n",
    "  datagen = ImageDataGenerator(\n",
    "      horizontal_flip=True,\n",
    "      width_shift_range=0.2, \n",
    "      rotation_range=15,\n",
    "      fill_mode='constant',\n",
    "      cval=255\n",
    "  )\n",
    "\n",
    "  aug_iter = datagen.flow(img_array, batch_size=1)\n",
    "\n",
    "  # generate samples and plot\n",
    "  fig, ax = plt.subplots(nrows=1, ncols=5, figsize=(15,15))\n",
    "\n",
    "  # generate batch of images\n",
    "  for i in range(5):\n",
    "\n",
    "    # convert to unsigned integers\n",
    "    image = next(aug_iter)[0].astype('uint8')\n",
    "  \n",
    "    # plot image\n",
    "    ax[i].imshow(image)\n",
    "    ax[i].axis('off')"
   ]
  },
  {
   "cell_type": "code",
   "execution_count": null,
   "id": "456aZQk-wYsU",
   "metadata": {
    "colab": {
     "base_uri": "https://localhost:8080/",
     "height": 175
    },
    "hidden": true,
    "id": "456aZQk-wYsU",
    "outputId": "4f48c49b-5e19-431e-8cd5-34e6f153111b"
   },
   "outputs": [],
   "source": [
    "display_augmented()"
   ]
  },
  {
   "cell_type": "code",
   "execution_count": null,
   "id": "UcEznGOG9GUW",
   "metadata": {
    "colab": {
     "base_uri": "https://localhost:8080/"
    },
    "hidden": true,
    "id": "UcEznGOG9GUW",
    "outputId": "de7e1be1-181d-4b1b-8997-ce5e8ccd0db8"
   },
   "outputs": [],
   "source": [
    "fabric_y_train.apply(pd.value_counts).iloc[1,:]"
   ]
  },
  {
   "cell_type": "code",
   "execution_count": null,
   "id": "4gpDaYgx9DKT",
   "metadata": {
    "hidden": true,
    "id": "4gpDaYgx9DKT"
   },
   "outputs": [],
   "source": [
    "def format_image_model(img_name,box_x1,box_y1,box_x2,box_y2): # format image\n",
    "    full_path = PATH_IMG+img_name\n",
    "\n",
    "    \n",
    "    # LOAD IMAGES:\n",
    "    img = cv2.imread(full_path) # open image using OpenCV\n",
    "    img = cv2.cvtColor(img, cv2.COLOR_BGR2RGB)\n",
    "    \n",
    "    # CROP IMAGES:\n",
    "    cropped = Image.fromarray(img[box_y1:box_y2, box_x1:box_x2]) # crop image using box\n",
    "    \n",
    "    # PAD IMAGES:\n",
    "    cropped_pad = ImageOps.pad(cropped,(256,256),color=(255,255,255)) # pad image to (256,256) with white background\n",
    "\n",
    "    cropped_pad_array = np.asarray(cropped_pad)\n",
    "    \n",
    "    return cropped_pad_array"
   ]
  },
  {
   "cell_type": "markdown",
   "id": "eQBl8Zvb88uE",
   "metadata": {
    "hidden": true,
    "id": "eQBl8Zvb88uE"
   },
   "source": [
    "### Fabric"
   ]
  },
  {
   "cell_type": "code",
   "execution_count": null,
   "id": "oiGMGY4388uE",
   "metadata": {
    "hidden": true,
    "id": "oiGMGY4388uE"
   },
   "outputs": [],
   "source": [
    "fabric_data = data_full.iloc[:,np.r_[0,18:24,27:31]] # select all attributes related to fabric"
   ]
  },
  {
   "cell_type": "code",
   "execution_count": null,
   "id": "juALDbiv88uF",
   "metadata": {
    "hidden": true,
    "id": "juALDbiv88uF"
   },
   "outputs": [],
   "source": [
    "fabric_X_names = fabric_data.iloc[:,np.r_[0,7,8,9,10]]"
   ]
  },
  {
   "cell_type": "code",
   "execution_count": null,
   "id": "1NDGaBQV88uF",
   "metadata": {
    "colab": {
     "base_uri": "https://localhost:8080/",
     "height": 49,
     "referenced_widgets": [
      "ef27a9019b6e43e19e08b91bb88c3b9f",
      "bc06a50fcc3d4d35857416ca215772dc",
      "4bb3eee3cf3845cb87924db54eddd40d",
      "1b7473f5299e428b815de8a2bd735a98",
      "82290b15013d4bfdb5130d4fff0a3bee",
      "1e1a38d6caca4045ba59ca33d65f3c8b",
      "0da463e38e89467c884ccef2fff44686",
      "0bafae020df14505b5c9af02145692f9",
      "65b9844c274742ab9142a43e0a56671b",
      "faf9a65b17a74fe08e77a07f274de2a6",
      "2021b109f0bb4c468f5eb97aa88ca220"
     ]
    },
    "hidden": true,
    "id": "1NDGaBQV88uF",
    "outputId": "f9e3acca-53e8-4a72-92a1-8de460cc215f"
   },
   "outputs": [],
   "source": [
    "fabric_X_train = np.array([format_image_model(fabric_X_name[0], *fabric_X_name[1:]) for fabric_X_name in tqdm(fabric_X_names.values)])\n",
    "\n"
   ]
  },
  {
   "cell_type": "code",
   "execution_count": null,
   "id": "wFk9aM9g88uF",
   "metadata": {
    "colab": {
     "base_uri": "https://localhost:8080/"
    },
    "hidden": true,
    "id": "wFk9aM9g88uF",
    "outputId": "528c555e-6611-4070-eb8f-00fa744cf547"
   },
   "outputs": [],
   "source": [
    "fabric_X_train.shape"
   ]
  },
  {
   "cell_type": "code",
   "execution_count": null,
   "id": "jaK-u9CC88uF",
   "metadata": {
    "hidden": true,
    "id": "jaK-u9CC88uF"
   },
   "outputs": [],
   "source": [
    "fabric_y_train = fabric_data.iloc[:,1:7]"
   ]
  },
  {
   "cell_type": "code",
   "execution_count": null,
   "id": "_4WMYkox88uF",
   "metadata": {
    "colab": {
     "base_uri": "https://localhost:8080/"
    },
    "hidden": true,
    "id": "_4WMYkox88uF",
    "outputId": "8e920fb5-5572-457f-95bf-50f14646d116"
   },
   "outputs": [],
   "source": [
    "fabric_y_train.shape"
   ]
  },
  {
   "cell_type": "code",
   "execution_count": null,
   "id": "hGyxi6AF88uF",
   "metadata": {
    "hidden": true,
    "id": "hGyxi6AF88uF"
   },
   "outputs": [],
   "source": [
    "fabric_X_train, fabric_X_test, fabric_y_train, fabric_y_test = train_test_split(fabric_X_train, fabric_y_train, test_size =0.2,random_state=2)\n"
   ]
  },
  {
   "cell_type": "code",
   "execution_count": null,
   "id": "qQuvNQ9h88uF",
   "metadata": {
    "colab": {
     "base_uri": "https://localhost:8080/"
    },
    "hidden": true,
    "id": "qQuvNQ9h88uF",
    "outputId": "370453c4-56f1-47aa-e26b-9d725c08c4e8"
   },
   "outputs": [],
   "source": [
    "fabric_X_train.shape"
   ]
  },
  {
   "cell_type": "code",
   "execution_count": null,
   "id": "PnyI2HsX88uF",
   "metadata": {
    "hidden": true,
    "id": "PnyI2HsX88uF"
   },
   "outputs": [],
   "source": [
    "fabric_X_train, fabric_X_val, fabric_y_train, fabric_y_val = train_test_split(fabric_X_train, fabric_y_train, test_size =0.2,random_state=2)\n"
   ]
  },
  {
   "cell_type": "markdown",
   "id": "fGBFibDS88uF",
   "metadata": {
    "hidden": true,
    "id": "fGBFibDS88uF"
   },
   "source": [
    "#### Baseline model"
   ]
  },
  {
   "cell_type": "code",
   "execution_count": null,
   "id": "0WHRe_lF88uF",
   "metadata": {
    "hidden": true,
    "id": "0WHRe_lF88uF"
   },
   "outputs": [],
   "source": [
    "def initialize_model():\n",
    "  model = Sequential()\n",
    "  model.add(layers.Conv2D(16, (4,4), input_shape=fabric_X_train[0].shape, padding='valid', activation=\"relu\"))\n",
    "  model.add(layers.MaxPooling2D(pool_size = (2,2)))\n",
    "  model.add(layers.Conv2D(32, (3,3), padding='valid', activation=\"relu\"))\n",
    "  model.add(layers.MaxPooling2D(pool_size = (2,2)))\n",
    "  model.add(layers.Conv2D(64, (2,2), input_shape=fabric_X_train[0].shape, padding='valid', activation=\"relu\"))\n",
    "  model.add(layers.MaxPooling2D(pool_size = (2,2)))\n",
    "  model.add(layers.Flatten())\n",
    "  model.add(layers.Dense(60,activation='relu'))\n",
    "  model.add(layers.Dense(6, activation = 'softmax'))\n",
    "  model.summary()\n",
    "  return model"
   ]
  },
  {
   "cell_type": "code",
   "execution_count": null,
   "id": "T1474yIJ88uF",
   "metadata": {
    "colab": {
     "base_uri": "https://localhost:8080/"
    },
    "hidden": true,
    "id": "T1474yIJ88uF",
    "outputId": "765a6957-3962-4dfa-ddc8-ae40f96b8bf2"
   },
   "outputs": [],
   "source": [
    "model = initialize_model()\n",
    "model.compile(\n",
    "    optimizer='adam',\n",
    "    loss='categorical_crossentropy',\n",
    "    metrics=[Recall(), Precision(), Accuracy()],\n",
    ")"
   ]
  },
  {
   "cell_type": "code",
   "execution_count": null,
   "id": "s3eqSkfX88uF",
   "metadata": {
    "colab": {
     "base_uri": "https://localhost:8080/"
    },
    "hidden": true,
    "id": "s3eqSkfX88uF",
    "outputId": "db2d5c2c-6842-442e-e63c-ef1915dbebc5"
   },
   "outputs": [],
   "source": [
    "es = EarlyStopping(patience=20,  restore_best_weights=True)\n",
    "\n",
    "history = model.fit(fabric_X_train, np.array(fabric_y_train), epochs=50, validation_data=(fabric_X_val,fabric_y_val), batch_size=16, callbacks=[es])"
   ]
  },
  {
   "cell_type": "code",
   "execution_count": null,
   "id": "xVe9ATYO88uF",
   "metadata": {
    "colab": {
     "base_uri": "https://localhost:8080/"
    },
    "hidden": true,
    "id": "xVe9ATYO88uF",
    "outputId": "aea2022d-f048-4c6a-bb95-085998bcabb0"
   },
   "outputs": [],
   "source": [
    "model.evaluate(fabric_X_test,fabric_y_test)"
   ]
  },
  {
   "cell_type": "code",
   "execution_count": null,
   "id": "GPcRnbv988uF",
   "metadata": {
    "colab": {
     "base_uri": "https://localhost:8080/",
     "height": 443
    },
    "hidden": true,
    "id": "GPcRnbv988uF",
    "outputId": "a889b95f-42d8-4de1-c0fa-320dd56056cc"
   },
   "outputs": [],
   "source": [
    "plot_loss_accuracy(history)\n"
   ]
  },
  {
   "cell_type": "markdown",
   "id": "p5XI91Dr88uG",
   "metadata": {
    "hidden": true,
    "id": "p5XI91Dr88uG"
   },
   "source": [
    "#### VGG16"
   ]
  },
  {
   "cell_type": "code",
   "execution_count": null,
   "id": "rRNLp2Sq88uG",
   "metadata": {
    "hidden": true,
    "id": "rRNLp2Sq88uG"
   },
   "outputs": [],
   "source": [
    "# Training image size --> (256,256,3)"
   ]
  },
  {
   "cell_type": "code",
   "execution_count": null,
   "id": "uF3Ag8AC88uG",
   "metadata": {
    "colab": {
     "base_uri": "https://localhost:8080/"
    },
    "hidden": true,
    "id": "uF3Ag8AC88uG",
    "outputId": "89bec17b-339d-4c90-cf36-425ed74d5ca9"
   },
   "outputs": [],
   "source": [
    "model_vgg16 = VGG16(weights=\"imagenet\", include_top=False, input_shape=fabric_X_train[0].shape) # include top removes classification layer from imagenet dataset\n",
    "model_vgg16.trainable = False # not trainable weights\n",
    "\n",
    "## Preprocessing input (normalise data for VGG16 model):\n",
    "fabric_X_train = preprocess_input(fabric_X_train) \n",
    "fabric_X_val = preprocess_input(fabric_X_val)\n",
    "fabric_X_test = preprocess_input(fabric_X_test)\n"
   ]
  },
  {
   "cell_type": "code",
   "execution_count": null,
   "id": "aWcAnzbC88uG",
   "metadata": {
    "hidden": true,
    "id": "aWcAnzbC88uG"
   },
   "outputs": [],
   "source": [
    "flatten_layer = layers.Flatten()\n",
    "dense_layer_1 = layers.Dense(60, activation='relu')\n",
    "dense_layer_2 = layers.Dense(30, activation='relu')\n",
    "prediction_layer = layers.Dense(6, activation='softmax')\n",
    "\n",
    "\n",
    "model = models.Sequential([\n",
    "    model_vgg16,\n",
    "    flatten_layer,\n",
    "    dense_layer_1,\n",
    "    dense_layer_2,\n",
    "    prediction_layer\n",
    "])"
   ]
  },
  {
   "cell_type": "code",
   "execution_count": null,
   "id": "Qbm-BUux88uG",
   "metadata": {
    "hidden": true,
    "id": "Qbm-BUux88uG"
   },
   "outputs": [],
   "source": [
    "model.compile(\n",
    "    optimizer='adam',\n",
    "    loss='categorical_crossentropy',\n",
    "    metrics=['recall','precision','accuracy'],\n",
    ")\n",
    "\n",
    "\n",
    "es = EarlyStopping(monitor='val_recall', patience=20,  restore_best_weights=True)\n",
    "\n",
    "history = model.fit(fabric_X_train, fabric_y_train, epochs=50, validation_data=fabric_X_val, batch_size=32, callbacks=[es])"
   ]
  }
 ],
 "metadata": {
  "colab": {
   "collapsed_sections": [
    "cc70031c"
   ],
   "machine_shape": "hm",
   "provenance": []
  },
  "gpuClass": "standard",
  "kernelspec": {
   "display_name": "Python 3",
   "language": "python",
   "name": "python3"
  },
  "language_info": {
   "codemirror_mode": {
    "name": "ipython",
    "version": 3
   },
   "file_extension": ".py",
   "mimetype": "text/x-python",
   "name": "python",
   "nbconvert_exporter": "python",
   "pygments_lexer": "ipython3",
   "version": "3.9.12"
  },
  "toc": {
   "base_numbering": 1,
   "nav_menu": {},
   "number_sections": true,
   "sideBar": true,
   "skip_h1_title": false,
   "title_cell": "Table of Contents",
   "title_sidebar": "Contents",
   "toc_cell": false,
   "toc_position": {},
   "toc_section_display": true,
   "toc_window_display": false
  },
  "varInspector": {
   "cols": {
    "lenName": 16,
    "lenType": 16,
    "lenVar": 40
   },
   "kernels_config": {
    "python": {
     "delete_cmd_postfix": "",
     "delete_cmd_prefix": "del ",
     "library": "var_list.py",
     "varRefreshCmd": "print(var_dic_list())"
    },
    "r": {
     "delete_cmd_postfix": ") ",
     "delete_cmd_prefix": "rm(",
     "library": "var_list.r",
     "varRefreshCmd": "cat(var_dic_list()) "
    }
   },
   "types_to_exclude": [
    "module",
    "function",
    "builtin_function_or_method",
    "instance",
    "_Feature"
   ],
   "window_display": false
  },
  "widgets": {
   "application/vnd.jupyter.widget-state+json": {
    "02a3b70d1dda49a7852e5a658d2b7c8e": {
     "model_module": "@jupyter-widgets/controls",
     "model_module_version": "1.5.0",
     "model_name": "DescriptionStyleModel",
     "state": {
      "_model_module": "@jupyter-widgets/controls",
      "_model_module_version": "1.5.0",
      "_model_name": "DescriptionStyleModel",
      "_view_count": null,
      "_view_module": "@jupyter-widgets/base",
      "_view_module_version": "1.2.0",
      "_view_name": "StyleView",
      "description_width": ""
     }
    },
    "08072c44dda14785bba3024d80810217": {
     "model_module": "@jupyter-widgets/controls",
     "model_module_version": "1.5.0",
     "model_name": "FloatProgressModel",
     "state": {
      "_dom_classes": [],
      "_model_module": "@jupyter-widgets/controls",
      "_model_module_version": "1.5.0",
      "_model_name": "FloatProgressModel",
      "_view_count": null,
      "_view_module": "@jupyter-widgets/controls",
      "_view_module_version": "1.5.0",
      "_view_name": "ProgressView",
      "bar_style": "",
      "description": "",
      "description_tooltip": null,
      "layout": "IPY_MODEL_c24d0d695ed04ec48634187381a25381",
      "max": 20000,
      "min": 0,
      "orientation": "horizontal",
      "style": "IPY_MODEL_0afda0bb980f4bfda4f62e7622f5c18c",
      "value": 2709
     }
    },
    "0afda0bb980f4bfda4f62e7622f5c18c": {
     "model_module": "@jupyter-widgets/controls",
     "model_module_version": "1.5.0",
     "model_name": "ProgressStyleModel",
     "state": {
      "_model_module": "@jupyter-widgets/controls",
      "_model_module_version": "1.5.0",
      "_model_name": "ProgressStyleModel",
      "_view_count": null,
      "_view_module": "@jupyter-widgets/base",
      "_view_module_version": "1.2.0",
      "_view_name": "StyleView",
      "bar_color": null,
      "description_width": ""
     }
    },
    "0bafae020df14505b5c9af02145692f9": {
     "model_module": "@jupyter-widgets/base",
     "model_module_version": "1.2.0",
     "model_name": "LayoutModel",
     "state": {
      "_model_module": "@jupyter-widgets/base",
      "_model_module_version": "1.2.0",
      "_model_name": "LayoutModel",
      "_view_count": null,
      "_view_module": "@jupyter-widgets/base",
      "_view_module_version": "1.2.0",
      "_view_name": "LayoutView",
      "align_content": null,
      "align_items": null,
      "align_self": null,
      "border": null,
      "bottom": null,
      "display": null,
      "flex": null,
      "flex_flow": null,
      "grid_area": null,
      "grid_auto_columns": null,
      "grid_auto_flow": null,
      "grid_auto_rows": null,
      "grid_column": null,
      "grid_gap": null,
      "grid_row": null,
      "grid_template_areas": null,
      "grid_template_columns": null,
      "grid_template_rows": null,
      "height": null,
      "justify_content": null,
      "justify_items": null,
      "left": null,
      "margin": null,
      "max_height": null,
      "max_width": null,
      "min_height": null,
      "min_width": null,
      "object_fit": null,
      "object_position": null,
      "order": null,
      "overflow": null,
      "overflow_x": null,
      "overflow_y": null,
      "padding": null,
      "right": null,
      "top": null,
      "visibility": null,
      "width": null
     }
    },
    "0da463e38e89467c884ccef2fff44686": {
     "model_module": "@jupyter-widgets/controls",
     "model_module_version": "1.5.0",
     "model_name": "DescriptionStyleModel",
     "state": {
      "_model_module": "@jupyter-widgets/controls",
      "_model_module_version": "1.5.0",
      "_model_name": "DescriptionStyleModel",
      "_view_count": null,
      "_view_module": "@jupyter-widgets/base",
      "_view_module_version": "1.2.0",
      "_view_name": "StyleView",
      "description_width": ""
     }
    },
    "104b60d4dc2b48c2ae694ff644add694": {
     "model_module": "@jupyter-widgets/controls",
     "model_module_version": "1.5.0",
     "model_name": "HTMLModel",
     "state": {
      "_dom_classes": [],
      "_model_module": "@jupyter-widgets/controls",
      "_model_module_version": "1.5.0",
      "_model_name": "HTMLModel",
      "_view_count": null,
      "_view_module": "@jupyter-widgets/controls",
      "_view_module_version": "1.5.0",
      "_view_name": "HTMLView",
      "description": "",
      "description_tooltip": null,
      "layout": "IPY_MODEL_eab8053e9a1b4385acf2f6e049e3a1e3",
      "placeholder": "​",
      "style": "IPY_MODEL_02a3b70d1dda49a7852e5a658d2b7c8e",
      "value": " 2709/20000 [00:30&lt;01:45, 163.99it/s]"
     }
    },
    "1b7473f5299e428b815de8a2bd735a98": {
     "model_module": "@jupyter-widgets/controls",
     "model_module_version": "1.5.0",
     "model_name": "HTMLModel",
     "state": {
      "_dom_classes": [],
      "_model_module": "@jupyter-widgets/controls",
      "_model_module_version": "1.5.0",
      "_model_name": "HTMLModel",
      "_view_count": null,
      "_view_module": "@jupyter-widgets/controls",
      "_view_module_version": "1.5.0",
      "_view_name": "HTMLView",
      "description": "",
      "description_tooltip": null,
      "layout": "IPY_MODEL_faf9a65b17a74fe08e77a07f274de2a6",
      "placeholder": "​",
      "style": "IPY_MODEL_2021b109f0bb4c468f5eb97aa88ca220",
      "value": " 20000/20000 [01:08&lt;00:00, 305.48it/s]"
     }
    },
    "1e1a38d6caca4045ba59ca33d65f3c8b": {
     "model_module": "@jupyter-widgets/base",
     "model_module_version": "1.2.0",
     "model_name": "LayoutModel",
     "state": {
      "_model_module": "@jupyter-widgets/base",
      "_model_module_version": "1.2.0",
      "_model_name": "LayoutModel",
      "_view_count": null,
      "_view_module": "@jupyter-widgets/base",
      "_view_module_version": "1.2.0",
      "_view_name": "LayoutView",
      "align_content": null,
      "align_items": null,
      "align_self": null,
      "border": null,
      "bottom": null,
      "display": null,
      "flex": null,
      "flex_flow": null,
      "grid_area": null,
      "grid_auto_columns": null,
      "grid_auto_flow": null,
      "grid_auto_rows": null,
      "grid_column": null,
      "grid_gap": null,
      "grid_row": null,
      "grid_template_areas": null,
      "grid_template_columns": null,
      "grid_template_rows": null,
      "height": null,
      "justify_content": null,
      "justify_items": null,
      "left": null,
      "margin": null,
      "max_height": null,
      "max_width": null,
      "min_height": null,
      "min_width": null,
      "object_fit": null,
      "object_position": null,
      "order": null,
      "overflow": null,
      "overflow_x": null,
      "overflow_y": null,
      "padding": null,
      "right": null,
      "top": null,
      "visibility": null,
      "width": null
     }
    },
    "2021b109f0bb4c468f5eb97aa88ca220": {
     "model_module": "@jupyter-widgets/controls",
     "model_module_version": "1.5.0",
     "model_name": "DescriptionStyleModel",
     "state": {
      "_model_module": "@jupyter-widgets/controls",
      "_model_module_version": "1.5.0",
      "_model_name": "DescriptionStyleModel",
      "_view_count": null,
      "_view_module": "@jupyter-widgets/base",
      "_view_module_version": "1.2.0",
      "_view_name": "StyleView",
      "description_width": ""
     }
    },
    "323985ba87a84fb0a13d6ab3fb486e96": {
     "model_module": "@jupyter-widgets/controls",
     "model_module_version": "1.5.0",
     "model_name": "HTMLModel",
     "state": {
      "_dom_classes": [],
      "_model_module": "@jupyter-widgets/controls",
      "_model_module_version": "1.5.0",
      "_model_name": "HTMLModel",
      "_view_count": null,
      "_view_module": "@jupyter-widgets/controls",
      "_view_module_version": "1.5.0",
      "_view_name": "HTMLView",
      "description": "",
      "description_tooltip": null,
      "layout": "IPY_MODEL_70e97c7c05a94e17a523fb30f043e496",
      "placeholder": "​",
      "style": "IPY_MODEL_3dbeeff89d3945d3bf5f4a99d276f097",
      "value": " 14%"
     }
    },
    "3dbeeff89d3945d3bf5f4a99d276f097": {
     "model_module": "@jupyter-widgets/controls",
     "model_module_version": "1.5.0",
     "model_name": "DescriptionStyleModel",
     "state": {
      "_model_module": "@jupyter-widgets/controls",
      "_model_module_version": "1.5.0",
      "_model_name": "DescriptionStyleModel",
      "_view_count": null,
      "_view_module": "@jupyter-widgets/base",
      "_view_module_version": "1.2.0",
      "_view_name": "StyleView",
      "description_width": ""
     }
    },
    "4bb3eee3cf3845cb87924db54eddd40d": {
     "model_module": "@jupyter-widgets/controls",
     "model_module_version": "1.5.0",
     "model_name": "FloatProgressModel",
     "state": {
      "_dom_classes": [],
      "_model_module": "@jupyter-widgets/controls",
      "_model_module_version": "1.5.0",
      "_model_name": "FloatProgressModel",
      "_view_count": null,
      "_view_module": "@jupyter-widgets/controls",
      "_view_module_version": "1.5.0",
      "_view_name": "ProgressView",
      "bar_style": "success",
      "description": "",
      "description_tooltip": null,
      "layout": "IPY_MODEL_0bafae020df14505b5c9af02145692f9",
      "max": 20000,
      "min": 0,
      "orientation": "horizontal",
      "style": "IPY_MODEL_65b9844c274742ab9142a43e0a56671b",
      "value": 20000
     }
    },
    "65b9844c274742ab9142a43e0a56671b": {
     "model_module": "@jupyter-widgets/controls",
     "model_module_version": "1.5.0",
     "model_name": "ProgressStyleModel",
     "state": {
      "_model_module": "@jupyter-widgets/controls",
      "_model_module_version": "1.5.0",
      "_model_name": "ProgressStyleModel",
      "_view_count": null,
      "_view_module": "@jupyter-widgets/base",
      "_view_module_version": "1.2.0",
      "_view_name": "StyleView",
      "bar_color": null,
      "description_width": ""
     }
    },
    "70e97c7c05a94e17a523fb30f043e496": {
     "model_module": "@jupyter-widgets/base",
     "model_module_version": "1.2.0",
     "model_name": "LayoutModel",
     "state": {
      "_model_module": "@jupyter-widgets/base",
      "_model_module_version": "1.2.0",
      "_model_name": "LayoutModel",
      "_view_count": null,
      "_view_module": "@jupyter-widgets/base",
      "_view_module_version": "1.2.0",
      "_view_name": "LayoutView",
      "align_content": null,
      "align_items": null,
      "align_self": null,
      "border": null,
      "bottom": null,
      "display": null,
      "flex": null,
      "flex_flow": null,
      "grid_area": null,
      "grid_auto_columns": null,
      "grid_auto_flow": null,
      "grid_auto_rows": null,
      "grid_column": null,
      "grid_gap": null,
      "grid_row": null,
      "grid_template_areas": null,
      "grid_template_columns": null,
      "grid_template_rows": null,
      "height": null,
      "justify_content": null,
      "justify_items": null,
      "left": null,
      "margin": null,
      "max_height": null,
      "max_width": null,
      "min_height": null,
      "min_width": null,
      "object_fit": null,
      "object_position": null,
      "order": null,
      "overflow": null,
      "overflow_x": null,
      "overflow_y": null,
      "padding": null,
      "right": null,
      "top": null,
      "visibility": null,
      "width": null
     }
    },
    "82290b15013d4bfdb5130d4fff0a3bee": {
     "model_module": "@jupyter-widgets/base",
     "model_module_version": "1.2.0",
     "model_name": "LayoutModel",
     "state": {
      "_model_module": "@jupyter-widgets/base",
      "_model_module_version": "1.2.0",
      "_model_name": "LayoutModel",
      "_view_count": null,
      "_view_module": "@jupyter-widgets/base",
      "_view_module_version": "1.2.0",
      "_view_name": "LayoutView",
      "align_content": null,
      "align_items": null,
      "align_self": null,
      "border": null,
      "bottom": null,
      "display": null,
      "flex": null,
      "flex_flow": null,
      "grid_area": null,
      "grid_auto_columns": null,
      "grid_auto_flow": null,
      "grid_auto_rows": null,
      "grid_column": null,
      "grid_gap": null,
      "grid_row": null,
      "grid_template_areas": null,
      "grid_template_columns": null,
      "grid_template_rows": null,
      "height": null,
      "justify_content": null,
      "justify_items": null,
      "left": null,
      "margin": null,
      "max_height": null,
      "max_width": null,
      "min_height": null,
      "min_width": null,
      "object_fit": null,
      "object_position": null,
      "order": null,
      "overflow": null,
      "overflow_x": null,
      "overflow_y": null,
      "padding": null,
      "right": null,
      "top": null,
      "visibility": null,
      "width": null
     }
    },
    "a7982feaaf084164a7351c845e8bcd17": {
     "model_module": "@jupyter-widgets/controls",
     "model_module_version": "1.5.0",
     "model_name": "HBoxModel",
     "state": {
      "_dom_classes": [],
      "_model_module": "@jupyter-widgets/controls",
      "_model_module_version": "1.5.0",
      "_model_name": "HBoxModel",
      "_view_count": null,
      "_view_module": "@jupyter-widgets/controls",
      "_view_module_version": "1.5.0",
      "_view_name": "HBoxView",
      "box_style": "",
      "children": [
       "IPY_MODEL_323985ba87a84fb0a13d6ab3fb486e96",
       "IPY_MODEL_08072c44dda14785bba3024d80810217",
       "IPY_MODEL_104b60d4dc2b48c2ae694ff644add694"
      ],
      "layout": "IPY_MODEL_b4143cf4ac904364ba513073f62737a2"
     }
    },
    "b4143cf4ac904364ba513073f62737a2": {
     "model_module": "@jupyter-widgets/base",
     "model_module_version": "1.2.0",
     "model_name": "LayoutModel",
     "state": {
      "_model_module": "@jupyter-widgets/base",
      "_model_module_version": "1.2.0",
      "_model_name": "LayoutModel",
      "_view_count": null,
      "_view_module": "@jupyter-widgets/base",
      "_view_module_version": "1.2.0",
      "_view_name": "LayoutView",
      "align_content": null,
      "align_items": null,
      "align_self": null,
      "border": null,
      "bottom": null,
      "display": null,
      "flex": null,
      "flex_flow": null,
      "grid_area": null,
      "grid_auto_columns": null,
      "grid_auto_flow": null,
      "grid_auto_rows": null,
      "grid_column": null,
      "grid_gap": null,
      "grid_row": null,
      "grid_template_areas": null,
      "grid_template_columns": null,
      "grid_template_rows": null,
      "height": null,
      "justify_content": null,
      "justify_items": null,
      "left": null,
      "margin": null,
      "max_height": null,
      "max_width": null,
      "min_height": null,
      "min_width": null,
      "object_fit": null,
      "object_position": null,
      "order": null,
      "overflow": null,
      "overflow_x": null,
      "overflow_y": null,
      "padding": null,
      "right": null,
      "top": null,
      "visibility": null,
      "width": null
     }
    },
    "bc06a50fcc3d4d35857416ca215772dc": {
     "model_module": "@jupyter-widgets/controls",
     "model_module_version": "1.5.0",
     "model_name": "HTMLModel",
     "state": {
      "_dom_classes": [],
      "_model_module": "@jupyter-widgets/controls",
      "_model_module_version": "1.5.0",
      "_model_name": "HTMLModel",
      "_view_count": null,
      "_view_module": "@jupyter-widgets/controls",
      "_view_module_version": "1.5.0",
      "_view_name": "HTMLView",
      "description": "",
      "description_tooltip": null,
      "layout": "IPY_MODEL_1e1a38d6caca4045ba59ca33d65f3c8b",
      "placeholder": "​",
      "style": "IPY_MODEL_0da463e38e89467c884ccef2fff44686",
      "value": "100%"
     }
    },
    "c24d0d695ed04ec48634187381a25381": {
     "model_module": "@jupyter-widgets/base",
     "model_module_version": "1.2.0",
     "model_name": "LayoutModel",
     "state": {
      "_model_module": "@jupyter-widgets/base",
      "_model_module_version": "1.2.0",
      "_model_name": "LayoutModel",
      "_view_count": null,
      "_view_module": "@jupyter-widgets/base",
      "_view_module_version": "1.2.0",
      "_view_name": "LayoutView",
      "align_content": null,
      "align_items": null,
      "align_self": null,
      "border": null,
      "bottom": null,
      "display": null,
      "flex": null,
      "flex_flow": null,
      "grid_area": null,
      "grid_auto_columns": null,
      "grid_auto_flow": null,
      "grid_auto_rows": null,
      "grid_column": null,
      "grid_gap": null,
      "grid_row": null,
      "grid_template_areas": null,
      "grid_template_columns": null,
      "grid_template_rows": null,
      "height": null,
      "justify_content": null,
      "justify_items": null,
      "left": null,
      "margin": null,
      "max_height": null,
      "max_width": null,
      "min_height": null,
      "min_width": null,
      "object_fit": null,
      "object_position": null,
      "order": null,
      "overflow": null,
      "overflow_x": null,
      "overflow_y": null,
      "padding": null,
      "right": null,
      "top": null,
      "visibility": null,
      "width": null
     }
    },
    "eab8053e9a1b4385acf2f6e049e3a1e3": {
     "model_module": "@jupyter-widgets/base",
     "model_module_version": "1.2.0",
     "model_name": "LayoutModel",
     "state": {
      "_model_module": "@jupyter-widgets/base",
      "_model_module_version": "1.2.0",
      "_model_name": "LayoutModel",
      "_view_count": null,
      "_view_module": "@jupyter-widgets/base",
      "_view_module_version": "1.2.0",
      "_view_name": "LayoutView",
      "align_content": null,
      "align_items": null,
      "align_self": null,
      "border": null,
      "bottom": null,
      "display": null,
      "flex": null,
      "flex_flow": null,
      "grid_area": null,
      "grid_auto_columns": null,
      "grid_auto_flow": null,
      "grid_auto_rows": null,
      "grid_column": null,
      "grid_gap": null,
      "grid_row": null,
      "grid_template_areas": null,
      "grid_template_columns": null,
      "grid_template_rows": null,
      "height": null,
      "justify_content": null,
      "justify_items": null,
      "left": null,
      "margin": null,
      "max_height": null,
      "max_width": null,
      "min_height": null,
      "min_width": null,
      "object_fit": null,
      "object_position": null,
      "order": null,
      "overflow": null,
      "overflow_x": null,
      "overflow_y": null,
      "padding": null,
      "right": null,
      "top": null,
      "visibility": null,
      "width": null
     }
    },
    "ef27a9019b6e43e19e08b91bb88c3b9f": {
     "model_module": "@jupyter-widgets/controls",
     "model_module_version": "1.5.0",
     "model_name": "HBoxModel",
     "state": {
      "_dom_classes": [],
      "_model_module": "@jupyter-widgets/controls",
      "_model_module_version": "1.5.0",
      "_model_name": "HBoxModel",
      "_view_count": null,
      "_view_module": "@jupyter-widgets/controls",
      "_view_module_version": "1.5.0",
      "_view_name": "HBoxView",
      "box_style": "",
      "children": [
       "IPY_MODEL_bc06a50fcc3d4d35857416ca215772dc",
       "IPY_MODEL_4bb3eee3cf3845cb87924db54eddd40d",
       "IPY_MODEL_1b7473f5299e428b815de8a2bd735a98"
      ],
      "layout": "IPY_MODEL_82290b15013d4bfdb5130d4fff0a3bee"
     }
    },
    "faf9a65b17a74fe08e77a07f274de2a6": {
     "model_module": "@jupyter-widgets/base",
     "model_module_version": "1.2.0",
     "model_name": "LayoutModel",
     "state": {
      "_model_module": "@jupyter-widgets/base",
      "_model_module_version": "1.2.0",
      "_model_name": "LayoutModel",
      "_view_count": null,
      "_view_module": "@jupyter-widgets/base",
      "_view_module_version": "1.2.0",
      "_view_name": "LayoutView",
      "align_content": null,
      "align_items": null,
      "align_self": null,
      "border": null,
      "bottom": null,
      "display": null,
      "flex": null,
      "flex_flow": null,
      "grid_area": null,
      "grid_auto_columns": null,
      "grid_auto_flow": null,
      "grid_auto_rows": null,
      "grid_column": null,
      "grid_gap": null,
      "grid_row": null,
      "grid_template_areas": null,
      "grid_template_columns": null,
      "grid_template_rows": null,
      "height": null,
      "justify_content": null,
      "justify_items": null,
      "left": null,
      "margin": null,
      "max_height": null,
      "max_width": null,
      "min_height": null,
      "min_width": null,
      "object_fit": null,
      "object_position": null,
      "order": null,
      "overflow": null,
      "overflow_x": null,
      "overflow_y": null,
      "padding": null,
      "right": null,
      "top": null,
      "visibility": null,
      "width": null
     }
    }
   }
  }
 },
 "nbformat": 4,
 "nbformat_minor": 5
}
